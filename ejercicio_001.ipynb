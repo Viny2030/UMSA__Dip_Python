{
  "nbformat": 4,
  "nbformat_minor": 0,
  "metadata": {
    "colab": {
      "provenance": [],
      "toc_visible": true
    },
    "kernelspec": {
      "name": "python3",
      "display_name": "Python 3"
    },
    "language_info": {
      "name": "python"
    }
  },
  "cells": [
    {
      "cell_type": "markdown",
      "source": [
        "# **<font color=\"DarkBlue\">Mis primeros ejercicios con Python</font>**"
      ],
      "metadata": {
        "id": "ZJ8MFCRegkBU"
      }
    },
    {
      "cell_type": "markdown",
      "source": [
        "<p align=\"center\">\n",
        "<img src=\"https://pypi.org/static/images/logo-small.8998e9d1.svg\" width=\"90\" height=\"\">\n",
        "</p>"
      ],
      "metadata": {
        "id": "gjpEYi_23t-3"
      }
    },
    {
      "cell_type": "markdown",
      "source": [
        "## **<font color=\"DarkBlue\">Ejercicio 1: Añadir comentarios</font>**"
      ],
      "metadata": {
        "id": "ZiHPlFwRnqdY"
      }
    },
    {
      "cell_type": "markdown",
      "source": [
        "Tarea: Añade comentarios explicativos al siguiente código para describir lo que hace cada línea"
      ],
      "metadata": {
        "id": "Gg4K_0MVpdOS"
      }
    },
    {
      "cell_type": "code",
      "source": [
        "a = 5\n",
        "b = 3\n",
        "suma = a + b\n",
        "print(suma)"
      ],
      "metadata": {
        "id": "o6vCIAz9nzfq"
      },
      "execution_count": null,
      "outputs": []
    },
    {
      "cell_type": "markdown",
      "source": [
        "## **<font color=\"DarkBlue\">Ejercicio 2: Asignación de variables</font>**"
      ],
      "metadata": {
        "id": "N1lFpAnWpjmt"
      }
    },
    {
      "cell_type": "markdown",
      "source": [
        "Tarea: Crea variables de diferentes tipos (entero, flotante, cadena, booleano) y asigna valores adecuados a cada una. Luego imprime los valores."
      ],
      "metadata": {
        "id": "-nAuKvYVprIq"
      }
    },
    {
      "cell_type": "code",
      "source": [
        "# Ejemplo de variables de diferentes tipos\n",
        "# Completa el código\n",
        "mi_entero =\n",
        "mi_flotante =\n",
        "mi_cadena =\n",
        "mi_booleano ="
      ],
      "metadata": {
        "id": "QNNlluD_prkV"
      },
      "execution_count": null,
      "outputs": []
    },
    {
      "cell_type": "code",
      "source": [
        "# Imprime los valores\n",
        "print()\n",
        "print()\n",
        "print()\n",
        "print()"
      ],
      "metadata": {
        "id": "AblM_866qBUf"
      },
      "execution_count": null,
      "outputs": []
    },
    {
      "cell_type": "markdown",
      "source": [
        "## **<font color=\"DarkBlue\">Ejercicio 3: Operaciones aritméticas</font>**"
      ],
      "metadata": {
        "id": "hEeVDYqKpsDC"
      }
    },
    {
      "cell_type": "markdown",
      "source": [
        "Tarea: Realiza las siguientes operaciones aritméticas e imprime los resultados: suma, resta, multiplicación, división, división entera, módulo y exponenciación con los números 10 y 3."
      ],
      "metadata": {
        "id": "a4iAaTJppsgc"
      }
    },
    {
      "cell_type": "code",
      "source": [
        "a =\n",
        "b ="
      ],
      "metadata": {
        "id": "ywUVb7_WptE9"
      },
      "execution_count": null,
      "outputs": []
    },
    {
      "cell_type": "code",
      "source": [
        "# Completa el código para realizar las operaciones e imprimir los resultados\n",
        "\n",
        "suma =\n",
        "resta =\n",
        "multiplicacion =\n",
        "division =\n",
        "division_entera =\n",
        "modulo =\n",
        "exponenciacion ="
      ],
      "metadata": {
        "id": "8Z0hvwxKqfW_"
      },
      "execution_count": null,
      "outputs": []
    },
    {
      "cell_type": "code",
      "source": [
        "print(\"Suma:\", suma)\n",
        "print(\"Resta:\", resta)\n",
        "print(\"Multiplicación:\", multiplicacion)\n",
        "print(\"División:\", division)\n",
        "print(\"División Entera:\", division_entera)\n",
        "print(\"Módulo:\", modulo)\n",
        "print(\"Exponenciación:\", exponenciacion)"
      ],
      "metadata": {
        "id": "O1C2IwKKqh-m"
      },
      "execution_count": null,
      "outputs": []
    },
    {
      "cell_type": "markdown",
      "source": [
        "## **<font color=\"DarkBlue\">Ejercicio 4: Operadores de comparación</font>**"
      ],
      "metadata": {
        "id": "8RgbGQOpqpbk"
      }
    },
    {
      "cell_type": "markdown",
      "source": [
        "Tarea: Escribe un código que compare dos números (5 y 7) usando todos los operadores de comparación y muestre los resultados."
      ],
      "metadata": {
        "id": "D6wfMO0WqqKW"
      }
    },
    {
      "cell_type": "code",
      "source": [
        "a =\n",
        "b ="
      ],
      "metadata": {
        "id": "w8To5jqHqqjM"
      },
      "execution_count": null,
      "outputs": []
    },
    {
      "cell_type": "code",
      "source": [
        "# Completa el código para realizar las comparaciones e imprimir los resultados\n",
        "igual =\n",
        "diferente =\n",
        "mayor_que =\n",
        "menor_que =\n",
        "mayor_o_igual =\n",
        "menor_o_igual ="
      ],
      "metadata": {
        "id": "tEFT1WQ1u60H"
      },
      "execution_count": null,
      "outputs": []
    },
    {
      "cell_type": "code",
      "source": [
        "print(\"Igual:\", igual)\n",
        "print(\"Diferente:\", diferente)\n",
        "print(\"Mayor que:\", mayor_que)\n",
        "print(\"Menor que:\", menor_que)\n",
        "print(\"Mayor o igual que:\", mayor_o_igual)\n",
        "print(\"Menor o igual que:\", menor_o_igual)"
      ],
      "metadata": {
        "id": "EhivkbL8vMoq"
      },
      "execution_count": null,
      "outputs": []
    },
    {
      "cell_type": "markdown",
      "source": [
        "## **<font color=\"DarkBlue\">Ejercicio 5: Operadores lógicos</font>**"
      ],
      "metadata": {
        "id": "yKIagXe7v4EX"
      }
    },
    {
      "cell_type": "markdown",
      "source": [
        "Tarea: Usa los operadores lógicos and, or y not para evaluar las siguientes expresiones y muestra los resultados:\n",
        "\n",
        "- True and False\n",
        "- True or False\n",
        "- not True"
      ],
      "metadata": {
        "id": "mfMgq1Amv_IP"
      }
    },
    {
      "cell_type": "code",
      "source": [
        "exp1 =\n",
        "exp2 =\n",
        "exp3 ="
      ],
      "metadata": {
        "id": "N6v3qlKsv_y-"
      },
      "execution_count": null,
      "outputs": []
    },
    {
      "cell_type": "code",
      "source": [
        "print(\"True and False:\", exp1)\n",
        "print(\"True or False:\", exp2)\n",
        "print(\"not True:\", exp3)"
      ],
      "metadata": {
        "id": "CofyDddcyIgF"
      },
      "execution_count": null,
      "outputs": []
    },
    {
      "cell_type": "markdown",
      "source": [
        "## **<font color=\"DarkBlue\">Ejercicio 6: Condicionales</font>**"
      ],
      "metadata": {
        "id": "GFXmd3nWyTQD"
      }
    },
    {
      "cell_type": "markdown",
      "source": [
        "Tarea: Escribe un programa que tome una variable edad e imprima si la persona es un niño, adolescente, o adulto, usando if, elif y else."
      ],
      "metadata": {
        "id": "VayKiE1gyZtv"
      }
    },
    {
      "cell_type": "code",
      "source": [
        "edad ="
      ],
      "metadata": {
        "id": "4-BUWiDuyo79"
      },
      "execution_count": null,
      "outputs": []
    },
    {
      "cell_type": "code",
      "source": [
        "# Completa el código para verificar la edad e imprimir el mensaje correspondiente\n",
        "if :\n",
        "    print(\"Eres un niño\")\n",
        "elif :\n",
        "    print(\"Eres un adolescente\")\n",
        "else:\n",
        "    print(\"Eres un adulto\")"
      ],
      "metadata": {
        "id": "OFlOaN-eyaGS"
      },
      "execution_count": null,
      "outputs": []
    },
    {
      "cell_type": "markdown",
      "source": [
        "## **<font color=\"DarkBlue\">Ejercicio 7: Bucle for</font>**"
      ],
      "metadata": {
        "id": "EONo8ncUyx3z"
      }
    },
    {
      "cell_type": "markdown",
      "source": [
        "Tarea: Usa un bucle for para iterar sobre una lista de nombres e imprimir cada elemento."
      ],
      "metadata": {
        "id": "FSSMNWVyyyZ7"
      }
    },
    {
      "cell_type": "code",
      "source": [
        "financiacion = [\"3 cuotas\", \"6 cuotas\", \"9 cuotas\", \"12 cuotas\"]"
      ],
      "metadata": {
        "id": "g60ct_-zzTDh"
      },
      "execution_count": null,
      "outputs": []
    },
    {
      "cell_type": "code",
      "source": [
        "\n",
        "# Completa el código para iterar sobre la lista de financiacion e imprimir cada uno\n",
        "for :\n",
        "    print()"
      ],
      "metadata": {
        "id": "U6Cb7vD1yy7n"
      },
      "execution_count": null,
      "outputs": []
    },
    {
      "cell_type": "markdown",
      "source": [
        "## **<font color=\"DarkBlue\">Ejercicio 8: Bucle while</font>**"
      ],
      "metadata": {
        "id": "HNS94HPCzsLA"
      }
    },
    {
      "cell_type": "markdown",
      "source": [
        "Tarea: Escribe un bucle while que imprima los números del 1 al 5."
      ],
      "metadata": {
        "id": "-7l9T0gb0NBY"
      }
    },
    {
      "cell_type": "code",
      "source": [
        "contador ="
      ],
      "metadata": {
        "id": "83m7-0Qj0S1a"
      },
      "execution_count": null,
      "outputs": []
    },
    {
      "cell_type": "code",
      "source": [
        "# Completa el código para imprimir los números del 1 al 5 usando un bucle while\n",
        "while :\n",
        "    print()\n",
        "    contador += 1\n"
      ],
      "metadata": {
        "id": "U_0_5Osk0NcM"
      },
      "execution_count": null,
      "outputs": []
    },
    {
      "cell_type": "markdown",
      "source": [
        "<p align=\"center\"><b>\n",
        "💗\n",
        "<font color=\"DarkBlue\">\n",
        "Hemos llegado al final de nuestra ejercitación en colab, a seguir ejercitando...\n",
        "</font>\n",
        "</p>\n",
        "\n"
      ],
      "metadata": {
        "id": "jLFcCFoEuxr6"
      }
    }
  ]
}