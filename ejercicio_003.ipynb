{
  "nbformat": 4,
  "nbformat_minor": 0,
  "metadata": {
    "colab": {
      "provenance": [],
      "toc_visible": true
    },
    "kernelspec": {
      "name": "python3",
      "display_name": "Python 3"
    },
    "language_info": {
      "name": "python"
    }
  },
  "cells": [
    {
      "cell_type": "markdown",
      "source": [
        "# **<font color=\"DarkBlue\">Ejercicios de estructuras de datos y secuencias 💗</font>**"
      ],
      "metadata": {
        "id": "ZJ8MFCRegkBU"
      }
    },
    {
      "cell_type": "markdown",
      "source": [
        "<p align=\"center\">\n",
        "<img src=\"https://pypi.org/static/images/logo-small.8998e9d1.svg\" width=\"90\" height=\"\">\n",
        "</p>"
      ],
      "metadata": {
        "id": "gjpEYi_23t-3"
      }
    },
    {
      "cell_type": "markdown",
      "source": [
        "## **<font color=\"DarkBlue\">Ejercicio 1: Productos y Precios</font>**"
      ],
      "metadata": {
        "id": "ZiHPlFwRnqdY"
      }
    },
    {
      "cell_type": "markdown",
      "source": [
        "Tarea: Tienes una lista de productos y sus precios almacenados en tuplas. Imprime el nombre del producto y su precio."
      ],
      "metadata": {
        "id": "Gg4K_0MVpdOS"
      }
    },
    {
      "cell_type": "code",
      "source": [
        "productos = [(\"Laptop\", 1000), (\"Teléfono\", 500), (\"Tablet\", 300)]"
      ],
      "metadata": {
        "id": "o6vCIAz9nzfq"
      },
      "execution_count": null,
      "outputs": []
    },
    {
      "cell_type": "code",
      "source": [
        "# Completa el código...\n",
        "for ...:\n",
        "    print(f\"Producto: {...}, Precio: ${...}\")\n"
      ],
      "metadata": {
        "id": "ebT2dBtx5tSl"
      },
      "execution_count": null,
      "outputs": []
    },
    {
      "cell_type": "markdown",
      "source": [
        "## **<font color=\"DarkBlue\">Ejercicio 2: Ventas de la Semana</font>**"
      ],
      "metadata": {
        "id": "N1lFpAnWpjmt"
      }
    },
    {
      "cell_type": "markdown",
      "source": [
        "Tarea: Dada una lista de tuplas donde cada tupla contiene el nombre de un producto y el número de unidades vendidas, calcula el total de unidades vendidas."
      ],
      "metadata": {
        "id": "-nAuKvYVprIq"
      }
    },
    {
      "cell_type": "code",
      "source": [
        "ventas_semanales = [(\"Laptop\", 10), (\"Teléfono\", 15), (\"Tablet\", 7)]"
      ],
      "metadata": {
        "id": "QNNlluD_prkV"
      },
      "execution_count": null,
      "outputs": []
    },
    {
      "cell_type": "code",
      "source": [
        "# Completa el código\n",
        "total_unidades_vendidas = ..."
      ],
      "metadata": {
        "id": "AblM_866qBUf"
      },
      "execution_count": null,
      "outputs": []
    },
    {
      "cell_type": "code",
      "source": [
        "# Completa el código para imprimir\n",
        "print(...)"
      ],
      "metadata": {
        "id": "0UK1_NKb6dMU"
      },
      "execution_count": null,
      "outputs": []
    },
    {
      "cell_type": "markdown",
      "source": [
        "## **<font color=\"DarkBlue\">Ejercicio 3: Lista de Clientes</font>**"
      ],
      "metadata": {
        "id": "hEeVDYqKpsDC"
      }
    },
    {
      "cell_type": "markdown",
      "source": [
        "Tarea: Crea una lista de clientes y agrega tres nombres nuevos a la lista. Luego, imprime la lista completa de clientes.\n"
      ],
      "metadata": {
        "id": "a4iAaTJppsgc"
      }
    },
    {
      "cell_type": "code",
      "source": [
        "clientes = [\"Ana\", \"Luis\", \"Marta\"]\n",
        "nuevos_clientes = [\"Juan\", \"Pedro\", \"Maria\"]"
      ],
      "metadata": {
        "id": "ywUVb7_WptE9"
      },
      "execution_count": null,
      "outputs": []
    },
    {
      "cell_type": "code",
      "source": [
        "# Completa el código para agregar los nuevos clientes a la lista clientes\n",
        "clientes"
      ],
      "metadata": {
        "id": "pNA-m_mA8naS"
      },
      "execution_count": null,
      "outputs": []
    },
    {
      "cell_type": "code",
      "source": [
        "# Completa el código\n",
        "print(...)"
      ],
      "metadata": {
        "id": "tuyOb5318qdh"
      },
      "execution_count": null,
      "outputs": []
    },
    {
      "cell_type": "markdown",
      "source": [
        "## **<font color=\"DarkBlue\">Ejercicio 4: Actualizar Inventario</font>**"
      ],
      "metadata": {
        "id": "EwY5EFITXmC0"
      }
    },
    {
      "cell_type": "markdown",
      "source": [
        "Tarea: Dada una lista de productos en inventario, elimina un producto específico (por ejemplo, \"Tablet\") y luego imprime la lista actualizada.\n"
      ],
      "metadata": {
        "id": "xGM2sVVpXsFG"
      }
    },
    {
      "cell_type": "code",
      "source": [
        "inventario = [\"Laptop\", \"Teléfono\", \"Tablet\", \"Monitor\"]"
      ],
      "metadata": {
        "id": "cU58c0MpYAs3"
      },
      "execution_count": null,
      "outputs": []
    },
    {
      "cell_type": "code",
      "source": [
        "# Completa el código\n",
        "inventario"
      ],
      "metadata": {
        "id": "ODoANSmTYBgW"
      },
      "execution_count": null,
      "outputs": []
    },
    {
      "cell_type": "code",
      "source": [
        "# Completa el código\n",
        "print(...)"
      ],
      "metadata": {
        "id": "ZnlkQwI7YIKn"
      },
      "execution_count": null,
      "outputs": []
    },
    {
      "cell_type": "markdown",
      "source": [
        "## **<font color=\"DarkBlue\">Ejercicio 5: Información de Empleados</font>**"
      ],
      "metadata": {
        "id": "00oN-DdCYLWb"
      }
    },
    {
      "cell_type": "markdown",
      "source": [
        "Tarea: Crea un diccionario con la información de tres empleados (nombre, edad, puesto). Imprime el nombre y puesto de cada empleado.\n"
      ],
      "metadata": {
        "id": "9WUhMCldYL7k"
      }
    },
    {
      "cell_type": "code",
      "source": [
        "empleados = {\n",
        "    \"Ana\": {\"edad\": 30, \"puesto\": \"Gerente\"},\n",
        "    \"Luis\": {\"edad\": 25, \"puesto\": \"Analista\"},\n",
        "    \"Marta\": {\"edad\": 28, \"puesto\": \"Desarrolladora\"}}"
      ],
      "metadata": {
        "id": "zNjF2cxCbwN3"
      },
      "execution_count": null,
      "outputs": []
    },
    {
      "cell_type": "code",
      "source": [
        "# Completa el código\n",
        "for ... in empleados.items():\n",
        "    print(f\"Empleado: {...}, Puesto: {...['puesto']}\")"
      ],
      "metadata": {
        "id": "PX1ukLqFb0f_"
      },
      "execution_count": null,
      "outputs": []
    },
    {
      "cell_type": "markdown",
      "source": [
        "## **<font color=\"DarkBlue\">Ejercicio 6: Actualizar Precios</font>**"
      ],
      "metadata": {
        "id": "OoKQRS6hcygJ"
      }
    },
    {
      "cell_type": "markdown",
      "source": [
        "Tarea: Dado un diccionario con productos y sus precios, actualiza el precio de un producto específico (por ejemplo, \"Teléfono\") y luego imprime el diccionario actualizado.\n"
      ],
      "metadata": {
        "id": "UgKfYFL_c36s"
      }
    },
    {
      "cell_type": "code",
      "source": [
        "precios = {\"Laptop\": 1000, \"Teléfono\": 500, \"Tablet\": 300}"
      ],
      "metadata": {
        "id": "1CtcO7wzc5bq"
      },
      "execution_count": null,
      "outputs": []
    },
    {
      "cell_type": "code",
      "source": [
        "# Completa el código\n",
        "precios[\"Teléfono\"] = ..."
      ],
      "metadata": {
        "id": "rAq5Pc-wdUH4"
      },
      "execution_count": null,
      "outputs": []
    },
    {
      "cell_type": "code",
      "source": [
        "# Completa el código\n",
        "print(...)"
      ],
      "metadata": {
        "id": "xN3f-PWwdVlq"
      },
      "execution_count": null,
      "outputs": []
    },
    {
      "cell_type": "markdown",
      "source": [
        "## **<font color=\"DarkBlue\">Ejercicio 7: Clientes Únicos</font>**"
      ],
      "metadata": {
        "id": "_MUEBFpUddhU"
      }
    },
    {
      "cell_type": "markdown",
      "source": [
        "Tarea: Dadas dos listas de clientes (clientes que compraron en enero y en febrero), crea conjuntos para cada lista y encuentra los clientes que compraron en ambos meses.\n"
      ],
      "metadata": {
        "id": "Q99hDB2_dqTG"
      }
    },
    {
      "cell_type": "code",
      "source": [
        "enero = {\"Ana\", \"Luis\", \"Marta\", \"Fernando\", \"Gustavo\", \"Emiliano\", \"Sofia\"}\n",
        "febrero = {\"Marta\", \"Carlos\", \"Luis\", \"Sofia\", \"Fernanda\", \"Augusto\", \"Juan\"}"
      ],
      "metadata": {
        "id": "8K0j8dTadp2N"
      },
      "execution_count": null,
      "outputs": []
    },
    {
      "cell_type": "code",
      "source": [
        "# Completa el código\n",
        "clientes_comunes = ..."
      ],
      "metadata": {
        "id": "QLL-55D5d3X8"
      },
      "execution_count": null,
      "outputs": []
    },
    {
      "cell_type": "code",
      "source": [
        "# Completa el código\n",
        "print(...)"
      ],
      "metadata": {
        "id": "95aQf1Sbd5PO"
      },
      "execution_count": null,
      "outputs": []
    },
    {
      "cell_type": "markdown",
      "source": [
        "## **<font color=\"DarkBlue\">Ejercicio 8: Nuevos Clientes</font>**"
      ],
      "metadata": {
        "id": "zEX5Z-1OeNiK"
      }
    },
    {
      "cell_type": "markdown",
      "source": [
        "Tarea: Dadas dos listas de clientes (clientes que compraron en enero y en febrero), encuentra los clientes que solo compraron en febrero."
      ],
      "metadata": {
        "id": "LhKEObcqeR8q"
      }
    },
    {
      "cell_type": "code",
      "source": [
        "enero = {\"Ana\", \"Luis\", \"Marta\", \"Fernando\", \"Gustavo\", \"Ludmila\", \"Sol\"}\n",
        "febrero = {\"Marta\", \"Carlos\", \"Luis\", \"Fernando\", \"Cristian\", \"Ludmila\"}"
      ],
      "metadata": {
        "id": "QOtjw6uVeVw7"
      },
      "execution_count": null,
      "outputs": []
    },
    {
      "cell_type": "code",
      "source": [
        "# Completa el código\n",
        "nuevos_clientes = ..."
      ],
      "metadata": {
        "id": "jTwCue8NeWNY"
      },
      "execution_count": null,
      "outputs": []
    },
    {
      "cell_type": "code",
      "source": [
        "# Completa el código\n",
        "print(...)"
      ],
      "metadata": {
        "id": "XKMtcuWeeWtT"
      },
      "execution_count": null,
      "outputs": []
    },
    {
      "cell_type": "markdown",
      "source": [
        "## **<font color=\"DarkBlue\">Ejercicio 9: Enumerar Productos</font>**"
      ],
      "metadata": {
        "id": "SOigAHtFfPj8"
      }
    },
    {
      "cell_type": "markdown",
      "source": [
        "Tarea: Dada una lista de productos, enumera cada producto comenzando desde el número 1 e imprime la lista enumerada.\n"
      ],
      "metadata": {
        "id": "plnbAkbUfYNZ"
      }
    },
    {
      "cell_type": "code",
      "source": [
        "productos = [\"Laptop\", \"Teléfono\", \"Tablet\", \"Notebook\", \"Pc\", \"Teclado\", \"Impresora\"]"
      ],
      "metadata": {
        "id": "HtrDPtypfly5"
      },
      "execution_count": null,
      "outputs": []
    },
    {
      "cell_type": "code",
      "source": [
        "# Completa el código\n",
        "for ... in enumerate(...):\n",
        "    print(...)"
      ],
      "metadata": {
        "id": "_h-FKN4_fqcd"
      },
      "execution_count": null,
      "outputs": []
    },
    {
      "cell_type": "markdown",
      "source": [
        "## **<font color=\"DarkBlue\">Ejercicio 10: Ordenar Ventas</font>**"
      ],
      "metadata": {
        "id": "7j5gDfjagC0o"
      }
    },
    {
      "cell_type": "markdown",
      "source": [
        "Tarea: Dada una lista de ventas (donde cada venta es un diccionario con el nombre del producto y la cantidad vendida), ordena la lista por la cantidad vendida en orden descendente.\n"
      ],
      "metadata": {
        "id": "9WS4UwsggHht"
      }
    },
    {
      "cell_type": "code",
      "source": [
        "ventas = [{\"producto\": \"Laptop\", \"cantidad\": 10}, {\"producto\": \"Teléfono\", \"cantidad\": 15}, {\"producto\": \"Tablet\", \"cantidad\": 7}]"
      ],
      "metadata": {
        "id": "UqDDCBJZgH8Y"
      },
      "execution_count": null,
      "outputs": []
    },
    {
      "cell_type": "code",
      "source": [
        "# Completa el código\n",
        "ventas_ordenadas = sorted(... , key=lambda x: x[\"cantidad\"], reverse= ...)"
      ],
      "metadata": {
        "id": "dNw80XF0gkg2"
      },
      "execution_count": null,
      "outputs": []
    },
    {
      "cell_type": "code",
      "source": [
        "# Completa el código\n",
        "print(...)"
      ],
      "metadata": {
        "id": "UdkCjzlOgoRX"
      },
      "execution_count": null,
      "outputs": []
    },
    {
      "cell_type": "markdown",
      "source": [
        "## **<font color=\"DarkBlue\">Ejercicio 11: Invertir Lista de Productos</font>**"
      ],
      "metadata": {
        "id": "qo3lMmr6hEEd"
      }
    },
    {
      "cell_type": "markdown",
      "source": [
        "Tarea: Dada una lista de productos, invierte el orden de los productos en la lista e imprime la lista invertida.\n",
        "\n"
      ],
      "metadata": {
        "id": "Zx4MKRDHhOE3"
      }
    },
    {
      "cell_type": "code",
      "source": [
        "productos = [\"Laptop\", \"Teléfono\", \"Tablet\", \"Notebook\", \"Impresora\"]"
      ],
      "metadata": {
        "id": "Xbs0RxKahWkQ"
      },
      "execution_count": null,
      "outputs": []
    },
    {
      "cell_type": "code",
      "source": [
        "# Completa el código\n",
        "productos_invertidos = ..."
      ],
      "metadata": {
        "id": "ETDQgz5ChcoH"
      },
      "execution_count": null,
      "outputs": []
    },
    {
      "cell_type": "code",
      "source": [
        "# Completa el código\n",
        "print(...)"
      ],
      "metadata": {
        "id": "b54idN2Shemk"
      },
      "execution_count": null,
      "outputs": []
    },
    {
      "cell_type": "markdown",
      "source": [
        "## **<font color=\"DarkBlue\">Ejercicio 12: Combinar Listas de Productos y Precios</font>**"
      ],
      "metadata": {
        "id": "QXCJuMbshwoO"
      }
    },
    {
      "cell_type": "markdown",
      "source": [
        "Tarea: Dadas dos listas, una con nombres de productos y otra con sus precios, combina ambas listas en una lista de tuplas y luego imprime cada producto con su precio.\n"
      ],
      "metadata": {
        "id": "Vp1ILpYch92Y"
      }
    },
    {
      "cell_type": "code",
      "source": [
        "productos = [\"Laptop\", \"Teléfono\", \"Tablet\"]\n",
        "precios = [1000, 500, 300]"
      ],
      "metadata": {
        "id": "E5x5cMxQiHPo"
      },
      "execution_count": null,
      "outputs": []
    },
    {
      "cell_type": "code",
      "source": [
        "# Completa el código\n",
        "productos_precios = list(zip(...))"
      ],
      "metadata": {
        "id": "J_0KqimbiHyD"
      },
      "execution_count": null,
      "outputs": []
    },
    {
      "cell_type": "code",
      "source": [
        "# Completa el código\n",
        "for  in :\n",
        "    print(f\"Producto: {...}, Precio: ${...}\")"
      ],
      "metadata": {
        "id": "z0D0fwb4iPm7"
      },
      "execution_count": null,
      "outputs": []
    },
    {
      "cell_type": "markdown",
      "source": [
        "## **<font color=\"DarkBlue\">Ejercicio 13, ¿qué te parece?: 🍀 Filtrar Productos Caros 🍀</font>**"
      ],
      "metadata": {
        "id": "ilHQnfJfirjz"
      }
    },
    {
      "cell_type": "markdown",
      "source": [
        "Tarea: Dada una lista de productos con sus precios, utiliza comprensión de listas para crear una lista de productos que cuestan más de $500.\n",
        "\n"
      ],
      "metadata": {
        "id": "TmGUkgrOjLJn"
      }
    },
    {
      "cell_type": "code",
      "source": [
        "productos_precios = [(\"Laptop\", 1000), (\"Teléfono\", 500), (\"Tablet\", 300)]"
      ],
      "metadata": {
        "id": "70SIeGy7jRub"
      },
      "execution_count": null,
      "outputs": []
    },
    {
      "cell_type": "code",
      "source": [
        "# Completa el código\n",
        "productos_caros = [producto for producto, precio in ... if ... > 500]"
      ],
      "metadata": {
        "id": "Ty3GnYB0jRU1"
      },
      "execution_count": null,
      "outputs": []
    },
    {
      "cell_type": "code",
      "source": [
        "# Completa el código\n",
        "print()"
      ],
      "metadata": {
        "id": "_tCeOf9Bjf1e"
      },
      "execution_count": null,
      "outputs": []
    },
    {
      "cell_type": "markdown",
      "source": [
        "<p align=\"center\"><b>\n",
        "💗\n",
        "<font color=\"DarkBlue\">\n",
        "Hemos llegado al final de nuestra ejercitación en colab, a seguir ejercitando...\n",
        "</font>\n",
        "</p>\n",
        "\n"
      ],
      "metadata": {
        "id": "jLFcCFoEuxr6"
      }
    }
  ]
}