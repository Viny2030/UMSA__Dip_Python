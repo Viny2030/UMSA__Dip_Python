{
  "nbformat": 4,
  "nbformat_minor": 0,
  "metadata": {
    "colab": {
      "provenance": []
    },
    "kernelspec": {
      "name": "python3",
      "display_name": "Python 3"
    },
    "language_info": {
      "name": "python"
    }
  },
  "cells": [
    {
      "cell_type": "markdown",
      "source": [
        " # **<font color=\"DarkBlue\">Mis primeros ejercicios con NumPy</font>**"
      ],
      "metadata": {
        "id": "_o8tuKydjnRZ"
      }
    },
    {
      "cell_type": "markdown",
      "source": [
        "<p align=\"center\">\n",
        "<img src=\"https://numpy.org/images/logo.svg\" width=\"80\" height=\"\">\n",
        "</p>\n"
      ],
      "metadata": {
        "id": "XM-hn7ZLmgQc"
      }
    },
    {
      "cell_type": "markdown",
      "source": [
        "https://numpy.org"
      ],
      "metadata": {
        "id": "iw1xUwq1fpWm"
      }
    },
    {
      "cell_type": "markdown",
      "source": [
        "<p align=\"justify\">\n",
        "✅ A continuación, se presentan algunos ejercicios prácticos:\n"
      ],
      "metadata": {
        "id": "u760XlUwsTml"
      }
    },
    {
      "cell_type": "markdown",
      "source": [
        " ## **<font color=\"DarkBlue\">Ejercicio 1: Creación de Arrays</font>**"
      ],
      "metadata": {
        "id": "eDYe-9qXsARX"
      }
    },
    {
      "cell_type": "markdown",
      "source": [
        "\n",
        "🏷 **a. Ejercicio 1: Creación de Arrays:**\n",
        "   1. Crea un array unidimensional con los números del 1 al 10.\n",
        "   1. Crea un array bidimensional de tamaño 3x3 con valores aleatorios entre 0 y 1.\n",
        "   1. Crea un array tridimensional de tamaño 2x2x2 con unos.\n"
      ],
      "metadata": {
        "id": "T5R9Xr1Psbn1"
      }
    },
    {
      "cell_type": "code",
      "source": [
        "# Crear un array unidimensional con los números del 1 al 10\n",
        "..."
      ],
      "metadata": {
        "id": "TzThLAOMtbzz"
      },
      "execution_count": null,
      "outputs": []
    },
    {
      "cell_type": "code",
      "source": [
        "# Crear un array bidimensional de tamaño 3x3 con valores aleatorios entre 0 y 1\n",
        "..."
      ],
      "metadata": {
        "id": "sLynFNT8uh_E"
      },
      "execution_count": null,
      "outputs": []
    },
    {
      "cell_type": "code",
      "source": [
        "# Crear un array tridimensional de tamaño 2x2x2 con unos\n",
        "..."
      ],
      "metadata": {
        "id": "R-FQII0Uuooe"
      },
      "execution_count": null,
      "outputs": []
    },
    {
      "cell_type": "markdown",
      "source": [
        "<p align=\"justify\">\n",
        "<br>\n",
        "✅ A continuación, una solución sugerida:\n",
        "<br><br>\n"
      ],
      "metadata": {
        "id": "KQOwuslEtcfQ"
      }
    },
    {
      "cell_type": "markdown",
      "source": [
        "\n",
        "🏷 **a. Ejercicio 1: Creación de Arrays:**\n",
        "```python\n",
        "# Crear un array unidimensional con los números del 1 al 10\n",
        "arr_unidimensional = np.array([1, 2, 3, 4, 5, 6, 7, 8, 9, 10])\n",
        "\n",
        "# Crear un array bidimensional de tamaño 3x3 con valores aleatorios entre 0 y 1\n",
        "arr_bidimensional = np.random.random((3, 3))\n",
        "\n",
        "# Crear un array tridimensional de tamaño 2x2x2 con unos\n",
        "arr_tridimensional = np.ones((2, 2, 2))\n",
        "```\n"
      ],
      "metadata": {
        "id": "H7-yZhi9t1P9"
      }
    },
    {
      "cell_type": "markdown",
      "source": [
        " ## **<font color=\"DarkBlue\">Ejercicio 2: Indexación y Slicing</font>**"
      ],
      "metadata": {
        "id": "sYftF4G_se_K"
      }
    },
    {
      "cell_type": "markdown",
      "source": [
        "\n",
        "🏷 **b. Ejercicio 2: Indexación y Slicing:**\n",
        "   1. Accede al tercer elemento del array unidimensional creado en el ejercicio 1.\n",
        "   2. Accede a la primera fila del array bidimensional creado en el ejercicio 1.\n",
        "   3. Accede a la primera columna del array bidimensional creado en el ejercicio 1.\n",
        "   4. Accede a la última fila y última columna del array bidimensional creado en el ejercicio 1.\n"
      ],
      "metadata": {
        "id": "oFmcyhCdsoJ2"
      }
    },
    {
      "cell_type": "code",
      "source": [
        "# Acceder al tercer elemento del array unidimensional creado en el ejercicio 1\n",
        "..."
      ],
      "metadata": {
        "id": "V_f392Kuthjs"
      },
      "execution_count": null,
      "outputs": []
    },
    {
      "cell_type": "code",
      "source": [
        "# Acceder a la primera fila del array bidimensional creado en el ejercicio 1\n",
        "..."
      ],
      "metadata": {
        "id": "QSB7wf2xu8qu"
      },
      "execution_count": null,
      "outputs": []
    },
    {
      "cell_type": "code",
      "source": [
        "# Acceder a la primera columna del array bidimensional creado en el ejercicio 1\n",
        "..."
      ],
      "metadata": {
        "id": "s_sc7N1YvB94"
      },
      "execution_count": null,
      "outputs": []
    },
    {
      "cell_type": "code",
      "source": [
        "# Acceder a la última fila y última columna del array bidimensional creado en el ejercicio 1\n",
        "..."
      ],
      "metadata": {
        "id": "r5foZBBXvFsJ"
      },
      "execution_count": null,
      "outputs": []
    },
    {
      "cell_type": "markdown",
      "source": [
        "<p align=\"justify\">\n",
        "<br>\n",
        "✅ A continuación, una solución sugerida:\n",
        "<br><br>\n"
      ],
      "metadata": {
        "id": "36xlnVQNthEx"
      }
    },
    {
      "cell_type": "markdown",
      "source": [
        "\n",
        "🏷 **b. Ejercicio 2: Indexación y Slicing:**\n",
        "```python\n",
        "# Acceder al tercer elemento del array unidimensional creado en el ejercicio 1\n",
        "tercer_elemento = arr_unidimensional[2]\n",
        "\n",
        "# Acceder a la primera fila del array bidimensional creado en el ejercicio 1\n",
        "primera_fila = arr_bidimensional[0]\n",
        "\n",
        "# Acceder a la primera columna del array bidimensional creado en el ejercicio 1\n",
        "primera_columna = arr_bidimensional[:, 0]\n",
        "\n",
        "# Acceder a la última fila y última columna del array bidimensional creado en el ejercicio 1\n",
        "ultima_fila = arr_bidimensional[-1]\n",
        "ultima_columna = arr_bidimensional[:, -1]\n",
        "```\n"
      ],
      "metadata": {
        "id": "RW4q2dSCt-V5"
      }
    },
    {
      "cell_type": "markdown",
      "source": [
        " ## **<font color=\"DarkBlue\">Ejercicio 3: Operaciones Básicas de Álgebra Lineal</font>**"
      ],
      "metadata": {
        "id": "O8IVcXT6stJX"
      }
    },
    {
      "cell_type": "markdown",
      "source": [
        "\n",
        "🏷 **c. Ejercicio 3: Operaciones Básicas de Álgebra Lineal:**\n",
        "   1. Crea dos matrices 2x2 y realiza la multiplicación de matrices.\n",
        "   2. Calcula el determinante de una matriz 3x3.\n",
        "   3. Calcula la inversa de una matriz 2x2.\n",
        "   4. Resuelve el siguiente sistema de ecuaciones lineales:\n",
        "     - 2x + 3y = 1\n",
        "     - 4x + 5y = 2\n"
      ],
      "metadata": {
        "id": "84znLFuMtCdt"
      }
    },
    {
      "cell_type": "code",
      "source": [
        "# Crear dos matrices 2x2\n",
        "..."
      ],
      "metadata": {
        "id": "ammHy3pYtnkL"
      },
      "execution_count": null,
      "outputs": []
    },
    {
      "cell_type": "code",
      "source": [
        "# Realizar la multiplicación de matrices\n",
        "..."
      ],
      "metadata": {
        "id": "0w1DfSqOvb48"
      },
      "execution_count": null,
      "outputs": []
    },
    {
      "cell_type": "code",
      "source": [
        "# Calcular el determinante de una matriz 3x3\n",
        "..."
      ],
      "metadata": {
        "id": "H4o9RA9JvfAh"
      },
      "execution_count": null,
      "outputs": []
    },
    {
      "cell_type": "code",
      "source": [
        "# Calcular la inversa de una matriz 2x2\n",
        "..."
      ],
      "metadata": {
        "id": "dc6rTNJKvidy"
      },
      "execution_count": null,
      "outputs": []
    },
    {
      "cell_type": "code",
      "source": [
        "# Resolver el sistema de ecuaciones lineales\n",
        "..."
      ],
      "metadata": {
        "id": "1uup_a8Mvmjk"
      },
      "execution_count": null,
      "outputs": []
    },
    {
      "cell_type": "markdown",
      "source": [
        "<p align=\"justify\">\n",
        "<br>\n",
        "✅ A continuación, una solución sugerida:\n",
        "<br><br>\n"
      ],
      "metadata": {
        "id": "Subd_qD6toGt"
      }
    },
    {
      "cell_type": "markdown",
      "source": [
        "\n",
        "🏷 **c. Ejercicio 3: Operaciones Básicas de Álgebra Lineal:**\n",
        "```python\n",
        "# Crear dos matrices 2x2\n",
        "matriz1 = np.array([[1, 2], [3, 4]])\n",
        "matriz2 = np.array([[5, 6], [7, 8]])\n",
        "\n",
        "# Realizar la multiplicación de matrices\n",
        "producto = np.dot(matriz1, matriz2)\n",
        "\n",
        "# Calcular el determinante de una matriz 3x3\n",
        "matriz3x3 = np.array([[1, 2, 3], [4, 5, 6], [7, 8, 9]])\n",
        "determinante = np.linalg.det(matriz3x3)\n",
        "\n",
        "# Calcular la inversa de una matriz 2x2\n",
        "inversa = np.linalg.inv(matriz1)\n",
        "\n",
        "# Resolver el sistema de ecuaciones lineales\n",
        "A = np.array([[2, 3], [4, 5]])\n",
        "b = np.array([1, 2])\n",
        "x = np.linalg.solve(A, b)\n",
        "```\n"
      ],
      "metadata": {
        "id": "SX7nCO51uBqz"
      }
    },
    {
      "cell_type": "markdown",
      "source": [
        " ## **<font color=\"DarkBlue\">Ejercicio 4: Aplicación de Funciones NumPy</font>**"
      ],
      "metadata": {
        "id": "TQQ7RMbBtFm5"
      }
    },
    {
      "cell_type": "markdown",
      "source": [
        "\n",
        "🏷 **d. Ejercicio 4: Aplicación de Funciones NumPy:**\n",
        "   1. Crea un array unidimensional de tamaño 10 con valores aleatorios entre 0 y 100.\n",
        "   2. Calcula la media, la mediana y la desviación estándar del array creado.\n",
        "   3. Encuentra el valor máximo y mínimo del array creado.\n",
        "   4. Normaliza el array para que todos sus valores estén en el rango de 0 a 1."
      ],
      "metadata": {
        "id": "9cyzBT4is9c_"
      }
    },
    {
      "cell_type": "code",
      "source": [
        "# Crea un array unidimensional de tamaño 10 con valores aleatorios entre 0 y 100\n",
        "..."
      ],
      "metadata": {
        "id": "R66bUtQqtqD_"
      },
      "execution_count": null,
      "outputs": []
    },
    {
      "cell_type": "code",
      "source": [
        "# Calcula la media, la mediana y la desviación estándar del array creado\n",
        "..."
      ],
      "metadata": {
        "id": "O04jn6dvv4as"
      },
      "execution_count": null,
      "outputs": []
    },
    {
      "cell_type": "code",
      "source": [
        "# Encuentra el valor máximo y mínimo del array creado\n",
        "..."
      ],
      "metadata": {
        "id": "we1p-h_Cv8hi"
      },
      "execution_count": null,
      "outputs": []
    },
    {
      "cell_type": "code",
      "source": [
        "# Normaliza el array para que todos sus valores estén en el rango de 0 a 1\n",
        "..."
      ],
      "metadata": {
        "id": "bn7uJcJ6v-m2"
      },
      "execution_count": null,
      "outputs": []
    },
    {
      "cell_type": "markdown",
      "source": [
        "<p align=\"justify\">\n",
        "<br>\n",
        "✅ A continuación, una solución sugerida:\n",
        "<br><br>\n"
      ],
      "metadata": {
        "id": "5RJE35r3tqkb"
      }
    },
    {
      "cell_type": "markdown",
      "source": [
        "\n",
        "🏷 **d. Ejercicio 4: Aplicación de Funciones NumPy:**\n",
        "```python\n",
        "# Crea un array unidimensional de tamaño 10 con valores aleatorios entre 0 y 100\n",
        "arr_aleatorio = np.random.randint(0, 101, 10)\n",
        "\n",
        "# Calcula la media, la mediana y la desviación estándar del array creado\n",
        "media = np.mean(arr_aleatorio)\n",
        "mediana = np.median(arr_aleatorio)\n",
        "desviacion_estandar = np.std(arr_aleatorio)\n",
        "\n",
        "# Encuentra el valor máximo y mínimo del array creado\n",
        "valor_maximo = np.max(arr_aleatorio)\n",
        "valor_minimo = np.min(arr_aleatorio)\n",
        "\n",
        "# Normaliza el array para que todos sus valores estén en el rango de 0 a 1\n",
        "arr_normalizado = (arr_aleatorio - np.min(arr_aleatorio)) / (np.max(arr_aleatorio) - np.min(arr_aleatorio))\n",
        "```\n"
      ],
      "metadata": {
        "id": "zlGVztPnuYfP"
      }
    },
    {
      "cell_type": "markdown",
      "source": [
        " ## **<font color=\"DarkBlue\">Ejercicio 5: Manipulación de Datos</font>**"
      ],
      "metadata": {
        "id": "220QxYvntRiO"
      }
    },
    {
      "cell_type": "markdown",
      "source": [
        "\n",
        "\n",
        "🏷 **e. Ejercicio 5: Manipulación de Datos:**\n",
        "   1. Crea un array bidimensional de tamaño 3x3 con valores aleatorios enteros entre 1 y 10.\n",
        "   2. Filtra los valores mayores que 5 en el array creado.\n",
        "   3. Reemplaza todos los valores mayores que 5 en el array creado por el valor 10."
      ],
      "metadata": {
        "id": "lYtGTO6Xx4pk"
      }
    },
    {
      "cell_type": "code",
      "source": [
        "# Crea un array bidimensional de tamaño 3x3 con valores aleatorios enteros entre 1 y 10\n",
        "..."
      ],
      "metadata": {
        "id": "Y0GdG23fttsF"
      },
      "execution_count": null,
      "outputs": []
    },
    {
      "cell_type": "code",
      "source": [
        "# Filtra los valores mayores que 5 en el array creado\n",
        "..."
      ],
      "metadata": {
        "id": "_a0wCZP_wLpi"
      },
      "execution_count": null,
      "outputs": []
    },
    {
      "cell_type": "code",
      "source": [
        "# Reemplaza todos los valores mayores que 5 en el array creado por el valor 10\n",
        "..."
      ],
      "metadata": {
        "id": "LA61N_fTwN1M"
      },
      "execution_count": null,
      "outputs": []
    },
    {
      "cell_type": "markdown",
      "source": [
        "<p align=\"justify\">\n",
        "<br>\n",
        "✅ A continuación, una solución sugerida:\n",
        "<br><br>\n"
      ],
      "metadata": {
        "id": "VOHqWhlytuLx"
      }
    },
    {
      "cell_type": "markdown",
      "source": [
        "\n",
        "🏷 **e. Ejercicio 5: Manipulación de Datos:**\n",
        "```python\n",
        "# Crea un array bidimensional de tamaño 3x3 con valores aleatorios enteros entre 1 y 10\n",
        "arr_enteros = np.random.randint(1, 11, (3, 3))\n",
        "\n",
        "# Filtra los valores mayores que 5 en el array creado\n",
        "valores_mayores_5 = arr_enteros[arr_enteros > 5]\n",
        "\n",
        "# Reemplaza todos los valores mayores que 5 en el array creado por el valor 10\n",
        "arr_enteros[arr_enteros > 5] = 10\n",
        "```"
      ],
      "metadata": {
        "id": "SnzVzjlFDw7K"
      }
    },
    {
      "cell_type": "markdown",
      "source": [
        "<p align=\"center\"><b>\n",
        "💗\n",
        "<font color=\"DarkBlue\">\n",
        "Hemos llegado al final de nuestra ejercitación en colab, a seguir ejercitando...\n",
        "</font>\n",
        "</p>\n"
      ],
      "metadata": {
        "id": "rrDMEhW6Vq2a"
      }
    }
  ]
}