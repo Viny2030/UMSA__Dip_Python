{
  "nbformat": 4,
  "nbformat_minor": 0,
  "metadata": {
    "colab": {
      "provenance": []
    },
    "kernelspec": {
      "name": "python3",
      "display_name": "Python 3"
    },
    "language_info": {
      "name": "python"
    }
  },
  "cells": [
    {
      "cell_type": "markdown",
      "source": [
        " # **<font color=\"DarkBlue\">Ejercicios de análisis de datos con NumPy</font>**"
      ],
      "metadata": {
        "id": "_o8tuKydjnRZ"
      }
    },
    {
      "cell_type": "markdown",
      "source": [
        "<p align=\"center\">\n",
        "<img src=\"https://numpy.org/images/logo.svg\" width=\"80\" height=\"\">\n",
        "</p>\n"
      ],
      "metadata": {
        "id": "XM-hn7ZLmgQc"
      }
    },
    {
      "cell_type": "markdown",
      "source": [
        "https://numpy.org"
      ],
      "metadata": {
        "id": "iw1xUwq1fpWm"
      }
    },
    {
      "cell_type": "markdown",
      "source": [
        "<p align=\"justify\">\n",
        "✅ A continuación, se presentan algunos ejercicios prácticos:\n"
      ],
      "metadata": {
        "id": "NmdIQti23iRn"
      }
    },
    {
      "cell_type": "markdown",
      "source": [
        " ## **<font color=\"DarkBlue\">Ejercicio 1: Normalización de Datos de Ventas y Gastos</font>**"
      ],
      "metadata": {
        "id": "txzzVlEO3kzs"
      }
    },
    {
      "cell_type": "markdown",
      "source": [
        "\n",
        "🏷 **a. Ejercicio 1: Normalización de Datos de Ventas y Gastos:**\n",
        "   - Supongamos que tenemos datos de ventas mensuales en miles de dólares y datos de gastos mensuales en miles de dólares para una empresa. Normaliza ambos conjuntos de datos y calcula el margen de beneficio (ventas - gastos) para cada mes.\n"
      ],
      "metadata": {
        "id": "KNYAdCFo3yMF"
      }
    },
    {
      "cell_type": "code",
      "source": [
        "# Datos de ventas mensuales en miles de dólares\n",
        "ventas = np.array([100, 120, 110, 130, 140])"
      ],
      "metadata": {
        "id": "Q1QZiD8J4UMM"
      },
      "execution_count": null,
      "outputs": []
    },
    {
      "cell_type": "code",
      "source": [
        "# Datos de gastos mensuales en miles de dólares\n",
        "gastos = np.array([50, 60, 55, 65, 70])"
      ],
      "metadata": {
        "id": "ZB0wN5kh4T4D"
      },
      "execution_count": null,
      "outputs": []
    },
    {
      "cell_type": "code",
      "source": [
        "# Normalización de datos\n",
        "..."
      ],
      "metadata": {
        "id": "-c1WQ2Oe4rox"
      },
      "execution_count": null,
      "outputs": []
    },
    {
      "cell_type": "code",
      "source": [
        "# Cálculo del margen de beneficio\n",
        "..."
      ],
      "metadata": {
        "id": "fZfyvmtS4ti3"
      },
      "execution_count": null,
      "outputs": []
    },
    {
      "cell_type": "markdown",
      "source": [
        "<p align=\"justify\">\n",
        "<br>\n",
        "✅ A continuación, una solución sugerida:\n",
        "<br><br>\n"
      ],
      "metadata": {
        "id": "jz4jevjB4Uwd"
      }
    },
    {
      "cell_type": "markdown",
      "source": [
        "🏷 **a. Ejercicio 1: Normalización de Datos de Ventas y Gastos:**\n",
        "   - Supongamos que tenemos datos de ventas mensuales en miles de dólares y datos de gastos mensuales en miles de dólares para una empresa. Normaliza ambos conjuntos de datos y calcula el margen de beneficio (ventas - gastos) para cada mes.\n",
        "\n",
        "```python\n",
        "# Normalización de datos\n",
        "ventas_normalizadas = (ventas - np.min(ventas)) / (np.max(ventas) - np.min(ventas))\n",
        "gastos_normalizados = (gastos - np.min(gastos)) / (np.max(gastos) - np.min(gastos))\n",
        "\n",
        "# Cálculo del margen de beneficio\n",
        "margen_beneficio = ventas_normalizadas - gastos_normalizadas\n",
        "\n",
        "print(\"Margen de beneficio:\", margen_beneficio)\n",
        "```\n"
      ],
      "metadata": {
        "id": "ehADME8e4kCL"
      }
    },
    {
      "cell_type": "markdown",
      "source": [
        " ## **<font color=\"DarkBlue\">Ejercicio 2: Estandarización de Datos de Satisfacción del Cliente</font>**"
      ],
      "metadata": {
        "id": "hvnOpka031xk"
      }
    },
    {
      "cell_type": "markdown",
      "source": [
        "\n",
        "🏷 **b. Ejercicio 2: Estandarización de Datos de Satisfacción del Cliente:**\n",
        "   - Supongamos que tenemos datos de puntajes de satisfacción del cliente en una escala del 1 al 10 para una empresa. Estandariza estos datos y calcula el promedio de satisfacción del cliente.\n",
        "\n"
      ],
      "metadata": {
        "id": "QIDY-KqB3-32"
      }
    },
    {
      "cell_type": "code",
      "source": [
        "# Datos de puntajes de satisfacción del cliente\n",
        "satisfaccion_cliente = np.array([7, 8, 6, 9, 7])"
      ],
      "metadata": {
        "id": "xF3eirBi4RmY"
      },
      "execution_count": null,
      "outputs": []
    },
    {
      "cell_type": "code",
      "source": [
        "# Estandarización de datos\n",
        "..."
      ],
      "metadata": {
        "id": "v3cFI97_5O7d"
      },
      "execution_count": null,
      "outputs": []
    },
    {
      "cell_type": "code",
      "source": [
        "# Cálculo del promedio de satisfacción del cliente\n",
        "..."
      ],
      "metadata": {
        "id": "gWAxeixm5QM9"
      },
      "execution_count": null,
      "outputs": []
    },
    {
      "cell_type": "markdown",
      "source": [
        "<p align=\"justify\">\n",
        "<br>\n",
        "✅ A continuación, una solución sugerida:\n",
        "<br><br>\n"
      ],
      "metadata": {
        "id": "qHXH36oj4SBR"
      }
    },
    {
      "cell_type": "markdown",
      "source": [
        "\n",
        "🏷 **b. Ejercicio 2: Estandarización de Datos de Satisfacción del Cliente:**\n",
        "   - Supongamos que tenemos datos de puntajes de satisfacción del cliente en una escala del 1 al 10 para una empresa. Estandariza estos datos y calcula el promedio de satisfacción del cliente.\n",
        "\n",
        "```python\n",
        "# Estandarización de datos\n",
        "satisfaccion_estandarizada = (satisfaccion_cliente - np.mean(satisfaccion_cliente)) / np.std(satisfaccion_cliente)\n",
        "\n",
        "# Cálculo del promedio de satisfacción del cliente\n",
        "promedio_satisfaccion = np.mean(satisfaccion_estandarizada)\n",
        "\n",
        "print(\"Promedio de satisfacción del cliente:\", promedio_satisfaccion)\n",
        "```\n"
      ],
      "metadata": {
        "id": "8_EM6XK_5CAF"
      }
    },
    {
      "cell_type": "markdown",
      "source": [
        " ## **<font color=\"DarkBlue\">Ejercicio 3: Discretización de Datos de Ingresos Anuales</font>**"
      ],
      "metadata": {
        "id": "G1QY2ZiJ4CgD"
      }
    },
    {
      "cell_type": "markdown",
      "source": [
        "\n",
        "\n",
        "🏷 **c. Ejercicio 3: Discretización de Datos de Ingresos Anuales:**\n",
        "   - Supongamos que tenemos datos de ingresos anuales en miles de dólares para una empresa. Discretiza estos datos en tres categorías: \"bajo\", \"medio\" y \"alto\" ingresos.\n",
        "\n"
      ],
      "metadata": {
        "id": "VChuYfN5EhN7"
      }
    },
    {
      "cell_type": "code",
      "source": [
        "# Datos de ingresos anuales en miles de dólares\n",
        "ingresos = np.array([250, 300, 200, 350, 400])"
      ],
      "metadata": {
        "id": "rjG79w9_4J0e"
      },
      "execution_count": null,
      "outputs": []
    },
    {
      "cell_type": "code",
      "source": [
        "# Discretización de datos\n",
        "..."
      ],
      "metadata": {
        "id": "Ut-_RrLP5kXJ"
      },
      "execution_count": null,
      "outputs": []
    },
    {
      "cell_type": "markdown",
      "source": [
        "<p align=\"justify\">\n",
        "<br>\n",
        "✅ A continuación, una solución sugerida:\n",
        "<br><br>\n"
      ],
      "metadata": {
        "id": "CQ4EZRIr4O-B"
      }
    },
    {
      "cell_type": "markdown",
      "source": [
        "\n",
        "🏷 **c. Ejercicio 3: Discretización de Datos de Ingresos Anuales:**\n",
        "   - Supongamos que tenemos datos de ingresos anuales en miles de dólares para una empresa. Discretiza estos datos en tres categorías: \"bajo\", \"medio\" y \"alto\" ingresos.\n",
        "\n",
        "```python\n",
        "# Discretización de datos\n",
        "categorias_ingresos = np.digitize(ingresos, bins=[0, 200, 300, np.inf], right=True)\n",
        "categorias_label = ['Bajo', 'Medio', 'Alto']\n",
        "\n",
        "ingresos_categorizados = [categorias_label[i-1] for i in categorias_ingresos]\n",
        "\n",
        "print(\"Ingresos categorizados:\", ingresos_categorizados)\n",
        "```"
      ],
      "metadata": {
        "id": "V1L59ugSF-ze"
      }
    },
    {
      "cell_type": "markdown",
      "source": [
        "<p align=\"center\"><b>\n",
        "💗\n",
        "<font color=\"DarkBlue\">\n",
        "Hemos llegado al final de nuestra ejercitación en colab, a seguir ejercitando...\n",
        "</font>\n",
        "</p>\n"
      ],
      "metadata": {
        "id": "T7cpdclJUEHU"
      }
    }
  ]
}