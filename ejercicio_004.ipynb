{
  "nbformat": 4,
  "nbformat_minor": 0,
  "metadata": {
    "colab": {
      "provenance": [],
      "toc_visible": true
    },
    "kernelspec": {
      "name": "python3",
      "display_name": "Python 3"
    },
    "language_info": {
      "name": "python"
    }
  },
  "cells": [
    {
      "cell_type": "markdown",
      "source": [
        "# **<font color=\"DarkBlue\">Ejercicios de funciones y funciones lambda 💔</font>**"
      ],
      "metadata": {
        "id": "ZJ8MFCRegkBU"
      }
    },
    {
      "cell_type": "markdown",
      "source": [
        "<p align=\"center\">\n",
        "<img src=\"https://pypi.org/static/images/logo-small.8998e9d1.svg\" width=\"90\" height=\"\">\n",
        "</p>"
      ],
      "metadata": {
        "id": "gjpEYi_23t-3"
      }
    },
    {
      "cell_type": "markdown",
      "source": [
        "## **<font color=\"DarkBlue\">Ejercicio 1: Calcular el total de ventas</font>**"
      ],
      "metadata": {
        "id": "ZiHPlFwRnqdY"
      }
    },
    {
      "cell_type": "markdown",
      "source": [
        "Tarea: Crea una función llamada `calcular_total_ventas` que acepte una lista de precios de productos vendidos y devuelva el total de ventas.\n"
      ],
      "metadata": {
        "id": "Gg4K_0MVpdOS"
      }
    },
    {
      "cell_type": "code",
      "source": [
        "precios = [100, 200, 300, 150]"
      ],
      "metadata": {
        "id": "xXz-7IcboDLe"
      },
      "execution_count": null,
      "outputs": []
    },
    {
      "cell_type": "code",
      "source": [
        "# Completa el código y crea la función...\n",
        "def calcular_total_ventas(...):\n",
        "    return ..."
      ],
      "metadata": {
        "id": "o6vCIAz9nzfq"
      },
      "execution_count": null,
      "outputs": []
    },
    {
      "cell_type": "code",
      "source": [
        "# Completa el código para imprimir el resultado...\n",
        "print()"
      ],
      "metadata": {
        "id": "ebT2dBtx5tSl"
      },
      "execution_count": null,
      "outputs": []
    },
    {
      "cell_type": "markdown",
      "source": [
        "## **<font color=\"DarkBlue\">Ejercicio 2: Determinar el descuento aplicable</font>**"
      ],
      "metadata": {
        "id": "N1lFpAnWpjmt"
      }
    },
    {
      "cell_type": "markdown",
      "source": [
        "Tarea: Crea una función llamada `determinar_descuento` que acepte el precio de un producto y devuelva el descuento aplicable basado en las siguientes reglas:\n",
        "\n",
        "- 10% para precios superiores a \\$100 y\n",
        "- 5% para precios iguales o menores a $100.\n"
      ],
      "metadata": {
        "id": "-nAuKvYVprIq"
      }
    },
    {
      "cell_type": "code",
      "source": [
        "# Precio de un producto\n",
        "precio = 120"
      ],
      "metadata": {
        "id": "FCG8o_A6pDfQ"
      },
      "execution_count": null,
      "outputs": []
    },
    {
      "cell_type": "code",
      "source": [
        "# Completa el código\n",
        "def determinar_descuento(...):\n",
        "    if ... > 100:\n",
        "        return ...\n",
        "    else:\n",
        "        return ..."
      ],
      "metadata": {
        "id": "QNNlluD_prkV"
      },
      "execution_count": null,
      "outputs": []
    },
    {
      "cell_type": "code",
      "source": [
        "# Completa el código\n",
        "descuento = determinar_descuento(...)\n"
      ],
      "metadata": {
        "id": "AblM_866qBUf"
      },
      "execution_count": null,
      "outputs": []
    },
    {
      "cell_type": "code",
      "source": [
        "# Completa el código para imprimir\n",
        "print(...)"
      ],
      "metadata": {
        "id": "0UK1_NKb6dMU"
      },
      "execution_count": null,
      "outputs": []
    },
    {
      "cell_type": "markdown",
      "source": [
        "## **<font color=\"DarkBlue\">Ejercicio 3: Calcular el impuesto al valor agregado</font>**"
      ],
      "metadata": {
        "id": "hEeVDYqKpsDC"
      }
    },
    {
      "cell_type": "markdown",
      "source": [
        "Tarea: Utiliza una función lambda para calcular el impuesto al valor agregado del 21% sobre el precio de un producto.\n"
      ],
      "metadata": {
        "id": "a4iAaTJppsgc"
      }
    },
    {
      "cell_type": "code",
      "source": [
        "# Precio de un producto\n",
        "precio = 1000"
      ],
      "metadata": {
        "id": "jtSHqjZjp2Zr"
      },
      "execution_count": null,
      "outputs": []
    },
    {
      "cell_type": "code",
      "source": [
        "# Completa el código\n",
        "calcular_impuesto = lambda\n",
        "impuesto = calcular_impuesto(...)"
      ],
      "metadata": {
        "id": "pNA-m_mA8naS"
      },
      "execution_count": null,
      "outputs": []
    },
    {
      "cell_type": "code",
      "source": [
        "# Completa el código\n",
        "print(...)"
      ],
      "metadata": {
        "id": "tuyOb5318qdh"
      },
      "execution_count": null,
      "outputs": []
    },
    {
      "cell_type": "markdown",
      "source": [
        "## **<font color=\"DarkBlue\">Ejercicio 4: Filtrar Clientes VIP</font>**"
      ],
      "metadata": {
        "id": "EwY5EFITXmC0"
      }
    },
    {
      "cell_type": "markdown",
      "source": [
        "Tarea: Dada una lista de clientes con sus gastos anuales, utiliza una función lambda para filtrar los clientes que gastaron más de $1000 y considéralos como clientes VIP."
      ],
      "metadata": {
        "id": "xGM2sVVpXsFG"
      }
    },
    {
      "cell_type": "code",
      "source": [
        "clientes = [(\"Ana\", 1200), (\"Luis\", 800), (\"Marta\", 1500), (\"Carlos\", 600)]"
      ],
      "metadata": {
        "id": "cU58c0MpYAs3"
      },
      "execution_count": null,
      "outputs": []
    },
    {
      "cell_type": "code",
      "source": [
        "# Completa el código\n",
        "clientes_vip = list(filter(lambda ..., clientes))"
      ],
      "metadata": {
        "id": "ODoANSmTYBgW"
      },
      "execution_count": null,
      "outputs": []
    },
    {
      "cell_type": "code",
      "source": [
        "# Completa el código\n",
        "print(\"Clientes VIP:\")\n",
        "for i in clientes_vip:\n",
        "    print(...[0])"
      ],
      "metadata": {
        "id": "ZnlkQwI7YIKn"
      },
      "execution_count": null,
      "outputs": []
    },
    {
      "cell_type": "markdown",
      "source": [
        "<p align=\"center\"><b>\n",
        "💗\n",
        "<font color=\"DarkBlue\">\n",
        "Hemos llegado al final de nuestra ejercitación en colab, a seguir ejercitando...\n",
        "</font>\n",
        "</p>\n",
        "\n"
      ],
      "metadata": {
        "id": "jLFcCFoEuxr6"
      }
    }
  ]
}