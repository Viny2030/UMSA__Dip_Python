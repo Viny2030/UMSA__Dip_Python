{
  "cells": [
    {
      "cell_type": "markdown",
      "id": "cbeee328-f828-46ad-87a8-303ec7ebbb02",
      "metadata": {
        "id": "cbeee328-f828-46ad-87a8-303ec7ebbb02"
      },
      "source": [
        " # **<font color=\"DarkBlue\">Aplicando Plotly en Funciones y Álgebra para Análisis de Datos</font>**\n"
      ]
    },
    {
      "cell_type": "markdown",
      "source": [
        "<p align=\"center\">\n",
        "<img src=\"https://plotly.com/all_static/images/graphing_library_dark.svg\" width=\"350\" height=\"\">\n",
        "</p>\n"
      ],
      "metadata": {
        "id": "-wJ4cuiET8BY"
      },
      "id": "-wJ4cuiET8BY"
    },
    {
      "cell_type": "markdown",
      "source": [
        "https://plotly.com/python/"
      ],
      "metadata": {
        "id": "JiTcdP7CLzHQ"
      },
      "id": "JiTcdP7CLzHQ"
    },
    {
      "cell_type": "markdown",
      "id": "333ac904-56fb-4c47-a590-1189af9c7ad6",
      "metadata": {
        "id": "333ac904-56fb-4c47-a590-1189af9c7ad6"
      },
      "source": [
        "## **<font color=\"DarkBlue\">Funciones y álgebra...**"
      ]
    },
    {
      "cell_type": "markdown",
      "source": [
        "<p align=\"justify\">\n",
        "Una función es un proceso matemático que establece una relación específica entre un conjunto de entradas y sus correspondientes salidas. Puede recibir un número y producir otro número, o, en otros casos, puede aceptar una matriz o un vector de números y devolver una única salida, así como múltiples salidas.\n",
        "<br><br>\n",
        " Las funciones son fundamentales en matemáticas y tienen aplicaciones extensas en diversas disciplinas científicas, incluyendo la física, la economía y la programación.\n",
        " <br><br>\n",
        " Además de las funciones, también exploraremos el álgebra, una de las ramas más fundamentales de las matemáticas. Aunque el término abarca generalmente el análisis y la manipulación de diversos objetos matemáticos, en este contexto nos centraremos en las ecuaciones algebraicas y los sistemas de ecuaciones. Esta perspectiva nos permitirá estudiar el papel crucial que el álgebra desempeña en el campo de las matemáticas...\n",
        "\n",
        "\n",
        "\n"
      ],
      "metadata": {
        "id": "7lypcOW3Txvd"
      },
      "id": "7lypcOW3Txvd"
    },
    {
      "cell_type": "markdown",
      "source": [
        "## **<font color=\"DarkBlue\">Instalando los módulos necesarios**"
      ],
      "metadata": {
        "id": "Iwn5OuP2KO-c"
      },
      "id": "Iwn5OuP2KO-c"
    },
    {
      "cell_type": "code",
      "source": [
        "!pip install sympy"
      ],
      "metadata": {
        "id": "O8uOefw4ojYN",
        "colab": {
          "base_uri": "https://localhost:8080/"
        },
        "outputId": "7e57a349-5498-4946-c7c2-dea4ea6dd021"
      },
      "id": "O8uOefw4ojYN",
      "execution_count": null,
      "outputs": [
        {
          "output_type": "stream",
          "name": "stdout",
          "text": [
            "Requirement already satisfied: sympy in /usr/local/lib/python3.10/dist-packages (1.13.1)\n",
            "Requirement already satisfied: mpmath<1.4,>=1.1.0 in /usr/local/lib/python3.10/dist-packages (from sympy) (1.3.0)\n"
          ]
        }
      ]
    },
    {
      "cell_type": "markdown",
      "source": [
        "## **<font color=\"DarkBlue\">Habilitando los módulos necesarios**"
      ],
      "metadata": {
        "id": "Fq2ZE0g8JsvC"
      },
      "id": "Fq2ZE0g8JsvC"
    },
    {
      "cell_type": "markdown",
      "source": [
        "### **<font color=\"DarkBlue\">Para análisis matemático**"
      ],
      "metadata": {
        "id": "5s5_i9AiJxt9"
      },
      "id": "5s5_i9AiJxt9"
    },
    {
      "cell_type": "code",
      "source": [
        "import numpy as np"
      ],
      "metadata": {
        "id": "vTMnUwWAJCZt"
      },
      "id": "vTMnUwWAJCZt",
      "execution_count": null,
      "outputs": []
    },
    {
      "cell_type": "code",
      "source": [
        "from sympy import Symbol\n",
        "from sympy.solvers import solve"
      ],
      "metadata": {
        "id": "P7b3Dd8uo1sV"
      },
      "id": "P7b3Dd8uo1sV",
      "execution_count": null,
      "outputs": []
    },
    {
      "cell_type": "markdown",
      "source": [
        "### **<font color=\"DarkBlue\">Para gráficar**"
      ],
      "metadata": {
        "id": "VckKeKRSKEHM"
      },
      "id": "VckKeKRSKEHM"
    },
    {
      "cell_type": "code",
      "source": [
        "import plotly.express as px"
      ],
      "metadata": {
        "id": "qglkvG6aKKbM"
      },
      "id": "qglkvG6aKKbM",
      "execution_count": null,
      "outputs": []
    },
    {
      "cell_type": "code",
      "source": [
        "import plotly.io as pio\n",
        "pio.templates.default = \"gridon\""
      ],
      "metadata": {
        "id": "jZt9gY84A5qJ"
      },
      "id": "jZt9gY84A5qJ",
      "execution_count": null,
      "outputs": []
    },
    {
      "cell_type": "markdown",
      "source": [
        "# **<font color=\"DarkBlue\">Funciones**"
      ],
      "metadata": {
        "id": "DPu6_fvzURc7"
      },
      "id": "DPu6_fvzURc7"
    },
    {
      "cell_type": "markdown",
      "source": [
        "<p align=\"justify\">Cuando una función recibe una entrada y posteriormente produce una salida, también se puede utilizar el concepto de relación, que enfatiza la relación entre el conjunto de entradas posibles y la de posibles salidas que establece la propia función.</p><br>\n",
        "\n",
        "<p align=\"justify\">Una función se denota típicamente por la letra <i>f</i> minúscula con paréntesis, que rodean una entrada que <i>f</i> toma. Este símbolo, <i>f(x)</i>, también denota la salida que <i>f</i> produce al tomar <i>x</i> como entrada. Por ejemplo, digamos la función <i>f</i> que produce el cuadrado de su entrada; <i>f</i> se puede denotar como <i>f(x) = x<sup>2</sup></i>.</p><br>\n",
        "\n",
        "<p align=\"justify\">Vemos que la sintaxis para declarar una función en Python también sigue esta convención. Por ejemplo, para declarar la misma función en Python, el código tendría el siguiente aspecto:</p>\n"
      ],
      "metadata": {
        "id": "e0p7kGwDUZ-U"
      },
      "id": "e0p7kGwDUZ-U"
    },
    {
      "cell_type": "code",
      "source": [
        "def f(x):\n",
        "    return x^2"
      ],
      "metadata": {
        "id": "5x2BxcqLUYX9"
      },
      "id": "5x2BxcqLUYX9",
      "execution_count": null,
      "outputs": []
    },
    {
      "cell_type": "markdown",
      "source": [
        "<p align=\"justify\">Y cuando nos gustaría obtener el valor de <i>f</i> con un número como entrada, simplemente decimos que llamamos a <i>f</i> en la entrada. Por ejemplo:\n"
      ],
      "metadata": {
        "id": "vbFUOD_eVcLF"
      },
      "id": "vbFUOD_eVcLF"
    },
    {
      "cell_type": "code",
      "source": [
        "f(2)"
      ],
      "metadata": {
        "id": "dDcEtt0-VjMV",
        "colab": {
          "base_uri": "https://localhost:8080/"
        },
        "outputId": "a5fc0eb9-b7ce-45be-af88-4059d6bf87d1"
      },
      "id": "dDcEtt0-VjMV",
      "execution_count": null,
      "outputs": [
        {
          "output_type": "execute_result",
          "data": {
            "text/plain": [
              "0"
            ]
          },
          "metadata": {},
          "execution_count": 7
        }
      ]
    },
    {
      "cell_type": "code",
      "source": [
        "f(-4)"
      ],
      "metadata": {
        "id": "bwcOn0nIWTZb",
        "colab": {
          "base_uri": "https://localhost:8080/"
        },
        "outputId": "6095b8e7-a766-4cf9-e2ab-55aa832ac9b3"
      },
      "id": "bwcOn0nIWTZb",
      "execution_count": null,
      "outputs": [
        {
          "output_type": "execute_result",
          "data": {
            "text/plain": [
              "-2"
            ]
          },
          "metadata": {},
          "execution_count": 8
        }
      ]
    },
    {
      "cell_type": "markdown",
      "source": [
        "<p align=\"justify\">Una de las características más importantes de una función es que ninguna entrada puede estar asociada a diferentes salidas. Una vez que una entrada <i>x</i> se ha vinculado a una salida correspondiente <i>f(x)</i>, esta salida es determinista y no puede tener más de un valor posible. Sin embargo, es completamente factible que múltiples entradas puedan corresponder a la misma salida. En otras palabras, varios valores de <i>x</i> pueden resultar en que <i>f(x)</i> tenga un valor común.</p><br>\n",
        "\n",
        "<p align=\"justify\">Además, es posible que una función no necesite recibir ninguna entrada, ni tampoco es obligatorio que produzca una salida. Por ejemplo, en programación, una función cuya tarea es leer y devolver los datos de un archivo específico no requiere recibir una entrada. Otro caso podría ser una función que actualiza el valor de una variable global, donde no es necesario devolver ningún resultado. A pesar de esto, estas funciones se consideran parte de un subconjunto específico de funciones generales, por lo que nuestras discusiones continuarán enfocándose en funciones que tienen entradas y salidas.</p>\n"
      ],
      "metadata": {
        "id": "cmLu29TgWs23"
      },
      "id": "cmLu29TgWs23"
    },
    {
      "cell_type": "markdown",
      "source": [
        "## **<font color=\"DarkBlue\">Funciones comunes**"
      ],
      "metadata": {
        "id": "ncNDx7zBXBe9"
      },
      "id": "ncNDx7zBXBe9"
    },
    {
      "cell_type": "markdown",
      "source": [
        "Estas son las funciones:\n",
        "\n",
        "+ Constantes,\n",
        "+ Lineales,\n",
        "+ Polinómicas,\n",
        "+ Logarítmicas y\n",
        "+ Exponenciales"
      ],
      "metadata": {
        "id": "MYvBMy7sXS6c"
      },
      "id": "MYvBMy7sXS6c"
    },
    {
      "cell_type": "markdown",
      "source": [
        "### **<font color=\"DarkBlue\">Constante**"
      ],
      "metadata": {
        "id": "LypX1hN4Ybgd"
      },
      "id": "LypX1hN4Ybgd"
    },
    {
      "cell_type": "markdown",
      "source": [
        "$$f(x)=c$$\n",
        "\n",
        "+ siendo $c$ una constante"
      ],
      "metadata": {
        "id": "s7ekeFoBYlqo"
      },
      "id": "s7ekeFoBYlqo"
    },
    {
      "cell_type": "markdown",
      "source": [
        "### **<font color=\"DarkBlue\">Lineales**"
      ],
      "metadata": {
        "id": "Ifce5NGuYvXD"
      },
      "id": "Ifce5NGuYvXD"
    },
    {
      "cell_type": "markdown",
      "source": [
        "$$f(x)=mx + c$$\n",
        "\n",
        "+ siendo $m$ y $c$ constantes."
      ],
      "metadata": {
        "id": "51wVpPtMY7VH"
      },
      "id": "51wVpPtMY7VH"
    },
    {
      "cell_type": "markdown",
      "source": [
        "### **<font color=\"DarkBlue\">Polinómicas**"
      ],
      "metadata": {
        "id": "tPZm_SETZOUL"
      },
      "id": "tPZm_SETZOUL"
    },
    {
      "cell_type": "markdown",
      "source": [
        "$$f(x)=a_{0}+a_{1}x+a_{2}x^{2}+\\dots+a_{n}x^{n}$$\n",
        "\n",
        "+ siendo $\\alpha_{i}$ una constante, y\n",
        "+ $n$ los grados del polinomio."
      ],
      "metadata": {
        "id": "lO6PworbZSzm"
      },
      "id": "lO6PworbZSzm"
    },
    {
      "cell_type": "markdown",
      "source": [
        "### **<font color=\"DarkBlue\">Logaritmica**"
      ],
      "metadata": {
        "id": "AkptDS4lax9d"
      },
      "id": "AkptDS4lax9d"
    },
    {
      "cell_type": "markdown",
      "source": [
        "$$f(x)=c \\log_{a}x $$\n",
        "\n",
        "+ siendo la función logaritmica base $a$, y\n",
        "+ $a$ y $c$ constantes."
      ],
      "metadata": {
        "id": "F-_j5cxta6Gz"
      },
      "id": "F-_j5cxta6Gz"
    },
    {
      "cell_type": "markdown",
      "source": [
        "### **<font color=\"DarkBlue\">Exponenciales**"
      ],
      "metadata": {
        "id": "bAtsz-2mcOWP"
      },
      "id": "bAtsz-2mcOWP"
    },
    {
      "cell_type": "markdown",
      "source": [
        "$$f(x)=ab^{x} $$\n",
        "\n",
        "+ siendo $a$ y $b$ constantes."
      ],
      "metadata": {
        "id": "otaqMuHLcRP8"
      },
      "id": "otaqMuHLcRP8"
    },
    {
      "cell_type": "markdown",
      "source": [
        "## **<font color=\"DarkBlue\">Dominio y rango de las funciones**"
      ],
      "metadata": {
        "id": "YHHyun0662rU"
      },
      "id": "YHHyun0662rU"
    },
    {
      "cell_type": "markdown",
      "source": [
        "<p align=\"justify\">El dominio de una función denota el conjunto de todas las entradas posibles que la función puede recibir, mientras que el rango especifica el conjunto de todas las salidas posibles.</p><br>\n",
        "\n",
        "<p align=\"justify\">En la mayoría de los casos, el dominio y el rango de una función se pueden identificar considerando su expresión. Por ejemplo, una función lineal, <i>f(x) = mx + c</i>, acepta cualquier valor real de <i>x</i> para producir un valor real <i>mx + c</i>; por lo tanto, tanto su dominio como su rango son el conjunto de números reales <i>&#x211D;</i>. En contraste, la función cuadrática <i>f(x) = x<sup>2</sup></i> solo genera salidas no negativas, lo que significa que su rango es el conjunto de números reales no negativos.</p><br>\n",
        "\n",
        "<p align=\"justify\">El dominio y el rango de una función también se pueden examinar a través de su gráfica. Considerando la gráfica de una función con una sola entrada y una sola salida, el dominio corresponde a la proyección de la gráfica sobre el eje <i>x</i>, mientras que el rango se obtiene al proyectar la gráfica sobre el eje <i>y</i>. Por esta razón, podemos afirmar que el dominio de la función logarítmica <i>f(x) = \\log_{(x)}</i>, cuya gráfica se presenta en la tabla de la sección anterior, es el conjunto de números positivos. Por el contrario, el rango de la función exponencial <i>f(x) = e<sup>x</sup></i> también corresponde al conjunto de números positivos.</p><br>\n",
        "\n",
        "<p align=\"justify\">En general, el dominio y el rango de una función dependen de la forma de la función misma y pueden proporcionar información valiosa sobre varios comportamientos de la función. Uno de estos comportamientos, que a menudo es de interés, es la raíz de una función.</p>\n"
      ],
      "metadata": {
        "id": "HyGFSB3j67TD"
      },
      "id": "HyGFSB3j67TD"
    },
    {
      "cell_type": "markdown",
      "source": [
        "## **<font color=\"DarkBlue\">Raíces de funciones y ecuaciones**"
      ],
      "metadata": {
        "id": "qUQDGh_Z8v3s"
      },
      "id": "qUQDGh_Z8v3s"
    },
    {
      "cell_type": "markdown",
      "source": [
        "<p align=\"justify\">Una raíz de una función es un valor que pertenece a su dominio y que hace que la salida sea igual a cero. El valor que representa la raíz de una función depende en gran medida de la función misma. Por ejemplo, consideremos las funciones mencionadas: <i>f(x) = mx + c</i> tiene una única raíz en <i>x = \\frac{-c}{m}</i> cuando <i>m</i> es distinto de cero, mientras que <i>f(x) = \\log_{(x)}</i> tiene la raíz única en <i>x = 1</i>.</p><br>\n",
        "\n",
        "<p align=\"justify\">Algunas funciones pueden tener más de una raíz. Por ejemplo, <i>f(x) = x<sup>2</sup> - 3x + 2</i> tiene raíces en <i>x = 1</i> y <i>x = 2</i>, mientras que <i>f(x) = 0</i> (cuya gráfica corresponde al eje <i>x</i>) acepta todos los valores de <i>x</i> como sus raíces.</p><br>\n",
        "\n",
        "<p align=\"justify\">Finalmente, si el rango de una función no incluye <i>0</i>, entonces la función no tiene ninguna raíz. Ejemplos de esto incluyen:</p>\n",
        "<ul>\n",
        "    <li><i>f(x) = e<sup>x</sup></i></li>\n",
        "    <li><i>f(x) = x<sup>2</sup> + 1</i></li>\n",
        "    <li><i>f(x) = 3</i></li>\n",
        "</ul>\n"
      ],
      "metadata": {
        "id": "h9h_IMqT8zxi"
      },
      "id": "h9h_IMqT8zxi"
    },
    {
      "cell_type": "markdown",
      "source": [
        "<p align=\"justify\">El proceso de encontrar todas las raíces de una función <i>f(x)</i> es equivalente a resolver la ecuación <i>f(x) = 0</i>. El término \"ecuación\" aquí denota que tenemos dos cantidades separadas, <i>f(x)</i> y <i>0</i>, que son iguales entre sí en la expresión matemática.</p><br>\n",
        "\n",
        "<p align=\"justify\">Resolver ecuaciones es posiblemente una de las tareas más centrales en matemáticas, y existen múltiples técnicas para hacerlo que se aplican a tipos de ecuaciones específicas.</p>\n"
      ],
      "metadata": {
        "id": "xeJ7osk8-WCt"
      },
      "id": "xeJ7osk8-WCt"
    },
    {
      "cell_type": "markdown",
      "source": [
        "## **<font color=\"DarkBlue\">La trama de una función**"
      ],
      "metadata": {
        "id": "BmVBROZ5-ygC"
      },
      "id": "BmVBROZ5-ygC"
    },
    {
      "cell_type": "markdown",
      "source": [
        "<p align=\"justify\">La gráfica de una función es una representación visual del comportamiento de la salida en relación con la entrada de la función. Específicamente, con un gráfico de funciones, nuestro objetivo es examinar cómo cambia la salida en todo el rango de funciones a medida que varía la entrada en todo su dominio.</p><br>\n",
        "\n",
        "<p align=\"justify\">En el contexto de la programación, la gráfica de una función se puede producir conectando los puntos de dispersión correspondientes a los valores individuales de una función sobre un conjunto de valores espaciados uniformemente en el eje <i>x</i>. Por ejemplo, supongamos que nos gustaría visualizar la gráfica de la función <i>f(x) = x + 1</i>.</p>\n"
      ],
      "metadata": {
        "id": "RkWAYpbL-10h"
      },
      "id": "RkWAYpbL-10h"
    },
    {
      "cell_type": "code",
      "source": [
        "x = np.linspace(0, 10, 11, dtype=int)\n",
        "x"
      ],
      "metadata": {
        "id": "L_WtUkT__Re_",
        "colab": {
          "base_uri": "https://localhost:8080/"
        },
        "outputId": "b1e87488-55cb-44c7-ad02-473a5dd0561c"
      },
      "id": "L_WtUkT__Re_",
      "execution_count": null,
      "outputs": [
        {
          "output_type": "execute_result",
          "data": {
            "text/plain": [
              "array([ 0,  1,  2,  3,  4,  5,  6,  7,  8,  9, 10])"
            ]
          },
          "metadata": {},
          "execution_count": 9
        }
      ]
    },
    {
      "cell_type": "markdown",
      "source": [
        "Graficando $x$"
      ],
      "metadata": {
        "id": "CPqBWcVdANt1"
      },
      "id": "CPqBWcVdANt1"
    },
    {
      "cell_type": "code",
      "source": [
        "px.line(y=x+1, title=\"f(x)=x+1\", markers=True, labels={\"y\":\"f(x)\"})"
      ],
      "metadata": {
        "id": "ByFv0O8eADem",
        "colab": {
          "base_uri": "https://localhost:8080/",
          "height": 542
        },
        "outputId": "ba8db861-2919-48ed-a31c-c29c307b75ad"
      },
      "id": "ByFv0O8eADem",
      "execution_count": null,
      "outputs": [
        {
          "output_type": "display_data",
          "data": {
            "text/html": [
              "<html>\n",
              "<head><meta charset=\"utf-8\" /></head>\n",
              "<body>\n",
              "    <div>            <script src=\"https://cdnjs.cloudflare.com/ajax/libs/mathjax/2.7.5/MathJax.js?config=TeX-AMS-MML_SVG\"></script><script type=\"text/javascript\">if (window.MathJax && window.MathJax.Hub && window.MathJax.Hub.Config) {window.MathJax.Hub.Config({SVG: {font: \"STIX-Web\"}});}</script>                <script type=\"text/javascript\">window.PlotlyConfig = {MathJaxConfig: 'local'};</script>\n",
              "        <script charset=\"utf-8\" src=\"https://cdn.plot.ly/plotly-2.35.2.min.js\"></script>                <div id=\"dfb58855-b937-4201-8b69-20fe3db92d6e\" class=\"plotly-graph-div\" style=\"height:525px; width:100%;\"></div>            <script type=\"text/javascript\">                                    window.PLOTLYENV=window.PLOTLYENV || {};                                    if (document.getElementById(\"dfb58855-b937-4201-8b69-20fe3db92d6e\")) {                    Plotly.newPlot(                        \"dfb58855-b937-4201-8b69-20fe3db92d6e\",                        [{\"hovertemplate\":\"x=%{x}\\u003cbr\\u003ef(x)=%{y}\\u003cextra\\u003e\\u003c\\u002fextra\\u003e\",\"legendgroup\":\"\",\"line\":{\"color\":\"#1F77B4\",\"dash\":\"solid\"},\"marker\":{\"symbol\":\"circle\"},\"mode\":\"lines+markers\",\"name\":\"\",\"orientation\":\"v\",\"showlegend\":false,\"x\":[0,1,2,3,4,5,6,7,8,9,10],\"xaxis\":\"x\",\"y\":[1,2,3,4,5,6,7,8,9,10,11],\"yaxis\":\"y\",\"type\":\"scatter\"}],                        {\"template\":{\"data\":{\"pie\":[{\"automargin\":true,\"type\":\"pie\"}]},\"layout\":{\"xaxis\":{\"showgrid\":true,\"title\":{\"standoff\":15}},\"yaxis\":{\"showgrid\":true,\"title\":{\"standoff\":15}}}},\"xaxis\":{\"anchor\":\"y\",\"domain\":[0.0,1.0],\"title\":{\"text\":\"x\"}},\"yaxis\":{\"anchor\":\"x\",\"domain\":[0.0,1.0],\"title\":{\"text\":\"f(x)\"}},\"legend\":{\"tracegroupgap\":0},\"title\":{\"text\":\"f(x)=x+1\"}},                        {\"responsive\": true}                    ).then(function(){\n",
              "                            \n",
              "var gd = document.getElementById('dfb58855-b937-4201-8b69-20fe3db92d6e');\n",
              "var x = new MutationObserver(function (mutations, observer) {{\n",
              "        var display = window.getComputedStyle(gd).display;\n",
              "        if (!display || display === 'none') {{\n",
              "            console.log([gd, 'removed!']);\n",
              "            Plotly.purge(gd);\n",
              "            observer.disconnect();\n",
              "        }}\n",
              "}});\n",
              "\n",
              "// Listen for the removal of the full notebook cells\n",
              "var notebookContainer = gd.closest('#notebook-container');\n",
              "if (notebookContainer) {{\n",
              "    x.observe(notebookContainer, {childList: true});\n",
              "}}\n",
              "\n",
              "// Listen for the clearing of the current output cell\n",
              "var outputEl = gd.closest('.output');\n",
              "if (outputEl) {{\n",
              "    x.observe(outputEl, {childList: true});\n",
              "}}\n",
              "\n",
              "                        })                };                            </script>        </div>\n",
              "</body>\n",
              "</html>"
            ]
          },
          "metadata": {}
        }
      ]
    },
    {
      "cell_type": "markdown",
      "source": [
        "<p align=\"justify\">La gráfica de una función es una visualización directa de su expresión y contiene toda la información que necesitamos saber sobre esa función. En particular, ya hemos argumentado que una gráfica de funciones puede ayudarnos a identificar el dominio y el rango de la función. Además, dado un gráfico, incluso podemos determinar si ese gráfico representa una función válida.</p><br>\n",
        "\n",
        "<p align=\"justify\">Dado un grafo en un plano bidimensional, si, para cada línea vertical (cada línea que es paralela al eje <i>y</i>), el grafo tiene más de una intersección, entonces no es la gráfica de una función válida. Este es un corolario directo del requisito de una función que mencionamos anteriormente: una sola entrada no se puede asignar a más de una salida. Si un gráfico tuviera al menos dos intersecciones con una línea vertical, eso significaría que un punto en el eje <i>x</i> podría asignarse a al menos dos puntos en el eje <i>y</i>, lo que necesariamente significaría que esto no es una gráfica de una función.</p>\n"
      ],
      "metadata": {
        "id": "jtqcuiv4BCd4"
      },
      "id": "jtqcuiv4BCd4"
    },
    {
      "cell_type": "code",
      "source": [
        "y = np.linspace(10, 10, 11, dtype=int)\n",
        "y"
      ],
      "metadata": {
        "id": "OVtv214oC7JL",
        "colab": {
          "base_uri": "https://localhost:8080/"
        },
        "outputId": "0b40a9f2-25ed-4297-ffa9-f03a85d47c04"
      },
      "id": "OVtv214oC7JL",
      "execution_count": null,
      "outputs": [
        {
          "output_type": "execute_result",
          "data": {
            "text/plain": [
              "array([10, 10, 10, 10, 10, 10, 10, 10, 10, 10, 10])"
            ]
          },
          "metadata": {},
          "execution_count": 11
        }
      ]
    },
    {
      "cell_type": "code",
      "source": [
        "px.line(y=y, title=\"Función constante   f(x)=10\", markers=True, labels={\"y\":\"f(x)\"})"
      ],
      "metadata": {
        "id": "BeYphOHrC-Ee",
        "colab": {
          "base_uri": "https://localhost:8080/",
          "height": 542
        },
        "outputId": "6b991694-487b-463e-a1bf-a16b978cf3fe"
      },
      "id": "BeYphOHrC-Ee",
      "execution_count": null,
      "outputs": [
        {
          "output_type": "display_data",
          "data": {
            "text/html": [
              "<html>\n",
              "<head><meta charset=\"utf-8\" /></head>\n",
              "<body>\n",
              "    <div>            <script src=\"https://cdnjs.cloudflare.com/ajax/libs/mathjax/2.7.5/MathJax.js?config=TeX-AMS-MML_SVG\"></script><script type=\"text/javascript\">if (window.MathJax && window.MathJax.Hub && window.MathJax.Hub.Config) {window.MathJax.Hub.Config({SVG: {font: \"STIX-Web\"}});}</script>                <script type=\"text/javascript\">window.PlotlyConfig = {MathJaxConfig: 'local'};</script>\n",
              "        <script charset=\"utf-8\" src=\"https://cdn.plot.ly/plotly-2.35.2.min.js\"></script>                <div id=\"274153f3-3b00-4e72-b7c7-dd9c4b5e999a\" class=\"plotly-graph-div\" style=\"height:525px; width:100%;\"></div>            <script type=\"text/javascript\">                                    window.PLOTLYENV=window.PLOTLYENV || {};                                    if (document.getElementById(\"274153f3-3b00-4e72-b7c7-dd9c4b5e999a\")) {                    Plotly.newPlot(                        \"274153f3-3b00-4e72-b7c7-dd9c4b5e999a\",                        [{\"hovertemplate\":\"x=%{x}\\u003cbr\\u003ef(x)=%{y}\\u003cextra\\u003e\\u003c\\u002fextra\\u003e\",\"legendgroup\":\"\",\"line\":{\"color\":\"#1F77B4\",\"dash\":\"solid\"},\"marker\":{\"symbol\":\"circle\"},\"mode\":\"lines+markers\",\"name\":\"\",\"orientation\":\"v\",\"showlegend\":false,\"x\":[0,1,2,3,4,5,6,7,8,9,10],\"xaxis\":\"x\",\"y\":[10,10,10,10,10,10,10,10,10,10,10],\"yaxis\":\"y\",\"type\":\"scatter\"}],                        {\"template\":{\"data\":{\"pie\":[{\"automargin\":true,\"type\":\"pie\"}]},\"layout\":{\"xaxis\":{\"showgrid\":true,\"title\":{\"standoff\":15}},\"yaxis\":{\"showgrid\":true,\"title\":{\"standoff\":15}}}},\"xaxis\":{\"anchor\":\"y\",\"domain\":[0.0,1.0],\"title\":{\"text\":\"x\"}},\"yaxis\":{\"anchor\":\"x\",\"domain\":[0.0,1.0],\"title\":{\"text\":\"f(x)\"}},\"legend\":{\"tracegroupgap\":0},\"title\":{\"text\":\"Función constante   f(x)=10\"}},                        {\"responsive\": true}                    ).then(function(){\n",
              "                            \n",
              "var gd = document.getElementById('274153f3-3b00-4e72-b7c7-dd9c4b5e999a');\n",
              "var x = new MutationObserver(function (mutations, observer) {{\n",
              "        var display = window.getComputedStyle(gd).display;\n",
              "        if (!display || display === 'none') {{\n",
              "            console.log([gd, 'removed!']);\n",
              "            Plotly.purge(gd);\n",
              "            observer.disconnect();\n",
              "        }}\n",
              "}});\n",
              "\n",
              "// Listen for the removal of the full notebook cells\n",
              "var notebookContainer = gd.closest('#notebook-container');\n",
              "if (notebookContainer) {{\n",
              "    x.observe(notebookContainer, {childList: true});\n",
              "}}\n",
              "\n",
              "// Listen for the clearing of the current output cell\n",
              "var outputEl = gd.closest('.output');\n",
              "if (outputEl) {{\n",
              "    x.observe(outputEl, {childList: true});\n",
              "}}\n",
              "\n",
              "                        })                };                            </script>        </div>\n",
              "</body>\n",
              "</html>"
            ]
          },
          "metadata": {}
        }
      ]
    },
    {
      "cell_type": "markdown",
      "source": [
        "## **<font color=\"DarkBlue\">Gráfica de funciones**"
      ],
      "metadata": {
        "id": "5jEcVJb2EFAR"
      },
      "id": "5jEcVJb2EFAR"
    },
    {
      "cell_type": "code",
      "source": [
        "x = np.linspace(-5, 5, 11, dtype=int)\n",
        "x"
      ],
      "metadata": {
        "id": "JINIFz-xEJRz",
        "colab": {
          "base_uri": "https://localhost:8080/"
        },
        "outputId": "2b88be00-ffa9-4535-b026-151a674366cb"
      },
      "id": "JINIFz-xEJRz",
      "execution_count": null,
      "outputs": [
        {
          "output_type": "execute_result",
          "data": {
            "text/plain": [
              "array([-5, -4, -3, -2, -1,  0,  1,  2,  3,  4,  5])"
            ]
          },
          "metadata": {},
          "execution_count": 13
        }
      ]
    },
    {
      "cell_type": "code",
      "source": [
        "px.line(y=x**2, title=\"Función cuadrática\", markers=True, labels={\"y\":\"f(x)\"})"
      ],
      "metadata": {
        "id": "C4UJptZjY-hZ",
        "colab": {
          "base_uri": "https://localhost:8080/",
          "height": 542
        },
        "outputId": "babcf950-42a1-4f1f-b718-47ba5d70988b"
      },
      "id": "C4UJptZjY-hZ",
      "execution_count": null,
      "outputs": [
        {
          "output_type": "display_data",
          "data": {
            "text/html": [
              "<html>\n",
              "<head><meta charset=\"utf-8\" /></head>\n",
              "<body>\n",
              "    <div>            <script src=\"https://cdnjs.cloudflare.com/ajax/libs/mathjax/2.7.5/MathJax.js?config=TeX-AMS-MML_SVG\"></script><script type=\"text/javascript\">if (window.MathJax && window.MathJax.Hub && window.MathJax.Hub.Config) {window.MathJax.Hub.Config({SVG: {font: \"STIX-Web\"}});}</script>                <script type=\"text/javascript\">window.PlotlyConfig = {MathJaxConfig: 'local'};</script>\n",
              "        <script charset=\"utf-8\" src=\"https://cdn.plot.ly/plotly-2.35.2.min.js\"></script>                <div id=\"cb0b11be-1828-47c7-a70f-eeffe21b7f6e\" class=\"plotly-graph-div\" style=\"height:525px; width:100%;\"></div>            <script type=\"text/javascript\">                                    window.PLOTLYENV=window.PLOTLYENV || {};                                    if (document.getElementById(\"cb0b11be-1828-47c7-a70f-eeffe21b7f6e\")) {                    Plotly.newPlot(                        \"cb0b11be-1828-47c7-a70f-eeffe21b7f6e\",                        [{\"hovertemplate\":\"x=%{x}\\u003cbr\\u003ef(x)=%{y}\\u003cextra\\u003e\\u003c\\u002fextra\\u003e\",\"legendgroup\":\"\",\"line\":{\"color\":\"#1F77B4\",\"dash\":\"solid\"},\"marker\":{\"symbol\":\"circle\"},\"mode\":\"lines+markers\",\"name\":\"\",\"orientation\":\"v\",\"showlegend\":false,\"x\":[0,1,2,3,4,5,6,7,8,9,10],\"xaxis\":\"x\",\"y\":[25,16,9,4,1,0,1,4,9,16,25],\"yaxis\":\"y\",\"type\":\"scatter\"}],                        {\"template\":{\"data\":{\"pie\":[{\"automargin\":true,\"type\":\"pie\"}]},\"layout\":{\"xaxis\":{\"showgrid\":true,\"title\":{\"standoff\":15}},\"yaxis\":{\"showgrid\":true,\"title\":{\"standoff\":15}}}},\"xaxis\":{\"anchor\":\"y\",\"domain\":[0.0,1.0],\"title\":{\"text\":\"x\"}},\"yaxis\":{\"anchor\":\"x\",\"domain\":[0.0,1.0],\"title\":{\"text\":\"f(x)\"}},\"legend\":{\"tracegroupgap\":0},\"title\":{\"text\":\"Función cuadrática\"}},                        {\"responsive\": true}                    ).then(function(){\n",
              "                            \n",
              "var gd = document.getElementById('cb0b11be-1828-47c7-a70f-eeffe21b7f6e');\n",
              "var x = new MutationObserver(function (mutations, observer) {{\n",
              "        var display = window.getComputedStyle(gd).display;\n",
              "        if (!display || display === 'none') {{\n",
              "            console.log([gd, 'removed!']);\n",
              "            Plotly.purge(gd);\n",
              "            observer.disconnect();\n",
              "        }}\n",
              "}});\n",
              "\n",
              "// Listen for the removal of the full notebook cells\n",
              "var notebookContainer = gd.closest('#notebook-container');\n",
              "if (notebookContainer) {{\n",
              "    x.observe(notebookContainer, {childList: true});\n",
              "}}\n",
              "\n",
              "// Listen for the clearing of the current output cell\n",
              "var outputEl = gd.closest('.output');\n",
              "if (outputEl) {{\n",
              "    x.observe(outputEl, {childList: true});\n",
              "}}\n",
              "\n",
              "                        })                };                            </script>        </div>\n",
              "</body>\n",
              "</html>"
            ]
          },
          "metadata": {}
        }
      ]
    },
    {
      "cell_type": "code",
      "source": [
        "px.line(y=x**2+5, title=\"Función cuadrática\", markers=True, labels={\"y\":\"f(x)\"})"
      ],
      "metadata": {
        "id": "ObAH0s1dbC5p",
        "colab": {
          "base_uri": "https://localhost:8080/",
          "height": 542
        },
        "outputId": "8cdff609-a3d5-4dcf-f140-000cb1657eba"
      },
      "id": "ObAH0s1dbC5p",
      "execution_count": null,
      "outputs": [
        {
          "output_type": "display_data",
          "data": {
            "text/html": [
              "<html>\n",
              "<head><meta charset=\"utf-8\" /></head>\n",
              "<body>\n",
              "    <div>            <script src=\"https://cdnjs.cloudflare.com/ajax/libs/mathjax/2.7.5/MathJax.js?config=TeX-AMS-MML_SVG\"></script><script type=\"text/javascript\">if (window.MathJax && window.MathJax.Hub && window.MathJax.Hub.Config) {window.MathJax.Hub.Config({SVG: {font: \"STIX-Web\"}});}</script>                <script type=\"text/javascript\">window.PlotlyConfig = {MathJaxConfig: 'local'};</script>\n",
              "        <script charset=\"utf-8\" src=\"https://cdn.plot.ly/plotly-2.35.2.min.js\"></script>                <div id=\"2cdda1cb-4c16-4ce3-8b94-da18f676b9a7\" class=\"plotly-graph-div\" style=\"height:525px; width:100%;\"></div>            <script type=\"text/javascript\">                                    window.PLOTLYENV=window.PLOTLYENV || {};                                    if (document.getElementById(\"2cdda1cb-4c16-4ce3-8b94-da18f676b9a7\")) {                    Plotly.newPlot(                        \"2cdda1cb-4c16-4ce3-8b94-da18f676b9a7\",                        [{\"hovertemplate\":\"x=%{x}\\u003cbr\\u003ef(x)=%{y}\\u003cextra\\u003e\\u003c\\u002fextra\\u003e\",\"legendgroup\":\"\",\"line\":{\"color\":\"#1F77B4\",\"dash\":\"solid\"},\"marker\":{\"symbol\":\"circle\"},\"mode\":\"lines+markers\",\"name\":\"\",\"orientation\":\"v\",\"showlegend\":false,\"x\":[0,1,2,3,4,5,6,7,8,9,10],\"xaxis\":\"x\",\"y\":[30,21,14,9,6,5,6,9,14,21,30],\"yaxis\":\"y\",\"type\":\"scatter\"}],                        {\"template\":{\"data\":{\"pie\":[{\"automargin\":true,\"type\":\"pie\"}]},\"layout\":{\"xaxis\":{\"showgrid\":true,\"title\":{\"standoff\":15}},\"yaxis\":{\"showgrid\":true,\"title\":{\"standoff\":15}}}},\"xaxis\":{\"anchor\":\"y\",\"domain\":[0.0,1.0],\"title\":{\"text\":\"x\"}},\"yaxis\":{\"anchor\":\"x\",\"domain\":[0.0,1.0],\"title\":{\"text\":\"f(x)\"}},\"legend\":{\"tracegroupgap\":0},\"title\":{\"text\":\"Función cuadrática\"}},                        {\"responsive\": true}                    ).then(function(){\n",
              "                            \n",
              "var gd = document.getElementById('2cdda1cb-4c16-4ce3-8b94-da18f676b9a7');\n",
              "var x = new MutationObserver(function (mutations, observer) {{\n",
              "        var display = window.getComputedStyle(gd).display;\n",
              "        if (!display || display === 'none') {{\n",
              "            console.log([gd, 'removed!']);\n",
              "            Plotly.purge(gd);\n",
              "            observer.disconnect();\n",
              "        }}\n",
              "}});\n",
              "\n",
              "// Listen for the removal of the full notebook cells\n",
              "var notebookContainer = gd.closest('#notebook-container');\n",
              "if (notebookContainer) {{\n",
              "    x.observe(notebookContainer, {childList: true});\n",
              "}}\n",
              "\n",
              "// Listen for the clearing of the current output cell\n",
              "var outputEl = gd.closest('.output');\n",
              "if (outputEl) {{\n",
              "    x.observe(outputEl, {childList: true});\n",
              "}}\n",
              "\n",
              "                        })                };                            </script>        </div>\n",
              "</body>\n",
              "</html>"
            ]
          },
          "metadata": {}
        }
      ]
    },
    {
      "cell_type": "markdown",
      "source": [
        "### **<font color=\"DarkBlue\">Desplazamiento vertical**"
      ],
      "metadata": {
        "id": "Lz8Samp2xGlA"
      },
      "id": "Lz8Samp2xGlA"
    },
    {
      "cell_type": "code",
      "source": [
        "px.line({\"f(x)=x^2\":x**2, \"f(x)=x^2+5\":x**2+5, \"f(x)=x^2+10\":x**2+10},\n",
        "        title=\"Función cuadrática\",\n",
        "        markers=True,\n",
        "        labels={\"value\":\"f(x)\",\n",
        "                \"index\":\"x\",\n",
        "                \"variable\":\"Función\"})"
      ],
      "metadata": {
        "id": "q-g-wZ41s1QZ",
        "colab": {
          "base_uri": "https://localhost:8080/",
          "height": 542
        },
        "outputId": "0b7c3795-39d9-457b-8a1f-99a7bdb1b864"
      },
      "id": "q-g-wZ41s1QZ",
      "execution_count": null,
      "outputs": [
        {
          "output_type": "display_data",
          "data": {
            "text/html": [
              "<html>\n",
              "<head><meta charset=\"utf-8\" /></head>\n",
              "<body>\n",
              "    <div>            <script src=\"https://cdnjs.cloudflare.com/ajax/libs/mathjax/2.7.5/MathJax.js?config=TeX-AMS-MML_SVG\"></script><script type=\"text/javascript\">if (window.MathJax && window.MathJax.Hub && window.MathJax.Hub.Config) {window.MathJax.Hub.Config({SVG: {font: \"STIX-Web\"}});}</script>                <script type=\"text/javascript\">window.PlotlyConfig = {MathJaxConfig: 'local'};</script>\n",
              "        <script charset=\"utf-8\" src=\"https://cdn.plot.ly/plotly-2.35.2.min.js\"></script>                <div id=\"4ece7f03-2c76-4b04-8bd1-79be19aa438a\" class=\"plotly-graph-div\" style=\"height:525px; width:100%;\"></div>            <script type=\"text/javascript\">                                    window.PLOTLYENV=window.PLOTLYENV || {};                                    if (document.getElementById(\"4ece7f03-2c76-4b04-8bd1-79be19aa438a\")) {                    Plotly.newPlot(                        \"4ece7f03-2c76-4b04-8bd1-79be19aa438a\",                        [{\"hovertemplate\":\"Función=f(x)=x^2\\u003cbr\\u003ex=%{x}\\u003cbr\\u003ef(x)=%{y}\\u003cextra\\u003e\\u003c\\u002fextra\\u003e\",\"legendgroup\":\"f(x)=x^2\",\"line\":{\"color\":\"#1F77B4\",\"dash\":\"solid\"},\"marker\":{\"symbol\":\"circle\"},\"mode\":\"lines+markers\",\"name\":\"f(x)=x^2\",\"orientation\":\"v\",\"showlegend\":true,\"x\":[0,1,2,3,4,5,6,7,8,9,10],\"xaxis\":\"x\",\"y\":[25,16,9,4,1,0,1,4,9,16,25],\"yaxis\":\"y\",\"type\":\"scatter\"},{\"hovertemplate\":\"Función=f(x)=x^2+5\\u003cbr\\u003ex=%{x}\\u003cbr\\u003ef(x)=%{y}\\u003cextra\\u003e\\u003c\\u002fextra\\u003e\",\"legendgroup\":\"f(x)=x^2+5\",\"line\":{\"color\":\"#FF7F0E\",\"dash\":\"solid\"},\"marker\":{\"symbol\":\"circle\"},\"mode\":\"lines+markers\",\"name\":\"f(x)=x^2+5\",\"orientation\":\"v\",\"showlegend\":true,\"x\":[0,1,2,3,4,5,6,7,8,9,10],\"xaxis\":\"x\",\"y\":[30,21,14,9,6,5,6,9,14,21,30],\"yaxis\":\"y\",\"type\":\"scatter\"},{\"hovertemplate\":\"Función=f(x)=x^2+10\\u003cbr\\u003ex=%{x}\\u003cbr\\u003ef(x)=%{y}\\u003cextra\\u003e\\u003c\\u002fextra\\u003e\",\"legendgroup\":\"f(x)=x^2+10\",\"line\":{\"color\":\"#2CA02C\",\"dash\":\"solid\"},\"marker\":{\"symbol\":\"circle\"},\"mode\":\"lines+markers\",\"name\":\"f(x)=x^2+10\",\"orientation\":\"v\",\"showlegend\":true,\"x\":[0,1,2,3,4,5,6,7,8,9,10],\"xaxis\":\"x\",\"y\":[35,26,19,14,11,10,11,14,19,26,35],\"yaxis\":\"y\",\"type\":\"scatter\"}],                        {\"template\":{\"data\":{\"pie\":[{\"automargin\":true,\"type\":\"pie\"}]},\"layout\":{\"xaxis\":{\"showgrid\":true,\"title\":{\"standoff\":15}},\"yaxis\":{\"showgrid\":true,\"title\":{\"standoff\":15}}}},\"xaxis\":{\"anchor\":\"y\",\"domain\":[0.0,1.0],\"title\":{\"text\":\"x\"}},\"yaxis\":{\"anchor\":\"x\",\"domain\":[0.0,1.0],\"title\":{\"text\":\"f(x)\"}},\"legend\":{\"title\":{\"text\":\"Función\"},\"tracegroupgap\":0},\"title\":{\"text\":\"Función cuadrática\"}},                        {\"responsive\": true}                    ).then(function(){\n",
              "                            \n",
              "var gd = document.getElementById('4ece7f03-2c76-4b04-8bd1-79be19aa438a');\n",
              "var x = new MutationObserver(function (mutations, observer) {{\n",
              "        var display = window.getComputedStyle(gd).display;\n",
              "        if (!display || display === 'none') {{\n",
              "            console.log([gd, 'removed!']);\n",
              "            Plotly.purge(gd);\n",
              "            observer.disconnect();\n",
              "        }}\n",
              "}});\n",
              "\n",
              "// Listen for the removal of the full notebook cells\n",
              "var notebookContainer = gd.closest('#notebook-container');\n",
              "if (notebookContainer) {{\n",
              "    x.observe(notebookContainer, {childList: true});\n",
              "}}\n",
              "\n",
              "// Listen for the clearing of the current output cell\n",
              "var outputEl = gd.closest('.output');\n",
              "if (outputEl) {{\n",
              "    x.observe(outputEl, {childList: true});\n",
              "}}\n",
              "\n",
              "                        })                };                            </script>        </div>\n",
              "</body>\n",
              "</html>"
            ]
          },
          "metadata": {}
        }
      ]
    },
    {
      "cell_type": "code",
      "source": [
        "vertical = {\"f(x)=x^2\":x**2,\n",
        "            \"f(x)=x^2+5\":x**2+5,\n",
        "            \"f(x)=x^2+10\":x**2+10,\n",
        "            \"f(x)=x^2+15\":x**2+15,\n",
        "            \"f(x)=x^2+20\":x**2+20}"
      ],
      "metadata": {
        "id": "5adIeqF0vkOA"
      },
      "id": "5adIeqF0vkOA",
      "execution_count": null,
      "outputs": []
    },
    {
      "cell_type": "code",
      "source": [
        "px.line(vertical,\n",
        "        title=\"Función cuadrática\",\n",
        "        markers=True,\n",
        "        labels={\"value\":\"f(x)\",\n",
        "                \"index\":\"x\",\n",
        "                \"variable\":\"Función\"})"
      ],
      "metadata": {
        "id": "IBWXMZZqv4kI",
        "colab": {
          "base_uri": "https://localhost:8080/",
          "height": 542
        },
        "outputId": "d8a9eddc-ef06-4e11-8b65-b270d8504f85"
      },
      "id": "IBWXMZZqv4kI",
      "execution_count": null,
      "outputs": [
        {
          "output_type": "display_data",
          "data": {
            "text/html": [
              "<html>\n",
              "<head><meta charset=\"utf-8\" /></head>\n",
              "<body>\n",
              "    <div>            <script src=\"https://cdnjs.cloudflare.com/ajax/libs/mathjax/2.7.5/MathJax.js?config=TeX-AMS-MML_SVG\"></script><script type=\"text/javascript\">if (window.MathJax && window.MathJax.Hub && window.MathJax.Hub.Config) {window.MathJax.Hub.Config({SVG: {font: \"STIX-Web\"}});}</script>                <script type=\"text/javascript\">window.PlotlyConfig = {MathJaxConfig: 'local'};</script>\n",
              "        <script charset=\"utf-8\" src=\"https://cdn.plot.ly/plotly-2.35.2.min.js\"></script>                <div id=\"3983110a-8d8b-4fb1-bdb2-288fb608e0ad\" class=\"plotly-graph-div\" style=\"height:525px; width:100%;\"></div>            <script type=\"text/javascript\">                                    window.PLOTLYENV=window.PLOTLYENV || {};                                    if (document.getElementById(\"3983110a-8d8b-4fb1-bdb2-288fb608e0ad\")) {                    Plotly.newPlot(                        \"3983110a-8d8b-4fb1-bdb2-288fb608e0ad\",                        [{\"hovertemplate\":\"Función=f(x)=x^2\\u003cbr\\u003ex=%{x}\\u003cbr\\u003ef(x)=%{y}\\u003cextra\\u003e\\u003c\\u002fextra\\u003e\",\"legendgroup\":\"f(x)=x^2\",\"line\":{\"color\":\"#1F77B4\",\"dash\":\"solid\"},\"marker\":{\"symbol\":\"circle\"},\"mode\":\"lines+markers\",\"name\":\"f(x)=x^2\",\"orientation\":\"v\",\"showlegend\":true,\"x\":[0,1,2,3,4,5,6,7,8,9,10],\"xaxis\":\"x\",\"y\":[25,16,9,4,1,0,1,4,9,16,25],\"yaxis\":\"y\",\"type\":\"scatter\"},{\"hovertemplate\":\"Función=f(x)=x^2+5\\u003cbr\\u003ex=%{x}\\u003cbr\\u003ef(x)=%{y}\\u003cextra\\u003e\\u003c\\u002fextra\\u003e\",\"legendgroup\":\"f(x)=x^2+5\",\"line\":{\"color\":\"#FF7F0E\",\"dash\":\"solid\"},\"marker\":{\"symbol\":\"circle\"},\"mode\":\"lines+markers\",\"name\":\"f(x)=x^2+5\",\"orientation\":\"v\",\"showlegend\":true,\"x\":[0,1,2,3,4,5,6,7,8,9,10],\"xaxis\":\"x\",\"y\":[30,21,14,9,6,5,6,9,14,21,30],\"yaxis\":\"y\",\"type\":\"scatter\"},{\"hovertemplate\":\"Función=f(x)=x^2+10\\u003cbr\\u003ex=%{x}\\u003cbr\\u003ef(x)=%{y}\\u003cextra\\u003e\\u003c\\u002fextra\\u003e\",\"legendgroup\":\"f(x)=x^2+10\",\"line\":{\"color\":\"#2CA02C\",\"dash\":\"solid\"},\"marker\":{\"symbol\":\"circle\"},\"mode\":\"lines+markers\",\"name\":\"f(x)=x^2+10\",\"orientation\":\"v\",\"showlegend\":true,\"x\":[0,1,2,3,4,5,6,7,8,9,10],\"xaxis\":\"x\",\"y\":[35,26,19,14,11,10,11,14,19,26,35],\"yaxis\":\"y\",\"type\":\"scatter\"},{\"hovertemplate\":\"Función=f(x)=x^2+15\\u003cbr\\u003ex=%{x}\\u003cbr\\u003ef(x)=%{y}\\u003cextra\\u003e\\u003c\\u002fextra\\u003e\",\"legendgroup\":\"f(x)=x^2+15\",\"line\":{\"color\":\"#D62728\",\"dash\":\"solid\"},\"marker\":{\"symbol\":\"circle\"},\"mode\":\"lines+markers\",\"name\":\"f(x)=x^2+15\",\"orientation\":\"v\",\"showlegend\":true,\"x\":[0,1,2,3,4,5,6,7,8,9,10],\"xaxis\":\"x\",\"y\":[40,31,24,19,16,15,16,19,24,31,40],\"yaxis\":\"y\",\"type\":\"scatter\"},{\"hovertemplate\":\"Función=f(x)=x^2+20\\u003cbr\\u003ex=%{x}\\u003cbr\\u003ef(x)=%{y}\\u003cextra\\u003e\\u003c\\u002fextra\\u003e\",\"legendgroup\":\"f(x)=x^2+20\",\"line\":{\"color\":\"#9467BD\",\"dash\":\"solid\"},\"marker\":{\"symbol\":\"circle\"},\"mode\":\"lines+markers\",\"name\":\"f(x)=x^2+20\",\"orientation\":\"v\",\"showlegend\":true,\"x\":[0,1,2,3,4,5,6,7,8,9,10],\"xaxis\":\"x\",\"y\":[45,36,29,24,21,20,21,24,29,36,45],\"yaxis\":\"y\",\"type\":\"scatter\"}],                        {\"template\":{\"data\":{\"pie\":[{\"automargin\":true,\"type\":\"pie\"}]},\"layout\":{\"xaxis\":{\"showgrid\":true,\"title\":{\"standoff\":15}},\"yaxis\":{\"showgrid\":true,\"title\":{\"standoff\":15}}}},\"xaxis\":{\"anchor\":\"y\",\"domain\":[0.0,1.0],\"title\":{\"text\":\"x\"}},\"yaxis\":{\"anchor\":\"x\",\"domain\":[0.0,1.0],\"title\":{\"text\":\"f(x)\"}},\"legend\":{\"title\":{\"text\":\"Función\"},\"tracegroupgap\":0},\"title\":{\"text\":\"Función cuadrática\"}},                        {\"responsive\": true}                    ).then(function(){\n",
              "                            \n",
              "var gd = document.getElementById('3983110a-8d8b-4fb1-bdb2-288fb608e0ad');\n",
              "var x = new MutationObserver(function (mutations, observer) {{\n",
              "        var display = window.getComputedStyle(gd).display;\n",
              "        if (!display || display === 'none') {{\n",
              "            console.log([gd, 'removed!']);\n",
              "            Plotly.purge(gd);\n",
              "            observer.disconnect();\n",
              "        }}\n",
              "}});\n",
              "\n",
              "// Listen for the removal of the full notebook cells\n",
              "var notebookContainer = gd.closest('#notebook-container');\n",
              "if (notebookContainer) {{\n",
              "    x.observe(notebookContainer, {childList: true});\n",
              "}}\n",
              "\n",
              "// Listen for the clearing of the current output cell\n",
              "var outputEl = gd.closest('.output');\n",
              "if (outputEl) {{\n",
              "    x.observe(outputEl, {childList: true});\n",
              "}}\n",
              "\n",
              "                        })                };                            </script>        </div>\n",
              "</body>\n",
              "</html>"
            ]
          },
          "metadata": {}
        }
      ]
    },
    {
      "cell_type": "markdown",
      "source": [
        "### **<font color=\"DarkBlue\">Desplazamiento horizontal**"
      ],
      "metadata": {
        "id": "ebaIKZGXxTQv"
      },
      "id": "ebaIKZGXxTQv"
    },
    {
      "cell_type": "code",
      "source": [
        "horizontal = {\"f(x)=x^2\":x**2,\n",
        "              \"f(x)=(x-2)^2\":(x-2)**2,\n",
        "              \"f(x)=(x-4)^2\":(x-4)**2}"
      ],
      "metadata": {
        "id": "O7wtZn-DxXvs"
      },
      "id": "O7wtZn-DxXvs",
      "execution_count": null,
      "outputs": []
    },
    {
      "cell_type": "code",
      "source": [
        "px.line(horizontal,\n",
        "        title=\"Función cuadrática\",\n",
        "        markers=True,\n",
        "        labels={\"value\":\"f(x)\",\n",
        "                \"index\":\"x\",\n",
        "                \"variable\":\"Función\"})"
      ],
      "metadata": {
        "id": "EUL3NzmayRHt",
        "colab": {
          "base_uri": "https://localhost:8080/",
          "height": 542
        },
        "outputId": "51cd5e42-a00e-4f27-fd70-57b1b2f9e454"
      },
      "id": "EUL3NzmayRHt",
      "execution_count": null,
      "outputs": [
        {
          "output_type": "display_data",
          "data": {
            "text/html": [
              "<html>\n",
              "<head><meta charset=\"utf-8\" /></head>\n",
              "<body>\n",
              "    <div>            <script src=\"https://cdnjs.cloudflare.com/ajax/libs/mathjax/2.7.5/MathJax.js?config=TeX-AMS-MML_SVG\"></script><script type=\"text/javascript\">if (window.MathJax && window.MathJax.Hub && window.MathJax.Hub.Config) {window.MathJax.Hub.Config({SVG: {font: \"STIX-Web\"}});}</script>                <script type=\"text/javascript\">window.PlotlyConfig = {MathJaxConfig: 'local'};</script>\n",
              "        <script charset=\"utf-8\" src=\"https://cdn.plot.ly/plotly-2.35.2.min.js\"></script>                <div id=\"dc3d212a-cf96-4f7a-89c3-f964495e5516\" class=\"plotly-graph-div\" style=\"height:525px; width:100%;\"></div>            <script type=\"text/javascript\">                                    window.PLOTLYENV=window.PLOTLYENV || {};                                    if (document.getElementById(\"dc3d212a-cf96-4f7a-89c3-f964495e5516\")) {                    Plotly.newPlot(                        \"dc3d212a-cf96-4f7a-89c3-f964495e5516\",                        [{\"hovertemplate\":\"Función=f(x)=x^2\\u003cbr\\u003ex=%{x}\\u003cbr\\u003ef(x)=%{y}\\u003cextra\\u003e\\u003c\\u002fextra\\u003e\",\"legendgroup\":\"f(x)=x^2\",\"line\":{\"color\":\"#1F77B4\",\"dash\":\"solid\"},\"marker\":{\"symbol\":\"circle\"},\"mode\":\"lines+markers\",\"name\":\"f(x)=x^2\",\"orientation\":\"v\",\"showlegend\":true,\"x\":[0,1,2,3,4,5,6,7,8,9,10],\"xaxis\":\"x\",\"y\":[25,16,9,4,1,0,1,4,9,16,25],\"yaxis\":\"y\",\"type\":\"scatter\"},{\"hovertemplate\":\"Función=f(x)=(x-2)^2\\u003cbr\\u003ex=%{x}\\u003cbr\\u003ef(x)=%{y}\\u003cextra\\u003e\\u003c\\u002fextra\\u003e\",\"legendgroup\":\"f(x)=(x-2)^2\",\"line\":{\"color\":\"#FF7F0E\",\"dash\":\"solid\"},\"marker\":{\"symbol\":\"circle\"},\"mode\":\"lines+markers\",\"name\":\"f(x)=(x-2)^2\",\"orientation\":\"v\",\"showlegend\":true,\"x\":[0,1,2,3,4,5,6,7,8,9,10],\"xaxis\":\"x\",\"y\":[49,36,25,16,9,4,1,0,1,4,9],\"yaxis\":\"y\",\"type\":\"scatter\"},{\"hovertemplate\":\"Función=f(x)=(x-4)^2\\u003cbr\\u003ex=%{x}\\u003cbr\\u003ef(x)=%{y}\\u003cextra\\u003e\\u003c\\u002fextra\\u003e\",\"legendgroup\":\"f(x)=(x-4)^2\",\"line\":{\"color\":\"#2CA02C\",\"dash\":\"solid\"},\"marker\":{\"symbol\":\"circle\"},\"mode\":\"lines+markers\",\"name\":\"f(x)=(x-4)^2\",\"orientation\":\"v\",\"showlegend\":true,\"x\":[0,1,2,3,4,5,6,7,8,9,10],\"xaxis\":\"x\",\"y\":[81,64,49,36,25,16,9,4,1,0,1],\"yaxis\":\"y\",\"type\":\"scatter\"}],                        {\"template\":{\"data\":{\"pie\":[{\"automargin\":true,\"type\":\"pie\"}]},\"layout\":{\"xaxis\":{\"showgrid\":true,\"title\":{\"standoff\":15}},\"yaxis\":{\"showgrid\":true,\"title\":{\"standoff\":15}}}},\"xaxis\":{\"anchor\":\"y\",\"domain\":[0.0,1.0],\"title\":{\"text\":\"x\"}},\"yaxis\":{\"anchor\":\"x\",\"domain\":[0.0,1.0],\"title\":{\"text\":\"f(x)\"}},\"legend\":{\"title\":{\"text\":\"Función\"},\"tracegroupgap\":0},\"title\":{\"text\":\"Función cuadrática\"}},                        {\"responsive\": true}                    ).then(function(){\n",
              "                            \n",
              "var gd = document.getElementById('dc3d212a-cf96-4f7a-89c3-f964495e5516');\n",
              "var x = new MutationObserver(function (mutations, observer) {{\n",
              "        var display = window.getComputedStyle(gd).display;\n",
              "        if (!display || display === 'none') {{\n",
              "            console.log([gd, 'removed!']);\n",
              "            Plotly.purge(gd);\n",
              "            observer.disconnect();\n",
              "        }}\n",
              "}});\n",
              "\n",
              "// Listen for the removal of the full notebook cells\n",
              "var notebookContainer = gd.closest('#notebook-container');\n",
              "if (notebookContainer) {{\n",
              "    x.observe(notebookContainer, {childList: true});\n",
              "}}\n",
              "\n",
              "// Listen for the clearing of the current output cell\n",
              "var outputEl = gd.closest('.output');\n",
              "if (outputEl) {{\n",
              "    x.observe(outputEl, {childList: true});\n",
              "}}\n",
              "\n",
              "                        })                };                            </script>        </div>\n",
              "</body>\n",
              "</html>"
            ]
          },
          "metadata": {}
        }
      ]
    },
    {
      "cell_type": "markdown",
      "source": [
        "### **<font color=\"DarkBlue\">Escalado**"
      ],
      "metadata": {
        "id": "BG6fwVeWzTMq"
      },
      "id": "BG6fwVeWzTMq"
    },
    {
      "cell_type": "code",
      "source": [
        "escalado = {\"f(x)=x^2\":x**2,\n",
        "            \"f(x)=x/2^2\":(x/2)**2,\n",
        "            \"f(x)=x/3^2\":(x/3)**2}"
      ],
      "metadata": {
        "id": "ijNMi46CzW-G"
      },
      "id": "ijNMi46CzW-G",
      "execution_count": null,
      "outputs": []
    },
    {
      "cell_type": "code",
      "source": [
        "px.line(escalado,\n",
        "        title=\"Función cuadrática\",\n",
        "        markers=True,\n",
        "        labels={\"value\":\"f(x)\",\n",
        "                \"index\":\"x\",\n",
        "                \"variable\":\"Función\"})"
      ],
      "metadata": {
        "id": "i0kI9UvZz967",
        "colab": {
          "base_uri": "https://localhost:8080/",
          "height": 542
        },
        "outputId": "9b1b4cc2-ee6f-42b2-d449-de086bc7a78c"
      },
      "id": "i0kI9UvZz967",
      "execution_count": null,
      "outputs": [
        {
          "output_type": "display_data",
          "data": {
            "text/html": [
              "<html>\n",
              "<head><meta charset=\"utf-8\" /></head>\n",
              "<body>\n",
              "    <div>            <script src=\"https://cdnjs.cloudflare.com/ajax/libs/mathjax/2.7.5/MathJax.js?config=TeX-AMS-MML_SVG\"></script><script type=\"text/javascript\">if (window.MathJax && window.MathJax.Hub && window.MathJax.Hub.Config) {window.MathJax.Hub.Config({SVG: {font: \"STIX-Web\"}});}</script>                <script type=\"text/javascript\">window.PlotlyConfig = {MathJaxConfig: 'local'};</script>\n",
              "        <script charset=\"utf-8\" src=\"https://cdn.plot.ly/plotly-2.35.2.min.js\"></script>                <div id=\"3ad23f5f-2581-4127-8923-3d7f919c79a5\" class=\"plotly-graph-div\" style=\"height:525px; width:100%;\"></div>            <script type=\"text/javascript\">                                    window.PLOTLYENV=window.PLOTLYENV || {};                                    if (document.getElementById(\"3ad23f5f-2581-4127-8923-3d7f919c79a5\")) {                    Plotly.newPlot(                        \"3ad23f5f-2581-4127-8923-3d7f919c79a5\",                        [{\"hovertemplate\":\"Función=f(x)=x^2\\u003cbr\\u003ex=%{x}\\u003cbr\\u003ef(x)=%{y}\\u003cextra\\u003e\\u003c\\u002fextra\\u003e\",\"legendgroup\":\"f(x)=x^2\",\"line\":{\"color\":\"#1F77B4\",\"dash\":\"solid\"},\"marker\":{\"symbol\":\"circle\"},\"mode\":\"lines+markers\",\"name\":\"f(x)=x^2\",\"orientation\":\"v\",\"showlegend\":true,\"x\":[0,1,2,3,4,5,6,7,8,9,10],\"xaxis\":\"x\",\"y\":[25.0,16.0,9.0,4.0,1.0,0.0,1.0,4.0,9.0,16.0,25.0],\"yaxis\":\"y\",\"type\":\"scatter\"},{\"hovertemplate\":\"Función=f(x)=x\\u002f2^2\\u003cbr\\u003ex=%{x}\\u003cbr\\u003ef(x)=%{y}\\u003cextra\\u003e\\u003c\\u002fextra\\u003e\",\"legendgroup\":\"f(x)=x\\u002f2^2\",\"line\":{\"color\":\"#FF7F0E\",\"dash\":\"solid\"},\"marker\":{\"symbol\":\"circle\"},\"mode\":\"lines+markers\",\"name\":\"f(x)=x\\u002f2^2\",\"orientation\":\"v\",\"showlegend\":true,\"x\":[0,1,2,3,4,5,6,7,8,9,10],\"xaxis\":\"x\",\"y\":[6.25,4.0,2.25,1.0,0.25,0.0,0.25,1.0,2.25,4.0,6.25],\"yaxis\":\"y\",\"type\":\"scatter\"},{\"hovertemplate\":\"Función=f(x)=x\\u002f3^2\\u003cbr\\u003ex=%{x}\\u003cbr\\u003ef(x)=%{y}\\u003cextra\\u003e\\u003c\\u002fextra\\u003e\",\"legendgroup\":\"f(x)=x\\u002f3^2\",\"line\":{\"color\":\"#2CA02C\",\"dash\":\"solid\"},\"marker\":{\"symbol\":\"circle\"},\"mode\":\"lines+markers\",\"name\":\"f(x)=x\\u002f3^2\",\"orientation\":\"v\",\"showlegend\":true,\"x\":[0,1,2,3,4,5,6,7,8,9,10],\"xaxis\":\"x\",\"y\":[2.777777777777778,1.7777777777777777,1.0,0.4444444444444444,0.1111111111111111,0.0,0.1111111111111111,0.4444444444444444,1.0,1.7777777777777777,2.777777777777778],\"yaxis\":\"y\",\"type\":\"scatter\"}],                        {\"template\":{\"data\":{\"pie\":[{\"automargin\":true,\"type\":\"pie\"}]},\"layout\":{\"xaxis\":{\"showgrid\":true,\"title\":{\"standoff\":15}},\"yaxis\":{\"showgrid\":true,\"title\":{\"standoff\":15}}}},\"xaxis\":{\"anchor\":\"y\",\"domain\":[0.0,1.0],\"title\":{\"text\":\"x\"}},\"yaxis\":{\"anchor\":\"x\",\"domain\":[0.0,1.0],\"title\":{\"text\":\"f(x)\"}},\"legend\":{\"title\":{\"text\":\"Función\"},\"tracegroupgap\":0},\"title\":{\"text\":\"Función cuadrática\"}},                        {\"responsive\": true}                    ).then(function(){\n",
              "                            \n",
              "var gd = document.getElementById('3ad23f5f-2581-4127-8923-3d7f919c79a5');\n",
              "var x = new MutationObserver(function (mutations, observer) {{\n",
              "        var display = window.getComputedStyle(gd).display;\n",
              "        if (!display || display === 'none') {{\n",
              "            console.log([gd, 'removed!']);\n",
              "            Plotly.purge(gd);\n",
              "            observer.disconnect();\n",
              "        }}\n",
              "}});\n",
              "\n",
              "// Listen for the removal of the full notebook cells\n",
              "var notebookContainer = gd.closest('#notebook-container');\n",
              "if (notebookContainer) {{\n",
              "    x.observe(notebookContainer, {childList: true});\n",
              "}}\n",
              "\n",
              "// Listen for the clearing of the current output cell\n",
              "var outputEl = gd.closest('.output');\n",
              "if (outputEl) {{\n",
              "    x.observe(outputEl, {childList: true});\n",
              "}}\n",
              "\n",
              "                        })                };                            </script>        </div>\n",
              "</body>\n",
              "</html>"
            ]
          },
          "metadata": {}
        }
      ]
    },
    {
      "cell_type": "code",
      "source": [
        "escalado = {\"f(x)=x^2\":x**2,\n",
        "            \"f(x)=2x^2\":(2*x)**2,\n",
        "            \"f(x)=3x^2\":(3*x)**2}"
      ],
      "metadata": {
        "id": "XZSOJ3eq0jiP"
      },
      "id": "XZSOJ3eq0jiP",
      "execution_count": null,
      "outputs": []
    },
    {
      "cell_type": "code",
      "source": [
        "px.line(escalado,\n",
        "        title=\"Función cuadrática\",\n",
        "        markers=True,\n",
        "        labels={\"value\":\"f(x)\",\n",
        "                \"index\":\"x\",\n",
        "                \"variable\":\"Función\"})"
      ],
      "metadata": {
        "id": "lhWtppZu0yJe",
        "colab": {
          "base_uri": "https://localhost:8080/",
          "height": 542
        },
        "outputId": "1acffd85-7214-473e-ad8d-43639a1cc32d"
      },
      "id": "lhWtppZu0yJe",
      "execution_count": null,
      "outputs": [
        {
          "output_type": "display_data",
          "data": {
            "text/html": [
              "<html>\n",
              "<head><meta charset=\"utf-8\" /></head>\n",
              "<body>\n",
              "    <div>            <script src=\"https://cdnjs.cloudflare.com/ajax/libs/mathjax/2.7.5/MathJax.js?config=TeX-AMS-MML_SVG\"></script><script type=\"text/javascript\">if (window.MathJax && window.MathJax.Hub && window.MathJax.Hub.Config) {window.MathJax.Hub.Config({SVG: {font: \"STIX-Web\"}});}</script>                <script type=\"text/javascript\">window.PlotlyConfig = {MathJaxConfig: 'local'};</script>\n",
              "        <script charset=\"utf-8\" src=\"https://cdn.plot.ly/plotly-2.35.2.min.js\"></script>                <div id=\"741e5d26-b4f8-48e2-ae45-bb0ac98d24d7\" class=\"plotly-graph-div\" style=\"height:525px; width:100%;\"></div>            <script type=\"text/javascript\">                                    window.PLOTLYENV=window.PLOTLYENV || {};                                    if (document.getElementById(\"741e5d26-b4f8-48e2-ae45-bb0ac98d24d7\")) {                    Plotly.newPlot(                        \"741e5d26-b4f8-48e2-ae45-bb0ac98d24d7\",                        [{\"hovertemplate\":\"Función=f(x)=x^2\\u003cbr\\u003ex=%{x}\\u003cbr\\u003ef(x)=%{y}\\u003cextra\\u003e\\u003c\\u002fextra\\u003e\",\"legendgroup\":\"f(x)=x^2\",\"line\":{\"color\":\"#1F77B4\",\"dash\":\"solid\"},\"marker\":{\"symbol\":\"circle\"},\"mode\":\"lines+markers\",\"name\":\"f(x)=x^2\",\"orientation\":\"v\",\"showlegend\":true,\"x\":[0,1,2,3,4,5,6,7,8,9,10],\"xaxis\":\"x\",\"y\":[25,16,9,4,1,0,1,4,9,16,25],\"yaxis\":\"y\",\"type\":\"scatter\"},{\"hovertemplate\":\"Función=f(x)=2x^2\\u003cbr\\u003ex=%{x}\\u003cbr\\u003ef(x)=%{y}\\u003cextra\\u003e\\u003c\\u002fextra\\u003e\",\"legendgroup\":\"f(x)=2x^2\",\"line\":{\"color\":\"#FF7F0E\",\"dash\":\"solid\"},\"marker\":{\"symbol\":\"circle\"},\"mode\":\"lines+markers\",\"name\":\"f(x)=2x^2\",\"orientation\":\"v\",\"showlegend\":true,\"x\":[0,1,2,3,4,5,6,7,8,9,10],\"xaxis\":\"x\",\"y\":[100,64,36,16,4,0,4,16,36,64,100],\"yaxis\":\"y\",\"type\":\"scatter\"},{\"hovertemplate\":\"Función=f(x)=3x^2\\u003cbr\\u003ex=%{x}\\u003cbr\\u003ef(x)=%{y}\\u003cextra\\u003e\\u003c\\u002fextra\\u003e\",\"legendgroup\":\"f(x)=3x^2\",\"line\":{\"color\":\"#2CA02C\",\"dash\":\"solid\"},\"marker\":{\"symbol\":\"circle\"},\"mode\":\"lines+markers\",\"name\":\"f(x)=3x^2\",\"orientation\":\"v\",\"showlegend\":true,\"x\":[0,1,2,3,4,5,6,7,8,9,10],\"xaxis\":\"x\",\"y\":[225,144,81,36,9,0,9,36,81,144,225],\"yaxis\":\"y\",\"type\":\"scatter\"}],                        {\"template\":{\"data\":{\"pie\":[{\"automargin\":true,\"type\":\"pie\"}]},\"layout\":{\"xaxis\":{\"showgrid\":true,\"title\":{\"standoff\":15}},\"yaxis\":{\"showgrid\":true,\"title\":{\"standoff\":15}}}},\"xaxis\":{\"anchor\":\"y\",\"domain\":[0.0,1.0],\"title\":{\"text\":\"x\"}},\"yaxis\":{\"anchor\":\"x\",\"domain\":[0.0,1.0],\"title\":{\"text\":\"f(x)\"}},\"legend\":{\"title\":{\"text\":\"Función\"},\"tracegroupgap\":0},\"title\":{\"text\":\"Función cuadrática\"}},                        {\"responsive\": true}                    ).then(function(){\n",
              "                            \n",
              "var gd = document.getElementById('741e5d26-b4f8-48e2-ae45-bb0ac98d24d7');\n",
              "var x = new MutationObserver(function (mutations, observer) {{\n",
              "        var display = window.getComputedStyle(gd).display;\n",
              "        if (!display || display === 'none') {{\n",
              "            console.log([gd, 'removed!']);\n",
              "            Plotly.purge(gd);\n",
              "            observer.disconnect();\n",
              "        }}\n",
              "}});\n",
              "\n",
              "// Listen for the removal of the full notebook cells\n",
              "var notebookContainer = gd.closest('#notebook-container');\n",
              "if (notebookContainer) {{\n",
              "    x.observe(notebookContainer, {childList: true});\n",
              "}}\n",
              "\n",
              "// Listen for the clearing of the current output cell\n",
              "var outputEl = gd.closest('.output');\n",
              "if (outputEl) {{\n",
              "    x.observe(outputEl, {childList: true});\n",
              "}}\n",
              "\n",
              "                        })                };                            </script>        </div>\n",
              "</body>\n",
              "</html>"
            ]
          },
          "metadata": {}
        }
      ]
    },
    {
      "cell_type": "code",
      "source": [
        "escalado = {\"f(x)=x^2\":x**2,\n",
        "            \"f(x)=-x^2\":-x**2}"
      ],
      "metadata": {
        "id": "3tw91ybI1LG-"
      },
      "id": "3tw91ybI1LG-",
      "execution_count": null,
      "outputs": []
    },
    {
      "cell_type": "code",
      "source": [
        "px.line(escalado,\n",
        "        title=\"Función cuadrática\",\n",
        "        markers=True,\n",
        "        labels={\"value\":\"f(x)\",\n",
        "                \"index\":\"x\",\n",
        "                \"variable\":\"Función\"})"
      ],
      "metadata": {
        "id": "sfITKYl11kUx",
        "colab": {
          "base_uri": "https://localhost:8080/",
          "height": 542
        },
        "outputId": "6d269a6f-f355-4b11-8885-552662308101"
      },
      "id": "sfITKYl11kUx",
      "execution_count": null,
      "outputs": [
        {
          "output_type": "display_data",
          "data": {
            "text/html": [
              "<html>\n",
              "<head><meta charset=\"utf-8\" /></head>\n",
              "<body>\n",
              "    <div>            <script src=\"https://cdnjs.cloudflare.com/ajax/libs/mathjax/2.7.5/MathJax.js?config=TeX-AMS-MML_SVG\"></script><script type=\"text/javascript\">if (window.MathJax && window.MathJax.Hub && window.MathJax.Hub.Config) {window.MathJax.Hub.Config({SVG: {font: \"STIX-Web\"}});}</script>                <script type=\"text/javascript\">window.PlotlyConfig = {MathJaxConfig: 'local'};</script>\n",
              "        <script charset=\"utf-8\" src=\"https://cdn.plot.ly/plotly-2.35.2.min.js\"></script>                <div id=\"ac167989-afb9-462d-910f-bf0843e6f46a\" class=\"plotly-graph-div\" style=\"height:525px; width:100%;\"></div>            <script type=\"text/javascript\">                                    window.PLOTLYENV=window.PLOTLYENV || {};                                    if (document.getElementById(\"ac167989-afb9-462d-910f-bf0843e6f46a\")) {                    Plotly.newPlot(                        \"ac167989-afb9-462d-910f-bf0843e6f46a\",                        [{\"hovertemplate\":\"Función=f(x)=x^2\\u003cbr\\u003ex=%{x}\\u003cbr\\u003ef(x)=%{y}\\u003cextra\\u003e\\u003c\\u002fextra\\u003e\",\"legendgroup\":\"f(x)=x^2\",\"line\":{\"color\":\"#1F77B4\",\"dash\":\"solid\"},\"marker\":{\"symbol\":\"circle\"},\"mode\":\"lines+markers\",\"name\":\"f(x)=x^2\",\"orientation\":\"v\",\"showlegend\":true,\"x\":[0,1,2,3,4,5,6,7,8,9,10],\"xaxis\":\"x\",\"y\":[25,16,9,4,1,0,1,4,9,16,25],\"yaxis\":\"y\",\"type\":\"scatter\"},{\"hovertemplate\":\"Función=f(x)=-x^2\\u003cbr\\u003ex=%{x}\\u003cbr\\u003ef(x)=%{y}\\u003cextra\\u003e\\u003c\\u002fextra\\u003e\",\"legendgroup\":\"f(x)=-x^2\",\"line\":{\"color\":\"#FF7F0E\",\"dash\":\"solid\"},\"marker\":{\"symbol\":\"circle\"},\"mode\":\"lines+markers\",\"name\":\"f(x)=-x^2\",\"orientation\":\"v\",\"showlegend\":true,\"x\":[0,1,2,3,4,5,6,7,8,9,10],\"xaxis\":\"x\",\"y\":[-25,-16,-9,-4,-1,0,-1,-4,-9,-16,-25],\"yaxis\":\"y\",\"type\":\"scatter\"}],                        {\"template\":{\"data\":{\"pie\":[{\"automargin\":true,\"type\":\"pie\"}]},\"layout\":{\"xaxis\":{\"showgrid\":true,\"title\":{\"standoff\":15}},\"yaxis\":{\"showgrid\":true,\"title\":{\"standoff\":15}}}},\"xaxis\":{\"anchor\":\"y\",\"domain\":[0.0,1.0],\"title\":{\"text\":\"x\"}},\"yaxis\":{\"anchor\":\"x\",\"domain\":[0.0,1.0],\"title\":{\"text\":\"f(x)\"}},\"legend\":{\"title\":{\"text\":\"Función\"},\"tracegroupgap\":0},\"title\":{\"text\":\"Función cuadrática\"}},                        {\"responsive\": true}                    ).then(function(){\n",
              "                            \n",
              "var gd = document.getElementById('ac167989-afb9-462d-910f-bf0843e6f46a');\n",
              "var x = new MutationObserver(function (mutations, observer) {{\n",
              "        var display = window.getComputedStyle(gd).display;\n",
              "        if (!display || display === 'none') {{\n",
              "            console.log([gd, 'removed!']);\n",
              "            Plotly.purge(gd);\n",
              "            observer.disconnect();\n",
              "        }}\n",
              "}});\n",
              "\n",
              "// Listen for the removal of the full notebook cells\n",
              "var notebookContainer = gd.closest('#notebook-container');\n",
              "if (notebookContainer) {{\n",
              "    x.observe(notebookContainer, {childList: true});\n",
              "}}\n",
              "\n",
              "// Listen for the clearing of the current output cell\n",
              "var outputEl = gd.closest('.output');\n",
              "if (outputEl) {{\n",
              "    x.observe(outputEl, {childList: true});\n",
              "}}\n",
              "\n",
              "                        })                };                            </script>        </div>\n",
              "</body>\n",
              "</html>"
            ]
          },
          "metadata": {}
        }
      ]
    },
    {
      "cell_type": "markdown",
      "source": [
        "### **<font color=\"DarkBlue\">Otras funciones**"
      ],
      "metadata": {
        "id": "B3YofaJ4g8pR"
      },
      "id": "B3YofaJ4g8pR"
    },
    {
      "cell_type": "code",
      "source": [
        "x = np.linspace(-7, 7, 15, dtype=int)\n",
        "x"
      ],
      "metadata": {
        "id": "3p1g2YjOiPVN",
        "colab": {
          "base_uri": "https://localhost:8080/"
        },
        "outputId": "b8c52229-dcec-4ec9-b2d2-a4fbf3a6a5f9"
      },
      "id": "3p1g2YjOiPVN",
      "execution_count": null,
      "outputs": [
        {
          "output_type": "execute_result",
          "data": {
            "text/plain": [
              "array([-7, -6, -5, -4, -3, -2, -1,  0,  1,  2,  3,  4,  5,  6,  7])"
            ]
          },
          "metadata": {},
          "execution_count": 29
        }
      ]
    },
    {
      "cell_type": "code",
      "source": [
        "px.line(y=x**3, title=\"Función cúbica\", markers=True, labels={\"y\":\"f(x)\"})"
      ],
      "metadata": {
        "id": "_EXHXHYnfTxK",
        "colab": {
          "base_uri": "https://localhost:8080/",
          "height": 542
        },
        "outputId": "851c5f34-23d0-46fe-e3c1-c447425a81c4"
      },
      "id": "_EXHXHYnfTxK",
      "execution_count": null,
      "outputs": [
        {
          "output_type": "display_data",
          "data": {
            "text/html": [
              "<html>\n",
              "<head><meta charset=\"utf-8\" /></head>\n",
              "<body>\n",
              "    <div>            <script src=\"https://cdnjs.cloudflare.com/ajax/libs/mathjax/2.7.5/MathJax.js?config=TeX-AMS-MML_SVG\"></script><script type=\"text/javascript\">if (window.MathJax && window.MathJax.Hub && window.MathJax.Hub.Config) {window.MathJax.Hub.Config({SVG: {font: \"STIX-Web\"}});}</script>                <script type=\"text/javascript\">window.PlotlyConfig = {MathJaxConfig: 'local'};</script>\n",
              "        <script charset=\"utf-8\" src=\"https://cdn.plot.ly/plotly-2.35.2.min.js\"></script>                <div id=\"8e4c4017-62ad-4f95-84e9-b40a808fd60b\" class=\"plotly-graph-div\" style=\"height:525px; width:100%;\"></div>            <script type=\"text/javascript\">                                    window.PLOTLYENV=window.PLOTLYENV || {};                                    if (document.getElementById(\"8e4c4017-62ad-4f95-84e9-b40a808fd60b\")) {                    Plotly.newPlot(                        \"8e4c4017-62ad-4f95-84e9-b40a808fd60b\",                        [{\"hovertemplate\":\"x=%{x}\\u003cbr\\u003ef(x)=%{y}\\u003cextra\\u003e\\u003c\\u002fextra\\u003e\",\"legendgroup\":\"\",\"line\":{\"color\":\"#1F77B4\",\"dash\":\"solid\"},\"marker\":{\"symbol\":\"circle\"},\"mode\":\"lines+markers\",\"name\":\"\",\"orientation\":\"v\",\"showlegend\":false,\"x\":[0,1,2,3,4,5,6,7,8,9,10,11,12,13,14],\"xaxis\":\"x\",\"y\":[-343,-216,-125,-64,-27,-8,-1,0,1,8,27,64,125,216,343],\"yaxis\":\"y\",\"type\":\"scatter\"}],                        {\"template\":{\"data\":{\"pie\":[{\"automargin\":true,\"type\":\"pie\"}]},\"layout\":{\"xaxis\":{\"showgrid\":true,\"title\":{\"standoff\":15}},\"yaxis\":{\"showgrid\":true,\"title\":{\"standoff\":15}}}},\"xaxis\":{\"anchor\":\"y\",\"domain\":[0.0,1.0],\"title\":{\"text\":\"x\"}},\"yaxis\":{\"anchor\":\"x\",\"domain\":[0.0,1.0],\"title\":{\"text\":\"f(x)\"}},\"legend\":{\"tracegroupgap\":0},\"title\":{\"text\":\"Función cúbica\"}},                        {\"responsive\": true}                    ).then(function(){\n",
              "                            \n",
              "var gd = document.getElementById('8e4c4017-62ad-4f95-84e9-b40a808fd60b');\n",
              "var x = new MutationObserver(function (mutations, observer) {{\n",
              "        var display = window.getComputedStyle(gd).display;\n",
              "        if (!display || display === 'none') {{\n",
              "            console.log([gd, 'removed!']);\n",
              "            Plotly.purge(gd);\n",
              "            observer.disconnect();\n",
              "        }}\n",
              "}});\n",
              "\n",
              "// Listen for the removal of the full notebook cells\n",
              "var notebookContainer = gd.closest('#notebook-container');\n",
              "if (notebookContainer) {{\n",
              "    x.observe(notebookContainer, {childList: true});\n",
              "}}\n",
              "\n",
              "// Listen for the clearing of the current output cell\n",
              "var outputEl = gd.closest('.output');\n",
              "if (outputEl) {{\n",
              "    x.observe(outputEl, {childList: true});\n",
              "}}\n",
              "\n",
              "                        })                };                            </script>        </div>\n",
              "</body>\n",
              "</html>"
            ]
          },
          "metadata": {}
        }
      ]
    },
    {
      "cell_type": "code",
      "source": [
        "cubica = {\"f(x)=x^3\":x**3,\n",
        "          \"f(x)=(x+5)^3-x\":(x+5)**3}"
      ],
      "metadata": {
        "id": "Cql6bwBsfxPK"
      },
      "id": "Cql6bwBsfxPK",
      "execution_count": null,
      "outputs": []
    },
    {
      "cell_type": "code",
      "source": [
        "px.line(cubica,\n",
        "        title=\"Función cúbica\",\n",
        "        markers=True,\n",
        "        labels={\"value\":\"f(x)\",\n",
        "                \"index\":\"x\",\n",
        "                \"variable\":\"Función\"})"
      ],
      "metadata": {
        "id": "j9h6jBJRgBCy",
        "colab": {
          "base_uri": "https://localhost:8080/",
          "height": 542
        },
        "outputId": "8e4429f9-a0bb-47b2-d53a-7f6b5254e932"
      },
      "id": "j9h6jBJRgBCy",
      "execution_count": null,
      "outputs": [
        {
          "output_type": "display_data",
          "data": {
            "text/html": [
              "<html>\n",
              "<head><meta charset=\"utf-8\" /></head>\n",
              "<body>\n",
              "    <div>            <script src=\"https://cdnjs.cloudflare.com/ajax/libs/mathjax/2.7.5/MathJax.js?config=TeX-AMS-MML_SVG\"></script><script type=\"text/javascript\">if (window.MathJax && window.MathJax.Hub && window.MathJax.Hub.Config) {window.MathJax.Hub.Config({SVG: {font: \"STIX-Web\"}});}</script>                <script type=\"text/javascript\">window.PlotlyConfig = {MathJaxConfig: 'local'};</script>\n",
              "        <script charset=\"utf-8\" src=\"https://cdn.plot.ly/plotly-2.35.2.min.js\"></script>                <div id=\"faeb0343-d60f-409a-9ea0-450753b3f28f\" class=\"plotly-graph-div\" style=\"height:525px; width:100%;\"></div>            <script type=\"text/javascript\">                                    window.PLOTLYENV=window.PLOTLYENV || {};                                    if (document.getElementById(\"faeb0343-d60f-409a-9ea0-450753b3f28f\")) {                    Plotly.newPlot(                        \"faeb0343-d60f-409a-9ea0-450753b3f28f\",                        [{\"hovertemplate\":\"Función=f(x)=x^3\\u003cbr\\u003ex=%{x}\\u003cbr\\u003ef(x)=%{y}\\u003cextra\\u003e\\u003c\\u002fextra\\u003e\",\"legendgroup\":\"f(x)=x^3\",\"line\":{\"color\":\"#1F77B4\",\"dash\":\"solid\"},\"marker\":{\"symbol\":\"circle\"},\"mode\":\"lines+markers\",\"name\":\"f(x)=x^3\",\"orientation\":\"v\",\"showlegend\":true,\"x\":[0,1,2,3,4,5,6,7,8,9,10,11,12,13,14],\"xaxis\":\"x\",\"y\":[-343,-216,-125,-64,-27,-8,-1,0,1,8,27,64,125,216,343],\"yaxis\":\"y\",\"type\":\"scatter\"},{\"hovertemplate\":\"Función=f(x)=(x+5)^3-x\\u003cbr\\u003ex=%{x}\\u003cbr\\u003ef(x)=%{y}\\u003cextra\\u003e\\u003c\\u002fextra\\u003e\",\"legendgroup\":\"f(x)=(x+5)^3-x\",\"line\":{\"color\":\"#FF7F0E\",\"dash\":\"solid\"},\"marker\":{\"symbol\":\"circle\"},\"mode\":\"lines+markers\",\"name\":\"f(x)=(x+5)^3-x\",\"orientation\":\"v\",\"showlegend\":true,\"x\":[0,1,2,3,4,5,6,7,8,9,10,11,12,13,14],\"xaxis\":\"x\",\"y\":[-8,-1,0,1,8,27,64,125,216,343,512,729,1000,1331,1728],\"yaxis\":\"y\",\"type\":\"scatter\"}],                        {\"template\":{\"data\":{\"pie\":[{\"automargin\":true,\"type\":\"pie\"}]},\"layout\":{\"xaxis\":{\"showgrid\":true,\"title\":{\"standoff\":15}},\"yaxis\":{\"showgrid\":true,\"title\":{\"standoff\":15}}}},\"xaxis\":{\"anchor\":\"y\",\"domain\":[0.0,1.0],\"title\":{\"text\":\"x\"}},\"yaxis\":{\"anchor\":\"x\",\"domain\":[0.0,1.0],\"title\":{\"text\":\"f(x)\"}},\"legend\":{\"title\":{\"text\":\"Función\"},\"tracegroupgap\":0},\"title\":{\"text\":\"Función cúbica\"}},                        {\"responsive\": true}                    ).then(function(){\n",
              "                            \n",
              "var gd = document.getElementById('faeb0343-d60f-409a-9ea0-450753b3f28f');\n",
              "var x = new MutationObserver(function (mutations, observer) {{\n",
              "        var display = window.getComputedStyle(gd).display;\n",
              "        if (!display || display === 'none') {{\n",
              "            console.log([gd, 'removed!']);\n",
              "            Plotly.purge(gd);\n",
              "            observer.disconnect();\n",
              "        }}\n",
              "}});\n",
              "\n",
              "// Listen for the removal of the full notebook cells\n",
              "var notebookContainer = gd.closest('#notebook-container');\n",
              "if (notebookContainer) {{\n",
              "    x.observe(notebookContainer, {childList: true});\n",
              "}}\n",
              "\n",
              "// Listen for the clearing of the current output cell\n",
              "var outputEl = gd.closest('.output');\n",
              "if (outputEl) {{\n",
              "    x.observe(outputEl, {childList: true});\n",
              "}}\n",
              "\n",
              "                        })                };                            </script>        </div>\n",
              "</body>\n",
              "</html>"
            ]
          },
          "metadata": {}
        }
      ]
    },
    {
      "cell_type": "code",
      "source": [
        "x = np.linspace(-15, 15, 200)"
      ],
      "metadata": {
        "id": "nSD_QXhUhdR-"
      },
      "id": "nSD_QXhUhdR-",
      "execution_count": null,
      "outputs": []
    },
    {
      "cell_type": "code",
      "source": [
        "px.line(y=np.sin(x), title=\"Función seno de x\", markers=True, labels={\"y\":\"f(x)\"})"
      ],
      "metadata": {
        "id": "BHNcMaBbgziK",
        "colab": {
          "base_uri": "https://localhost:8080/",
          "height": 542
        },
        "outputId": "c43fd59d-f7ae-4843-cdf7-0e16009d5198"
      },
      "id": "BHNcMaBbgziK",
      "execution_count": null,
      "outputs": [
        {
          "output_type": "display_data",
          "data": {
            "text/html": [
              "<html>\n",
              "<head><meta charset=\"utf-8\" /></head>\n",
              "<body>\n",
              "    <div>            <script src=\"https://cdnjs.cloudflare.com/ajax/libs/mathjax/2.7.5/MathJax.js?config=TeX-AMS-MML_SVG\"></script><script type=\"text/javascript\">if (window.MathJax && window.MathJax.Hub && window.MathJax.Hub.Config) {window.MathJax.Hub.Config({SVG: {font: \"STIX-Web\"}});}</script>                <script type=\"text/javascript\">window.PlotlyConfig = {MathJaxConfig: 'local'};</script>\n",
              "        <script charset=\"utf-8\" src=\"https://cdn.plot.ly/plotly-2.35.2.min.js\"></script>                <div id=\"4cdef6e0-6042-4a09-ad2c-eb0a2a7cc50b\" class=\"plotly-graph-div\" style=\"height:525px; width:100%;\"></div>            <script type=\"text/javascript\">                                    window.PLOTLYENV=window.PLOTLYENV || {};                                    if (document.getElementById(\"4cdef6e0-6042-4a09-ad2c-eb0a2a7cc50b\")) {                    Plotly.newPlot(                        \"4cdef6e0-6042-4a09-ad2c-eb0a2a7cc50b\",                        [{\"hovertemplate\":\"x=%{x}\\u003cbr\\u003ef(x)=%{y}\\u003cextra\\u003e\\u003c\\u002fextra\\u003e\",\"legendgroup\":\"\",\"line\":{\"color\":\"#1F77B4\",\"dash\":\"solid\"},\"marker\":{\"symbol\":\"circle\"},\"mode\":\"lines+markers\",\"name\":\"\",\"orientation\":\"v\",\"showlegend\":false,\"x\":[0,1,2,3,4,5,6,7,8,9,10,11,12,13,14,15,16,17,18,19,20,21,22,23,24,25,26,27,28,29,30,31,32,33,34,35,36,37,38,39,40,41,42,43,44,45,46,47,48,49,50,51,52,53,54,55,56,57,58,59,60,61,62,63,64,65,66,67,68,69,70,71,72,73,74,75,76,77,78,79,80,81,82,83,84,85,86,87,88,89,90,91,92,93,94,95,96,97,98,99,100,101,102,103,104,105,106,107,108,109,110,111,112,113,114,115,116,117,118,119,120,121,122,123,124,125,126,127,128,129,130,131,132,133,134,135,136,137,138,139,140,141,142,143,144,145,146,147,148,149,150,151,152,153,154,155,156,157,158,159,160,161,162,163,164,165,166,167,168,169,170,171,172,173,174,175,176,177,178,179,180,181,182,183,184,185,186,187,188,189,190,191,192,193,194,195,196,197,198,199],\"xaxis\":\"x\",\"y\":[-0.6502878401571168,-0.7570048861562141,-0.8465502683594991,-0.916892767119938,-0.9664367550362276,-0.9940583916693415,-0.999131116390111,-0.9815398610859963,-0.9416836603304225,-0.8804665998064137,-0.7992773083076684,-0.6999574585141544,-0.5847599910608567,-0.45629800953193056,-0.31748550563033634,-0.17147125909480865,-0.02156741175792739,0.1288256640508247,0.27629649849520904,0.4174999089547759,0.54923288110878,0.6685072251185287,0.7726173587978856,0.8592016801995305,0.9262961374602758,0.9723787807437148,0.9964042856777633,0.9978276651681554,0.9766166317164743,0.9332523298197434,0.8687184218380465,0.7844787749029659,0.6824442550100844,0.5649293815280481,0.43459982535983926,0.29441194169167123,0.14754570894986285,-0.0026674048424317064,-0.15282001205147888,-0.2995060975560965,-0.43939827973712825,-0.5693232877689739,-0.6863339431097348,-0.7877760123841946,-0.8713484151895878,-0.9351554210889946,-0.9777496517719715,-0.9981649129347507,-0.9959381111318312,-0.9711197584439127,-0.9242728266775404,-0.8564599770874414,-0.7692194552985677,-0.6645301982199483,-0.5447669444542826,-0.4126463664648083,-0.2711654464206385,-0.12353349358377497,0.02690065466573946,0.17672459681717598,0.32253977308547227,0.4610385572861775,0.5890792860008425,0.7037575230945546,0.8024719430434225,0.8829833385950746,0.9434654142507264,0.9825462133852306,0.9993392392851821,0.9934635641651169,0.9650524700151261,0.9147504252735733,0.8436984659051391,0.7535083124952795,0.6462258104808866,0.5242845228276076,0.39045052784312906,0.24775967431568494,0.09944871726274078,-0.051118103614849884,-0.2005253773016564,-0.34538399559069355,-0.4824080305617114,-0.6084892715498968,-0.7207677308315246,-0.816696518697485,-0.8940996163086676,-0.951221235831679,-0.9867656481848985,-0.9999265749546575,-0.9904054777644351,-0.9584183302266976,-0.9046907188645302,-0.8304413841322356,-0.7373545748852739,-0.6275418434021641,-0.5034941475882128,-0.3680253468598087,-0.22420837343109262,-0.07530552687371901,0.07530552687371547,0.2242083734310909,0.3680253468598071,0.5034941475882097,0.6275418434021613,0.7373545748852727,0.8304413841322346,0.9046907188645288,0.9584183302266966,0.9904054777644349,0.9999265749546576,0.9867656481848991,0.9512212358316801,0.8940996163086685,0.816696518697485,0.720767730831527,0.6084892715498996,0.48240803056171294,0.3453839955906969,0.20052537730165987,0.05111810361485343,-0.099448717262739,-0.24775967431568494,-0.3904505278431258,-0.5242845228276046,-0.6462258104808851,-0.7535083124952772,-0.8436984659051372,-0.9147504252735719,-0.9650524700151256,-0.9934635641651169,-0.9993392392851823,-0.9825462133852313,-0.9434654142507269,-0.8829833385950763,-0.8024719430434246,-0.7037575230945572,-0.5890792860008439,-0.4610385572861775,-0.3225397730854756,-0.17672459681717947,-0.026900654665741236,0.12353349358377144,0.2711654464206351,0.412646366464805,0.5447669444542811,0.6645301982199476,0.7692194552985655,0.8564599770874399,0.9242728266775396,0.9711197584439116,0.9959381111318308,0.9981649129347508,0.9777496517719719,0.9351554210889946,0.8713484151895895,0.7877760123841968,0.6863339431097362,0.5693232877689768,0.4393982797371314,0.29950609755609986,0.15282001205148066,0.0026674048424317064,-0.14754570894985936,-0.29441194169166784,-0.43459982535983765,-0.5649293815280452,-0.6824442550100818,-0.7844787749029637,-0.8687184218380456,-0.9332523298197434,-0.9766166317164735,-0.9978276651681551,-0.9964042856777634,-0.9723787807437155,-0.9262961374602772,-0.8592016801995322,-0.7726173587978867,-0.6685072251185287,-0.549232881108783,-0.4174999089547791,-0.27629649849521076,-0.12882566405082824,0.02156741175792384,0.17147125909480515,0.3174855056303347,0.45629800953193056,0.5847599910608539,0.6999574585141518,0.7992773083076673,0.8804665998064121,0.9416836603304214,0.9815398610859957,0.999131116390111,0.9940583916693415,0.9664367550362285,0.9168927671199394,0.8465502683595001,0.7570048861562164,0.6502878401571168],\"yaxis\":\"y\",\"type\":\"scatter\"}],                        {\"template\":{\"data\":{\"pie\":[{\"automargin\":true,\"type\":\"pie\"}]},\"layout\":{\"xaxis\":{\"showgrid\":true,\"title\":{\"standoff\":15}},\"yaxis\":{\"showgrid\":true,\"title\":{\"standoff\":15}}}},\"xaxis\":{\"anchor\":\"y\",\"domain\":[0.0,1.0],\"title\":{\"text\":\"x\"}},\"yaxis\":{\"anchor\":\"x\",\"domain\":[0.0,1.0],\"title\":{\"text\":\"f(x)\"}},\"legend\":{\"tracegroupgap\":0},\"title\":{\"text\":\"Función seno de x\"}},                        {\"responsive\": true}                    ).then(function(){\n",
              "                            \n",
              "var gd = document.getElementById('4cdef6e0-6042-4a09-ad2c-eb0a2a7cc50b');\n",
              "var x = new MutationObserver(function (mutations, observer) {{\n",
              "        var display = window.getComputedStyle(gd).display;\n",
              "        if (!display || display === 'none') {{\n",
              "            console.log([gd, 'removed!']);\n",
              "            Plotly.purge(gd);\n",
              "            observer.disconnect();\n",
              "        }}\n",
              "}});\n",
              "\n",
              "// Listen for the removal of the full notebook cells\n",
              "var notebookContainer = gd.closest('#notebook-container');\n",
              "if (notebookContainer) {{\n",
              "    x.observe(notebookContainer, {childList: true});\n",
              "}}\n",
              "\n",
              "// Listen for the clearing of the current output cell\n",
              "var outputEl = gd.closest('.output');\n",
              "if (outputEl) {{\n",
              "    x.observe(outputEl, {childList: true});\n",
              "}}\n",
              "\n",
              "                        })                };                            </script>        </div>\n",
              "</body>\n",
              "</html>"
            ]
          },
          "metadata": {}
        }
      ]
    },
    {
      "cell_type": "code",
      "source": [
        "senocoseno = {\"f(x)=sin(x)\":np.sin(x),\n",
        "              \"f(x)=cos(x)\":np.cos(x)}"
      ],
      "metadata": {
        "id": "OuxC5NODi53K"
      },
      "id": "OuxC5NODi53K",
      "execution_count": null,
      "outputs": []
    },
    {
      "cell_type": "code",
      "source": [
        "px.line(senocoseno,\n",
        "        title=\"Función seno y Función coseno\",\n",
        "        markers=True,\n",
        "        labels={\"value\":\"f(x)\",\n",
        "                \"index\":\"x\",\n",
        "                \"variable\":\"Función\"})"
      ],
      "metadata": {
        "id": "zCWJ_j7ZjMIR",
        "colab": {
          "base_uri": "https://localhost:8080/",
          "height": 542
        },
        "outputId": "0fcea556-e108-42f9-f11d-6ba059ea5f85"
      },
      "id": "zCWJ_j7ZjMIR",
      "execution_count": null,
      "outputs": [
        {
          "output_type": "display_data",
          "data": {
            "text/html": [
              "<html>\n",
              "<head><meta charset=\"utf-8\" /></head>\n",
              "<body>\n",
              "    <div>            <script src=\"https://cdnjs.cloudflare.com/ajax/libs/mathjax/2.7.5/MathJax.js?config=TeX-AMS-MML_SVG\"></script><script type=\"text/javascript\">if (window.MathJax && window.MathJax.Hub && window.MathJax.Hub.Config) {window.MathJax.Hub.Config({SVG: {font: \"STIX-Web\"}});}</script>                <script type=\"text/javascript\">window.PlotlyConfig = {MathJaxConfig: 'local'};</script>\n",
              "        <script charset=\"utf-8\" src=\"https://cdn.plot.ly/plotly-2.35.2.min.js\"></script>                <div id=\"e62c936c-ba83-4e64-ab94-f798b2b6723e\" class=\"plotly-graph-div\" style=\"height:525px; width:100%;\"></div>            <script type=\"text/javascript\">                                    window.PLOTLYENV=window.PLOTLYENV || {};                                    if (document.getElementById(\"e62c936c-ba83-4e64-ab94-f798b2b6723e\")) {                    Plotly.newPlot(                        \"e62c936c-ba83-4e64-ab94-f798b2b6723e\",                        [{\"hovertemplate\":\"Función=f(x)=sin(x)\\u003cbr\\u003ex=%{x}\\u003cbr\\u003ef(x)=%{y}\\u003cextra\\u003e\\u003c\\u002fextra\\u003e\",\"legendgroup\":\"f(x)=sin(x)\",\"line\":{\"color\":\"#1F77B4\",\"dash\":\"solid\"},\"marker\":{\"symbol\":\"circle\"},\"mode\":\"lines+markers\",\"name\":\"f(x)=sin(x)\",\"orientation\":\"v\",\"showlegend\":true,\"x\":[0,1,2,3,4,5,6,7,8,9,10,11,12,13,14,15,16,17,18,19,20,21,22,23,24,25,26,27,28,29,30,31,32,33,34,35,36,37,38,39,40,41,42,43,44,45,46,47,48,49,50,51,52,53,54,55,56,57,58,59,60,61,62,63,64,65,66,67,68,69,70,71,72,73,74,75,76,77,78,79,80,81,82,83,84,85,86,87,88,89,90,91,92,93,94,95,96,97,98,99,100,101,102,103,104,105,106,107,108,109,110,111,112,113,114,115,116,117,118,119,120,121,122,123,124,125,126,127,128,129,130,131,132,133,134,135,136,137,138,139,140,141,142,143,144,145,146,147,148,149,150,151,152,153,154,155,156,157,158,159,160,161,162,163,164,165,166,167,168,169,170,171,172,173,174,175,176,177,178,179,180,181,182,183,184,185,186,187,188,189,190,191,192,193,194,195,196,197,198,199],\"xaxis\":\"x\",\"y\":[-0.6502878401571168,-0.7570048861562141,-0.8465502683594991,-0.916892767119938,-0.9664367550362276,-0.9940583916693415,-0.999131116390111,-0.9815398610859963,-0.9416836603304225,-0.8804665998064137,-0.7992773083076684,-0.6999574585141544,-0.5847599910608567,-0.45629800953193056,-0.31748550563033634,-0.17147125909480865,-0.02156741175792739,0.1288256640508247,0.27629649849520904,0.4174999089547759,0.54923288110878,0.6685072251185287,0.7726173587978856,0.8592016801995305,0.9262961374602758,0.9723787807437148,0.9964042856777633,0.9978276651681554,0.9766166317164743,0.9332523298197434,0.8687184218380465,0.7844787749029659,0.6824442550100844,0.5649293815280481,0.43459982535983926,0.29441194169167123,0.14754570894986285,-0.0026674048424317064,-0.15282001205147888,-0.2995060975560965,-0.43939827973712825,-0.5693232877689739,-0.6863339431097348,-0.7877760123841946,-0.8713484151895878,-0.9351554210889946,-0.9777496517719715,-0.9981649129347507,-0.9959381111318312,-0.9711197584439127,-0.9242728266775404,-0.8564599770874414,-0.7692194552985677,-0.6645301982199483,-0.5447669444542826,-0.4126463664648083,-0.2711654464206385,-0.12353349358377497,0.02690065466573946,0.17672459681717598,0.32253977308547227,0.4610385572861775,0.5890792860008425,0.7037575230945546,0.8024719430434225,0.8829833385950746,0.9434654142507264,0.9825462133852306,0.9993392392851821,0.9934635641651169,0.9650524700151261,0.9147504252735733,0.8436984659051391,0.7535083124952795,0.6462258104808866,0.5242845228276076,0.39045052784312906,0.24775967431568494,0.09944871726274078,-0.051118103614849884,-0.2005253773016564,-0.34538399559069355,-0.4824080305617114,-0.6084892715498968,-0.7207677308315246,-0.816696518697485,-0.8940996163086676,-0.951221235831679,-0.9867656481848985,-0.9999265749546575,-0.9904054777644351,-0.9584183302266976,-0.9046907188645302,-0.8304413841322356,-0.7373545748852739,-0.6275418434021641,-0.5034941475882128,-0.3680253468598087,-0.22420837343109262,-0.07530552687371901,0.07530552687371547,0.2242083734310909,0.3680253468598071,0.5034941475882097,0.6275418434021613,0.7373545748852727,0.8304413841322346,0.9046907188645288,0.9584183302266966,0.9904054777644349,0.9999265749546576,0.9867656481848991,0.9512212358316801,0.8940996163086685,0.816696518697485,0.720767730831527,0.6084892715498996,0.48240803056171294,0.3453839955906969,0.20052537730165987,0.05111810361485343,-0.099448717262739,-0.24775967431568494,-0.3904505278431258,-0.5242845228276046,-0.6462258104808851,-0.7535083124952772,-0.8436984659051372,-0.9147504252735719,-0.9650524700151256,-0.9934635641651169,-0.9993392392851823,-0.9825462133852313,-0.9434654142507269,-0.8829833385950763,-0.8024719430434246,-0.7037575230945572,-0.5890792860008439,-0.4610385572861775,-0.3225397730854756,-0.17672459681717947,-0.026900654665741236,0.12353349358377144,0.2711654464206351,0.412646366464805,0.5447669444542811,0.6645301982199476,0.7692194552985655,0.8564599770874399,0.9242728266775396,0.9711197584439116,0.9959381111318308,0.9981649129347508,0.9777496517719719,0.9351554210889946,0.8713484151895895,0.7877760123841968,0.6863339431097362,0.5693232877689768,0.4393982797371314,0.29950609755609986,0.15282001205148066,0.0026674048424317064,-0.14754570894985936,-0.29441194169166784,-0.43459982535983765,-0.5649293815280452,-0.6824442550100818,-0.7844787749029637,-0.8687184218380456,-0.9332523298197434,-0.9766166317164735,-0.9978276651681551,-0.9964042856777634,-0.9723787807437155,-0.9262961374602772,-0.8592016801995322,-0.7726173587978867,-0.6685072251185287,-0.549232881108783,-0.4174999089547791,-0.27629649849521076,-0.12882566405082824,0.02156741175792384,0.17147125909480515,0.3174855056303347,0.45629800953193056,0.5847599910608539,0.6999574585141518,0.7992773083076673,0.8804665998064121,0.9416836603304214,0.9815398610859957,0.999131116390111,0.9940583916693415,0.9664367550362285,0.9168927671199394,0.8465502683595001,0.7570048861562164,0.6502878401571168],\"yaxis\":\"y\",\"type\":\"scatter\"},{\"hovertemplate\":\"Función=f(x)=cos(x)\\u003cbr\\u003ex=%{x}\\u003cbr\\u003ef(x)=%{y}\\u003cextra\\u003e\\u003c\\u002fextra\\u003e\",\"legendgroup\":\"f(x)=cos(x)\",\"line\":{\"color\":\"#FF7F0E\",\"dash\":\"solid\"},\"marker\":{\"symbol\":\"circle\"},\"mode\":\"lines+markers\",\"name\":\"f(x)=cos(x)\",\"orientation\":\"v\",\"showlegend\":true,\"x\":[0,1,2,3,4,5,6,7,8,9,10,11,12,13,14,15,16,17,18,19,20,21,22,23,24,25,26,27,28,29,30,31,32,33,34,35,36,37,38,39,40,41,42,43,44,45,46,47,48,49,50,51,52,53,54,55,56,57,58,59,60,61,62,63,64,65,66,67,68,69,70,71,72,73,74,75,76,77,78,79,80,81,82,83,84,85,86,87,88,89,90,91,92,93,94,95,96,97,98,99,100,101,102,103,104,105,106,107,108,109,110,111,112,113,114,115,116,117,118,119,120,121,122,123,124,125,126,127,128,129,130,131,132,133,134,135,136,137,138,139,140,141,142,143,144,145,146,147,148,149,150,151,152,153,154,155,156,157,158,159,160,161,162,163,164,165,166,167,168,169,170,171,172,173,174,175,176,177,178,179,180,181,182,183,184,185,186,187,188,189,190,191,192,193,194,195,196,197,198,199],\"xaxis\":\"x\",\"y\":[-0.7596879128588213,-0.6534092150678756,-0.5323087855187626,-0.39913362875501135,-0.25690464868321605,-0.10884812332678061,0.04167747906304328,0.19125768245820357,0.33649945596790704,0.47410818029784346,0.6009623818713185,0.7141845393666862,0.8112063565175675,0.8898270205479255,0.9482631247257534,0.985189122607655,0.9997673963227967,0.9916672568366186,0.9610724451982207,0.9086769646154533,0.83566933790163,0.7437056473930562,0.6348719688915074,0.5116370517684423,0.3767963186207818,0.2334084547726725,0.08472602600727981,-0.06587830162555548,-0.21498826631881218,-0.3592215039304036,-0.4953062724811931,-0.620155667334212,-0.7309376435809903,-0.8251392572689394,-0.9006236682417341,-0.9556786115579546,-0.9890552379773753,-0.9999964424693752,-0.9882540381483831,-0.954094386068128,-0.8982923531701984,-0.822113735442929,-0.7272865449982168,-0.6159618123813011,-0.49066479326174783,-0.35423768631790886,-0.2097751616845722,-0.060554162416480414,0.09004042867046017,0.23859257063001058,0.3817325527977794,0.5162134322616755,0.6389846865067853,0.7472614105209476,0.8385874887153663,0.9108913086880296,0.9625327530362257,0.9923404032704641,0.9996381119077816,0.9842603399913087,0.9465559121245676,0.887380103842474,0.8080752408066576,0.7104402499069273,0.5966898529622522,0.46940432865866916,0.33147098230871624,0.18601865111419538,0.03634673059455964,-0.11414966787661988,-0.2620567307239106,-0.4040193800572155,-0.5368173792169129,-0.6574383796223919,-0.763146251951958,-0.8515431516508296,-0.9206239108925109,-0.9688215231831845,-0.9950426888504812,-0.9986926151137904,-0.9796885081790172,-0.9384614513073021,-0.8759466262561726,-0.7935620999069171,-0.6931766572757445,-0.5770674105747166,-0.447868145905347,-0.3085095792724328,-0.16215287713215878,-0.012117949473717731,0.1381918579880923,0.2853669642503644,0.42606889489891125,0.5571060110253137,0.6755059073729534,0.7785828374549582,0.8639986361936106,0.9298157581309953,0.9745412281085822,0.9971605074521712,0.9971605074521714,0.9745412281085827,0.9298157581309959,0.8639986361936124,0.7785828374549604,0.6755059073729547,0.5571060110253151,0.4260688948989145,0.2853669642503678,0.13819185798809405,-0.012117949473714178,-0.16215287713215526,-0.3085095792724294,-0.44786814590534546,-0.5770674105747166,-0.6931766572757418,-0.793562099906915,-0.8759466262561717,-0.9384614513073009,-0.9796885081790165,-0.9986926151137903,-0.9950426888504813,-0.9688215231831845,-0.9206239108925123,-0.8515431516508314,-0.7631462519519592,-0.6574383796223946,-0.5368173792169159,-0.40401938005721877,-0.26205673072391233,-0.11414966787661988,0.036346730594556086,0.18601865111419189,0.3314709823087146,0.46940432865866605,0.5966898529622493,0.7104402499069248,0.8080752408066565,0.887380103842474,0.9465559121245665,0.984260339991308,0.9996381119077816,0.9923404032704646,0.9625327530362267,0.910891308688031,0.8385874887153673,0.7472614105209482,0.6389846865067881,0.5162134322616778,0.38173255279778107,0.2385925706300149,0.0900404286704637,-0.06055416241647776,-0.20977516168457047,-0.35423768631790886,-0.4906647932617447,-0.6159618123812983,-0.7272865449982155,-0.8221137354429269,-0.8982923531701968,-0.9540943860681269,-0.9882540381483829,-0.9999964424693752,-0.9890552379773757,-0.9556786115579557,-0.9006236682417349,-0.8251392572689414,-0.7309376435809928,-0.6201556673342148,-0.49530627248119463,-0.3592215039304036,-0.21498826631881565,-0.06587830162555902,0.08472602600727804,0.23340845477266906,0.3767963186207785,0.5116370517684393,0.6348719688915061,0.7437056473930562,0.8356693379016281,0.9086769646154519,0.9610724451982202,0.9916672568366182,0.9997673963227968,0.9851891226076556,0.9482631247257539,0.8898270205479255,0.8112063565175696,0.7141845393666888,0.6009623818713199,0.47410818029784657,0.33649945596791037,0.19125768245820704,0.04167747906304506,-0.10884812332678061,-0.2569046486832126,-0.39913362875500813,-0.5323087855187612,-0.6534092150678729,-0.7596879128588213],\"yaxis\":\"y\",\"type\":\"scatter\"}],                        {\"template\":{\"data\":{\"pie\":[{\"automargin\":true,\"type\":\"pie\"}]},\"layout\":{\"xaxis\":{\"showgrid\":true,\"title\":{\"standoff\":15}},\"yaxis\":{\"showgrid\":true,\"title\":{\"standoff\":15}}}},\"xaxis\":{\"anchor\":\"y\",\"domain\":[0.0,1.0],\"title\":{\"text\":\"x\"}},\"yaxis\":{\"anchor\":\"x\",\"domain\":[0.0,1.0],\"title\":{\"text\":\"f(x)\"}},\"legend\":{\"title\":{\"text\":\"Función\"},\"tracegroupgap\":0},\"title\":{\"text\":\"Función seno y Función coseno\"}},                        {\"responsive\": true}                    ).then(function(){\n",
              "                            \n",
              "var gd = document.getElementById('e62c936c-ba83-4e64-ab94-f798b2b6723e');\n",
              "var x = new MutationObserver(function (mutations, observer) {{\n",
              "        var display = window.getComputedStyle(gd).display;\n",
              "        if (!display || display === 'none') {{\n",
              "            console.log([gd, 'removed!']);\n",
              "            Plotly.purge(gd);\n",
              "            observer.disconnect();\n",
              "        }}\n",
              "}});\n",
              "\n",
              "// Listen for the removal of the full notebook cells\n",
              "var notebookContainer = gd.closest('#notebook-container');\n",
              "if (notebookContainer) {{\n",
              "    x.observe(notebookContainer, {childList: true});\n",
              "}}\n",
              "\n",
              "// Listen for the clearing of the current output cell\n",
              "var outputEl = gd.closest('.output');\n",
              "if (outputEl) {{\n",
              "    x.observe(outputEl, {childList: true});\n",
              "}}\n",
              "\n",
              "                        })                };                            </script>        </div>\n",
              "</body>\n",
              "</html>"
            ]
          },
          "metadata": {}
        }
      ]
    },
    {
      "cell_type": "markdown",
      "source": [
        "# **<font color=\"DarkBlue\">Ecuaciones**"
      ],
      "metadata": {
        "id": "NEmFxOBAjlVB"
      },
      "id": "NEmFxOBAjlVB"
    },
    {
      "cell_type": "markdown",
      "source": [
        "<p align=\"justify\">Se forma una ecuación cuando a una función se le asigna el valor $0$ y se pide encontrar los valores de entrada de la función, normalmente $x$, que satisfagan la ecuación. Estos valores se denominan raíces de la función original. El proceso de encontrar estos valores se llama resolución de una ecuación, que es un tema fundamental del álgebra.</p>\n"
      ],
      "metadata": {
        "id": "6OoA7Zqnjoho"
      },
      "id": "6OoA7Zqnjoho"
    },
    {
      "cell_type": "markdown",
      "source": [
        "## **<font color=\"DarkBlue\">Grafica de ecuaciones**"
      ],
      "metadata": {
        "id": "4RLybu0GuoLW"
      },
      "id": "4RLybu0GuoLW"
    },
    {
      "cell_type": "markdown",
      "source": [
        "Se construye una función de $x$ que representa la ganancia total (ingresos menos costo) del restaurante cada mes.\n",
        "La función debe ser $f(x) = 8.99x - 6.56x - 1312.13 = 2.43x - 1312.13$."
      ],
      "metadata": {
        "id": "1fsONzqtRgVP"
      },
      "id": "1fsONzqtRgVP"
    },
    {
      "cell_type": "code",
      "source": [
        "x = np.linspace(0, 750, 751, dtype=int)"
      ],
      "metadata": {
        "id": "yB9Huq-tRs2v"
      },
      "id": "yB9Huq-tRs2v",
      "execution_count": null,
      "outputs": []
    },
    {
      "cell_type": "code",
      "source": [
        "ecuaciones = {\"f(x)=2.43x-1312.13\": 2.43*x - 1312.13}"
      ],
      "metadata": {
        "id": "6_HebmwsTU7i"
      },
      "id": "6_HebmwsTU7i",
      "execution_count": null,
      "outputs": []
    },
    {
      "cell_type": "code",
      "source": [
        "px.line(ecuaciones,\n",
        "        title=\"Ecuaciones\",\n",
        "        markers=True,\n",
        "        labels={\"value\":\"f(x)\",\n",
        "                \"index\":\"x\",\n",
        "                \"variable\":\"Función\"})"
      ],
      "metadata": {
        "id": "HlUlTqoMT0bG",
        "colab": {
          "base_uri": "https://localhost:8080/",
          "height": 542
        },
        "outputId": "06eb06b9-1953-43f9-c88d-b1fc3d987227"
      },
      "id": "HlUlTqoMT0bG",
      "execution_count": null,
      "outputs": [
        {
          "output_type": "display_data",
          "data": {
            "text/html": [
              "<html>\n",
              "<head><meta charset=\"utf-8\" /></head>\n",
              "<body>\n",
              "    <div>            <script src=\"https://cdnjs.cloudflare.com/ajax/libs/mathjax/2.7.5/MathJax.js?config=TeX-AMS-MML_SVG\"></script><script type=\"text/javascript\">if (window.MathJax && window.MathJax.Hub && window.MathJax.Hub.Config) {window.MathJax.Hub.Config({SVG: {font: \"STIX-Web\"}});}</script>                <script type=\"text/javascript\">window.PlotlyConfig = {MathJaxConfig: 'local'};</script>\n",
              "        <script charset=\"utf-8\" src=\"https://cdn.plot.ly/plotly-2.35.2.min.js\"></script>                <div id=\"e922aa1c-aadb-4f27-bb60-36c44082115d\" class=\"plotly-graph-div\" style=\"height:525px; width:100%;\"></div>            <script type=\"text/javascript\">                                    window.PLOTLYENV=window.PLOTLYENV || {};                                    if (document.getElementById(\"e922aa1c-aadb-4f27-bb60-36c44082115d\")) {                    Plotly.newPlot(                        \"e922aa1c-aadb-4f27-bb60-36c44082115d\",                        [{\"hovertemplate\":\"Función=f(x)=2.43x-1312.13\\u003cbr\\u003ex=%{x}\\u003cbr\\u003ef(x)=%{y}\\u003cextra\\u003e\\u003c\\u002fextra\\u003e\",\"legendgroup\":\"f(x)=2.43x-1312.13\",\"line\":{\"color\":\"#1F77B4\",\"dash\":\"solid\"},\"marker\":{\"symbol\":\"circle\"},\"mode\":\"lines+markers\",\"name\":\"f(x)=2.43x-1312.13\",\"orientation\":\"v\",\"showlegend\":true,\"x\":[0,1,2,3,4,5,6,7,8,9,10,11,12,13,14,15,16,17,18,19,20,21,22,23,24,25,26,27,28,29,30,31,32,33,34,35,36,37,38,39,40,41,42,43,44,45,46,47,48,49,50,51,52,53,54,55,56,57,58,59,60,61,62,63,64,65,66,67,68,69,70,71,72,73,74,75,76,77,78,79,80,81,82,83,84,85,86,87,88,89,90,91,92,93,94,95,96,97,98,99,100,101,102,103,104,105,106,107,108,109,110,111,112,113,114,115,116,117,118,119,120,121,122,123,124,125,126,127,128,129,130,131,132,133,134,135,136,137,138,139,140,141,142,143,144,145,146,147,148,149,150,151,152,153,154,155,156,157,158,159,160,161,162,163,164,165,166,167,168,169,170,171,172,173,174,175,176,177,178,179,180,181,182,183,184,185,186,187,188,189,190,191,192,193,194,195,196,197,198,199,200,201,202,203,204,205,206,207,208,209,210,211,212,213,214,215,216,217,218,219,220,221,222,223,224,225,226,227,228,229,230,231,232,233,234,235,236,237,238,239,240,241,242,243,244,245,246,247,248,249,250,251,252,253,254,255,256,257,258,259,260,261,262,263,264,265,266,267,268,269,270,271,272,273,274,275,276,277,278,279,280,281,282,283,284,285,286,287,288,289,290,291,292,293,294,295,296,297,298,299,300,301,302,303,304,305,306,307,308,309,310,311,312,313,314,315,316,317,318,319,320,321,322,323,324,325,326,327,328,329,330,331,332,333,334,335,336,337,338,339,340,341,342,343,344,345,346,347,348,349,350,351,352,353,354,355,356,357,358,359,360,361,362,363,364,365,366,367,368,369,370,371,372,373,374,375,376,377,378,379,380,381,382,383,384,385,386,387,388,389,390,391,392,393,394,395,396,397,398,399,400,401,402,403,404,405,406,407,408,409,410,411,412,413,414,415,416,417,418,419,420,421,422,423,424,425,426,427,428,429,430,431,432,433,434,435,436,437,438,439,440,441,442,443,444,445,446,447,448,449,450,451,452,453,454,455,456,457,458,459,460,461,462,463,464,465,466,467,468,469,470,471,472,473,474,475,476,477,478,479,480,481,482,483,484,485,486,487,488,489,490,491,492,493,494,495,496,497,498,499,500,501,502,503,504,505,506,507,508,509,510,511,512,513,514,515,516,517,518,519,520,521,522,523,524,525,526,527,528,529,530,531,532,533,534,535,536,537,538,539,540,541,542,543,544,545,546,547,548,549,550,551,552,553,554,555,556,557,558,559,560,561,562,563,564,565,566,567,568,569,570,571,572,573,574,575,576,577,578,579,580,581,582,583,584,585,586,587,588,589,590,591,592,593,594,595,596,597,598,599,600,601,602,603,604,605,606,607,608,609,610,611,612,613,614,615,616,617,618,619,620,621,622,623,624,625,626,627,628,629,630,631,632,633,634,635,636,637,638,639,640,641,642,643,644,645,646,647,648,649,650,651,652,653,654,655,656,657,658,659,660,661,662,663,664,665,666,667,668,669,670,671,672,673,674,675,676,677,678,679,680,681,682,683,684,685,686,687,688,689,690,691,692,693,694,695,696,697,698,699,700,701,702,703,704,705,706,707,708,709,710,711,712,713,714,715,716,717,718,719,720,721,722,723,724,725,726,727,728,729,730,731,732,733,734,735,736,737,738,739,740,741,742,743,744,745,746,747,748,749,750],\"xaxis\":\"x\",\"y\":[-1312.13,-1309.7,-1307.2700000000002,-1304.8400000000001,-1302.41,-1299.98,-1297.5500000000002,-1295.1200000000001,-1292.69,-1290.2600000000002,-1287.8300000000002,-1285.4,-1282.97,-1280.5400000000002,-1278.1100000000001,-1275.68,-1273.25,-1270.8200000000002,-1268.39,-1265.96,-1263.5300000000002,-1261.1000000000001,-1258.67,-1256.24,-1253.8100000000002,-1251.38,-1248.95,-1246.5200000000002,-1244.0900000000001,-1241.66,-1239.23,-1236.8000000000002,-1234.3700000000001,-1231.94,-1229.5100000000002,-1227.0800000000002,-1224.65,-1222.22,-1219.7900000000002,-1217.3600000000001,-1214.93,-1212.5,-1210.0700000000002,-1207.64,-1205.21,-1202.7800000000002,-1200.3500000000001,-1197.92,-1195.49,-1193.0600000000002,-1190.63,-1188.2,-1185.77,-1183.3400000000001,-1180.91,-1178.48,-1176.0500000000002,-1173.6200000000001,-1171.19,-1168.7600000000002,-1166.3300000000002,-1163.9,-1161.47,-1159.0400000000002,-1156.6100000000001,-1154.18,-1151.75,-1149.3200000000002,-1146.89,-1144.46,-1142.0300000000002,-1139.6000000000001,-1137.17,-1134.74,-1132.3100000000002,-1129.88,-1127.45,-1125.02,-1122.5900000000001,-1120.16,-1117.73,-1115.3000000000002,-1112.8700000000001,-1110.44,-1108.0100000000002,-1105.5800000000002,-1103.15,-1100.72,-1098.2900000000002,-1095.8600000000001,-1093.43,-1091.0,-1088.5700000000002,-1086.14,-1083.71,-1081.2800000000002,-1078.8500000000001,-1076.42,-1073.99,-1071.5600000000002,-1069.13,-1066.7,-1064.27,-1061.8400000000001,-1059.41,-1056.98,-1054.5500000000002,-1052.1200000000001,-1049.69,-1047.2600000000002,-1044.8300000000002,-1042.4,-1039.97,-1037.54,-1035.1100000000001,-1032.68,-1030.25,-1027.8200000000002,-1025.39,-1022.96,-1020.5300000000001,-1018.1000000000001,-1015.6700000000001,-1013.24,-1010.8100000000002,-1008.3800000000001,-1005.95,-1003.5200000000001,-1001.0900000000001,-998.6600000000001,-996.23,-993.8000000000001,-991.3700000000001,-988.94,-986.5100000000001,-984.0800000000002,-981.6500000000001,-979.22,-976.7900000000001,-974.3600000000001,-971.9300000000001,-969.5000000000001,-967.0700000000002,-964.6400000000001,-962.21,-959.7800000000001,-957.3500000000001,-954.9200000000001,-952.49,-950.0600000000001,-947.6300000000001,-945.2,-942.7700000000001,-940.3400000000001,-937.9100000000001,-935.48,-933.0500000000001,-930.6200000000001,-928.19,-925.7600000000001,-923.3300000000002,-920.9000000000001,-918.47,-916.0400000000001,-913.6100000000001,-911.1800000000001,-908.75,-906.3200000000002,-903.8900000000001,-901.46,-899.0300000000001,-896.6000000000001,-894.1700000000001,-891.74,-889.3100000000001,-886.8800000000001,-884.45,-882.0200000000001,-879.5900000000001,-877.1600000000001,-874.73,-872.3000000000001,-869.8700000000001,-867.44,-865.0100000000001,-862.5800000000002,-860.1500000000001,-857.72,-855.2900000000001,-852.8600000000001,-850.4300000000001,-848.0,-845.57,-843.1400000000001,-840.71,-838.2800000000001,-835.8500000000001,-833.4200000000001,-830.99,-828.5600000000001,-826.1300000000001,-823.7,-821.2700000000001,-818.8400000000001,-816.4100000000001,-813.98,-811.5500000000001,-809.1200000000001,-806.69,-804.26,-801.8300000000002,-799.4000000000001,-796.97,-794.5400000000001,-792.1100000000001,-789.6800000000001,-787.2500000000001,-784.82,-782.3900000000001,-779.96,-777.5300000000001,-775.1,-772.6700000000001,-770.2400000000001,-767.8100000000001,-765.3800000000001,-762.95,-760.5200000000001,-758.09,-755.6600000000001,-753.23,-750.8000000000001,-748.3700000000001,-745.94,-743.5100000000001,-741.08,-738.6500000000001,-736.22,-733.7900000000001,-731.3600000000001,-728.9300000000001,-726.5000000000001,-724.07,-721.6400000000001,-719.21,-716.7800000000001,-714.35,-711.9200000000001,-709.4900000000001,-707.0600000000001,-704.6300000000001,-702.2,-699.7700000000001,-697.34,-694.9100000000001,-692.48,-690.0500000000001,-687.6200000000001,-685.19,-682.7600000000001,-680.33,-677.9000000000001,-675.47,-673.0400000000001,-670.61,-668.1800000000001,-665.7500000000001,-663.32,-660.8900000000001,-658.46,-656.0300000000001,-653.6,-651.1700000000001,-648.74,-646.3100000000001,-643.8800000000001,-641.45,-639.0200000000001,-636.59,-634.1600000000001,-631.73,-629.3000000000001,-626.8700000000001,-624.44,-622.0100000000001,-619.58,-617.1500000000001,-614.72,-612.2900000000001,-609.86,-607.4300000000001,-605.0000000000001,-602.57,-600.1400000000001,-597.71,-595.2800000000001,-592.85,-590.4200000000001,-587.99,-585.5600000000001,-583.1300000000001,-580.7,-578.2700000000001,-575.84,-573.4100000000001,-570.98,-568.5500000000001,-566.12,-563.69,-561.2600000000001,-558.83,-556.4000000000001,-553.97,-551.5400000000001,-549.11,-546.6800000000001,-544.2500000000001,-541.82,-539.3900000000001,-536.96,-534.5300000000001,-532.1,-529.6700000000001,-527.24,-524.8100000000001,-522.3800000000001,-519.95,-517.5200000000001,-515.09,-512.6600000000001,-510.23,-507.80000000000007,-505.37,-502.94000000000005,-500.5100000000001,-498.08000000000004,-495.6500000000001,-493.22,-490.7900000000001,-488.36,-485.93000000000006,-483.5,-481.07000000000005,-478.6400000000001,-476.21000000000004,-473.7800000000001,-471.35,-468.9200000000001,-466.49,-464.06000000000006,-461.6300000000001,-459.20000000000005,-456.7700000000001,-454.34000000000003,-451.9100000000001,-449.48,-447.05000000000007,-444.62,-442.19000000000005,-439.7600000000001,-437.33000000000004,-434.9000000000001,-432.47,-430.0400000000001,-427.61,-425.18000000000006,-422.75,-420.32000000000005,-417.8900000000001,-415.46000000000004,-413.0300000000001,-410.6,-408.1700000000001,-405.74,-403.31000000000006,-400.88,-398.45000000000005,-396.0200000000001,-393.59000000000003,-391.1600000000001,-388.73,-386.30000000000007,-383.87,-381.44000000000005,-379.01,-376.58000000000004,-374.1500000000001,-371.72,-369.2900000000001,-366.86,-364.43000000000006,-362.0,-359.57000000000005,-357.1400000000001,-354.71000000000004,-352.2800000000001,-349.85,-347.4200000000001,-344.99,-342.56000000000006,-340.13,-337.70000000000005,-335.2700000000001,-332.84000000000003,-330.4100000000001,-327.98,-325.55000000000007,-323.12,-320.69000000000005,-318.26,-315.83000000000004,-313.4000000000001,-310.97,-308.5400000000001,-306.11,-303.68000000000006,-301.25,-298.82000000000005,-296.39,-293.96000000000004,-291.5300000000001,-289.1,-286.6700000000001,-284.24,-281.80999999999995,-279.3800000000001,-276.95000000000005,-274.52,-272.09000000000015,-269.6600000000001,-267.23,-264.79999999999995,-262.3700000000001,-259.94000000000005,-257.51,-255.07999999999993,-252.6500000000001,-250.22000000000003,-247.78999999999996,-245.36000000000013,-242.93000000000006,-240.5,-238.06999999999994,-235.6400000000001,-233.21000000000004,-230.77999999999997,-228.35000000000014,-225.92000000000007,-223.49,-221.05999999999995,-218.6300000000001,-216.20000000000005,-213.76999999999998,-211.34000000000015,-208.91000000000008,-206.48000000000002,-204.04999999999995,-201.62000000000012,-199.19000000000005,-196.76,-194.32999999999993,-191.9000000000001,-189.47000000000003,-187.03999999999996,-184.61000000000013,-182.18000000000006,-179.75,-177.31999999999994,-174.8900000000001,-172.46000000000004,-170.02999999999997,-167.60000000000014,-165.17000000000007,-162.74,-160.30999999999995,-157.8800000000001,-155.45000000000005,-153.01999999999998,-150.59000000000015,-148.16000000000008,-145.73000000000002,-143.29999999999995,-140.87000000000012,-138.44000000000005,-136.01,-133.57999999999993,-131.1500000000001,-128.72000000000003,-126.28999999999996,-123.86000000000013,-121.43000000000006,-119.0,-116.56999999999994,-114.1400000000001,-111.71000000000004,-109.27999999999997,-106.85000000000014,-104.42000000000007,-101.99000000000001,-99.55999999999995,-97.13000000000011,-94.70000000000005,-92.26999999999998,-89.83999999999992,-87.41000000000008,-84.98000000000002,-82.54999999999995,-80.12000000000012,-77.69000000000005,-75.25999999999999,-72.82999999999993,-70.40000000000009,-67.97000000000003,-65.53999999999996,-63.11000000000013,-60.680000000000064,-58.25,-55.819999999999936,-53.3900000000001,-50.960000000000036,-48.52999999999997,-46.100000000000136,-43.67000000000007,-41.24000000000001,-38.809999999999945,-36.38000000000011,-33.950000000000045,-31.519999999999982,-29.089999999999918,-26.660000000000082,-24.230000000000018,-21.799999999999955,-19.37000000000012,-16.940000000000055,-14.509999999999991,-12.079999999999927,-9.650000000000091,-7.220000000000027,-4.789999999999964,-2.3600000000001273,0.06999999999993634,2.5,4.930000000000064,7.3599999999999,9.789999999999964,12.220000000000027,14.650000000000091,17.079999999999927,19.50999999999999,21.940000000000055,24.36999999999989,26.799999999999955,29.230000000000018,31.660000000000082,34.08999999999992,36.51999999999998,38.950000000000045,41.37999999999988,43.809999999999945,46.24000000000001,48.67000000000007,51.09999999999991,53.52999999999997,55.960000000000036,58.38999999999987,60.819999999999936,63.25,65.68000000000006,68.1099999999999,70.53999999999996,72.97000000000003,75.40000000000009,77.82999999999993,80.25999999999999,82.69000000000005,85.11999999999989,87.54999999999995,89.98000000000002,92.41000000000008,94.83999999999992,97.26999999999998,99.70000000000005,102.12999999999988,104.55999999999995,106.99000000000001,109.42000000000007,111.84999999999991,114.27999999999997,116.71000000000004,119.13999999999987,121.56999999999994,124.0,126.43000000000006,128.8599999999999,131.28999999999996,133.72000000000003,136.1500000000001,138.57999999999993,141.01,143.44000000000005,145.8699999999999,148.29999999999995,150.73000000000002,153.16000000000008,155.58999999999992,158.01999999999998,160.45000000000005,162.87999999999988,165.30999999999995,167.74,170.17000000000007,172.5999999999999,175.02999999999997,177.46000000000004,179.8900000000001,182.31999999999994,184.75,187.18000000000006,189.6099999999999,192.03999999999996,194.47000000000003,196.9000000000001,199.32999999999993,201.76,204.19000000000005,206.6199999999999,209.04999999999995,211.48000000000002,213.91000000000008,216.33999999999992,218.76999999999998,221.20000000000005,223.62999999999988,226.05999999999995,228.49,230.92000000000007,233.3499999999999,235.77999999999997,238.21000000000004,240.6400000000001,243.06999999999994,245.5,247.93000000000006,250.3599999999999,252.78999999999996,255.22000000000003,257.6500000000001,260.0799999999999,262.51,264.94000000000005,267.3699999999999,269.79999999999995,272.23,274.6600000000001,277.0899999999999,279.52,281.95000000000005,284.3800000000001,286.80999999999995,289.24,291.6700000000001,294.0999999999999,296.53,298.96000000000004,301.3900000000001,303.81999999999994,306.25,308.68000000000006,311.1099999999999,313.53999999999996,315.97,318.4000000000001,320.8299999999999,323.26,325.69000000000005,328.1199999999999,330.54999999999995,332.98,335.4100000000001,337.8399999999999,340.27,342.70000000000005,345.1300000000001,347.55999999999995,349.99,352.4200000000001,354.8499999999999,357.28,359.71000000000004,362.1400000000001,364.56999999999994,367.0,369.43000000000006,371.8599999999999,374.28999999999996,376.72,379.1500000000001,381.5799999999999,384.01,386.44000000000005,388.8699999999999,391.29999999999995,393.73,396.1600000000001,398.5899999999999,401.02,403.45000000000005,405.8800000000001,408.30999999999995,410.74,413.1700000000001,415.5999999999999,418.03,420.46000000000004,422.8900000000001,425.31999999999994,427.75,430.18000000000006,432.6099999999999,435.03999999999996,437.47,439.9000000000001,442.3299999999999,444.76,447.19000000000005,449.6200000000001,452.04999999999995,454.48,456.9100000000001,459.3399999999999,461.77,464.20000000000005,466.6300000000001,469.05999999999995,471.49,473.9200000000001,476.3499999999999,478.78,481.21000000000004,483.6400000000001,486.06999999999994,488.5,490.93000000000006,493.3599999999999,495.78999999999996,498.22,500.6500000000001,503.0799999999999,505.51,507.94000000000005,510.3700000000001],\"yaxis\":\"y\",\"type\":\"scatter\"}],                        {\"template\":{\"data\":{\"pie\":[{\"automargin\":true,\"type\":\"pie\"}]},\"layout\":{\"xaxis\":{\"showgrid\":true,\"title\":{\"standoff\":15}},\"yaxis\":{\"showgrid\":true,\"title\":{\"standoff\":15}}}},\"xaxis\":{\"anchor\":\"y\",\"domain\":[0.0,1.0],\"title\":{\"text\":\"x\"}},\"yaxis\":{\"anchor\":\"x\",\"domain\":[0.0,1.0],\"title\":{\"text\":\"f(x)\"}},\"legend\":{\"title\":{\"text\":\"Función\"},\"tracegroupgap\":0},\"title\":{\"text\":\"Ecuaciones\"}},                        {\"responsive\": true}                    ).then(function(){\n",
              "                            \n",
              "var gd = document.getElementById('e922aa1c-aadb-4f27-bb60-36c44082115d');\n",
              "var x = new MutationObserver(function (mutations, observer) {{\n",
              "        var display = window.getComputedStyle(gd).display;\n",
              "        if (!display || display === 'none') {{\n",
              "            console.log([gd, 'removed!']);\n",
              "            Plotly.purge(gd);\n",
              "            observer.disconnect();\n",
              "        }}\n",
              "}});\n",
              "\n",
              "// Listen for the removal of the full notebook cells\n",
              "var notebookContainer = gd.closest('#notebook-container');\n",
              "if (notebookContainer) {{\n",
              "    x.observe(notebookContainer, {childList: true});\n",
              "}}\n",
              "\n",
              "// Listen for the clearing of the current output cell\n",
              "var outputEl = gd.closest('.output');\n",
              "if (outputEl) {{\n",
              "    x.observe(outputEl, {childList: true});\n",
              "}}\n",
              "\n",
              "                        })                };                            </script>        </div>\n",
              "</body>\n",
              "</html>"
            ]
          },
          "metadata": {}
        }
      ]
    },
    {
      "cell_type": "markdown",
      "source": [
        "<p align=\"justify\">La intersección de nuestra curva de ganancias y la línea horizontal representa el punto de equilibrio. En este caso, vemos que está aproximadamente en la coordenada $x$ de $540$, que corresponde al punto de equilibrio real.</p>\n",
        "\n"
      ],
      "metadata": {
        "id": "cQcL7b1vV4Ad"
      },
      "id": "cQcL7b1vV4Ad"
    },
    {
      "cell_type": "markdown",
      "source": [
        "<p align=\"justify\">Digamos que el restaurante, en promedio, vende $400$ hamburguesas cada mes y $x$ es el precio de una hamburguesa que el restaurante puede establecer para alcanzar el punto de equilibrio.</p><br>\n",
        "\n",
        "<p align=\"justify\">Con $x$ siendo el precio de una hamburguesa, $400x$ es la ganancia que el restaurante obtendrá, mientras que $(400) \\cdot 6.56 + 1312.13 = 3936.13$ (es decir, $6.56$ por cada hamburguesa y una cantidad fija de $1312.13$) es el costo en el que incurrirá el restaurante. Por lo tanto, la ecuación para $x$ será:</p><br>\n",
        "\n",
        "<p align=\"justify\">$400x = 3936.13$</p>\n"
      ],
      "metadata": {
        "id": "kNxV3G40XQKv"
      },
      "id": "kNxV3G40XQKv"
    },
    {
      "cell_type": "code",
      "source": [
        "x = np.linspace(0, 50, 51, dtype=int)\n",
        "x"
      ],
      "metadata": {
        "id": "HostDzrvZyF4",
        "colab": {
          "base_uri": "https://localhost:8080/"
        },
        "outputId": "0c60d6ff-640b-4825-aa2b-aa8a15bd2e9a"
      },
      "id": "HostDzrvZyF4",
      "execution_count": null,
      "outputs": [
        {
          "output_type": "execute_result",
          "data": {
            "text/plain": [
              "array([ 0,  1,  2,  3,  4,  5,  6,  7,  8,  9, 10, 11, 12, 13, 14, 15, 16,\n",
              "       17, 18, 19, 20, 21, 22, 23, 24, 25, 26, 27, 28, 29, 30, 31, 32, 33,\n",
              "       34, 35, 36, 37, 38, 39, 40, 41, 42, 43, 44, 45, 46, 47, 48, 49, 50])"
            ]
          },
          "metadata": {},
          "execution_count": 45
        }
      ]
    },
    {
      "cell_type": "code",
      "source": [
        "ecuaciones = {\"f(x)=400x-3936.13\": 400*x - 3936.13}"
      ],
      "metadata": {
        "id": "uWfKXC7pYwsZ"
      },
      "id": "uWfKXC7pYwsZ",
      "execution_count": null,
      "outputs": []
    },
    {
      "cell_type": "code",
      "source": [
        "px.line(ecuaciones,\n",
        "        title=\"Ecuaciones\",\n",
        "        markers=True,\n",
        "        labels={\"value\":\"f(x)\",\n",
        "                \"index\":\"x\",\n",
        "                \"variable\":\"Función\"})"
      ],
      "metadata": {
        "id": "6j5Wl_RBZI4Q",
        "colab": {
          "base_uri": "https://localhost:8080/",
          "height": 542
        },
        "outputId": "8a3767bb-4bbb-4f88-cdb0-e7e9e1d39f7b"
      },
      "id": "6j5Wl_RBZI4Q",
      "execution_count": null,
      "outputs": [
        {
          "output_type": "display_data",
          "data": {
            "text/html": [
              "<html>\n",
              "<head><meta charset=\"utf-8\" /></head>\n",
              "<body>\n",
              "    <div>            <script src=\"https://cdnjs.cloudflare.com/ajax/libs/mathjax/2.7.5/MathJax.js?config=TeX-AMS-MML_SVG\"></script><script type=\"text/javascript\">if (window.MathJax && window.MathJax.Hub && window.MathJax.Hub.Config) {window.MathJax.Hub.Config({SVG: {font: \"STIX-Web\"}});}</script>                <script type=\"text/javascript\">window.PlotlyConfig = {MathJaxConfig: 'local'};</script>\n",
              "        <script charset=\"utf-8\" src=\"https://cdn.plot.ly/plotly-2.35.2.min.js\"></script>                <div id=\"c4754255-39de-4121-9cb5-d6d797a732bd\" class=\"plotly-graph-div\" style=\"height:525px; width:100%;\"></div>            <script type=\"text/javascript\">                                    window.PLOTLYENV=window.PLOTLYENV || {};                                    if (document.getElementById(\"c4754255-39de-4121-9cb5-d6d797a732bd\")) {                    Plotly.newPlot(                        \"c4754255-39de-4121-9cb5-d6d797a732bd\",                        [{\"hovertemplate\":\"Función=f(x)=400x-3936.13\\u003cbr\\u003ex=%{x}\\u003cbr\\u003ef(x)=%{y}\\u003cextra\\u003e\\u003c\\u002fextra\\u003e\",\"legendgroup\":\"f(x)=400x-3936.13\",\"line\":{\"color\":\"#1F77B4\",\"dash\":\"solid\"},\"marker\":{\"symbol\":\"circle\"},\"mode\":\"lines+markers\",\"name\":\"f(x)=400x-3936.13\",\"orientation\":\"v\",\"showlegend\":true,\"x\":[0,1,2,3,4,5,6,7,8,9,10,11,12,13,14,15,16,17,18,19,20,21,22,23,24,25,26,27,28,29,30,31,32,33,34,35,36,37,38,39,40,41,42,43,44,45,46,47,48,49,50],\"xaxis\":\"x\",\"y\":[-3936.13,-3536.13,-3136.13,-2736.13,-2336.13,-1936.13,-1536.13,-1136.13,-736.1300000000001,-336.1300000000001,63.86999999999989,463.8699999999999,863.8699999999999,1263.87,1663.87,2063.87,2463.87,2863.87,3263.87,3663.87,4063.87,4463.87,4863.87,5263.87,5663.87,6063.87,6463.87,6863.87,7263.87,7663.87,8063.87,8463.869999999999,8863.869999999999,9263.869999999999,9663.869999999999,10063.869999999999,10463.869999999999,10863.869999999999,11263.869999999999,11663.869999999999,12063.869999999999,12463.869999999999,12863.869999999999,13263.869999999999,13663.869999999999,14063.869999999999,14463.869999999999,14863.869999999999,15263.869999999999,15663.869999999999,16063.869999999999],\"yaxis\":\"y\",\"type\":\"scatter\"}],                        {\"template\":{\"data\":{\"pie\":[{\"automargin\":true,\"type\":\"pie\"}]},\"layout\":{\"xaxis\":{\"showgrid\":true,\"title\":{\"standoff\":15}},\"yaxis\":{\"showgrid\":true,\"title\":{\"standoff\":15}}}},\"xaxis\":{\"anchor\":\"y\",\"domain\":[0.0,1.0],\"title\":{\"text\":\"x\"}},\"yaxis\":{\"anchor\":\"x\",\"domain\":[0.0,1.0],\"title\":{\"text\":\"f(x)\"}},\"legend\":{\"title\":{\"text\":\"Función\"},\"tracegroupgap\":0},\"title\":{\"text\":\"Ecuaciones\"}},                        {\"responsive\": true}                    ).then(function(){\n",
              "                            \n",
              "var gd = document.getElementById('c4754255-39de-4121-9cb5-d6d797a732bd');\n",
              "var x = new MutationObserver(function (mutations, observer) {{\n",
              "        var display = window.getComputedStyle(gd).display;\n",
              "        if (!display || display === 'none') {{\n",
              "            console.log([gd, 'removed!']);\n",
              "            Plotly.purge(gd);\n",
              "            observer.disconnect();\n",
              "        }}\n",
              "}});\n",
              "\n",
              "// Listen for the removal of the full notebook cells\n",
              "var notebookContainer = gd.closest('#notebook-container');\n",
              "if (notebookContainer) {{\n",
              "    x.observe(notebookContainer, {childList: true});\n",
              "}}\n",
              "\n",
              "// Listen for the clearing of the current output cell\n",
              "var outputEl = gd.closest('.output');\n",
              "if (outputEl) {{\n",
              "    x.observe(outputEl, {childList: true});\n",
              "}}\n",
              "\n",
              "                        })                };                            </script>        </div>\n",
              "</body>\n",
              "</html>"
            ]
          },
          "metadata": {}
        }
      ]
    },
    {
      "cell_type": "code",
      "source": [
        "x = Symbol('x')\n",
        "ecuacion = solve(400 * x - 3936.13, x)\n",
        "ecuacion"
      ],
      "metadata": {
        "colab": {
          "base_uri": "https://localhost:8080/"
        },
        "id": "-NT22fU4gSA0",
        "outputId": "638e60f4-95cf-450a-e392-09723ae5eb1e"
      },
      "id": "-NT22fU4gSA0",
      "execution_count": null,
      "outputs": [
        {
          "output_type": "execute_result",
          "data": {
            "text/plain": [
              "[9.84032500000000]"
            ]
          },
          "metadata": {},
          "execution_count": 48
        }
      ]
    },
    {
      "cell_type": "markdown",
      "source": [
        "<br>\n",
        "<p align=\"center\"><b>\n",
        "💗\n",
        "<font color=\"DarkBlue\">\n",
        "Hemos llegado al final de nuestro caso en colab, a seguir experimentando...\n",
        "</font>\n",
        "</p>\n"
      ],
      "metadata": {
        "id": "33r1m53wbhx_"
      },
      "id": "33r1m53wbhx_"
    }
  ],
  "metadata": {
    "kernelspec": {
      "display_name": "Python 3 (ipykernel)",
      "language": "python",
      "name": "python3"
    },
    "language_info": {
      "codemirror_mode": {
        "name": "ipython",
        "version": 3
      },
      "file_extension": ".py",
      "mimetype": "text/x-python",
      "name": "python",
      "nbconvert_exporter": "python",
      "pygments_lexer": "ipython3",
      "version": "3.10.2"
    },
    "colab": {
      "provenance": []
    }
  },
  "nbformat": 4,
  "nbformat_minor": 5
}