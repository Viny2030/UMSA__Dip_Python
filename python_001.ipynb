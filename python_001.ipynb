{
  "nbformat": 4,
  "nbformat_minor": 0,
  "metadata": {
    "colab": {
      "provenance": [],
      "collapsed_sections": [
        "v8abc96k3sr9",
        "8d84UNXMLeVr",
        "7k7GRoTN1dlo",
        "z9nwWrgxpBb_",
        "FN7JCLos2fgD"
      ]
    },
    "kernelspec": {
      "name": "python3",
      "display_name": "Python 3"
    },
    "language_info": {
      "name": "python"
    }
  },
  "cells": [
    {
      "cell_type": "markdown",
      "source": [
        "# **<font color=\"DarkBlue\">Primeros pasos con Python</font>**"
      ],
      "metadata": {
        "id": "i0TNZN0yhyoJ"
      }
    },
    {
      "cell_type": "markdown",
      "source": [
        "<p align=\"center\">\n",
        "<img src=\"https://pypi.org/static/images/logo-small.8998e9d1.svg\" width=\"90\" height=\"\">\n",
        "</p>"
      ],
      "metadata": {
        "id": "gjpEYi_23t-3"
      }
    },
    {
      "cell_type": "markdown",
      "source": [
        "<p align=\"justify\"><b>\n",
        "<font color=\"DarkBlue\">\n",
        "💗 Todo el mundo deberia aprender a programar, porque te enseña a pensar...\n",
        "</font>\n",
        "</p>\n",
        "<p align=\"right\"><b>\n",
        "<font color=\"DarkBlue\">\n",
        "Steve Jobs (1995)\n",
        "</font>\n",
        "</p>\n",
        "<br>\n",
        "<br>\n",
        "\n"
      ],
      "metadata": {
        "id": "vy2CAnk9uZ9E"
      }
    },
    {
      "cell_type": "markdown",
      "source": [
        "<p align=\"justify\">\n",
        "Python es un lenguaje de programación de alto nivel, interpretado y de propósito general, creado por Guido van Rossum y lanzado por primera vez en 1991. Van Rossum desarrolló Python como un sucesor del lenguaje ABC, con la intención de corregir sus limitaciones. El nombre \"Python\" proviene del grupo de comedia británico \"Monty Python\", lo que refleja la preferencia de Van Rossum por un lenguaje que no solo fuera poderoso y fácil de usar, sino también divertido.\n",
        "<br><br>\n",
        "Desde sus inicios, Python ha evolucionado significativamente a través de varias versiones. Las más notables incluyen Python 2.0, lanzado en 2000, que introdujo características las listas de comprensión, y Python 3.0, lanzado en 2008, que trajo mejoras en la legibilidad y la consistencia del lenguaje, aunque no fue completamente compatible hacia atrás con Python 2.x.\n",
        "<br><br>\n",
        "A pesar de los desafíos en la transición de Python 2 a Python 3, la comunidad ha adoptado ampliamente Python 3.x debido a sus ventajas en eficiencia y modernidad.\n",
        "<br><br>\n"
      ],
      "metadata": {
        "id": "bPzIyxZAi0UO"
      }
    },
    {
      "cell_type": "markdown",
      "source": [
        "## **<font color=\"DarkBlue\">Popularidad y comunidad</font>**"
      ],
      "metadata": {
        "id": "7CT9wTanip5-"
      }
    },
    {
      "cell_type": "markdown",
      "source": [
        "<p align=\"justify\">\n",
        "Una de las claves del éxito de Python es su vasta y activa comunidad. Los desarrolladores de Python contribuyen con una gran cantidad de bibliotecas y herramientas que facilitan el trabajo en diversos campos, desde el desarrollo web hasta la inteligencia artificial y el análisis de datos. La filosofía de diseño de Python, que enfatiza la simplicidad y la legibilidad del código, ha hecho que el lenguaje sea accesible tanto para principiantes como para expertos.\n",
        "<br><br>\n"
      ],
      "metadata": {
        "id": "ZGgZvqNuiqjv"
      }
    },
    {
      "cell_type": "markdown",
      "source": [
        "## **<font color=\"DarkBlue\">Python en el análisis de datos</font>**"
      ],
      "metadata": {
        "id": "5Q4AaN8qkrqi"
      }
    },
    {
      "cell_type": "markdown",
      "source": [
        "<p align=\"justify\">\n",
        "Python se ha convertido en una herramienta fundamental en el análisis de datos debido a varias razones:\n",
        "<br><br>\n",
        "\n",
        "1. **Simplicidad y legibilidad**: Python tiene una sintaxis clara y fácil de aprender que permite a los analistas de datos concentrarse en resolver problemas en lugar de lidiar con las complejidades del lenguaje.\n",
        "   \n",
        "2. **Ecosistema robusto**: Existen numerosas bibliotecas diseñadas específicamente para el análisis de datos, como:\n",
        "   - **NumPy**: Proporciona soporte para arrays de gran tamaño y matrices multidimensionales, junto con una amplia colección de funciones matemáticas.\n",
        "   - **Pandas**: Ofrece estructuras de datos y herramientas de análisis de datos de alto rendimiento y fáciles de usar.\n",
        "   - **Matplotlib, Seaborn y Plotly**: Facilitan la visualización de datos a través de gráficos estáticos, animados e interactivos.\n",
        "   - **Scikit-learn**: Incluye algoritmos eficientes y herramientas para el aprendizaje automático y la minería de datos.\n",
        "\n",
        "3. **Integración**: Python se integra bien con otros lenguajes y tecnologías, lo que permite a los especialistas en datos usar Python junto con bases de datos SQL, sistemas de big data como Hadoop y herramientas de visualización interactivas como Tableau.\n",
        "\n",
        "4. **Comunidad y soporte**: La comunidad de Python es grande y activa, ofreciendo abundantes recursos de aprendizaje, foros de discusión, y conferencias como PyCon, que permiten a los profesionales mantenerse actualizados con las últimas tendencias y mejores prácticas en el análisis de datos.\n",
        "\n"
      ],
      "metadata": {
        "id": "O7DKU7UckONH"
      }
    },
    {
      "cell_type": "markdown",
      "source": [
        "## **<font color=\"DarkBlue\">El rol del especialista en Python en el análisis de datos</font>**"
      ],
      "metadata": {
        "id": "RfZWDpa6k5ZL"
      }
    },
    {
      "cell_type": "markdown",
      "source": [
        "<p align=\"justify\">\n",
        "Un especialista en Python para el análisis de datos desempeña varios roles cruciales:\n",
        "<br><br>\n",
        "\n",
        "1. **Extracción y transformación de datos**: Utiliza Python para recolectar datos de diversas fuentes, limpiar datos sucios y transformarlos en un formato adecuado para el análisis.\n",
        "   \n",
        "2. **Análisis exploratorio de datos (EDA)**: Emplea herramientas de visualización y análisis estadístico para comprender las características básicas del conjunto de datos y encontrar patrones interesantes.\n",
        "\n",
        "3. **Modelado y predicción**: Aplica técnicas de aprendizaje automático para construir modelos predictivos que ayuden a tomar decisiones informadas basadas en datos históricos.\n",
        "\n",
        "4. **Automatización**: Desarrolla scripts y aplicaciones para automatizar tareas repetitivas en el flujo de trabajo de análisis de datos, aumentando la eficiencia y reduciendo el error humano.\n",
        "\n",
        "5. **Comunicación de resultados**: Utiliza visualizaciones y informes claros y concisos para comunicar los hallazgos y las recomendaciones a los interesados, ayudando a transformar datos en decisiones estratégicas.\n"
      ],
      "metadata": {
        "id": "a4aTeQ6qkU2H"
      }
    },
    {
      "cell_type": "markdown",
      "source": [
        "# **<font color=\"DarkBlue\">Sintaxis básica</font>**"
      ],
      "metadata": {
        "id": "D1thTMjlhG0c"
      }
    },
    {
      "cell_type": "markdown",
      "source": [
        "<p align=\"justify\">\n",
        "La sintaxis de Python es conocida por su simplicidad y legibilidad, lo que la hace accesible tanto para principiantes como para programadores experimentados. A continuación, se presenta una visión general de los elementos básicos de la sintaxis de Python."
      ],
      "metadata": {
        "id": "FabOxSk9_o-P"
      }
    },
    {
      "cell_type": "markdown",
      "source": [
        "## **<font color=\"DarkBlue\">Comentarios</font>**"
      ],
      "metadata": {
        "id": "jJorYGrC_5u3"
      }
    },
    {
      "cell_type": "markdown",
      "source": [
        "<p align=\"justify\">\n",
        "Los comentarios en Python se utilizan para dejar notas o explicaciones en el código y no son ejecutados..."
      ],
      "metadata": {
        "id": "F9i9TA0RAFw6"
      }
    },
    {
      "cell_type": "markdown",
      "source": [
        "### **<font color=\"DarkBlue\">Comentarios de una sola línea</font>**"
      ],
      "metadata": {
        "id": "VF0ciWoIALOp"
      }
    },
    {
      "cell_type": "markdown",
      "source": [
        "Se indican con el símbolo `#`"
      ],
      "metadata": {
        "id": "crZl1W1LASZX"
      }
    },
    {
      "cell_type": "code",
      "source": [
        "# Esto es un comentario de una sola línea"
      ],
      "metadata": {
        "id": "hZJNrMmI_9JY"
      },
      "execution_count": null,
      "outputs": []
    },
    {
      "cell_type": "markdown",
      "source": [
        "### **<font color=\"DarkBlue\">Comentarios de varias líneas</font>**"
      ],
      "metadata": {
        "id": "2RqS44u2Ajwe"
      }
    },
    {
      "cell_type": "markdown",
      "source": [
        "Se pueden hacer con comillas triples (simples o dobles)..."
      ],
      "metadata": {
        "id": "2NZfS0XRAk_T"
      }
    },
    {
      "cell_type": "code",
      "source": [
        "\"\"\"\n",
        "Esto es un comentario\n",
        "de varias líneas\n",
        "\"\"\""
      ],
      "metadata": {
        "id": "pi3W_8oEAlgN"
      },
      "execution_count": null,
      "outputs": []
    },
    {
      "cell_type": "markdown",
      "source": [
        "## **<font color=\"DarkBlue\">Variables y tipos de datos</font>**"
      ],
      "metadata": {
        "id": "_fRBXj8mbrnO"
      }
    },
    {
      "cell_type": "markdown",
      "source": [
        "### **<font color=\"DarkBlue\">Variables</font>**"
      ],
      "metadata": {
        "id": "fP66J0qkBaaw"
      }
    },
    {
      "cell_type": "markdown",
      "source": [
        "<p align=\"justify\">\n",
        "Una variable es \"algo\" en lo que puedes almacenar información para su uso posterior. En Python, una variable puede almacenar un número, una letra, un conjunto de números o de letras o incluso conjuntos de conjuntos.\n",
        "<br><br>\n",
        "Las letras permitidas para la generacion de variables son las letras del alfabeto inglés, por lo que están prohibidas la ñ, la ç o las vocales con acentos y dieresis.\n",
        "<br><br>\n",
        "En caso de que se otorgue un nombre incorrecto a una variable, Python mostrará un mensaje de error al ejecutar el script. Aunque no es obligatorio, normalmente conviene que el nombre de la variable esté relacionado con\n",
        "la información que se almacena en ella, para que sea más fácil entender el script.\n",
        "<br><br>\n",
        "Mientras se estan escribiendo las líneas de código, esto no parece muy importante, pero si consultas un notebook que has\n",
        "desarrollado hace tiempo (o que lo ha desarrollado otra persona), resultará mucho más fácil entender el script si los nombres están bien elegidos.\n",
        "</p>"
      ],
      "metadata": {
        "id": "faATtytyfQoA"
      }
    },
    {
      "cell_type": "code",
      "source": [
        "diez = 10  # Enteros\n",
        "numero_pi = 3.14  # Decimales\n",
        "nombre = \"Juan\"  # Cadena de caracteres\n",
        "es_mayor = True  # Booleanos"
      ],
      "metadata": {
        "id": "FCMEynK2Bxmu"
      },
      "execution_count": null,
      "outputs": []
    },
    {
      "cell_type": "code",
      "source": [
        "diez"
      ],
      "metadata": {
        "colab": {
          "base_uri": "https://localhost:8080/"
        },
        "id": "m8DTK9qPB2MO",
        "outputId": "578d77c2-a57a-4610-dffd-f91fe89073eb"
      },
      "execution_count": null,
      "outputs": [
        {
          "output_type": "execute_result",
          "data": {
            "text/plain": [
              "10"
            ]
          },
          "metadata": {},
          "execution_count": 10
        }
      ]
    },
    {
      "cell_type": "code",
      "source": [
        "numero_pi"
      ],
      "metadata": {
        "colab": {
          "base_uri": "https://localhost:8080/"
        },
        "id": "E9A540m_B3uR",
        "outputId": "141530b1-7e0e-4ed4-d2e5-9ab7dc800ee6"
      },
      "execution_count": null,
      "outputs": [
        {
          "output_type": "execute_result",
          "data": {
            "text/plain": [
              "3.14"
            ]
          },
          "metadata": {},
          "execution_count": 12
        }
      ]
    },
    {
      "cell_type": "code",
      "source": [
        "nombre"
      ],
      "metadata": {
        "colab": {
          "base_uri": "https://localhost:8080/",
          "height": 36
        },
        "id": "kHBUHlXCB5Ie",
        "outputId": "65c9ff52-e0c7-4e40-88bb-00977016ba03"
      },
      "execution_count": null,
      "outputs": [
        {
          "output_type": "execute_result",
          "data": {
            "text/plain": [
              "'Juan'"
            ],
            "application/vnd.google.colaboratory.intrinsic+json": {
              "type": "string"
            }
          },
          "metadata": {},
          "execution_count": 7
        }
      ]
    },
    {
      "cell_type": "code",
      "source": [
        "es_mayor"
      ],
      "metadata": {
        "colab": {
          "base_uri": "https://localhost:8080/"
        },
        "id": "eMiZQr0QB60Z",
        "outputId": "af82ebf7-ca17-4025-b71a-c7c02a3e082a"
      },
      "execution_count": null,
      "outputs": [
        {
          "output_type": "execute_result",
          "data": {
            "text/plain": [
              "True"
            ]
          },
          "metadata": {},
          "execution_count": 8
        }
      ]
    },
    {
      "cell_type": "markdown",
      "source": [
        "### **<font color=\"DarkBlue\">Tipos de datos básicos</font>**"
      ],
      "metadata": {
        "id": "v8abc96k3sr9"
      }
    },
    {
      "cell_type": "markdown",
      "source": [
        "<p align=\"justify\">\n",
        "En Python los tipos de datos básicos se dividen en:</p>\n",
        "\n",
        "- Numéricos, como pueden ser:\n",
        "   - enteros\n",
        "   - decimales\n",
        "- Cadenas de caracteres\n",
        "- Booleanos"
      ],
      "metadata": {
        "id": "mI4wSKB7XZvA"
      }
    },
    {
      "cell_type": "markdown",
      "source": [
        "#### **<font color=\"DarkBlue\">Numéricos</font>**"
      ],
      "metadata": {
        "id": "8d84UNXMLeVr"
      }
    },
    {
      "cell_type": "markdown",
      "source": [
        "<p align=\"justify\">\n",
        "En Python se pueden representar números enteros y decimales.\n",
        "<br><br>\n",
        "Los números enteros son aquellos números positivos o negativos que no tienen decimales (además del cero). En Python se pueden representar mediante el tipo de dato <code>int</code> (de integer, entero).\n",
        "<br><br>\n",
        "También tenemos los números decimales. En Python se expresan mediante el tipo de dato<code>float</code>.\n",
        "</p>\n"
      ],
      "metadata": {
        "id": "s73nHEN417kx"
      }
    },
    {
      "cell_type": "markdown",
      "source": [
        "#### **<font color=\"DarkBlue\">Categóricos</font>**"
      ],
      "metadata": {
        "id": "7k7GRoTN1dlo"
      }
    },
    {
      "cell_type": "markdown",
      "source": [
        "<p align=\"justify\">\n",
        "Los datos categóricos o cadenas no son más que texto encerrado entre comillas simples (‘cadena’) o dobles (“cadena”). Dentro de las comillas se pueden añadir caracteres especiales con <code>\\</code>, como <code>\\n</code>, lo que implica una nueva línea, o <code>\\t</code>, que sería una tabulación.\n",
        "</p>\n"
      ],
      "metadata": {
        "id": "_XS-nB9yndvM"
      }
    },
    {
      "cell_type": "markdown",
      "source": [
        "#### **<font color=\"DarkBlue\">Booleanos</font>**"
      ],
      "metadata": {
        "id": "z9nwWrgxpBb_"
      }
    },
    {
      "cell_type": "markdown",
      "source": [
        "<p align=\"justify\">\n",
        "Una variable de tipo booleano sólo puede tener dos valores: <code>True</code> (cierto) y <code>False</code> (falso). Estos valores son importantes para las expresiones condicionales y los bucles. En realidad el tipo de dato <code>bool</code> (el tipo de los booleanos) es una subclase del tipo de dato <code>int</code>.\n",
        "</p>\n"
      ],
      "metadata": {
        "id": "WOGi6wqZpFWy"
      }
    },
    {
      "cell_type": "markdown",
      "source": [
        "## **<font color=\"DarkBlue\">Operadores aritméticos</font>**"
      ],
      "metadata": {
        "id": "lvEjTnlW1ka5"
      }
    },
    {
      "cell_type": "markdown",
      "source": [
        "<p align=\"justify\">\n",
        "Python soporta varios tipos de operadores que permiten realizar operaciones aritméticas, comparaciones, y operaciones lógicas"
      ],
      "metadata": {
        "id": "cVY7r_RhDOXU"
      }
    },
    {
      "cell_type": "markdown",
      "source": [
        "\n",
        "- Suma: `+`\n",
        "- Resta: `-`\n",
        "- Multiplicación: `*`\n",
        "- División: `/`\n",
        "- División entera: `//`\n",
        "- Módulo: `%`\n",
        "- Exponenciación: `**`"
      ],
      "metadata": {
        "id": "9hdzj1I8Da4f"
      }
    },
    {
      "cell_type": "code",
      "source": [
        "a = 5\n",
        "b = 2"
      ],
      "metadata": {
        "id": "LzuW7p8oDbTj"
      },
      "execution_count": null,
      "outputs": []
    },
    {
      "cell_type": "code",
      "source": [
        "a + b  # 7"
      ],
      "metadata": {
        "colab": {
          "base_uri": "https://localhost:8080/"
        },
        "id": "HWH10QSuD5DU",
        "outputId": "c14d4a6a-2581-470b-8636-dad6619fac34"
      },
      "execution_count": null,
      "outputs": [
        {
          "output_type": "execute_result",
          "data": {
            "text/plain": [
              "7"
            ]
          },
          "metadata": {},
          "execution_count": 18
        }
      ]
    },
    {
      "cell_type": "code",
      "source": [
        "a - b  # 3"
      ],
      "metadata": {
        "colab": {
          "base_uri": "https://localhost:8080/"
        },
        "id": "-E8ef6OcD_ja",
        "outputId": "c50f048f-77f2-4dec-e4f0-fec9e123a85b"
      },
      "execution_count": null,
      "outputs": [
        {
          "output_type": "execute_result",
          "data": {
            "text/plain": [
              "3"
            ]
          },
          "metadata": {},
          "execution_count": 19
        }
      ]
    },
    {
      "cell_type": "code",
      "source": [
        "b - a"
      ],
      "metadata": {
        "colab": {
          "base_uri": "https://localhost:8080/"
        },
        "id": "q1w1-wrhorrL",
        "outputId": "0f7d9ec0-ad66-4c75-cf9e-ba2e53420b25"
      },
      "execution_count": null,
      "outputs": [
        {
          "output_type": "execute_result",
          "data": {
            "text/plain": [
              "-3"
            ]
          },
          "metadata": {},
          "execution_count": 20
        }
      ]
    },
    {
      "cell_type": "code",
      "source": [
        "a * b  # 10"
      ],
      "metadata": {
        "colab": {
          "base_uri": "https://localhost:8080/"
        },
        "id": "lL8xIJgcEBid",
        "outputId": "c008eb01-fec4-4adb-f154-0903632d667b"
      },
      "execution_count": null,
      "outputs": [
        {
          "output_type": "execute_result",
          "data": {
            "text/plain": [
              "10"
            ]
          },
          "metadata": {},
          "execution_count": 12
        }
      ]
    },
    {
      "cell_type": "code",
      "source": [
        "a / b  # 2.5"
      ],
      "metadata": {
        "colab": {
          "base_uri": "https://localhost:8080/"
        },
        "id": "GvDUINq1EDV1",
        "outputId": "0fcae4eb-e513-45b7-bf03-bb2d3037659d"
      },
      "execution_count": null,
      "outputs": [
        {
          "output_type": "execute_result",
          "data": {
            "text/plain": [
              "2.5"
            ]
          },
          "metadata": {},
          "execution_count": 13
        }
      ]
    },
    {
      "cell_type": "code",
      "source": [
        "a // b  # 2"
      ],
      "metadata": {
        "colab": {
          "base_uri": "https://localhost:8080/"
        },
        "id": "yKXOeo4JEFQs",
        "outputId": "78d11472-1fba-4d66-c110-af31d4f00008"
      },
      "execution_count": null,
      "outputs": [
        {
          "output_type": "execute_result",
          "data": {
            "text/plain": [
              "2"
            ]
          },
          "metadata": {},
          "execution_count": 14
        }
      ]
    },
    {
      "cell_type": "code",
      "source": [
        "a % b  # 1"
      ],
      "metadata": {
        "colab": {
          "base_uri": "https://localhost:8080/"
        },
        "id": "xVsVa09LEG7A",
        "outputId": "a0580ec8-0ab3-47bd-e8f4-ef4275abd0fa"
      },
      "execution_count": null,
      "outputs": [
        {
          "output_type": "execute_result",
          "data": {
            "text/plain": [
              "1"
            ]
          },
          "metadata": {},
          "execution_count": 15
        }
      ]
    },
    {
      "cell_type": "code",
      "source": [
        "a ** b  # 25"
      ],
      "metadata": {
        "colab": {
          "base_uri": "https://localhost:8080/"
        },
        "id": "rWDdS6cEEIdG",
        "outputId": "ca1ea977-4782-4c21-dd75-0be54129d471"
      },
      "execution_count": null,
      "outputs": [
        {
          "output_type": "execute_result",
          "data": {
            "text/plain": [
              "25"
            ]
          },
          "metadata": {},
          "execution_count": 16
        }
      ]
    },
    {
      "cell_type": "markdown",
      "source": [
        "## **<font color=\"DarkBlue\">Operadores de comparación</font>**"
      ],
      "metadata": {
        "id": "Tj-1ClhmEit3"
      }
    },
    {
      "cell_type": "markdown",
      "source": [
        "- Igual a: `==`\n",
        "- Diferente de: `!=`\n",
        "- Mayor que: `>`\n",
        "- Menor que: `<`\n",
        "- Mayor o igual que: `>=`\n",
        "- Menor o igual que: `<=`"
      ],
      "metadata": {
        "id": "mvIfdRaHEnfv"
      }
    },
    {
      "cell_type": "code",
      "source": [
        "a = 5\n",
        "b = 3"
      ],
      "metadata": {
        "id": "hpVgAdL_E6J2"
      },
      "execution_count": null,
      "outputs": []
    },
    {
      "cell_type": "code",
      "source": [
        "a == b  # False"
      ],
      "metadata": {
        "colab": {
          "base_uri": "https://localhost:8080/"
        },
        "id": "YWNXLsPPqsNs",
        "outputId": "17d35fc2-23ae-4cf6-9b30-5cd6d8c06d71"
      },
      "execution_count": null,
      "outputs": [
        {
          "output_type": "execute_result",
          "data": {
            "text/plain": [
              "False"
            ]
          },
          "metadata": {},
          "execution_count": 33
        }
      ]
    },
    {
      "cell_type": "code",
      "source": [
        "a != b  # True"
      ],
      "metadata": {
        "colab": {
          "base_uri": "https://localhost:8080/"
        },
        "id": "CwFnd90oFGGa",
        "outputId": "c2ecb8f4-2890-4c83-9bfd-46c15df6c9d4"
      },
      "execution_count": null,
      "outputs": [
        {
          "output_type": "execute_result",
          "data": {
            "text/plain": [
              "True"
            ]
          },
          "metadata": {},
          "execution_count": 34
        }
      ]
    },
    {
      "cell_type": "code",
      "source": [
        "a > b  # True"
      ],
      "metadata": {
        "colab": {
          "base_uri": "https://localhost:8080/"
        },
        "id": "49hC-g1IFHv2",
        "outputId": "d347b946-40da-437b-8157-f169469ec01d"
      },
      "execution_count": null,
      "outputs": [
        {
          "output_type": "execute_result",
          "data": {
            "text/plain": [
              "True"
            ]
          },
          "metadata": {},
          "execution_count": 35
        }
      ]
    },
    {
      "cell_type": "code",
      "source": [
        "a < b  # False"
      ],
      "metadata": {
        "colab": {
          "base_uri": "https://localhost:8080/"
        },
        "id": "vGqe0R97FJpW",
        "outputId": "c3701bec-83b4-41d9-be9e-3e94f431a818"
      },
      "execution_count": null,
      "outputs": [
        {
          "output_type": "execute_result",
          "data": {
            "text/plain": [
              "False"
            ]
          },
          "metadata": {},
          "execution_count": 36
        }
      ]
    },
    {
      "cell_type": "code",
      "source": [
        "a >= b  # True"
      ],
      "metadata": {
        "colab": {
          "base_uri": "https://localhost:8080/"
        },
        "id": "eGQ9ZZByFLhr",
        "outputId": "25b94bc4-8caa-44bc-8472-ca7bae077271"
      },
      "execution_count": null,
      "outputs": [
        {
          "output_type": "execute_result",
          "data": {
            "text/plain": [
              "True"
            ]
          },
          "metadata": {},
          "execution_count": 37
        }
      ]
    },
    {
      "cell_type": "code",
      "source": [
        "a <= b  # False"
      ],
      "metadata": {
        "colab": {
          "base_uri": "https://localhost:8080/"
        },
        "id": "PAL0mbt9FM3n",
        "outputId": "d64b1f71-583c-4bf4-9221-34c83211bb0c"
      },
      "execution_count": null,
      "outputs": [
        {
          "output_type": "execute_result",
          "data": {
            "text/plain": [
              "False"
            ]
          },
          "metadata": {},
          "execution_count": 38
        }
      ]
    },
    {
      "cell_type": "markdown",
      "source": [
        "## **<font color=\"DarkBlue\">Operadores lógicos</font>**"
      ],
      "metadata": {
        "id": "6oGvhUWSFUcV"
      }
    },
    {
      "cell_type": "markdown",
      "source": [
        "- `and`: Verdadero si ambas expresiones son verdaderas.\n",
        "- `or`: Verdadero si al menos una expresión es verdadera.\n",
        "- `not`: Invierte el valor lógico de la expresión."
      ],
      "metadata": {
        "id": "tIByBjJdFaqH"
      }
    },
    {
      "cell_type": "code",
      "source": [
        "a = True\n",
        "b = False\n",
        "c = True\n",
        "d = True\n",
        "e = False"
      ],
      "metadata": {
        "id": "NUoqI4aAFws0"
      },
      "execution_count": null,
      "outputs": []
    },
    {
      "cell_type": "code",
      "source": [
        "a and b  # False"
      ],
      "metadata": {
        "colab": {
          "base_uri": "https://localhost:8080/"
        },
        "id": "fA5_6PGhFy4y",
        "outputId": "1940c241-1f37-46f8-ec0f-84d0839e76b9"
      },
      "execution_count": null,
      "outputs": [
        {
          "output_type": "execute_result",
          "data": {
            "text/plain": [
              "False"
            ]
          },
          "metadata": {},
          "execution_count": 40
        }
      ]
    },
    {
      "cell_type": "code",
      "source": [
        "a and c  # True"
      ],
      "metadata": {
        "colab": {
          "base_uri": "https://localhost:8080/"
        },
        "id": "RJ0qDNDWtOY7",
        "outputId": "7aef02c2-751c-4335-c792-b099e3e885c2"
      },
      "execution_count": null,
      "outputs": [
        {
          "output_type": "execute_result",
          "data": {
            "text/plain": [
              "True"
            ]
          },
          "metadata": {},
          "execution_count": 42
        }
      ]
    },
    {
      "cell_type": "code",
      "source": [
        "a and c and d # True"
      ],
      "metadata": {
        "colab": {
          "base_uri": "https://localhost:8080/"
        },
        "id": "T5tm9p4rtZo8",
        "outputId": "344d1267-efbc-4ac4-f764-0c005ef39773"
      },
      "execution_count": null,
      "outputs": [
        {
          "output_type": "execute_result",
          "data": {
            "text/plain": [
              "True"
            ]
          },
          "metadata": {},
          "execution_count": 44
        }
      ]
    },
    {
      "cell_type": "code",
      "source": [
        "a or b  # True"
      ],
      "metadata": {
        "colab": {
          "base_uri": "https://localhost:8080/"
        },
        "id": "eb_hpZB6F0b0",
        "outputId": "1bd3e4a6-ea1b-4684-cab9-06bc24682257"
      },
      "execution_count": null,
      "outputs": [
        {
          "output_type": "execute_result",
          "data": {
            "text/plain": [
              "True"
            ]
          },
          "metadata": {},
          "execution_count": 46
        }
      ]
    },
    {
      "cell_type": "code",
      "source": [
        "b or e or a # True"
      ],
      "metadata": {
        "colab": {
          "base_uri": "https://localhost:8080/"
        },
        "id": "IiHkk6FYtvSA",
        "outputId": "c89c5e37-267c-4763-e062-c9a4a30fa68b"
      },
      "execution_count": null,
      "outputs": [
        {
          "output_type": "execute_result",
          "data": {
            "text/plain": [
              "True"
            ]
          },
          "metadata": {},
          "execution_count": 50
        }
      ]
    },
    {
      "cell_type": "code",
      "source": [
        "not a  # False"
      ],
      "metadata": {
        "colab": {
          "base_uri": "https://localhost:8080/"
        },
        "id": "KsX_MOIKF2ER",
        "outputId": "6fed05c7-fe44-4b93-ddbf-1ff701ddb6cc"
      },
      "execution_count": null,
      "outputs": [
        {
          "output_type": "execute_result",
          "data": {
            "text/plain": [
              "False"
            ]
          },
          "metadata": {},
          "execution_count": 49
        }
      ]
    },
    {
      "cell_type": "markdown",
      "source": [
        "## **<font color=\"DarkBlue\">Estructuras de control</font>**"
      ],
      "metadata": {
        "id": "uHim-Cf1vJfO"
      }
    },
    {
      "cell_type": "markdown",
      "source": [
        "<p align=\"justify\">\n",
        "Un programa medianamente útil necesita reaccionar ante cambios en su \"entorno\", de modo que se\n",
        "ejecuten distintas secciones del código en distintas circunstancias. Para ello existen las estructuras\n",
        "condicionales que se encargan de comparar valores (ya sean de variables, constantes, arrays...) y, en función del resultado de esa comparación, ejecutar o no un determinado bloque de código. <br><br>👀 Un bucle es un segmento de código que se ejecuta repetidas veces mientras se cumpla una condición determinada.\n",
        "\n",
        "</p>"
      ],
      "metadata": {
        "id": "Dw47Qi8QxNKm"
      }
    },
    {
      "cell_type": "markdown",
      "source": [
        "## **<font color=\"DarkBlue\">Teorema de la programación estructurada</font>**"
      ],
      "metadata": {
        "id": "-gVMNymkyS3j"
      }
    },
    {
      "cell_type": "markdown",
      "source": [
        "<p align=\"justify\">\n",
        "El teorema de la programación estructurada afirma (y demuestra) que toda función computable\n",
        "puede codificarse usando sólo combinaciones de tres tipos de estructuras básicas de control:\n",
        "</p><br>\n",
        "\n",
        "- Secuencia,\n",
        "- Condicional,\n",
        "- Bucle\n",
        "\n"
      ],
      "metadata": {
        "id": "zEoBgYBTyhmR"
      }
    },
    {
      "cell_type": "markdown",
      "source": [
        "### **<font color=\"DarkBlue\">Secuencia</font>**"
      ],
      "metadata": {
        "id": "JuSTMA50hwdQ"
      }
    },
    {
      "cell_type": "markdown",
      "source": [
        "<p align=\"justify\">\n",
        "La secuencia ejecuta una orden y despues otra. Viene a ser el flujo \"natural\" de un programa, tal como hemos hecho en un cuaderno notebook, ejecutamos las celdas de código en secuencia.</p>\n"
      ],
      "metadata": {
        "id": "4_21CsNXh0PY"
      }
    },
    {
      "cell_type": "markdown",
      "source": [
        "### **<font color=\"DarkBlue\">Condicional</font>**"
      ],
      "metadata": {
        "id": "Sq7v2TmTiNy_"
      }
    },
    {
      "cell_type": "markdown",
      "source": [
        "\n",
        "<p align=\"justify\">\n",
        "El condicional ejecuta una de dos instrucciones, dependiendo de un valor verdadero o falso. Naturalmente, el condicional puede combinarse para multiplicar diversas opciones, y unirse a la secuencia para elegir bloques completos de código."
      ],
      "metadata": {
        "id": "kmzg_wKYiAS9"
      }
    },
    {
      "cell_type": "markdown",
      "source": [
        "### **<font color=\"DarkBlue\">Bucle</font>**"
      ],
      "metadata": {
        "id": "_oXhjsuIiQiA"
      }
    },
    {
      "cell_type": "markdown",
      "source": [
        "<p align=\"justify\">\n",
        "El bucle ejecuta una instrucción mientras una condición sea cierta, o (lo que viene a ser lo mismo) ejecuta una instrucción hasta que deja de serlo.\n",
        "\n"
      ],
      "metadata": {
        "id": "h2xFzHutiFBW"
      }
    },
    {
      "cell_type": "markdown",
      "source": [
        "## **<font color=\"DarkBlue\">Anidamiento</font>**"
      ],
      "metadata": {
        "id": "k1VvU1sT0pXk"
      }
    },
    {
      "cell_type": "markdown",
      "source": [
        "<p align=\"justify\">\n",
        "Las instrucciones pueden \"anidarse\". Es decir, pueden incluirse unas dentro de otras para hacer dependiente su ejecución. En Python, el anidamiento de instrucciones no se hace con llaves ni otros símbolos contenedores, si\n",
        "no por medio de la indentación. las instrucciones con un nivel de indentación estań contenidas en ese nivel de identación.<br><br> La identación es una cantidad de espacios. Lo recomendable, según Guido van Rossum, son cuatro espacios por cada nivel de indentación.<br><br> 👀 Google Colab hace la identación automáticamente.\n",
        "\n",
        "</p>"
      ],
      "metadata": {
        "id": "b_U2kMgU1MWu"
      }
    },
    {
      "cell_type": "markdown",
      "source": [
        "## **<font color=\"DarkBlue\">Verdadero o Falso</font>**"
      ],
      "metadata": {
        "id": "FN7JCLos2fgD"
      }
    },
    {
      "cell_type": "markdown",
      "source": [
        "<p align=\"justify\">\n",
        "Los valores booleanos en Python se escriben como <code>True</code> y <code>False</code>.\n",
        "</p>"
      ],
      "metadata": {
        "id": "I_00aPk8hDtA"
      }
    },
    {
      "cell_type": "code",
      "source": [
        "True and True"
      ],
      "metadata": {
        "colab": {
          "base_uri": "https://localhost:8080/"
        },
        "id": "ldl5js6nNlcS",
        "outputId": "fc54e4d0-1913-4468-e5bc-c74b3009a4c3"
      },
      "execution_count": null,
      "outputs": [
        {
          "output_type": "execute_result",
          "data": {
            "text/plain": [
              "True"
            ]
          },
          "metadata": {},
          "execution_count": 42
        }
      ]
    },
    {
      "cell_type": "code",
      "source": [
        "True or False"
      ],
      "metadata": {
        "colab": {
          "base_uri": "https://localhost:8080/"
        },
        "id": "n4aDr9mZhPBE",
        "outputId": "41a29fdd-18bd-48ed-f3c1-e0a29083fc26"
      },
      "execution_count": null,
      "outputs": [
        {
          "output_type": "execute_result",
          "data": {
            "text/plain": [
              "True"
            ]
          },
          "metadata": {},
          "execution_count": 43
        }
      ]
    },
    {
      "cell_type": "code",
      "source": [
        "a = True\n",
        "b = False"
      ],
      "metadata": {
        "id": "cw4g0HsrNlY7"
      },
      "execution_count": null,
      "outputs": []
    },
    {
      "cell_type": "code",
      "source": [
        "not a"
      ],
      "metadata": {
        "colab": {
          "base_uri": "https://localhost:8080/"
        },
        "id": "r-wDUzBjhaJA",
        "outputId": "3230f772-b35b-4c99-95e4-40f620711cab"
      },
      "execution_count": null,
      "outputs": [
        {
          "output_type": "execute_result",
          "data": {
            "text/plain": [
              "False"
            ]
          },
          "metadata": {},
          "execution_count": 46
        }
      ]
    },
    {
      "cell_type": "code",
      "source": [
        "not b"
      ],
      "metadata": {
        "colab": {
          "base_uri": "https://localhost:8080/"
        },
        "id": "dacZ4ip0hmHF",
        "outputId": "eb5fc965-fd7e-4011-aefb-595d014c8e08"
      },
      "execution_count": null,
      "outputs": [
        {
          "output_type": "execute_result",
          "data": {
            "text/plain": [
              "True"
            ]
          },
          "metadata": {},
          "execution_count": 47
        }
      ]
    },
    {
      "cell_type": "markdown",
      "source": [
        "<p align=\"justify\">\n",
        "👀 <code>None</code> es el tipo de valor nulo de Python.\n",
        "</p>"
      ],
      "metadata": {
        "id": "9E8I3ElKiUYn"
      }
    },
    {
      "cell_type": "code",
      "source": [
        "c = None"
      ],
      "metadata": {
        "id": "pUvAOjeANlWG"
      },
      "execution_count": null,
      "outputs": []
    },
    {
      "cell_type": "code",
      "source": [
        "c is None"
      ],
      "metadata": {
        "colab": {
          "base_uri": "https://localhost:8080/"
        },
        "id": "iZYOXCknNlHy",
        "outputId": "c63f3286-406a-4fb8-c27f-118e8f826df7"
      },
      "execution_count": null,
      "outputs": [
        {
          "output_type": "execute_result",
          "data": {
            "text/plain": [
              "True"
            ]
          },
          "metadata": {},
          "execution_count": 50
        }
      ]
    },
    {
      "cell_type": "code",
      "source": [
        "d = 5"
      ],
      "metadata": {
        "id": "10DCHsdIgZgf"
      },
      "execution_count": null,
      "outputs": []
    },
    {
      "cell_type": "code",
      "source": [
        "d is None"
      ],
      "metadata": {
        "colab": {
          "base_uri": "https://localhost:8080/"
        },
        "id": "8jJ7NV22gdQQ",
        "outputId": "a75e9927-5d96-482c-97f1-8711681d79c7"
      },
      "execution_count": null,
      "outputs": [
        {
          "output_type": "execute_result",
          "data": {
            "text/plain": [
              "False"
            ]
          },
          "metadata": {},
          "execution_count": 52
        }
      ]
    },
    {
      "cell_type": "markdown",
      "source": [
        "## **<font color=\"DarkBlue\">Condicionales  <code>if</code>, <code>elif</code> y <code>else</code></font>**"
      ],
      "metadata": {
        "id": "oIwwLeyp2jxO"
      }
    },
    {
      "cell_type": "markdown",
      "source": [
        "<p align=\"justify\">\n",
        "Python tiene varias palabras clave integradas para lógica condicional, bucles y otros conceptos de flujo de control estándar que se encuentran en otros lenguajes de programación. Uno de los mas conocidos es <code>if</code>, <code>elif</code> y <code>else</code>\n",
        "\n",
        "</p>"
      ],
      "metadata": {
        "id": "BWji0MFYH18r"
      }
    },
    {
      "cell_type": "code",
      "source": [
        "x = -8"
      ],
      "metadata": {
        "id": "Vsrhe00ewDiK"
      },
      "execution_count": null,
      "outputs": []
    },
    {
      "cell_type": "code",
      "source": [
        "x"
      ],
      "metadata": {
        "colab": {
          "base_uri": "https://localhost:8080/"
        },
        "id": "7VGp8ODhwGOz",
        "outputId": "d847f3aa-e9f7-4b07-8d90-e1a8fc33ed52"
      },
      "execution_count": null,
      "outputs": [
        {
          "output_type": "execute_result",
          "data": {
            "text/plain": [
              "-8"
            ]
          },
          "metadata": {},
          "execution_count": 61
        }
      ]
    },
    {
      "cell_type": "code",
      "source": [
        "if x < 0:\n",
        "  print(\"Es negativo\")"
      ],
      "metadata": {
        "colab": {
          "base_uri": "https://localhost:8080/"
        },
        "id": "kP5a7reRwtDi",
        "outputId": "3d923728-e968-41aa-c127-59533875bb77"
      },
      "execution_count": null,
      "outputs": [
        {
          "output_type": "stream",
          "name": "stdout",
          "text": [
            "Es negativo\n"
          ]
        }
      ]
    },
    {
      "cell_type": "markdown",
      "source": [
        "<p align=\"justify\">\n",
        "👀 Una instrucción puede ir seguida opcionalmente de uno o más bloques...</p>"
      ],
      "metadata": {
        "id": "wW5w_DFvJKHb"
      }
    },
    {
      "cell_type": "markdown",
      "source": [
        "### **<font color=\"DarkBlue\"><code>if</code></font>**"
      ],
      "metadata": {
        "id": "fBg5Cu0HJsiY"
      }
    },
    {
      "cell_type": "markdown",
      "source": [
        "<p align=\"justify\">Para una sola condición, se usa la estructura de control <code>if</code></p>.\n",
        "\n",
        "~~~python\n",
        "if condicion_1:\n",
        "     sentencia_1\n",
        "~~~"
      ],
      "metadata": {
        "id": "jeBJ37dbJ9Ct"
      }
    },
    {
      "cell_type": "code",
      "source": [
        "positivo = int(input(\"Escriba un número positivo: \"))"
      ],
      "metadata": {
        "colab": {
          "base_uri": "https://localhost:8080/"
        },
        "id": "INR1Q9UL2i41",
        "outputId": "fa20c128-ae97-4191-c30b-66a3ea7585ed"
      },
      "execution_count": null,
      "outputs": [
        {
          "name": "stdout",
          "output_type": "stream",
          "text": [
            "Escriba un número positivo: 7\n"
          ]
        }
      ]
    },
    {
      "cell_type": "code",
      "source": [
        "if positivo < 0:\n",
        "  print(\"No es un número positivo!\")\n",
        "print(f\"El número {positivo} es un número positivo\")"
      ],
      "metadata": {
        "colab": {
          "base_uri": "https://localhost:8080/"
        },
        "id": "g0OMzT2_KUAa",
        "outputId": "47084a79-7d99-4523-ad21-8fa00f226144"
      },
      "execution_count": null,
      "outputs": [
        {
          "output_type": "stream",
          "name": "stdout",
          "text": [
            "El número 7 es un número positivo\n"
          ]
        }
      ]
    },
    {
      "cell_type": "markdown",
      "source": [
        "### **<font color=\"DarkBlue\"><code>if</code> <code>else</code></font>**"
      ],
      "metadata": {
        "id": "d2AKmii8K7ph"
      }
    },
    {
      "cell_type": "markdown",
      "source": [
        "<p align=\"justify\">Para dos condiciones, se usa la estructura de control <code>if</code> y <code>else</code>. Es decir, o se cumple una condición, o se cumple otra condición</p>.\n",
        "\n",
        "~~~python\n",
        "if condicion_1:\n",
        "     instrucciones_1\n",
        "          \n",
        "else:\n",
        "     instrucciones_2\n",
        "~~~"
      ],
      "metadata": {
        "id": "GWd1OrZ7LEX2"
      }
    },
    {
      "cell_type": "code",
      "source": [
        "edad = int(input(\"¿Cuántos años tiene? \"))\n",
        "if edad < 18:\n",
        "  print(\"Es menor de edad, no está habilitado para realizar operaciones comerciales\")\n",
        "else:\n",
        "  print(\"Es mayor de edad, usted puede realizar operaciones comerciales\")"
      ],
      "metadata": {
        "colab": {
          "base_uri": "https://localhost:8080/"
        },
        "id": "WV7D_z64Kpw_",
        "outputId": "e24aea18-d9f2-40d6-e9ef-8407f0c5049a"
      },
      "execution_count": null,
      "outputs": [
        {
          "output_type": "stream",
          "name": "stdout",
          "text": [
            "¿Cuántos años tiene? 18\n",
            "Es mayor de edad, usted puede realizar operaciones comerciales\n"
          ]
        }
      ]
    },
    {
      "cell_type": "markdown",
      "source": [
        "### **<font color=\"DarkBlue\"><code>if</code> <code>elif</code> <code>else</code></font>**"
      ],
      "metadata": {
        "id": "Gei3H018L8Ap"
      }
    },
    {
      "cell_type": "markdown",
      "source": [
        "<p align=\"justify\">Para mas de dos condiciones, se usa la estructura de control <code lang=\"python\">if</code> <code>elif</code> y <code>else</code>.</p>\n",
        "\n",
        "~~~python\n",
        "if condicion_1:\n",
        "     instrucciones_1\n",
        "     \n",
        "elif condicion_2:\n",
        "     instrucciones_2\n",
        "     \n",
        "else:\n",
        "     instrucciones_3\n",
        "~~~"
      ],
      "metadata": {
        "id": "8-u4zBJlMGO5"
      }
    },
    {
      "cell_type": "code",
      "source": [
        "x = int(input(\"Ingresar un número entero positivo o negativo, por favor: \"))\n",
        "if x < 0:\n",
        "  print(f\"El numero {x} ingresado es negativo\")\n",
        "elif x == 0:\n",
        "  print(f\"El numero ingresado es cero\")\n",
        "else:\n",
        "  print(f\"El numero {x} ingresado es positivo\")"
      ],
      "metadata": {
        "colab": {
          "base_uri": "https://localhost:8080/"
        },
        "id": "tDj5FmYYKpto",
        "outputId": "62003de9-6171-4352-dce0-426c9817cf03"
      },
      "execution_count": null,
      "outputs": [
        {
          "output_type": "stream",
          "name": "stdout",
          "text": [
            "Ingresar un número entero positivo o negativo, por favor: 0\n",
            "El numero ingresado es cero\n"
          ]
        }
      ]
    },
    {
      "cell_type": "markdown",
      "source": [
        "<p align=\"justify\">\n",
        "👀 Si alguna de las condiciones se cumple y nuestro script tiene varias condiciones a evaluar, entonces cumplida una condición, ya no se siguen evaluando las siguientes condiciones...</p>"
      ],
      "metadata": {
        "id": "B91FnU2dOTuV"
      }
    },
    {
      "cell_type": "code",
      "source": [
        "activo_corriente = 500;\n",
        "pasivo_corriente = 700;\n",
        "activo_no_corriente = 800;\n",
        "pasivo_no_corriente = 1000"
      ],
      "metadata": {
        "id": "AV1eEpxyOk9I"
      },
      "execution_count": null,
      "outputs": []
    },
    {
      "cell_type": "code",
      "source": [
        "if activo_corriente < pasivo_corriente or activo_no_corriente > pasivo_no_corriente:\n",
        "  print(\"Verificado\")"
      ],
      "metadata": {
        "colab": {
          "base_uri": "https://localhost:8080/"
        },
        "id": "J0ZHQn0gPYaL",
        "outputId": "6b9dd279-e3d2-4500-8bb8-21be8e76eb39"
      },
      "execution_count": null,
      "outputs": [
        {
          "output_type": "stream",
          "name": "stdout",
          "text": [
            "Verificado\n"
          ]
        }
      ]
    },
    {
      "cell_type": "markdown",
      "source": [
        "<p align=\"justify\">\n",
        "👀 La comparación <code>activo_no_corriente</code> con <code>pasivo_no_corriente</code> nunca se evalúa porque la primera comparación entre activo y pasivo corriente fue <code lang=\"python\">True</code>...<br><br>También es posible encadenar comparaciones, ejemplo:</p>"
      ],
      "metadata": {
        "id": "BLQpiazBP71P"
      }
    },
    {
      "cell_type": "code",
      "source": [
        "4 > 3 > 2 > 1"
      ],
      "metadata": {
        "colab": {
          "base_uri": "https://localhost:8080/"
        },
        "id": "nCyRcR2-Rnzl",
        "outputId": "5b8c78aa-d502-42b7-e22a-6cd993815900"
      },
      "execution_count": null,
      "outputs": [
        {
          "output_type": "execute_result",
          "data": {
            "text/plain": [
              "True"
            ]
          },
          "metadata": {},
          "execution_count": 12
        }
      ]
    },
    {
      "cell_type": "code",
      "source": [
        "activo_corriente > activo_no_corriente > pasivo_corriente > pasivo_no_corriente"
      ],
      "metadata": {
        "colab": {
          "base_uri": "https://localhost:8080/"
        },
        "id": "nna6oVP6RtEh",
        "outputId": "b31b1881-4907-44a1-aa7b-8e17dba92b81"
      },
      "execution_count": null,
      "outputs": [
        {
          "output_type": "execute_result",
          "data": {
            "text/plain": [
              "False"
            ]
          },
          "metadata": {},
          "execution_count": 13
        }
      ]
    },
    {
      "cell_type": "markdown",
      "source": [
        "## **<font color=\"DarkBlue\">Bucle For</font>**"
      ],
      "metadata": {
        "id": "7Kg2o5pF2teA"
      }
    },
    {
      "cell_type": "markdown",
      "source": [
        "<p align=\"justify\">Los bucles <code>for</code> son para iterar sobre una colección (como una tupla, lista, cadena, etc) o un sobre un elemento iterable. La sintaxis estándar para un bucle <code>for</code> es:</p>\n",
        "\n",
        "\n",
        "~~~python\n",
        "for variable in elemento iterable (tupla, lista, cadena, etc.):\n",
        "    cuerpo bucle\n",
        "~~~"
      ],
      "metadata": {
        "id": "GZbbBT2nN1R7"
      }
    },
    {
      "cell_type": "code",
      "source": [
        "lista = [\"Activo\",\"Pasivo\",\"Patrimonio Neto\"]\n",
        "for i in lista:\n",
        "  print(f\"Elemento del Estado de Situación Patrimonial, el {i}\")"
      ],
      "metadata": {
        "colab": {
          "base_uri": "https://localhost:8080/"
        },
        "id": "1zau0WBPuw9f",
        "outputId": "4ab37317-4100-4d4b-85db-2ae0ec09ae63"
      },
      "execution_count": null,
      "outputs": [
        {
          "output_type": "stream",
          "name": "stdout",
          "text": [
            "Elemento del Estado de Situación Patrimonial, el Activo\n",
            "Elemento del Estado de Situación Patrimonial, el Pasivo\n",
            "Elemento del Estado de Situación Patrimonial, el Patrimonio Neto\n"
          ]
        }
      ]
    },
    {
      "cell_type": "markdown",
      "source": [
        "## **<font color=\"DarkBlue\">Break y Continue</font>**"
      ],
      "metadata": {
        "id": "xSWmFe7a3GD0"
      }
    },
    {
      "cell_type": "markdown",
      "source": [
        "<p align=\"justify\">\n",
        "👀 Podemos avanzar un bucle a la siguiente iteración, omitiendo el resto del bloque, utilizando la palabra clave <code>continue</code>. Por ejemplo, el siguiente bucle <code>for</code> omite valores <code>None</code>.\n",
        "\n",
        "</p>"
      ],
      "metadata": {
        "id": "5AaxGnHBV8Tt"
      }
    },
    {
      "cell_type": "code",
      "source": [
        "unidades = [100, 200, None, 450, None, 580]\n",
        "total = 0\n",
        "for i in unidades:\n",
        "  if i is None:\n",
        "    continue\n",
        "  total += i"
      ],
      "metadata": {
        "id": "YHplNJtAuw6R"
      },
      "execution_count": null,
      "outputs": []
    },
    {
      "cell_type": "code",
      "source": [
        "total"
      ],
      "metadata": {
        "colab": {
          "base_uri": "https://localhost:8080/"
        },
        "id": "OwGDIhtPYCei",
        "outputId": "d39fe3aa-fb14-4635-946d-45ce1c9b0a56"
      },
      "execution_count": null,
      "outputs": [
        {
          "output_type": "execute_result",
          "data": {
            "text/plain": [
              "1330"
            ]
          },
          "metadata": {},
          "execution_count": 25
        }
      ]
    },
    {
      "cell_type": "markdown",
      "source": [
        "<p align=\"justify\">\n",
        "👀 O tambien podemos detener un bucle, utilizando la palabra clave <code>break</code>. Por ejemplo, el siguiente bucle <code>for</code> detiene el bucle cuando se encuentre el valor cinco.\n",
        "\n",
        "</p>"
      ],
      "metadata": {
        "id": "gHH0WpV7Y_FI"
      }
    },
    {
      "cell_type": "code",
      "source": [
        "secuencia = [1, 2, 0, 4, 6, 5, 2, 1]\n",
        "total_limite_5 = 0\n",
        "for i in secuencia:\n",
        "  if i == 5:\n",
        "    break\n",
        "  total_limite_5 += i"
      ],
      "metadata": {
        "id": "7817NH3kXbgl"
      },
      "execution_count": null,
      "outputs": []
    },
    {
      "cell_type": "code",
      "source": [
        "total_limite_5"
      ],
      "metadata": {
        "colab": {
          "base_uri": "https://localhost:8080/"
        },
        "id": "WaFewPLZYgGT",
        "outputId": "11bacd0b-8e38-40cf-c42d-fc73f98da914"
      },
      "execution_count": null,
      "outputs": [
        {
          "output_type": "execute_result",
          "data": {
            "text/plain": [
              "13"
            ]
          },
          "metadata": {},
          "execution_count": 27
        }
      ]
    },
    {
      "cell_type": "markdown",
      "source": [
        "<p align=\"justify\">\n",
        "👀 La palabra clave <code>break</code> detiene el bucle mas interno, y los bucles externos siguen ejecutándose. Por ejemplo:\n",
        "\n",
        "</p>"
      ],
      "metadata": {
        "id": "Slhn7vXLZj0d"
      }
    },
    {
      "cell_type": "code",
      "source": [
        "for i in range(4):\n",
        "  for j in range(4):\n",
        "    if j > i:\n",
        "      break\n",
        "    print((i, j))"
      ],
      "metadata": {
        "colab": {
          "base_uri": "https://localhost:8080/"
        },
        "id": "8E2KOeQwZ0Je",
        "outputId": "5330003d-1b7c-4d89-c447-178b7efcf832"
      },
      "execution_count": null,
      "outputs": [
        {
          "output_type": "stream",
          "name": "stdout",
          "text": [
            "(0, 0)\n",
            "(1, 0)\n",
            "(1, 1)\n",
            "(2, 0)\n",
            "(2, 1)\n",
            "(2, 2)\n",
            "(3, 0)\n",
            "(3, 1)\n",
            "(3, 2)\n",
            "(3, 3)\n"
          ]
        }
      ]
    },
    {
      "cell_type": "markdown",
      "source": [
        "<p align=\"justify\">\n",
        "Esto es lo que hace el script proporcionado:\n",
        "<br><br>\n",
        "\n",
        "1. Se inicializa un bucle externo `for` que itera sobre los valores en el rango de 0 a 3 (no incluyendo 4), representados por la variable `i`.\n",
        "\n",
        "2. Dentro del bucle externo, se inicializa otro bucle interno `for` que también itera sobre los valores en el rango de 0 a 3 (no incluyendo 4), representados por la variable `j`.\n",
        "\n",
        "3. Se evalúa una condición utilizando la estructura `if`. La condición es `j > i`, lo que significa que el valor de `j` es mayor que el valor de `i`.\n",
        "\n",
        "4. Si la condición es verdadera (es decir, si `j` es mayor que `i`), se ejecuta la declaración `break`, que interrumpe el bucle interno actual y pasa al siguiente paso del bucle externo.\n",
        "\n",
        "5. Si la condición es falsa (es decir, si `j` no es mayor que `i`), se ejecuta la instrucción `print((i, j))`. Esta instrucción imprime una tupla que contiene los valores de `i` y `j` en ese momento.\n",
        "\n",
        "6. Después de imprimir la tupla, el bucle interno continúa iterando hasta que se completa su rango o hasta que se ejecuta la declaración `break`.\n",
        "\n",
        "7. Una vez que el bucle interno termina de ejecutarse (ya sea porque se completó su rango o porque se ejecutó `break`), el control regresa al bucle externo.\n",
        "\n",
        "8. El bucle externo continúa iterando hasta que se completa su rango o hasta que se ejecuta `break`.\n",
        "\n",
        "<br>\n",
        "<p align=\"justify\">\n",
        "En resumen, este script genera todas las combinaciones de pares <code>(i, j)</code> donde <code>i</code> es menor o igual a <code>j</code>, para valores de <code>i</code> y <code>j</code> en el rango de 0 a 3. Cada par se imprime en una línea nueva.\n",
        "<br><br>\n",
        "👀 La instrucción <code>break</code> se utiliza para evitar que el bucle interno continúe iterando una vez que <code>j</code> supera a <code>i</code>."
      ],
      "metadata": {
        "id": "RgmlvaP7dWkO"
      }
    },
    {
      "cell_type": "markdown",
      "source": [
        "## **<font color=\"DarkBlue\">Bucle While</font>**"
      ],
      "metadata": {
        "id": "V0-I4Zgw2_Tp"
      }
    },
    {
      "cell_type": "markdown",
      "source": [
        "<p align=\"justify\">Un bucle <code>while</code> especifica una condición y un bloque de código que se ejecutará hasta que la condición <code>False</code> se evalúe o el bucle termine explícitamente con <code>break</code>:</p>\n",
        "\n",
        "\n",
        "~~~python\n",
        "while condicion:\n",
        "    cuerpo bucle\n",
        "~~~\n"
      ],
      "metadata": {
        "id": "kGWIlg6MahFZ"
      }
    },
    {
      "cell_type": "code",
      "source": [
        "cuenta = 1\n",
        "while cuenta <= 5:\n",
        "  if cuenta == 1:\n",
        "    print(f\"A la {cuenta}\")\n",
        "  else:\n",
        "   print(f\"A las {cuenta}\")\n",
        "  cuenta += 1"
      ],
      "metadata": {
        "colab": {
          "base_uri": "https://localhost:8080/"
        },
        "id": "JkTeVY_I3FRe",
        "outputId": "79f78c5e-1e11-41e4-bbea-27fda301ba1d"
      },
      "execution_count": null,
      "outputs": [
        {
          "output_type": "stream",
          "name": "stdout",
          "text": [
            "A la 1\n",
            "A las 2\n",
            "A las 3\n",
            "A las 4\n",
            "A las 5\n"
          ]
        }
      ]
    },
    {
      "cell_type": "markdown",
      "source": [
        "<p align=\"justify\">\n",
        "El script cuenta desde 1 hasta 5 e imprime un mensaje diferente dependiendo del valor de la variable de cuenta en cada iteración. Este es el detalle del script:\n",
        "<br><br>\n",
        "\n",
        "1. **Inicialización de la variable cuenta:** Se inicializa la variable cuenta con el valor 1.\n",
        "   \n",
        "2. **Bucle while:** Se inicia un bucle while que se ejecutará mientras el valor de la variable cuenta sea menor o igual a 5.\n",
        "\n",
        "3. **Condición if:** Dentro del bucle, hay una estructura condicional if que comprueba si el valor de la variable cuenta es igual a 1.\n",
        "\n",
        "4. **Impresión de mensaje:** Si el valor de cuenta es igual a 1, se imprime el mensaje \"A la 1\". Esto se hace utilizando la función print() con una cadena de formato que incluye el valor de cuenta.\n",
        "\n",
        "5. **Else:** Si el valor de cuenta no es igual a 1, se ejecuta la parte else de la estructura condicional.\n",
        "\n",
        "6. **Impresión de mensaje alternativo:** En este caso, se imprime el mensaje \"A las\" seguido del valor de cuenta. Esto se hace también utilizando la función print() con una cadena de formato.\n",
        "\n",
        "7. **Actualización de la variable cuenta:** Después de cada iteración del bucle, se incrementa el valor de la variable cuenta en 1 utilizando el operador de incremento +=.\n",
        "\n",
        "<br>\n",
        "<p align=\"justify\">\n",
        "👀 finalizar el bucle, el script habrá impreso los mensajes \"A la 1\", \"A las 2\", \"A las 3\", \"A las 4\" y \"A las 5\", cada uno en una línea nueva. Esto muestra cómo se pueden utilizar bucles y estructuras condicionales en Python para realizar tareas repetitivas con variaciones basadas en condiciones específicas."
      ],
      "metadata": {
        "id": "r7x8aYCQcUVe"
      }
    },
    {
      "cell_type": "markdown",
      "source": [
        "<p align=\"center\"><b>\n",
        "💗\n",
        "<font color=\"DarkBlue\">\n",
        "Hemos llegado al final de nuestro colab, a seguir codeando...\n",
        "</font>\n",
        "</p>\n",
        "\n"
      ],
      "metadata": {
        "id": "jLFcCFoEuxr6"
      }
    }
  ]
}