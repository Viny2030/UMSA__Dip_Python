{
  "nbformat": 4,
  "nbformat_minor": 0,
  "metadata": {
    "colab": {
      "provenance": []
    },
    "kernelspec": {
      "name": "python3",
      "display_name": "Python 3"
    },
    "language_info": {
      "name": "python"
    }
  },
  "cells": [
    {
      "cell_type": "markdown",
      "source": [
        " # **<font color=\"DarkBlue\">Operaciones de computación vectorizada</font>**"
      ],
      "metadata": {
        "id": "_o8tuKydjnRZ"
      }
    },
    {
      "cell_type": "markdown",
      "source": [
        "<p align=\"center\">\n",
        "<img src=\"https://numpy.org/images/logo.svg\" width=\"80\" height=\"\">\n",
        "</p>\n"
      ],
      "metadata": {
        "id": "XM-hn7ZLmgQc"
      }
    },
    {
      "cell_type": "markdown",
      "source": [
        "https://numpy.org"
      ],
      "metadata": {
        "id": "iw1xUwq1fpWm"
      }
    },
    {
      "cell_type": "code",
      "source": [
        "import numpy as np"
      ],
      "metadata": {
        "id": "dQtWrchXqRb3"
      },
      "execution_count": null,
      "outputs": []
    },
    {
      "cell_type": "markdown",
      "source": [
        " # **<font color=\"DarkBlue\">Operaciones aritméticas con matrices</font>**"
      ],
      "metadata": {
        "id": "m5KN7xI6s-OE"
      }
    },
    {
      "cell_type": "markdown",
      "source": [
        "<p align=\"justify\">\n",
        "📘 Las operaciones aritméticas con matrices incluyen la suma, la resta, la multiplicación por un escalar y la multiplicación de matrices. Estas operaciones se realizan siguiendo ciertas reglas y fórmulas matemáticas específicas."
      ],
      "metadata": {
        "id": "AszGCGtUtFl5"
      }
    },
    {
      "cell_type": "markdown",
      "source": [
        " ## **<font color=\"DarkBlue\">Suma de matrices</font>**"
      ],
      "metadata": {
        "id": "r7kR4eWnvn-T"
      }
    },
    {
      "cell_type": "markdown",
      "source": [
        "<p align=\"justify\">\n",
        "La suma de dos matrices $ A $ y $ B $ de igual tamaño $ m \\times n $ se define como una matriz $ C $ también de tamaño $ m \\times n $, donde cada elemento $ c_{ij} $ es la suma de los elementos correspondientes de $ A $ y $ B $:\n",
        "<br><br>\n",
        "\\[ C = A + B \\]\n",
        "<br><br>\n",
        "\\[ c_{ij} = a_{ij} + b_{ij} \\]\n"
      ],
      "metadata": {
        "id": "8PY0XrjjvwzS"
      }
    },
    {
      "cell_type": "markdown",
      "source": [
        "<p align=\"justify\">\n",
        "👀 Imaginemos que una empresa tiene matrices de ventas para diferentes productos del mes de enero y del mes de febrero. Queremos calcular los ventas totales."
      ],
      "metadata": {
        "id": "WY0F2PG5wcJM"
      }
    },
    {
      "cell_type": "code",
      "source": [
        "import numpy as np"
      ],
      "metadata": {
        "id": "J4bYKAETwXiA"
      },
      "execution_count": null,
      "outputs": []
    },
    {
      "cell_type": "code",
      "source": [
        "# Matriz de ventas de productos de enero\n",
        "ventas_enero = np.array([\n",
        "    [500, 400],\n",
        "    [600, 550]\n",
        "])"
      ],
      "metadata": {
        "id": "eMdTSAKrxF_r"
      },
      "execution_count": null,
      "outputs": []
    },
    {
      "cell_type": "code",
      "source": [
        "# Matriz de ventas de productos de febrero\n",
        "ventas_febrero = np.array([\n",
        "    [400, 500],\n",
        "    [700, 850]\n",
        "])"
      ],
      "metadata": {
        "id": "jvtepFsWxbmz"
      },
      "execution_count": null,
      "outputs": []
    },
    {
      "cell_type": "code",
      "source": [
        "# Suma de matrices (Ventas de enero + febrero)\n",
        "total = ventas_enero + ventas_febrero\n",
        "print(\"Suma de matrices (Ventas de enero + febrero):\")\n",
        "print(total)"
      ],
      "metadata": {
        "colab": {
          "base_uri": "https://localhost:8080/"
        },
        "id": "BWhwS-5ww4f8",
        "outputId": "cb6762df-25bd-4259-fb19-5bced59a4f07"
      },
      "execution_count": null,
      "outputs": [
        {
          "output_type": "stream",
          "name": "stdout",
          "text": [
            "Suma de matrices (Ventas de enero + febrero):\n",
            "[[ 900  900]\n",
            " [1300 1400]]\n"
          ]
        }
      ]
    },
    {
      "cell_type": "markdown",
      "source": [
        " ## **<font color=\"DarkBlue\">Resta de matrices</font>**"
      ],
      "metadata": {
        "id": "B04Hy67FyKh8"
      }
    },
    {
      "cell_type": "markdown",
      "source": [
        "<p align=\"justify\">\n",
        "La resta de dos matrices $ A $ y $ B $ de igual tamaño $ m \\times n $ se define como una matriz $ C $ también de tamaño $ m \\times n $, donde cada elemento $ c_{ij} $ es la resta de los elementos correspondientes de $ A $ y $ B $:\n",
        "<br><br>\n",
        "\\[ C = A - B \\]\n",
        "<br><br>\n",
        "\\[ c_{ij} = a_{ij} - b_{ij} \\]\n"
      ],
      "metadata": {
        "id": "rxFpgnwqyPF2"
      }
    },
    {
      "cell_type": "markdown",
      "source": [
        "<p align=\"justify\">\n",
        "👀 Imaginemos que una empresa tiene matrices de costos de producción y ventas para diferentes productos. Queremos las diferencias entre costos y ventas."
      ],
      "metadata": {
        "id": "r-StFo7nynrS"
      }
    },
    {
      "cell_type": "code",
      "source": [
        "# Matriz de costos de productos\n",
        "costos = np.array([\n",
        "    [200, 150],\n",
        "    [300, 250]\n",
        "])"
      ],
      "metadata": {
        "id": "81iz_xQMzCfl"
      },
      "execution_count": null,
      "outputs": []
    },
    {
      "cell_type": "code",
      "source": [
        "# Matriz de ventas de productos\n",
        "ventas = np.array([\n",
        "    [800, 300],\n",
        "    [450, 550]\n",
        "])"
      ],
      "metadata": {
        "id": "NZnl1E06zfBO"
      },
      "execution_count": null,
      "outputs": []
    },
    {
      "cell_type": "code",
      "source": [
        "# Resta de matrices (ventas - costos)\n",
        "diferencia = ventas - costos\n",
        "print(\"Diferencia de matrices (Ventas - Costos):\")\n",
        "print(diferencia)"
      ],
      "metadata": {
        "colab": {
          "base_uri": "https://localhost:8080/"
        },
        "id": "S3GecNlfzEwL",
        "outputId": "9110cdfc-53fb-4a55-b3e4-e2d2e3a0a480"
      },
      "execution_count": null,
      "outputs": [
        {
          "output_type": "stream",
          "name": "stdout",
          "text": [
            "Diferencia de matrices (Ventas - Costos):\n",
            "[[600 150]\n",
            " [150 300]]\n"
          ]
        }
      ]
    },
    {
      "cell_type": "markdown",
      "source": [
        " ## **<font color=\"DarkBlue\">Multiplicación por un Escalar</font>**"
      ],
      "metadata": {
        "id": "eqokg3Auzmil"
      }
    },
    {
      "cell_type": "markdown",
      "source": [
        "<p align=\"justify\">\n",
        "La multiplicación de una matriz $ A $ de tamaño $ m \\times n $ por un escalar $ k $ se define como una matriz $ B $ del mismo tamaño, donde cada elemento $ b_{ij} $ es el producto del escalar $ k $ y el elemento correspondiente de $ A $:\n",
        "<br><br>\n",
        "\\[ B = k \\cdot A \\]\n",
        "<br><br>\n",
        "\\[ b_{ij} = k \\cdot a_{ij} \\]\n"
      ],
      "metadata": {
        "id": "KWpgGWFgzvIo"
      }
    },
    {
      "cell_type": "markdown",
      "source": [
        "<p align=\"justify\">\n",
        "👀 Supongamos que queremos calcular el costo total de producción si aumentamos todos los costos en un 10% debido a un aumento de precios."
      ],
      "metadata": {
        "id": "Kj6572V30LHR"
      }
    },
    {
      "cell_type": "code",
      "source": [
        "# Matriz de costos de producción\n",
        "costos = np.array([\n",
        "    [200, 150],\n",
        "    [300, 250]\n",
        "])"
      ],
      "metadata": {
        "id": "U6veKjlL0ZS-"
      },
      "execution_count": null,
      "outputs": []
    },
    {
      "cell_type": "code",
      "source": [
        "# Escalar de aumento del 10%\n",
        "aumento = 1.10"
      ],
      "metadata": {
        "id": "A05H6yma0kI2"
      },
      "execution_count": null,
      "outputs": []
    },
    {
      "cell_type": "code",
      "source": [
        "# Multiplicación por el escalar (aumento de costos)\n",
        "costos_aumentados = aumento * costos\n",
        "print(\"Costos aumentados en un 10%:\")\n",
        "print(costos_aumentados)"
      ],
      "metadata": {
        "colab": {
          "base_uri": "https://localhost:8080/"
        },
        "id": "2Dh-RyGO0l8Z",
        "outputId": "7b3213d0-9a6c-4cdf-b60e-946c89188737"
      },
      "execution_count": null,
      "outputs": [
        {
          "output_type": "stream",
          "name": "stdout",
          "text": [
            "Costos aumentados en un 10%:\n",
            "[[220. 165.]\n",
            " [330. 275.]]\n"
          ]
        }
      ]
    },
    {
      "cell_type": "markdown",
      "source": [
        " ## **<font color=\"DarkBlue\">Multiplicación de Matrices</font>**"
      ],
      "metadata": {
        "id": "eLKQuwzv05CW"
      }
    },
    {
      "cell_type": "markdown",
      "source": [
        "<p align=\"justify\">\n",
        "La multiplicación de dos matrices $ A $ y $ B $ se define cuando el número de columnas de $ A $ es igual al número de filas de $ B $. La matriz resultante $ C $ tendrá el tamaño correspondiente a las filas de $ A $ y las columnas de $ B $.\n",
        "<br><br>\n",
        "Cada elemento $ c_{ij} $ de $ C $ se calcula como la suma de los productos de los elementos correspondientes de la fila $ i $ de $ A $ y la columna $ j $ de $ B $:\n",
        "<br><br>\n",
        "\\[ C = A \\cdot B \\]\n",
        "<br><br>\n",
        "\\[ c_{ij} = \\sum_{k=1}^n a_{ik} \\cdot b_{kj} \\]\n"
      ],
      "metadata": {
        "id": "h3pgHa7l08LU"
      }
    },
    {
      "cell_type": "markdown",
      "source": [
        "<p align=\"justify\">\n",
        "👀 En un análisis de inversiones, queremos calcular los ingresos esperados multiplicando la matriz de precios de venta por la matriz de unidades vendidas."
      ],
      "metadata": {
        "id": "Wx6JWffe19Rs"
      }
    },
    {
      "cell_type": "code",
      "source": [
        "# Matriz de precios de venta por unidad en diferentes mercados\n",
        "precios = np.array([\n",
        "    [10, 15],\n",
        "    [20, 25]\n",
        "])"
      ],
      "metadata": {
        "id": "RML5RpDA2G3M"
      },
      "execution_count": null,
      "outputs": []
    },
    {
      "cell_type": "code",
      "source": [
        "# Matriz de unidades vendidas en diferentes mercados\n",
        "unidades_vendidas = np.array([\n",
        "    [100, 150],\n",
        "    [200, 250]\n",
        "])"
      ],
      "metadata": {
        "id": "f3LwBMMo3Sl7"
      },
      "execution_count": null,
      "outputs": []
    },
    {
      "cell_type": "code",
      "source": [
        "# Multiplicación de matrices (ingresos esperados)\n",
        "ingresos = np.dot(precios, unidades_vendidas)\n",
        "print(\"Ingresos esperados (Multiplicación de matrices):\")\n",
        "print(ingresos)"
      ],
      "metadata": {
        "colab": {
          "base_uri": "https://localhost:8080/"
        },
        "id": "0sl-yanD3U2F",
        "outputId": "85f89d76-a474-43e7-f233-1662fd5c51f3"
      },
      "execution_count": null,
      "outputs": [
        {
          "output_type": "stream",
          "name": "stdout",
          "text": [
            "Ingresos esperados (Multiplicación de matrices):\n",
            "[[4000 5250]\n",
            " [7000 9250]]\n"
          ]
        }
      ]
    },
    {
      "cell_type": "markdown",
      "source": [
        " # **<font color=\"DarkBlue\">Operaciones de agregación y estadística descriptiva</font>**"
      ],
      "metadata": {
        "id": "S48LDQc4RQje"
      }
    },
    {
      "cell_type": "markdown",
      "source": [
        " ## **<font color=\"DarkBlue\">Suma Total</font>**"
      ],
      "metadata": {
        "id": "O0XOazSq5Cnj"
      }
    },
    {
      "cell_type": "markdown",
      "source": [
        "<p align=\"justify\">\n",
        "La suma total de todos los elementos de una matriz $ A $ se define como:\n",
        "<br><br>\n",
        "\\[ S = \\sum_{i=1}^{m} \\sum_{j=1}^{n} a_{ij} \\]\n",
        "<br>\n",
        "donde \\( m \\) es el número de filas y \\( n \\) es el número de columnas.\n"
      ],
      "metadata": {
        "id": "sQFAXawe5CJZ"
      }
    },
    {
      "cell_type": "markdown",
      "source": [
        "<p align=\"justify\">\n",
        "👀 Supongamos que una empresa tiene una matriz de costos de producción y desea calcular el costo total."
      ],
      "metadata": {
        "id": "Gz1GN5LU6zU_"
      }
    },
    {
      "cell_type": "code",
      "source": [
        "# Matriz de costos de producción\n",
        "costos = np.array([\n",
        "    [200, 150, 100],\n",
        "    [300, 250, 200]\n",
        "])"
      ],
      "metadata": {
        "id": "dOIhtZ--66OT"
      },
      "execution_count": null,
      "outputs": []
    },
    {
      "cell_type": "code",
      "source": [
        "# Suma total de los costos\n",
        "suma_total = np.sum(costos)\n",
        "print(\"Suma total de los costos de producción:\")\n",
        "print(suma_total)"
      ],
      "metadata": {
        "colab": {
          "base_uri": "https://localhost:8080/"
        },
        "id": "I7hCP-4O69QD",
        "outputId": "63b8249e-4821-486a-c01f-e5c37285a2f0"
      },
      "execution_count": null,
      "outputs": [
        {
          "output_type": "stream",
          "name": "stdout",
          "text": [
            "Suma total de los costos de producción:\n",
            "1200\n"
          ]
        }
      ]
    },
    {
      "cell_type": "markdown",
      "source": [
        " ## **<font color=\"DarkBlue\">Promedio (Media Aritmética)</font>**"
      ],
      "metadata": {
        "id": "DTCSIWxj7WIc"
      }
    },
    {
      "cell_type": "markdown",
      "source": [
        "<p align=\"justify\">\n",
        "El promedio de todos los elementos de una matriz $ A $ se define como:\n",
        "<br><br>\n",
        "\\[ \\text{Media} = \\frac{S}{N} \\]\n",
        "<br><br>\n",
        "donde \\( S \\) es la suma total de los elementos y \\( N \\) es el número total de elementos en la matriz:\n",
        "<br><br>\n",
        "\\[ N = m \\cdot n \\]\n"
      ],
      "metadata": {
        "id": "8X650dlq7yD6"
      }
    },
    {
      "cell_type": "markdown",
      "source": [
        "<p align=\"justify\">\n",
        "👀 Imaginemos que queremos calcular el promedio de las ventas de diferentes productos en varias regiones."
      ],
      "metadata": {
        "id": "RG58wB2EENI_"
      }
    },
    {
      "cell_type": "code",
      "source": [
        "# Matriz de ventas por producto en diferentes regiones\n",
        "ventas = np.array([\n",
        "    [100, 150, 200],\n",
        "    [250, 300, 350]\n",
        "])"
      ],
      "metadata": {
        "id": "GARiSYEOEW7I"
      },
      "execution_count": null,
      "outputs": []
    },
    {
      "cell_type": "code",
      "source": [
        "# Cálculo del promedio de ventas\n",
        "promedio_ventas = np.mean(ventas)\n",
        "print(\"Promedio de ventas:\")\n",
        "print(promedio_ventas)"
      ],
      "metadata": {
        "colab": {
          "base_uri": "https://localhost:8080/"
        },
        "id": "t27kxCJOEbhG",
        "outputId": "4b106eba-9847-4e4e-d570-6786803db602"
      },
      "execution_count": null,
      "outputs": [
        {
          "output_type": "stream",
          "name": "stdout",
          "text": [
            "Promedio de ventas:\n",
            "225.0\n"
          ]
        }
      ]
    },
    {
      "cell_type": "markdown",
      "source": [
        " ## **<font color=\"DarkBlue\">Mínimo y Máximo</font>**"
      ],
      "metadata": {
        "id": "E-syaonNEkHE"
      }
    },
    {
      "cell_type": "markdown",
      "source": [
        "<p align=\"justify\">\n",
        "El valor mínimo y el valor máximo de una matriz $ A $ se definen como:\n",
        "<br><br>\n",
        "\n",
        "- $ \\text{Mínimo} = \\min_{i,j} (a_{ij}) $\n",
        "\n",
        "\n",
        "- $ \\text{Máximo} = \\max_{i,j} (a_{ij}) $\n"
      ],
      "metadata": {
        "id": "RwbuaNEdJiF0"
      }
    },
    {
      "cell_type": "markdown",
      "source": [
        "<p align=\"justify\">\n",
        "👀 Supongamos que estamos analizando una matriz de precios de productos y queremos encontrar el precio mínimo y máximo."
      ],
      "metadata": {
        "id": "WuyjA3OuKO8L"
      }
    },
    {
      "cell_type": "code",
      "source": [
        "# Matriz de precios de productos\n",
        "precios = np.array([\n",
        "    [10, 15, 20],\n",
        "    [25, 30, 35]\n",
        "])"
      ],
      "metadata": {
        "id": "66H-SGxSKG_N"
      },
      "execution_count": null,
      "outputs": []
    },
    {
      "cell_type": "code",
      "source": [
        "# Cálculo del mínimo y máximo\n",
        "precio_minimo = np.min(precios)\n",
        "precio_maximo = np.max(precios)"
      ],
      "metadata": {
        "id": "WEPz9r9rKduC"
      },
      "execution_count": null,
      "outputs": []
    },
    {
      "cell_type": "code",
      "source": [
        "print(\"Precio mínimo:\")\n",
        "print(precio_minimo)"
      ],
      "metadata": {
        "colab": {
          "base_uri": "https://localhost:8080/"
        },
        "id": "Rix3UOdpKgvl",
        "outputId": "44a18bcc-6364-4c83-8724-ec65e804279a"
      },
      "execution_count": null,
      "outputs": [
        {
          "output_type": "stream",
          "name": "stdout",
          "text": [
            "Precio mínimo:\n",
            "10\n"
          ]
        }
      ]
    },
    {
      "cell_type": "code",
      "source": [
        "print(\"Precio máximo:\")\n",
        "print(precio_maximo)"
      ],
      "metadata": {
        "colab": {
          "base_uri": "https://localhost:8080/"
        },
        "id": "YF5l7jomKift",
        "outputId": "f66e3748-71a6-487b-a2ca-67b527668bd0"
      },
      "execution_count": null,
      "outputs": [
        {
          "output_type": "stream",
          "name": "stdout",
          "text": [
            "Precio máximo:\n",
            "35\n"
          ]
        }
      ]
    },
    {
      "cell_type": "markdown",
      "source": [
        " ## **<font color=\"DarkBlue\">Desviación Estándar</font>**"
      ],
      "metadata": {
        "id": "W_PY963SKp7K"
      }
    },
    {
      "cell_type": "markdown",
      "source": [
        "<p align=\"justify\">\n",
        "La desviación estándar de una matriz $ A $ se define como:\n",
        "<br><br>\n",
        "\\[ \\sigma = \\sqrt{\\frac{\\sum_{i=1}^{m} \\sum_{j=1}^{n} (a_{ij} - \\text{Media})^2}{N}} \\]\n",
        "<br>\n",
        "donde \\( \\text{Media} \\) es el promedio de los elementos de la matriz.\n"
      ],
      "metadata": {
        "id": "suo3zN-VKzTS"
      }
    },
    {
      "cell_type": "markdown",
      "source": [
        "<p align=\"justify\">\n",
        "👀 En un análisis de datos, queremos calcular la desviación estándar de los ingresos de diferentes sucursales de una empresa."
      ],
      "metadata": {
        "id": "erDCeGglLDVM"
      }
    },
    {
      "cell_type": "code",
      "source": [
        "# Matriz de ingresos por sucursal\n",
        "ingresos = np.array([\n",
        "    [1000, 1500, 2000],\n",
        "    [2500, 3000, 3500]\n",
        "])"
      ],
      "metadata": {
        "id": "y9ZSmzzKLP0F"
      },
      "execution_count": null,
      "outputs": []
    },
    {
      "cell_type": "code",
      "source": [
        "# Cálculo de la desviación estándar\n",
        "desviacion_estandar = np.std(ingresos)\n",
        "print(\"Desviación estándar de los ingresos:\")\n",
        "print(desviacion_estandar)"
      ],
      "metadata": {
        "colab": {
          "base_uri": "https://localhost:8080/"
        },
        "id": "GaDPz6RiLaKz",
        "outputId": "0bc87785-c4bf-4592-fd32-d5f530c38e02"
      },
      "execution_count": null,
      "outputs": [
        {
          "output_type": "stream",
          "name": "stdout",
          "text": [
            "Desviación estándar de los ingresos:\n",
            "853.9125638299665\n"
          ]
        }
      ]
    },
    {
      "cell_type": "markdown",
      "source": [
        " ## **<font color=\"DarkBlue\">Mediana</font>**"
      ],
      "metadata": {
        "id": "9Fx8eE6oLy-E"
      }
    },
    {
      "cell_type": "markdown",
      "source": [
        "<p align=\"justify\">\n",
        "La mediana de una matriz $ A $ es el valor que separa la mitad superior de la mitad inferior de los datos. Para calcular la mediana, primero se deben ordenar todos los elementos de la matriz. Si el número de elementos $ N $ es impar, la mediana es el valor del elemento central. Si $ N $ es par, la mediana es el promedio de los dos valores centrales:\n",
        "<br><br>\n",
        "$$\\text{Mediana} =\n",
        "\\begin{cases}\n",
        "\\text{Elemento}_{\\frac{N+1}{2}} & \\text{si } N \\text{ es impar} \\\\\n",
        "\\frac{\\text{Elemento}_{\\frac{N}{2}} + \\text{Elemento}_{\\frac{N}{2}+1}}{2} & \\text{si } N \\text{ es par}\n",
        "\\end{cases}\n",
        "$$\n"
      ],
      "metadata": {
        "id": "EXG7a52lL56E"
      }
    },
    {
      "cell_type": "markdown",
      "source": [
        "<p align=\"justify\">\n",
        "👀 Imaginemos que tenemos una matriz de ventas de diferentes productos en distintas regiones y queremos calcular la mediana de las ventas."
      ],
      "metadata": {
        "id": "ZdjTnUboMhPA"
      }
    },
    {
      "cell_type": "code",
      "source": [
        "# Matriz de ventas por producto en diferentes regiones\n",
        "ventas = np.array([\n",
        "    [100, 150, 200],\n",
        "    [250, 300, 350]\n",
        "])"
      ],
      "metadata": {
        "id": "hZgP999zMe3t"
      },
      "execution_count": null,
      "outputs": []
    },
    {
      "cell_type": "code",
      "source": [
        "# Cálculo de la mediana\n",
        "mediana_ventas = np.median(ventas)\n",
        "print(\"Mediana de las ventas:\")\n",
        "print(mediana_ventas)"
      ],
      "metadata": {
        "colab": {
          "base_uri": "https://localhost:8080/"
        },
        "id": "fs-kLmPyM3PV",
        "outputId": "f4feb06e-cb35-44ec-c5fa-ebde46a53f99"
      },
      "execution_count": null,
      "outputs": [
        {
          "output_type": "stream",
          "name": "stdout",
          "text": [
            "Mediana de las ventas:\n",
            "225.0\n"
          ]
        }
      ]
    },
    {
      "cell_type": "markdown",
      "source": [
        " ## **<font color=\"DarkBlue\">Normalización</font>**"
      ],
      "metadata": {
        "id": "3dm_VwoSNxxk"
      }
    },
    {
      "cell_type": "markdown",
      "source": [
        "<p align=\"justify\">\n",
        "La normalización es el proceso de ajustar los valores de una matriz para que se sitúen en un rango específico, típicamente $[0, 1]$. La normalización se puede definir como:\n",
        "<br><br>\n",
        "$$A_{\\text{norm}} = \\frac{A - \\text{min}(A)}{\\text{max}(A) - \\text{min}(A)} $$\n",
        "<br><br>\n",
        "donde $ A_{\\text{norm}} $ es la matriz normalizada.\n"
      ],
      "metadata": {
        "id": "oXcZBARaN5Ky"
      }
    },
    {
      "cell_type": "markdown",
      "source": [
        "<p align=\"justify\">\n",
        "👀 Supongamos que tenemos una matriz de ingresos por sucursal y queremos normalizar estos datos para compararlos de manera efectiva."
      ],
      "metadata": {
        "id": "xQ2fDY7NOd88"
      }
    },
    {
      "cell_type": "code",
      "source": [
        "# Matriz de ingresos por sucursal\n",
        "ingresos = np.array([\n",
        "    [1000, 1500, 2000],\n",
        "    [2500, 3000, 3500]\n",
        "])"
      ],
      "metadata": {
        "id": "U_ZYQGfwY0nw"
      },
      "execution_count": null,
      "outputs": []
    },
    {
      "cell_type": "code",
      "source": [
        "# Normalización de la matriz de ingresos\n",
        "ingresos_norm = (ingresos - np.min(ingresos)) / (np.max(ingresos) - np.min(ingresos))\n",
        "print(\"Matriz de ingresos normalizados:\")\n",
        "print(ingresos_norm)"
      ],
      "metadata": {
        "colab": {
          "base_uri": "https://localhost:8080/"
        },
        "id": "6BfdujoPY45u",
        "outputId": "57c6addc-338d-416e-951d-3ec8e782f04c"
      },
      "execution_count": null,
      "outputs": [
        {
          "output_type": "stream",
          "name": "stdout",
          "text": [
            "Matriz de ingresos normalizados:\n",
            "[[0.  0.2 0.4]\n",
            " [0.6 0.8 1. ]]\n"
          ]
        }
      ]
    },
    {
      "cell_type": "markdown",
      "source": [
        " # **<font color=\"DarkBlue\">Operaciones de Comparación</font>**"
      ],
      "metadata": {
        "id": "BUj6G3l5b481"
      }
    },
    {
      "cell_type": "markdown",
      "source": [
        "<p align=\"justify\">\n",
        "Las operaciones de comparación permiten evaluar elementos de una matriz con respecto a condiciones específicas y obtener matrices booleanas como resultado. Estas operaciones son fundamentales para el análisis de datos y la toma de decisiones basada en criterios específicos.\n"
      ],
      "metadata": {
        "id": "VF4-_5d1b-_J"
      }
    },
    {
      "cell_type": "markdown",
      "source": [
        " ## **<font color=\"DarkBlue\">Igualdad</font>**"
      ],
      "metadata": {
        "id": "26X0mfrqcAAE"
      }
    },
    {
      "cell_type": "markdown",
      "source": [
        "<p align=\"justify\">\n",
        "La operación de igualdad compara cada elemento de una matriz $ A $ con un valor escalar $ k $ o con los elementos de otra matriz $ B $ del mismo tamaño y devuelve una matriz booleana $ C $, donde cada elemento $ c_{ij} $ es True si $ a_{ij} = k $ o $ a_{ij} = b_{ij} $, y False en caso contrario:\n",
        "<br><br>\n",
        "\\[ C = (A == k) \\quad \\text{o} \\quad C = (A == B) \\]\n"
      ],
      "metadata": {
        "id": "huzK4DgEdKC4"
      }
    },
    {
      "cell_type": "markdown",
      "source": [
        "<p align=\"justify\">\n",
        "👀 Supongamos que una empresa quiere identificar las sucursales que alcanzaron una venta específica."
      ],
      "metadata": {
        "id": "Rw3CGAXc29To"
      }
    },
    {
      "cell_type": "code",
      "source": [
        "# Matriz de ventas por sucursal\n",
        "ventas = np.array([\n",
        "    [1000, 2000, 3000],\n",
        "    [4000, 5000, 6000]\n",
        "])"
      ],
      "metadata": {
        "id": "xzCjfGEp21Xv"
      },
      "execution_count": null,
      "outputs": []
    },
    {
      "cell_type": "code",
      "source": [
        "# Valor específico de ventas a comparar\n",
        "meta_ventas = 3000"
      ],
      "metadata": {
        "id": "5YaXpte53JZ-"
      },
      "execution_count": null,
      "outputs": []
    },
    {
      "cell_type": "code",
      "source": [
        "# Comparación de igualdad\n",
        "igual_a_meta = (ventas == meta_ventas)\n",
        "print(\"Sucursales que alcanzaron la meta de ventas:\")\n",
        "print(igual_a_meta)"
      ],
      "metadata": {
        "colab": {
          "base_uri": "https://localhost:8080/"
        },
        "id": "8SM_NSG73LR_",
        "outputId": "d86010a5-2cf1-43b0-9334-d1a7756f1ffa"
      },
      "execution_count": null,
      "outputs": [
        {
          "output_type": "stream",
          "name": "stdout",
          "text": [
            "Sucursales que alcanzaron la meta de ventas:\n",
            "[[False False  True]\n",
            " [False False False]]\n"
          ]
        }
      ]
    },
    {
      "cell_type": "markdown",
      "source": [
        " ## **<font color=\"DarkBlue\">Desigualdad</font>**"
      ],
      "metadata": {
        "id": "rUOu5ITXdKtQ"
      }
    },
    {
      "cell_type": "markdown",
      "source": [
        "<p align=\"justify\">\n",
        "La operación de desigualdad compara cada elemento de una matriz $ A $ con un valor escalar $ k $ o con los elementos de otra matriz $ B $ del mismo tamaño y devuelve una matriz booleana $ C $, donde cada elemento $ c_{ij} $ es True si $ a_{ij} \\neq k $ o $ a_{ij} \\neq b_{ij} $, y False en caso contrario:\n",
        "<br><br>\n",
        "\\[ C = (A \\neq k) \\quad \\text{o} \\quad C = (A \\neq B) \\]\n"
      ],
      "metadata": {
        "id": "Zf59KNmcdOBS"
      }
    },
    {
      "cell_type": "markdown",
      "source": [
        " ## **<font color=\"DarkBlue\">Mayor que</font>**"
      ],
      "metadata": {
        "id": "Gwa02maWdO1t"
      }
    },
    {
      "cell_type": "markdown",
      "source": [
        "<p align=\"justify\">\n",
        "La operación mayor que compara cada elemento de una matriz $ A $ con un valor escalar $ k $ o con los elementos de otra matriz $ B $ del mismo tamaño y devuelve una matriz booleana $ C $, donde cada elemento $ c_{ij} $ es True si $ a_{ij} > k $ o $ a_{ij} > b_{ij} $, y False en caso contrario:\n",
        "<br><br>\n",
        "\\[ C = (A > k) \\quad \\text{o} \\quad C = (A > B) \\]\n"
      ],
      "metadata": {
        "id": "laewn8QidclP"
      }
    },
    {
      "cell_type": "markdown",
      "source": [
        "<p align=\"justify\">\n",
        "👀 Imaginemos que queremos identificar las sucursales que tuvieron ventas superiores a un determinado valor."
      ],
      "metadata": {
        "id": "fjuLT66Y4bl0"
      }
    },
    {
      "cell_type": "code",
      "source": [
        "# Matriz de ventas por sucursal\n",
        "ventas = np.array([\n",
        "    [1000, 2000, 3000],\n",
        "    [4000, 5000, 6000]\n",
        "])"
      ],
      "metadata": {
        "id": "qFaxUlVy4cuu"
      },
      "execution_count": null,
      "outputs": []
    },
    {
      "cell_type": "code",
      "source": [
        "# Valor de comparación\n",
        "umbral_ventas = 3500"
      ],
      "metadata": {
        "id": "B-FfNC3M4r-l"
      },
      "execution_count": null,
      "outputs": []
    },
    {
      "cell_type": "code",
      "source": [
        "# Comparación mayor que\n",
        "mayor_que_umbral = (ventas > umbral_ventas)\n",
        "print(\"Sucursales con ventas superiores al umbral:\")\n",
        "print(mayor_que_umbral)"
      ],
      "metadata": {
        "colab": {
          "base_uri": "https://localhost:8080/"
        },
        "id": "-zrwECUU4trw",
        "outputId": "2d133527-6f45-4da5-a173-e93d7dcfb7c8"
      },
      "execution_count": null,
      "outputs": [
        {
          "output_type": "stream",
          "name": "stdout",
          "text": [
            "Sucursales con ventas superiores al umbral:\n",
            "[[False False False]\n",
            " [ True  True  True]]\n"
          ]
        }
      ]
    },
    {
      "cell_type": "markdown",
      "source": [
        " ## **<font color=\"DarkBlue\">Mayor o igual que</font>**"
      ],
      "metadata": {
        "id": "NFQEd-guhY6Q"
      }
    },
    {
      "cell_type": "markdown",
      "source": [
        "<p align=\"justify\">\n",
        "La operación mayor o igual que compara cada elemento de una matriz $ A $ con un valor escalar $ k $ o con los elementos de otra matriz $ B $ del mismo tamaño y devuelve una matriz booleana $ C $, donde cada elemento $ c_{ij} $ es True si $ a_{ij} \\ge k $ o $ a_{ij} \\ge b_{ij} $, y False en caso contrario:\n",
        "<br><br>\n",
        "\\[ C = (A \\ge k) \\quad \\text{o} \\quad C = (A \\ge B) \\]\n"
      ],
      "metadata": {
        "id": "lbO7Nl3yhcJ5"
      }
    },
    {
      "cell_type": "markdown",
      "source": [
        "<p align=\"justify\">\n",
        "👀 Imaginemos que queremos identificar las sucursales que tuvieron ingresos mayores o iguales a un valor específico."
      ],
      "metadata": {
        "id": "aHZ1z6qv7ba4"
      }
    },
    {
      "cell_type": "code",
      "source": [
        "# Matriz de ingresos por sucursal\n",
        "ingresos = np.array([\n",
        "    [5000, 7000, 10000],\n",
        "    [11000, 13000, 15000]\n",
        "])"
      ],
      "metadata": {
        "id": "sgy41epZ7sdl"
      },
      "execution_count": null,
      "outputs": []
    },
    {
      "cell_type": "code",
      "source": [
        "# Valor de comparación\n",
        "umbral_ingresos = 10000"
      ],
      "metadata": {
        "id": "aX_ICHrI7zYe"
      },
      "execution_count": null,
      "outputs": []
    },
    {
      "cell_type": "code",
      "source": [
        "# Comparación mayor o igual que\n",
        "mayor_igual_umbral = (ingresos >= umbral_ingresos)\n",
        "print(\"Sucursales con ingresos mayores o iguales al umbral:\")\n",
        "print(mayor_igual_umbral)"
      ],
      "metadata": {
        "colab": {
          "base_uri": "https://localhost:8080/"
        },
        "id": "5SWTUAIl71Yw",
        "outputId": "4a539500-3f95-4e2e-bb60-d68bf48b2be6"
      },
      "execution_count": null,
      "outputs": [
        {
          "output_type": "stream",
          "name": "stdout",
          "text": [
            "Sucursales con ingresos mayores o iguales al umbral:\n",
            "[[False False  True]\n",
            " [ True  True  True]]\n"
          ]
        }
      ]
    },
    {
      "cell_type": "markdown",
      "source": [
        " ## **<font color=\"DarkBlue\">Menor que</font>**"
      ],
      "metadata": {
        "id": "7FEJbqTkddts"
      }
    },
    {
      "cell_type": "markdown",
      "source": [
        "<p align=\"justify\">\n",
        "La operación menor que compara cada elemento de una matriz $ A $ con un valor escalar $ k $ o con los elementos de otra matriz $ B $ del mismo tamaño y devuelve una matriz booleana $ C $, donde cada elemento $ c_{ij} $ es True si $ a_{ij} < k $ o $ a_{ij} < b_{ij} $, y False en caso contrario:\n",
        "<br><br>\n",
        "\\[ C = (A < k) \\quad \\text{o} \\quad C = (A < B) \\]\n"
      ],
      "metadata": {
        "id": "U1WhzhTedhZg"
      }
    },
    {
      "cell_type": "markdown",
      "source": [
        "<p align=\"justify\">\n",
        "👀 Supongamos que queremos identificar las sucursales que tuvieron costos menores que un determinado valor."
      ],
      "metadata": {
        "id": "6DOIN2gG8YIl"
      }
    },
    {
      "cell_type": "code",
      "source": [
        "# Matriz de costos por sucursal\n",
        "costos = np.array([\n",
        "    [800, 1600, 2400],\n",
        "    [3200, 4000, 4800]\n",
        "])"
      ],
      "metadata": {
        "id": "vs0lA8T68_py"
      },
      "execution_count": null,
      "outputs": []
    },
    {
      "cell_type": "code",
      "source": [
        "# Valor de comparación\n",
        "umbral_costos = 2500"
      ],
      "metadata": {
        "id": "P1ITBLYk9Fkg"
      },
      "execution_count": null,
      "outputs": []
    },
    {
      "cell_type": "code",
      "source": [
        "# Comparación menor que\n",
        "menor_que_umbral = (costos < umbral_costos)\n",
        "print(\"Sucursales con costos menores que el umbral:\")\n",
        "print(menor_que_umbral)"
      ],
      "metadata": {
        "colab": {
          "base_uri": "https://localhost:8080/"
        },
        "id": "2VA4euKc9HVi",
        "outputId": "fa4f09eb-fd1c-463a-9070-f5fe341184fe"
      },
      "execution_count": null,
      "outputs": [
        {
          "output_type": "stream",
          "name": "stdout",
          "text": [
            "Sucursales con costos menores que el umbral:\n",
            "[[ True  True  True]\n",
            " [False False False]]\n"
          ]
        }
      ]
    },
    {
      "cell_type": "markdown",
      "source": [
        " ## **<font color=\"DarkBlue\">Menor o igual que</font>**"
      ],
      "metadata": {
        "id": "y_qkTwu_didx"
      }
    },
    {
      "cell_type": "markdown",
      "source": [
        "<p align=\"justify\">\n",
        "La operación menor o igual que compara cada elemento de una matriz $ A $ con un valor escalar $ k $ o con los elementos de otra matriz $ B $ del mismo tamaño y devuelve una matriz booleana $ C $, donde cada elemento $ c_{ij} $ es True si $ a_{ij} \\le k $ o $ a_{ij} \\le b_{ij} $, y False en caso contrario:\n",
        "<br><br>\n",
        "\\[ C = (A \\le k) \\quad \\text{o} \\quad C = (A \\le B) \\]\n"
      ],
      "metadata": {
        "id": "tZIc-TRphiUh"
      }
    },
    {
      "cell_type": "markdown",
      "source": [
        "<p align=\"justify\">\n",
        "👀 Supongamos que queremos identificar las sucursales que tuvieron gastos menores o iguales a un determinado valor."
      ],
      "metadata": {
        "id": "51TAZup99mFd"
      }
    },
    {
      "cell_type": "code",
      "source": [
        "# Matriz de gastos por sucursal\n",
        "gastos = np.array([\n",
        "    [1000, 2000, 3000],\n",
        "    [4500, 5000, 6000]\n",
        "])"
      ],
      "metadata": {
        "id": "6PpTp4d79zLt"
      },
      "execution_count": null,
      "outputs": []
    },
    {
      "cell_type": "code",
      "source": [
        "# Valor de comparación\n",
        "umbral_gastos = 4500"
      ],
      "metadata": {
        "id": "dVa3zh3j91PS"
      },
      "execution_count": null,
      "outputs": []
    },
    {
      "cell_type": "code",
      "source": [
        "# Comparación menor o igual que\n",
        "menor_igual_umbral = (gastos <= umbral_gastos)\n",
        "print(\"Sucursales con gastos menores o iguales al umbral:\")\n",
        "print(menor_igual_umbral)"
      ],
      "metadata": {
        "colab": {
          "base_uri": "https://localhost:8080/"
        },
        "id": "V0Lxryab93AE",
        "outputId": "59823190-f152-4eb7-f81e-0222a8debe9c"
      },
      "execution_count": null,
      "outputs": [
        {
          "output_type": "stream",
          "name": "stdout",
          "text": [
            "Sucursales con gastos menores o iguales al umbral:\n",
            "[[ True  True  True]\n",
            " [ True False False]]\n"
          ]
        }
      ]
    },
    {
      "cell_type": "markdown",
      "source": [
        " # **<font color=\"DarkBlue\">Operaciones de Transformación de Datos</font>**"
      ],
      "metadata": {
        "id": "qrcZpqRPFWYd"
      }
    },
    {
      "cell_type": "markdown",
      "source": [
        "<p align=\"justify\">\n",
        "Las operaciones de transformación de datos permiten cambiar la estructura y forma de una matriz sin alterar sus datos. Estas operaciones son esenciales para preparar los datos para análisis y procesamiento.\n"
      ],
      "metadata": {
        "id": "iiNc0xpvFfxk"
      }
    },
    {
      "cell_type": "markdown",
      "source": [
        " ## **<font color=\"DarkBlue\">Reshape</font>**"
      ],
      "metadata": {
        "id": "PbD_Ml63Hc-G"
      }
    },
    {
      "cell_type": "markdown",
      "source": [
        "<p align=\"justify\">\n",
        "La operación <code>reshape</code> permite cambiar la forma de una matriz a una nueva forma especificada sin alterar los datos. La nueva forma debe tener el mismo número de elementos que la matriz original.\n",
        "<br><br>\n",
        "Si $ A $ es una matriz de dimensiones $ m \\times n $, se puede transformar en una matriz de dimensiones $ p \\times q $ siempre que $ m \\cdot n = p \\cdot q $\n"
      ],
      "metadata": {
        "id": "m5N2TbCyH_L0"
      }
    },
    {
      "cell_type": "markdown",
      "source": [
        "<p align=\"justify\">\n",
        "👀 Supongamos que tenemos una matriz que representa las ventas trimestrales de varios productos en diferentes regiones, y queremos transformar esta matriz para analizar las ventas por producto en todas las regiones y trimestres."
      ],
      "metadata": {
        "id": "DTX1cngnIRAr"
      }
    },
    {
      "cell_type": "code",
      "source": [
        "# Matriz de ventas trimestrales por producto y región\n",
        "ventas_trimestrales = np.array([\n",
        "    [100, 150, 200, 250],\n",
        "    [300, 350, 400, 450],\n",
        "    [500, 550, 600, 650]\n",
        "])"
      ],
      "metadata": {
        "id": "WTj7EpVzIRpt"
      },
      "execution_count": null,
      "outputs": []
    },
    {
      "cell_type": "code",
      "source": [
        "# Reshape para analizar ventas por producto\n",
        "ventas_reshaped = ventas_trimestrales.reshape(6, 2)\n",
        "print(\"Ventas trimestrales transformadas:\")\n",
        "print(ventas_reshaped)"
      ],
      "metadata": {
        "colab": {
          "base_uri": "https://localhost:8080/"
        },
        "id": "l9RIphEMIkTH",
        "outputId": "316e40aa-3451-4b6a-86c5-4cf57c9feb53"
      },
      "execution_count": null,
      "outputs": [
        {
          "output_type": "stream",
          "name": "stdout",
          "text": [
            "Ventas trimestrales transformadas:\n",
            "[[100 150]\n",
            " [200 250]\n",
            " [300 350]\n",
            " [400 450]\n",
            " [500 550]\n",
            " [600 650]]\n"
          ]
        }
      ]
    },
    {
      "cell_type": "markdown",
      "source": [
        " ## **<font color=\"DarkBlue\">Flatten</font>**"
      ],
      "metadata": {
        "id": "omjMaRn2JDNn"
      }
    },
    {
      "cell_type": "markdown",
      "source": [
        "<p align=\"justify\">\n",
        "La operación <code>flatten</code> convierte una matriz multidimensional en un vector unidimensional, manteniendo el orden de los elementos."
      ],
      "metadata": {
        "id": "D1dmJHRtJGLK"
      }
    },
    {
      "cell_type": "markdown",
      "source": [
        "<p align=\"justify\">\n",
        "👀 Imaginemos que queremos convertir una matriz de ingresos mensuales por sucursal en un vector unidimensional para aplicar una función de análisis."
      ],
      "metadata": {
        "id": "b9WqY_cbJagO"
      }
    },
    {
      "cell_type": "code",
      "source": [
        "# Matriz de ingresos mensuales por sucursal\n",
        "ingresos_mensuales = np.array([\n",
        "    [1000, 1500, 2000],\n",
        "    [2500, 3000, 3500]\n",
        "])"
      ],
      "metadata": {
        "id": "CDJp5bRAJh-T"
      },
      "execution_count": null,
      "outputs": []
    },
    {
      "cell_type": "code",
      "source": [
        "# Flatten para convertir a vector unidimensional\n",
        "ingresos_flattened = ingresos_mensuales.flatten()\n",
        "print(\"Ingresos mensuales a vector unidimensional:\")\n",
        "print(ingresos_flattened)"
      ],
      "metadata": {
        "colab": {
          "base_uri": "https://localhost:8080/"
        },
        "id": "I-C280Z-JnpL",
        "outputId": "ba4e3171-b83b-42b2-cabe-b228730d7dc1"
      },
      "execution_count": null,
      "outputs": [
        {
          "output_type": "stream",
          "name": "stdout",
          "text": [
            "Ingresos mensuales a vector unidimensional:\n",
            "[1000 1500 2000 2500 3000 3500]\n"
          ]
        }
      ]
    },
    {
      "cell_type": "markdown",
      "source": [
        "<br>\n",
        "<br>\n",
        "<p align=\"center\"><b>\n",
        "💗\n",
        "<font color=\"DarkBlue\">\n",
        "Hemos llegado al final de nuestro colab, a seguir codeando en NumPy...\n",
        "</font>\n",
        "</p>\n"
      ],
      "metadata": {
        "id": "rrDMEhW6Vq2a"
      }
    }
  ]
}