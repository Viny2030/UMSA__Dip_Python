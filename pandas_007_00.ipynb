{
  "nbformat": 4,
  "nbformat_minor": 0,
  "metadata": {
    "colab": {
      "provenance": []
    },
    "kernelspec": {
      "name": "python3",
      "display_name": "Python 3"
    },
    "language_info": {
      "name": "python"
    }
  },
  "cells": [
    {
      "cell_type": "markdown",
      "source": [
        " # **<font color=\"DarkBlue\">Series de tiempo 🐼 </font>**"
      ],
      "metadata": {
        "id": "8JRU2b37tJTH"
      }
    },
    {
      "cell_type": "markdown",
      "source": [
        "<p align=\"center\">\n",
        "<img src=\"https://pandas.pydata.org/static/img/pandas_mark.svg\" width=\"50\">\n",
        "</p>\n"
      ],
      "metadata": {
        "id": "XM-hn7ZLmgQc"
      }
    },
    {
      "cell_type": "markdown",
      "source": [
        "https://pandas.pydata.org/"
      ],
      "metadata": {
        "id": "ZZW38_ClRXEH"
      }
    },
    {
      "cell_type": "markdown",
      "source": [
        " # **<font color=\"DarkBlue\">Introducción a Series de Tiempo en Pandas</font>**"
      ],
      "metadata": {
        "id": "XaFVC86iZLYr"
      }
    },
    {
      "cell_type": "markdown",
      "source": [
        "<p align=\"justify\">\n",
        "Pandas ofrece un potente soporte para trabajar con datos temporales mediante el módulo <b>Series de Tiempo</b>. Las Series de Tiempo son datos indexados por marcas de tiempo y son esenciales para el análisis de datos cronológicos. Estas marcas pueden ser específicas (como una fecha exacta) o abarcar rangos (como un mes o un año).\n",
        "<br><br>\n",
        "Las principales funcionalidades incluyen:\n",
        "<br><br>\n",
        "\n",
        "1. **Creación de objetos temporales**: Utilizando <code>pd.date_range</code> o el constructor de índices de tiempo.\n",
        "<br>\n",
        "2. **Manipulación de índices de tiempo**: Permite realizar operaciones como re-muestreo, desplazamientos y alineaciones de datos temporales.\n",
        "<br>\n",
        "3. **Operaciones con frecuencias**: Pandas soporta múltiples frecuencias, como diaria ('D'), mensual ('Me'), anual ('A'), entre otras.\n",
        "<br>\n",
        "4. **Manejo de zonas horarias**: Facilita la conversión entre distintas zonas horarias.\n",
        "<br>\n",
        "5. **Análisis de datos temporales**: Es posible filtrar, agrupar y realizar cálculos específicos sobre ventanas de tiempo.\n",
        "\n",
        "<br>\n",
        "<p align=\"justify\">\n",
        "La combinación de estas funcionalidades permite un análisis profundo de datos temporales, desde su limpieza y transformación hasta su visualización y modelado.\n",
        "</p>\n"
      ],
      "metadata": {
        "id": "QEp0wDuv7B4_"
      }
    },
    {
      "cell_type": "markdown",
      "source": [
        "👀 Ejemplo:"
      ],
      "metadata": {
        "id": "-ocmbpBQZmW9"
      }
    },
    {
      "cell_type": "code",
      "source": [
        "import pandas as pd\n",
        "import plotly.express as px"
      ],
      "metadata": {
        "id": "DmrMEV3R5lJZ"
      },
      "execution_count": 1,
      "outputs": []
    },
    {
      "cell_type": "code",
      "source": [
        "# Crear una Serie de Tiempo con un rango de fechas\n",
        "\n",
        "fechas = pd.date_range(start=\"2024-01-01\", periods=10, freq=\"D\")\n",
        "datos = [10, 12, 15, 14, 16, 20, 22, 24, 26, 30]\n",
        "serie_tiempo = pd.Series(data=datos, index=fechas)"
      ],
      "metadata": {
        "id": "lBqRzG185p4_"
      },
      "execution_count": 2,
      "outputs": []
    },
    {
      "cell_type": "code",
      "source": [
        "fechas"
      ],
      "metadata": {
        "colab": {
          "base_uri": "https://localhost:8080/"
        },
        "id": "v7eKqjcXtrxA",
        "outputId": "f93e9435-6e4d-4815-8e41-75692106dac8"
      },
      "execution_count": 34,
      "outputs": [
        {
          "output_type": "execute_result",
          "data": {
            "text/plain": [
              "DatetimeIndex(['2024-01-01', '2024-01-02', '2024-01-03', '2024-01-04',\n",
              "               '2024-01-05', '2024-01-06', '2024-01-07', '2024-01-08',\n",
              "               '2024-01-09', '2024-01-10'],\n",
              "              dtype='datetime64[ns]', freq='D')"
            ]
          },
          "metadata": {},
          "execution_count": 34
        }
      ]
    },
    {
      "cell_type": "code",
      "source": [
        "# Operaciones básicas\n",
        "\n",
        "serie_tiempo.name = \"Datos\"\n",
        "serie_tiempo\n"
      ],
      "metadata": {
        "colab": {
          "base_uri": "https://localhost:8080/",
          "height": 397
        },
        "id": "eStM9QT452m8",
        "outputId": "cd2021af-d61b-4472-c595-4bc4f529cbcd"
      },
      "execution_count": 3,
      "outputs": [
        {
          "output_type": "execute_result",
          "data": {
            "text/plain": [
              "2024-01-01    10\n",
              "2024-01-02    12\n",
              "2024-01-03    15\n",
              "2024-01-04    14\n",
              "2024-01-05    16\n",
              "2024-01-06    20\n",
              "2024-01-07    22\n",
              "2024-01-08    24\n",
              "2024-01-09    26\n",
              "2024-01-10    30\n",
              "Freq: D, Name: Datos, dtype: int64"
            ],
            "text/html": [
              "<div>\n",
              "<style scoped>\n",
              "    .dataframe tbody tr th:only-of-type {\n",
              "        vertical-align: middle;\n",
              "    }\n",
              "\n",
              "    .dataframe tbody tr th {\n",
              "        vertical-align: top;\n",
              "    }\n",
              "\n",
              "    .dataframe thead th {\n",
              "        text-align: right;\n",
              "    }\n",
              "</style>\n",
              "<table border=\"1\" class=\"dataframe\">\n",
              "  <thead>\n",
              "    <tr style=\"text-align: right;\">\n",
              "      <th></th>\n",
              "      <th>Datos</th>\n",
              "    </tr>\n",
              "  </thead>\n",
              "  <tbody>\n",
              "    <tr>\n",
              "      <th>2024-01-01</th>\n",
              "      <td>10</td>\n",
              "    </tr>\n",
              "    <tr>\n",
              "      <th>2024-01-02</th>\n",
              "      <td>12</td>\n",
              "    </tr>\n",
              "    <tr>\n",
              "      <th>2024-01-03</th>\n",
              "      <td>15</td>\n",
              "    </tr>\n",
              "    <tr>\n",
              "      <th>2024-01-04</th>\n",
              "      <td>14</td>\n",
              "    </tr>\n",
              "    <tr>\n",
              "      <th>2024-01-05</th>\n",
              "      <td>16</td>\n",
              "    </tr>\n",
              "    <tr>\n",
              "      <th>2024-01-06</th>\n",
              "      <td>20</td>\n",
              "    </tr>\n",
              "    <tr>\n",
              "      <th>2024-01-07</th>\n",
              "      <td>22</td>\n",
              "    </tr>\n",
              "    <tr>\n",
              "      <th>2024-01-08</th>\n",
              "      <td>24</td>\n",
              "    </tr>\n",
              "    <tr>\n",
              "      <th>2024-01-09</th>\n",
              "      <td>26</td>\n",
              "    </tr>\n",
              "    <tr>\n",
              "      <th>2024-01-10</th>\n",
              "      <td>30</td>\n",
              "    </tr>\n",
              "  </tbody>\n",
              "</table>\n",
              "</div><br><label><b>dtype:</b> int64</label>"
            ]
          },
          "metadata": {},
          "execution_count": 3
        }
      ]
    },
    {
      "cell_type": "code",
      "source": [
        "# Re-muestreo a frecuencia semanal (suma de valores)\n",
        "\n",
        "serie_semanal = serie_tiempo.resample(\"W\").sum()\n",
        "serie_semanal\n"
      ],
      "metadata": {
        "colab": {
          "base_uri": "https://localhost:8080/",
          "height": 147
        },
        "id": "qqrnSlP_98ZM",
        "outputId": "117cf3d9-00ef-4cd9-9666-0f6b6994f581"
      },
      "execution_count": 4,
      "outputs": [
        {
          "output_type": "execute_result",
          "data": {
            "text/plain": [
              "2024-01-07    109\n",
              "2024-01-14     80\n",
              "Freq: W-SUN, Name: Datos, dtype: int64"
            ],
            "text/html": [
              "<div>\n",
              "<style scoped>\n",
              "    .dataframe tbody tr th:only-of-type {\n",
              "        vertical-align: middle;\n",
              "    }\n",
              "\n",
              "    .dataframe tbody tr th {\n",
              "        vertical-align: top;\n",
              "    }\n",
              "\n",
              "    .dataframe thead th {\n",
              "        text-align: right;\n",
              "    }\n",
              "</style>\n",
              "<table border=\"1\" class=\"dataframe\">\n",
              "  <thead>\n",
              "    <tr style=\"text-align: right;\">\n",
              "      <th></th>\n",
              "      <th>Datos</th>\n",
              "    </tr>\n",
              "  </thead>\n",
              "  <tbody>\n",
              "    <tr>\n",
              "      <th>2024-01-07</th>\n",
              "      <td>109</td>\n",
              "    </tr>\n",
              "    <tr>\n",
              "      <th>2024-01-14</th>\n",
              "      <td>80</td>\n",
              "    </tr>\n",
              "  </tbody>\n",
              "</table>\n",
              "</div><br><label><b>dtype:</b> int64</label>"
            ]
          },
          "metadata": {},
          "execution_count": 4
        }
      ]
    },
    {
      "cell_type": "code",
      "source": [
        "serie_tiempo"
      ],
      "metadata": {
        "colab": {
          "base_uri": "https://localhost:8080/",
          "height": 397
        },
        "id": "vdZgRoKJvEty",
        "outputId": "aa3c791b-d51a-4452-c448-7daaef4b6067"
      },
      "execution_count": 35,
      "outputs": [
        {
          "output_type": "execute_result",
          "data": {
            "text/plain": [
              "2024-01-01    10\n",
              "2024-01-02    12\n",
              "2024-01-03    15\n",
              "2024-01-04    14\n",
              "2024-01-05    16\n",
              "2024-01-06    20\n",
              "2024-01-07    22\n",
              "2024-01-08    24\n",
              "2024-01-09    26\n",
              "2024-01-10    30\n",
              "Freq: D, Name: Datos, dtype: int64"
            ],
            "text/html": [
              "<div>\n",
              "<style scoped>\n",
              "    .dataframe tbody tr th:only-of-type {\n",
              "        vertical-align: middle;\n",
              "    }\n",
              "\n",
              "    .dataframe tbody tr th {\n",
              "        vertical-align: top;\n",
              "    }\n",
              "\n",
              "    .dataframe thead th {\n",
              "        text-align: right;\n",
              "    }\n",
              "</style>\n",
              "<table border=\"1\" class=\"dataframe\">\n",
              "  <thead>\n",
              "    <tr style=\"text-align: right;\">\n",
              "      <th></th>\n",
              "      <th>Datos</th>\n",
              "    </tr>\n",
              "  </thead>\n",
              "  <tbody>\n",
              "    <tr>\n",
              "      <th>2024-01-01</th>\n",
              "      <td>10</td>\n",
              "    </tr>\n",
              "    <tr>\n",
              "      <th>2024-01-02</th>\n",
              "      <td>12</td>\n",
              "    </tr>\n",
              "    <tr>\n",
              "      <th>2024-01-03</th>\n",
              "      <td>15</td>\n",
              "    </tr>\n",
              "    <tr>\n",
              "      <th>2024-01-04</th>\n",
              "      <td>14</td>\n",
              "    </tr>\n",
              "    <tr>\n",
              "      <th>2024-01-05</th>\n",
              "      <td>16</td>\n",
              "    </tr>\n",
              "    <tr>\n",
              "      <th>2024-01-06</th>\n",
              "      <td>20</td>\n",
              "    </tr>\n",
              "    <tr>\n",
              "      <th>2024-01-07</th>\n",
              "      <td>22</td>\n",
              "    </tr>\n",
              "    <tr>\n",
              "      <th>2024-01-08</th>\n",
              "      <td>24</td>\n",
              "    </tr>\n",
              "    <tr>\n",
              "      <th>2024-01-09</th>\n",
              "      <td>26</td>\n",
              "    </tr>\n",
              "    <tr>\n",
              "      <th>2024-01-10</th>\n",
              "      <td>30</td>\n",
              "    </tr>\n",
              "  </tbody>\n",
              "</table>\n",
              "</div><br><label><b>dtype:</b> int64</label>"
            ]
          },
          "metadata": {},
          "execution_count": 35
        }
      ]
    },
    {
      "cell_type": "code",
      "source": [
        "# Desplazamiento temporal\n",
        "\n",
        "serie_desplazada = serie_tiempo.shift(1)\n",
        "serie_desplazada\n"
      ],
      "metadata": {
        "colab": {
          "base_uri": "https://localhost:8080/",
          "height": 397
        },
        "id": "xOoL_tV2-Ymg",
        "outputId": "59befa11-7650-4e7f-c2d6-5a0bb1190c6b"
      },
      "execution_count": 5,
      "outputs": [
        {
          "output_type": "execute_result",
          "data": {
            "text/plain": [
              "2024-01-01     NaN\n",
              "2024-01-02    10.0\n",
              "2024-01-03    12.0\n",
              "2024-01-04    15.0\n",
              "2024-01-05    14.0\n",
              "2024-01-06    16.0\n",
              "2024-01-07    20.0\n",
              "2024-01-08    22.0\n",
              "2024-01-09    24.0\n",
              "2024-01-10    26.0\n",
              "Freq: D, Name: Datos, dtype: float64"
            ],
            "text/html": [
              "<div>\n",
              "<style scoped>\n",
              "    .dataframe tbody tr th:only-of-type {\n",
              "        vertical-align: middle;\n",
              "    }\n",
              "\n",
              "    .dataframe tbody tr th {\n",
              "        vertical-align: top;\n",
              "    }\n",
              "\n",
              "    .dataframe thead th {\n",
              "        text-align: right;\n",
              "    }\n",
              "</style>\n",
              "<table border=\"1\" class=\"dataframe\">\n",
              "  <thead>\n",
              "    <tr style=\"text-align: right;\">\n",
              "      <th></th>\n",
              "      <th>Datos</th>\n",
              "    </tr>\n",
              "  </thead>\n",
              "  <tbody>\n",
              "    <tr>\n",
              "      <th>2024-01-01</th>\n",
              "      <td>NaN</td>\n",
              "    </tr>\n",
              "    <tr>\n",
              "      <th>2024-01-02</th>\n",
              "      <td>10.0</td>\n",
              "    </tr>\n",
              "    <tr>\n",
              "      <th>2024-01-03</th>\n",
              "      <td>12.0</td>\n",
              "    </tr>\n",
              "    <tr>\n",
              "      <th>2024-01-04</th>\n",
              "      <td>15.0</td>\n",
              "    </tr>\n",
              "    <tr>\n",
              "      <th>2024-01-05</th>\n",
              "      <td>14.0</td>\n",
              "    </tr>\n",
              "    <tr>\n",
              "      <th>2024-01-06</th>\n",
              "      <td>16.0</td>\n",
              "    </tr>\n",
              "    <tr>\n",
              "      <th>2024-01-07</th>\n",
              "      <td>20.0</td>\n",
              "    </tr>\n",
              "    <tr>\n",
              "      <th>2024-01-08</th>\n",
              "      <td>22.0</td>\n",
              "    </tr>\n",
              "    <tr>\n",
              "      <th>2024-01-09</th>\n",
              "      <td>24.0</td>\n",
              "    </tr>\n",
              "    <tr>\n",
              "      <th>2024-01-10</th>\n",
              "      <td>26.0</td>\n",
              "    </tr>\n",
              "  </tbody>\n",
              "</table>\n",
              "</div><br><label><b>dtype:</b> float64</label>"
            ]
          },
          "metadata": {},
          "execution_count": 5
        }
      ]
    },
    {
      "cell_type": "code",
      "source": [
        "# Conversión de zona horaria\n",
        "\n",
        "serie_tz = serie_tiempo.tz_localize(\"UTC\").tz_convert(\"America/Argentina/Buenos_Aires\")\n",
        "serie_tz"
      ],
      "metadata": {
        "colab": {
          "base_uri": "https://localhost:8080/",
          "height": 397
        },
        "id": "9eR1DRvp-mth",
        "outputId": "9c4f3f17-9067-4028-e8c6-eb11b8ed598c"
      },
      "execution_count": 6,
      "outputs": [
        {
          "output_type": "execute_result",
          "data": {
            "text/plain": [
              "2023-12-31 21:00:00-03:00    10\n",
              "2024-01-01 21:00:00-03:00    12\n",
              "2024-01-02 21:00:00-03:00    15\n",
              "2024-01-03 21:00:00-03:00    14\n",
              "2024-01-04 21:00:00-03:00    16\n",
              "2024-01-05 21:00:00-03:00    20\n",
              "2024-01-06 21:00:00-03:00    22\n",
              "2024-01-07 21:00:00-03:00    24\n",
              "2024-01-08 21:00:00-03:00    26\n",
              "2024-01-09 21:00:00-03:00    30\n",
              "Freq: D, Name: Datos, dtype: int64"
            ],
            "text/html": [
              "<div>\n",
              "<style scoped>\n",
              "    .dataframe tbody tr th:only-of-type {\n",
              "        vertical-align: middle;\n",
              "    }\n",
              "\n",
              "    .dataframe tbody tr th {\n",
              "        vertical-align: top;\n",
              "    }\n",
              "\n",
              "    .dataframe thead th {\n",
              "        text-align: right;\n",
              "    }\n",
              "</style>\n",
              "<table border=\"1\" class=\"dataframe\">\n",
              "  <thead>\n",
              "    <tr style=\"text-align: right;\">\n",
              "      <th></th>\n",
              "      <th>Datos</th>\n",
              "    </tr>\n",
              "  </thead>\n",
              "  <tbody>\n",
              "    <tr>\n",
              "      <th>2023-12-31 21:00:00-03:00</th>\n",
              "      <td>10</td>\n",
              "    </tr>\n",
              "    <tr>\n",
              "      <th>2024-01-01 21:00:00-03:00</th>\n",
              "      <td>12</td>\n",
              "    </tr>\n",
              "    <tr>\n",
              "      <th>2024-01-02 21:00:00-03:00</th>\n",
              "      <td>15</td>\n",
              "    </tr>\n",
              "    <tr>\n",
              "      <th>2024-01-03 21:00:00-03:00</th>\n",
              "      <td>14</td>\n",
              "    </tr>\n",
              "    <tr>\n",
              "      <th>2024-01-04 21:00:00-03:00</th>\n",
              "      <td>16</td>\n",
              "    </tr>\n",
              "    <tr>\n",
              "      <th>2024-01-05 21:00:00-03:00</th>\n",
              "      <td>20</td>\n",
              "    </tr>\n",
              "    <tr>\n",
              "      <th>2024-01-06 21:00:00-03:00</th>\n",
              "      <td>22</td>\n",
              "    </tr>\n",
              "    <tr>\n",
              "      <th>2024-01-07 21:00:00-03:00</th>\n",
              "      <td>24</td>\n",
              "    </tr>\n",
              "    <tr>\n",
              "      <th>2024-01-08 21:00:00-03:00</th>\n",
              "      <td>26</td>\n",
              "    </tr>\n",
              "    <tr>\n",
              "      <th>2024-01-09 21:00:00-03:00</th>\n",
              "      <td>30</td>\n",
              "    </tr>\n",
              "  </tbody>\n",
              "</table>\n",
              "</div><br><label><b>dtype:</b> int64</label>"
            ]
          },
          "metadata": {},
          "execution_count": 6
        }
      ]
    },
    {
      "cell_type": "markdown",
      "source": [
        "<p align=\"justify\">\n",
        "En Python, los módulos <b>time</b>, <b>datetime</b>  y <b>calendar</b> proporcionan herramientas potentes para trabajar con fechas y horas. Estas herramientas permiten manejar datos cronológicos de manera eficiente, siendo fundamentales en el análisis de datos temporales.\n"
      ],
      "metadata": {
        "id": "sA_kWk-MKRSE"
      }
    },
    {
      "cell_type": "markdown",
      "source": [
        " ## **<font color=\"DarkBlue\">Time</font>**"
      ],
      "metadata": {
        "id": "xbXac3Z4KaOa"
      }
    },
    {
      "cell_type": "markdown",
      "source": [
        "<p align=\"justify\">\n",
        "   Este módulo maneja representaciones basadas en tiempo, incluyendo la obtención de la hora actual, creación de retardos y manejo del tiempo en segundos desde la epoca (1970-01-01).\n",
        "<br><br>   \n",
        "   Es útil para medir tiempos de ejecución o crear temporizadores.\n"
      ],
      "metadata": {
        "id": "1_txWsBwKdyQ"
      }
    },
    {
      "cell_type": "code",
      "source": [
        "import time"
      ],
      "metadata": {
        "id": "KdNzFIVfLYE4"
      },
      "execution_count": 7,
      "outputs": []
    },
    {
      "cell_type": "code",
      "source": [
        "# Módulo time: Obtener la hora actual en segundos\n",
        "\n",
        "current_time = time.time()\n",
        "print(\"Hora actual:\", current_time)\n"
      ],
      "metadata": {
        "colab": {
          "base_uri": "https://localhost:8080/"
        },
        "id": "lIFCurEgL9HU",
        "outputId": "4c17dd09-dead-4d55-8b3a-5ac153c51a6b"
      },
      "execution_count": 8,
      "outputs": [
        {
          "output_type": "stream",
          "name": "stdout",
          "text": [
            "Hora actual: 1731703995.1879828\n"
          ]
        }
      ]
    },
    {
      "cell_type": "code",
      "source": [
        "type(current_time)"
      ],
      "metadata": {
        "colab": {
          "base_uri": "https://localhost:8080/"
        },
        "id": "TEYbt52GMLSV",
        "outputId": "776b0839-39c5-46f3-9496-5ac71c44d0f9"
      },
      "execution_count": 9,
      "outputs": [
        {
          "output_type": "execute_result",
          "data": {
            "text/plain": [
              "float"
            ]
          },
          "metadata": {},
          "execution_count": 9
        }
      ]
    },
    {
      "cell_type": "code",
      "source": [
        "time.localtime().tm_year"
      ],
      "metadata": {
        "colab": {
          "base_uri": "https://localhost:8080/"
        },
        "id": "7ZUk0nBrwy_L",
        "outputId": "8f387a24-2544-46b5-a85d-0c25c72d81c8"
      },
      "execution_count": 39,
      "outputs": [
        {
          "output_type": "execute_result",
          "data": {
            "text/plain": [
              "2024"
            ]
          },
          "metadata": {},
          "execution_count": 39
        }
      ]
    },
    {
      "cell_type": "code",
      "source": [
        "time.localtime().tm_hour-3"
      ],
      "metadata": {
        "colab": {
          "base_uri": "https://localhost:8080/"
        },
        "id": "lItKSMbvxWmh",
        "outputId": "3cbfef02-fe96-4fdd-a515-a37840fba732"
      },
      "execution_count": 40,
      "outputs": [
        {
          "output_type": "execute_result",
          "data": {
            "text/plain": [
              "18"
            ]
          },
          "metadata": {},
          "execution_count": 40
        }
      ]
    },
    {
      "cell_type": "code",
      "source": [
        "datos_tupla = time.localtime().tm_year, time.localtime().tm_mon, time.localtime().tm_mday, time.localtime().tm_hour-3, time.localtime().tm_min, time.localtime().tm_sec  ## lo puedo convertir en una fecha"
      ],
      "metadata": {
        "id": "rxMn7Lk9xp6a"
      },
      "execution_count": 48,
      "outputs": []
    },
    {
      "cell_type": "code",
      "source": [
        "datos_tupla"
      ],
      "metadata": {
        "colab": {
          "base_uri": "https://localhost:8080/"
        },
        "id": "23JTtBKuysfM",
        "outputId": "593e9318-3f24-4e76-ab33-a17b6cd27e70"
      },
      "execution_count": 49,
      "outputs": [
        {
          "output_type": "execute_result",
          "data": {
            "text/plain": [
              "(2024, 11, 15, 18, 46, 31)"
            ]
          },
          "metadata": {},
          "execution_count": 49
        }
      ]
    },
    {
      "cell_type": "code",
      "source": [
        "type(datos_tupla)"
      ],
      "metadata": {
        "colab": {
          "base_uri": "https://localhost:8080/"
        },
        "id": "FcS7cRWUyvuN",
        "outputId": "73dd5719-45d6-4c2c-812a-f35160eb8f1f"
      },
      "execution_count": 52,
      "outputs": [
        {
          "output_type": "execute_result",
          "data": {
            "text/plain": [
              "tuple"
            ]
          },
          "metadata": {},
          "execution_count": 52
        }
      ]
    },
    {
      "cell_type": "code",
      "source": [
        "time.sleep(10)\n",
        "print(\"Programa pausado durante 10 segundos\")\n"
      ],
      "metadata": {
        "colab": {
          "base_uri": "https://localhost:8080/"
        },
        "id": "B0cVHXj6yFRp",
        "outputId": "37bd29dd-51cc-4012-bd0b-1ffa425cc038"
      },
      "execution_count": 47,
      "outputs": [
        {
          "output_type": "stream",
          "name": "stdout",
          "text": [
            "Programa pausado durante 10 segundos\n"
          ]
        }
      ]
    },
    {
      "cell_type": "code",
      "source": [
        "# Pausar el programa por 2 segundos\n",
        "%%time\n",
        "time.sleep(2)\n",
        "print(\"Programa pausado durante 2 segundos\")\n"
      ],
      "metadata": {
        "colab": {
          "base_uri": "https://localhost:8080/"
        },
        "id": "H3XZOj7mMnWw",
        "outputId": "7bff6369-c93c-4cec-b0da-438c04e24bee"
      },
      "execution_count": 45,
      "outputs": [
        {
          "output_type": "stream",
          "name": "stdout",
          "text": [
            "Programa pausado durante 2 segundos\n",
            "CPU times: user 12.8 ms, sys: 1.51 ms, total: 14.3 ms\n",
            "Wall time: 2 s\n"
          ]
        }
      ]
    },
    {
      "cell_type": "markdown",
      "source": [
        " ## **<font color=\"DarkBlue\">Datetime</font>**"
      ],
      "metadata": {
        "id": "nnBedVVBKzXq"
      }
    },
    {
      "cell_type": "markdown",
      "source": [
        "<p align=\"justify\">\n",
        "   El módulo <b>datetime</b> incluye clases como <code>datetime.datetime</code> para trabajar con fechas y horas, <code>datetime.date</code> para fechas específicas y <code>datetime.time</code> para manejar horas.\n",
        "   <br><br>\n",
        "   Permite realizar operaciones como cálculo de diferencias entre fechas, formateo y conversión.\n"
      ],
      "metadata": {
        "id": "bBWNOOZeK3zr"
      }
    },
    {
      "cell_type": "code",
      "source": [
        "import datetime"
      ],
      "metadata": {
        "id": "E_SLFO1ELZYN"
      },
      "execution_count": 11,
      "outputs": []
    },
    {
      "cell_type": "code",
      "source": [
        "# Módulo datetime: Crear una fecha y hora\n",
        "\n",
        "fecha_hora = datetime.datetime(2024, 11, 15, 10, 30)\n",
        "print(\"Fecha y hora:\", fecha_hora)"
      ],
      "metadata": {
        "colab": {
          "base_uri": "https://localhost:8080/"
        },
        "id": "ys1ue5f6LmLc",
        "outputId": "417ea78f-fb6c-4c5b-b17b-e732486b8b4d"
      },
      "execution_count": 12,
      "outputs": [
        {
          "output_type": "stream",
          "name": "stdout",
          "text": [
            "Fecha y hora: 2024-11-15 10:30:00\n"
          ]
        }
      ]
    },
    {
      "cell_type": "code",
      "source": [
        "fecha = (2024, 11, 15, 10, 30)"
      ],
      "metadata": {
        "id": "pRXBx5gVzob6"
      },
      "execution_count": 60,
      "outputs": []
    },
    {
      "cell_type": "code",
      "source": [
        "import datetime\n",
        "\n",
        "# Assuming 'utc' refers to datetime.timezone.utc\n",
        "utc = datetime.timezone.utc\n",
        "\n",
        "fecha_hora_local = datetime.datetime(2024, 11, 15, 10, 30, tzinfo=utc)\n",
        "print(\"Fecha y hora local:\", fecha_hora_local)"
      ],
      "metadata": {
        "colab": {
          "base_uri": "https://localhost:8080/"
        },
        "id": "tu99WvSrzeoC",
        "outputId": "f061a495-0dd0-46cc-d35f-19f0dd65d267"
      },
      "execution_count": 59,
      "outputs": [
        {
          "output_type": "stream",
          "name": "stdout",
          "text": [
            "Fecha y hora local: 2024-11-15 10:30:00+00:00\n"
          ]
        }
      ]
    },
    {
      "cell_type": "code",
      "source": [
        "datetime.datetime(time.localtime().tm_year, time.localtime().tm_mon, time.localtime().tm_mday, time.localtime().tm_hour-3, time.localtime().tm_min, time.localtime().tm_sec)  ## lo puedo convertir en una fecha"
      ],
      "metadata": {
        "colab": {
          "base_uri": "https://localhost:8080/"
        },
        "id": "cmG9EY_t0aGQ",
        "outputId": "198e61a0-c0d9-4a15-ebc0-d7250f4c1aba"
      },
      "execution_count": 65,
      "outputs": [
        {
          "output_type": "execute_result",
          "data": {
            "text/plain": [
              "datetime.datetime(2024, 11, 15, 18, 54, 41)"
            ]
          },
          "metadata": {},
          "execution_count": 65
        }
      ]
    },
    {
      "cell_type": "code",
      "source": [
        "datetime.datetime.now()"
      ],
      "metadata": {
        "colab": {
          "base_uri": "https://localhost:8080/"
        },
        "id": "hBqzsXvv1QLX",
        "outputId": "40cd73b5-ccb4-42f5-850b-2f3c052c5da1"
      },
      "execution_count": 72,
      "outputs": [
        {
          "output_type": "execute_result",
          "data": {
            "text/plain": [
              "datetime.datetime(2024, 11, 15, 22, 12, 2, 482049)"
            ]
          },
          "metadata": {},
          "execution_count": 72
        }
      ]
    },
    {
      "cell_type": "code",
      "source": [
        "import pytz\n",
        "zona_buenos_aires = pytz.timezone('America/Argentina/Buenos_Aires')\n",
        "fecha_hora_local = datetime.datetime.now(zona_buenos_aires)\n",
        "print(\"Fecha y hora local:\", fecha_hora_local)"
      ],
      "metadata": {
        "colab": {
          "base_uri": "https://localhost:8080/"
        },
        "id": "wvhzNzJ24m_o",
        "outputId": "0c564d98-ef45-48d4-ed48-f67daefebaec"
      },
      "execution_count": 73,
      "outputs": [
        {
          "output_type": "stream",
          "name": "stdout",
          "text": [
            "Fecha y hora local: 2024-11-15 19:12:58.938280-03:00\n"
          ]
        }
      ]
    },
    {
      "cell_type": "code",
      "source": [
        "fecha_hora_local"
      ],
      "metadata": {
        "colab": {
          "base_uri": "https://localhost:8080/"
        },
        "id": "q3ibxNgt42SZ",
        "outputId": "fbc19364-cf13-4986-f57f-84635bd27a5d"
      },
      "execution_count": 74,
      "outputs": [
        {
          "output_type": "execute_result",
          "data": {
            "text/plain": [
              "datetime.datetime(2024, 11, 15, 19, 12, 58, 938280, tzinfo=<DstTzInfo 'America/Argentina/Buenos_Aires' -03-1 day, 21:00:00 STD>)"
            ]
          },
          "metadata": {},
          "execution_count": 74
        }
      ]
    },
    {
      "cell_type": "code",
      "source": [
        "fecha_hora_local.year"
      ],
      "metadata": {
        "colab": {
          "base_uri": "https://localhost:8080/"
        },
        "id": "9BterQoN5ESy",
        "outputId": "f468c032-0984-486c-8b41-59b1e8c36fa4"
      },
      "execution_count": 75,
      "outputs": [
        {
          "output_type": "execute_result",
          "data": {
            "text/plain": [
              "2024"
            ]
          },
          "metadata": {},
          "execution_count": 75
        }
      ]
    },
    {
      "cell_type": "markdown",
      "source": [
        "<p align=\"justify\">\n",
        "El código presentado utiliza el módulo <b>datetime</b> para crear un objeto que representa una fecha y hora específica:\n",
        "<br><br>\n",
        "\n",
        "1. **datetime.datetime**:\n",
        "<br>\n",
        "   Se refiere a la clase <code>datetime</code> dentro del módulo <b>datetime</b>. Esta clase se utiliza para manejar fechas y horas completas (año, mes, día, hora, minuto, segundo y microsegundo).\n",
        "<br><br>\n",
        "\n",
        "2. **Parámetros**:\n",
        "<br>\n",
        "   <code>datetime(2024, 11, 15, 10, 30)</code>:\n",
        "   <ul>\n",
        "       <li><b>2024</b>: Año.</li>\n",
        "       <li><b>11</b>: Mes (noviembre).</li>\n",
        "       <li><b>15</b>: Día.</li>\n",
        "       <li><b>10</b>: Hora en formato de 24 horas.</li>\n",
        "       <li><b>30</b>: Minutos.</li>\n",
        "   </ul>\n",
        "   El resultado es un objeto que representa el 15 de noviembre de 2024 a las 10:30 de la mañana.\n"
      ],
      "metadata": {
        "id": "skLQDS0EOlLp"
      }
    },
    {
      "cell_type": "code",
      "source": [
        "type(fecha_hora)"
      ],
      "metadata": {
        "colab": {
          "base_uri": "https://localhost:8080/"
        },
        "id": "KdkfuNQYLued",
        "outputId": "63d815a1-605f-4278-b321-9293c8063dbe"
      },
      "execution_count": 13,
      "outputs": [
        {
          "output_type": "execute_result",
          "data": {
            "text/plain": [
              "datetime.datetime"
            ]
          },
          "metadata": {},
          "execution_count": 13
        }
      ]
    },
    {
      "cell_type": "code",
      "source": [
        "fecha_hora"
      ],
      "metadata": {
        "colab": {
          "base_uri": "https://localhost:8080/"
        },
        "id": "sKyA5hMfLpZA",
        "outputId": "4bbd9713-744b-487a-f31b-f3cc88322c7e"
      },
      "execution_count": 14,
      "outputs": [
        {
          "output_type": "execute_result",
          "data": {
            "text/plain": [
              "datetime.datetime(2024, 11, 15, 10, 30)"
            ]
          },
          "metadata": {},
          "execution_count": 14
        }
      ]
    },
    {
      "cell_type": "code",
      "source": [
        "fecha_hora.year"
      ],
      "metadata": {
        "colab": {
          "base_uri": "https://localhost:8080/"
        },
        "id": "Byk6vFzRLrl_",
        "outputId": "521434d8-d858-41f6-cfcd-04e3e0ecdd15"
      },
      "execution_count": 15,
      "outputs": [
        {
          "output_type": "execute_result",
          "data": {
            "text/plain": [
              "2024"
            ]
          },
          "metadata": {},
          "execution_count": 15
        }
      ]
    },
    {
      "cell_type": "code",
      "source": [
        "ahora = datetime.datetime.now()\n",
        "ahora"
      ],
      "metadata": {
        "colab": {
          "base_uri": "https://localhost:8080/"
        },
        "id": "mUSvwEX4NpdO",
        "outputId": "ab79a48f-59eb-4c00-c138-56e1a71186b5"
      },
      "execution_count": 16,
      "outputs": [
        {
          "output_type": "execute_result",
          "data": {
            "text/plain": [
              "datetime.datetime(2024, 11, 15, 20, 53, 17, 452427)"
            ]
          },
          "metadata": {},
          "execution_count": 16
        }
      ]
    },
    {
      "cell_type": "markdown",
      "source": [
        "<p align=\"justify\">\n",
        "El código utiliza el módulo <b>datetime</b> para obtener la fecha y hora actuales en el momento de ejecución del programa:\n",
        "<br><br>\n",
        "\n",
        "1. **datetime.datetime.now()**:\n",
        "<br>\n",
        "   <code>datetime.now()</code> es un método de la clase <b>datetime</b>, que devuelve un objeto de tipo <code>datetime</code> representando la fecha y hora exactas en el momento. Este método utiliza la configuración local del sistema para determinar la zona horaria.\n",
        "\n",
        "<br>\n",
        "\n",
        "2. **Objeto devuelto**:\n",
        "<br>\n",
        "   El objeto <code>ahora</code> contiene información detallada sobre:\n",
        "   <ul>\n",
        "       <li><b>Año</b>, <b>Mes</b>, <b>Día</b>: Representan la fecha actual.</li>\n",
        "       <li><b>Hora</b>, <b>Minuto</b>, <b>Segundo</b>, <b>Microsegundo</b>: Representan la hora actual con alta precisión.</li>\n",
        "   </ul>\n",
        "  Por ejemplo, si ejecutamos este código el 15 de noviembre de 2024 a las 15:45:30.123456, el valor de <code>ahora</code> será:\n",
        "   <br>\n",
        "   <code>2024-11-15 15:45:30.123456</code>.\n",
        "\n",
        "<br>\n",
        "\n",
        "3. **Uso del comando ahora**:\n",
        "<br>\n",
        "   Simplemente escribir <code>ahora</code> en una celda de código muestra su contenido, que es la fecha y hora actuales en formato estándar (<code>YYYY-MM-DD HH:MM:SS</code>).\n",
        "\n",
        "\n",
        "\n",
        "Este código es especialmente útil para registrar marcas de tiempo (timestamps) en tareas como registro de eventos, control de logs, o análisis temporal en tiempo real.\n",
        "</p>\n"
      ],
      "metadata": {
        "id": "lbHIKHYBPHJr"
      }
    },
    {
      "cell_type": "code",
      "source": [
        "ahora.year, ahora.month, ahora.day"
      ],
      "metadata": {
        "colab": {
          "base_uri": "https://localhost:8080/"
        },
        "id": "T92wM6XAOSGJ",
        "outputId": "b4142050-0d6f-4b90-9ce5-c6a642c1691a"
      },
      "execution_count": 17,
      "outputs": [
        {
          "output_type": "execute_result",
          "data": {
            "text/plain": [
              "(2024, 11, 15)"
            ]
          },
          "metadata": {},
          "execution_count": 17
        }
      ]
    },
    {
      "cell_type": "markdown",
      "source": [
        " ## **<font color=\"DarkBlue\">Calendar</font>**"
      ],
      "metadata": {
        "id": "JHTRaoDHLEtD"
      }
    },
    {
      "cell_type": "markdown",
      "source": [
        "<p align=\"justify\">\n",
        "   <b>calendar</b> se utiliza para trabajar con calendarios. Permite generar calendarios en texto o HTML, determinar si un año es bisiesto, y obtener datos como el primer día de la semana o el número de semanas en un mes.\n",
        "<br><br>\n"
      ],
      "metadata": {
        "id": "phHA7G-sLJNf"
      }
    },
    {
      "cell_type": "code",
      "source": [
        "import calendar"
      ],
      "metadata": {
        "id": "I-YlfGK0LaZk"
      },
      "execution_count": 18,
      "outputs": []
    },
    {
      "cell_type": "code",
      "source": [
        "# Módulo calendar: Generar un calendario mensual\n",
        "\n",
        "calendario = calendar.month(2024, 11)\n",
        "print(calendario)\n"
      ],
      "metadata": {
        "colab": {
          "base_uri": "https://localhost:8080/"
        },
        "id": "TMZ4Bd3uMvvO",
        "outputId": "27bc1371-c44f-46ff-e8b8-04acbfb61202"
      },
      "execution_count": 19,
      "outputs": [
        {
          "output_type": "stream",
          "name": "stdout",
          "text": [
            "   November 2024\n",
            "Mo Tu We Th Fr Sa Su\n",
            "             1  2  3\n",
            " 4  5  6  7  8  9 10\n",
            "11 12 13 14 15 16 17\n",
            "18 19 20 21 22 23 24\n",
            "25 26 27 28 29 30\n",
            "\n"
          ]
        }
      ]
    },
    {
      "cell_type": "code",
      "source": [
        "type(calendario)"
      ],
      "metadata": {
        "colab": {
          "base_uri": "https://localhost:8080/"
        },
        "id": "8V8G5CQd5Lbw",
        "outputId": "febe62cd-65be-4437-9ea2-75ea2915ea58"
      },
      "execution_count": 76,
      "outputs": [
        {
          "output_type": "execute_result",
          "data": {
            "text/plain": [
              "str"
            ]
          },
          "metadata": {},
          "execution_count": 76
        }
      ]
    },
    {
      "cell_type": "markdown",
      "source": [
        "<p align=\"justify\">\n",
        "El código presentado utiliza el módulo <b>calendar</b> para generar un calendario mensual en formato de texto:\n",
        "<br><br>\n",
        "\n",
        "1. **calendar.month(2024, 11)**:\n",
        "<br>\n",
        "   La función <code>calendar.month</code> genera un calendario para un mes específico en formato de texto. Los parámetros son:\n",
        "   <ul>\n",
        "       <li><b>2024</b>: Año del calendario.</li>\n",
        "       <li><b>11</b>: Número del mes (noviembre en este caso).</li>\n",
        "   </ul>\n",
        "   Devuelve una cadena de texto que representa el calendario del mes indicado. Por defecto, los días de la semana empiezan en lunes (según la configuración estándar de Python).\n",
        "\n",
        "<br>\n",
        "\n",
        "2. **Variable calendario**:\n",
        "<br>\n",
        "   La variable <code>calendario</code> almacena la representación en texto del calendario generado por <code>calendar.month</code>. Por ejemplo, el calendario de noviembre de 2024 tendrá este aspecto:\n",
        "   <br><br>\n",
        "   <code>\n",
        "      November 2024<br>\n",
        "      Mo Tu We Th Fr Sa Su<br>\n",
        "        &nbsp;&nbsp;&nbsp;&nbsp;&nbsp;&nbsp;&nbsp;&nbsp;&nbsp;1&nbsp;&nbsp;2&nbsp;&nbsp;3<br>\n",
        "        4&nbsp;&nbsp;5&nbsp;&nbsp;6&nbsp;&nbsp;7&nbsp;&nbsp;8&nbsp;&nbsp;9 10<br>\n",
        "       11 12 13 14 15 16 17<br>\n",
        "       18 19 20 21 22 23 24<br>\n",
        "       25 26 27 28 29 30\n",
        "   </code>\n",
        "\n",
        "<br>\n",
        "\n",
        "3. **print(calendario)**:\n",
        "<br>\n",
        "   La función <code>print</code> muestra en la salida el texto del calendario almacenado en <code>calendario</code>. Esto permite visualizar el mes con su estructura de días alineados por semana.\n",
        "\n"
      ],
      "metadata": {
        "id": "oqrNHTdyPvSF"
      }
    },
    {
      "cell_type": "code",
      "source": [
        "# Verificar si el año 2024 es bisiesto\n",
        "\n",
        "año = 2024\n",
        "es_bisiesto = calendar.isleap(año)\n",
        "print(f\"\\n¿El año {año} es bisiesto? {'Sí' if es_bisiesto else 'No'}\")"
      ],
      "metadata": {
        "colab": {
          "base_uri": "https://localhost:8080/"
        },
        "id": "u9v8M9XFNDw-",
        "outputId": "a1b79b02-7f8d-4ebe-fea4-2372ceaf1511"
      },
      "execution_count": 20,
      "outputs": [
        {
          "output_type": "stream",
          "name": "stdout",
          "text": [
            "\n",
            "¿El año 2024 es bisiesto? Sí\n"
          ]
        }
      ]
    },
    {
      "cell_type": "code",
      "source": [
        "# Verificar si el año 2023 es bisiesto\n",
        "\n",
        "año = 2023\n",
        "es_bisiesto = calendar.isleap(año)\n",
        "print(f\"\\n¿El año {año} es bisiesto? {'Sí' if es_bisiesto else 'No'}\")"
      ],
      "metadata": {
        "colab": {
          "base_uri": "https://localhost:8080/"
        },
        "id": "SK6UKNrXNIre",
        "outputId": "3a98d5b3-9af7-4c31-d93f-fbaaeab3a87f"
      },
      "execution_count": 21,
      "outputs": [
        {
          "output_type": "stream",
          "name": "stdout",
          "text": [
            "\n",
            "¿El año 2023 es bisiesto? No\n"
          ]
        }
      ]
    },
    {
      "cell_type": "markdown",
      "source": [
        " # **<font color=\"DarkBlue\">Ejemplos</font>**"
      ],
      "metadata": {
        "id": "ALC3P2tQQUWm"
      }
    },
    {
      "cell_type": "markdown",
      "source": [
        " <p align=\"justify\"> 🚀 El objeto <b>timedelta</b> del módulo <code>datetime</code> representa una diferencia o duración entre dos fechas u horas. Es especialmente útil en aplicaciones de negocios para calcular plazos, vencimientos o intervalos entre eventos.\n",
        "<br><br>\n",
        "Una empresa necesita calcular la fecha de vencimiento de facturas emitidas, considerando un plazo de pago estándar de 30 días. Además, se determina si la fecha de vencimiento cae en fin de semana para ajustar al siguiente día hábil.\n",
        "</p>\n"
      ],
      "metadata": {
        "id": "RIElQ_onQdkX"
      }
    },
    {
      "cell_type": "code",
      "source": [
        "from datetime import datetime, timedelta\n",
        "\n",
        "# Fecha de emisión de una factura\n",
        "\n",
        "fecha_emision = datetime(2024, 11, 15)\n",
        "print(\"Fecha de emisión:\", fecha_emision)\n"
      ],
      "metadata": {
        "colab": {
          "base_uri": "https://localhost:8080/"
        },
        "id": "iFAQI8zIQyzf",
        "outputId": "02c653f3-f014-4ac5-f3ce-6df62c6c3b34"
      },
      "execution_count": 22,
      "outputs": [
        {
          "output_type": "stream",
          "name": "stdout",
          "text": [
            "Fecha de emisión: 2024-11-15 00:00:00\n"
          ]
        }
      ]
    },
    {
      "cell_type": "code",
      "source": [
        "# Plazo de pago estándar (30 días)\n",
        "\n",
        "plazo_pago = timedelta(days=30)\n",
        "plazo_pago"
      ],
      "metadata": {
        "colab": {
          "base_uri": "https://localhost:8080/"
        },
        "id": "nYB_x5TxQ6f_",
        "outputId": "9dce0f6b-0cf1-4b46-acf7-b4dda677395f"
      },
      "execution_count": 23,
      "outputs": [
        {
          "output_type": "execute_result",
          "data": {
            "text/plain": [
              "datetime.timedelta(days=30)"
            ]
          },
          "metadata": {},
          "execution_count": 23
        }
      ]
    },
    {
      "cell_type": "code",
      "source": [
        "# Calcular la fecha de vencimiento\n",
        "\n",
        "fecha_vencimiento = fecha_emision + plazo_pago\n",
        "print(\"Fecha de vencimiento inicial:\", fecha_vencimiento)\n"
      ],
      "metadata": {
        "colab": {
          "base_uri": "https://localhost:8080/"
        },
        "id": "bmHG3NOeQ7_C",
        "outputId": "078e67bd-da55-4dcb-9385-1542a305c1e6"
      },
      "execution_count": 24,
      "outputs": [
        {
          "output_type": "stream",
          "name": "stdout",
          "text": [
            "Fecha de vencimiento inicial: 2024-12-15 00:00:00\n"
          ]
        }
      ]
    },
    {
      "cell_type": "code",
      "source": [
        "fecha_emision.weekday()  ### cuenta desde 0 el lunes"
      ],
      "metadata": {
        "colab": {
          "base_uri": "https://localhost:8080/"
        },
        "id": "ctp2_OA06tFl",
        "outputId": "1edf17a5-4227-47a3-dc3d-b11ab64ee7d3"
      },
      "execution_count": 80,
      "outputs": [
        {
          "output_type": "execute_result",
          "data": {
            "text/plain": [
              "4"
            ]
          },
          "metadata": {},
          "execution_count": 80
        }
      ]
    },
    {
      "cell_type": "code",
      "source": [
        "fecha_vencimiento.weekday()"
      ],
      "metadata": {
        "colab": {
          "base_uri": "https://localhost:8080/"
        },
        "id": "1KNG1Z8m6Zb3",
        "outputId": "615036e9-e670-4660-a0a5-e68167226caf"
      },
      "execution_count": 78,
      "outputs": [
        {
          "output_type": "execute_result",
          "data": {
            "text/plain": [
              "3"
            ]
          },
          "metadata": {},
          "execution_count": 78
        }
      ]
    },
    {
      "cell_type": "code",
      "source": [
        "# Assuming you want to access the 'day' attribute of fecha_vencimiento:\n",
        "fecha_vencimiento.day\n",
        "\n",
        "# If you wanted to change the 'day' attribute of fecha_vencimiento, you could do this:\n",
        "# (But this creates a new datetime object, it doesn't modify the original)\n",
        "from datetime import timedelta\n",
        "new_fecha_vencimiento = fecha_vencimiento + timedelta(days=5 - fecha_vencimiento.day) #Example: Change the day to the 5th"
      ],
      "metadata": {
        "id": "CiI428m37XoE"
      },
      "execution_count": 84,
      "outputs": []
    },
    {
      "cell_type": "code",
      "source": [
        "new_fecha_vencimiento"
      ],
      "metadata": {
        "colab": {
          "base_uri": "https://localhost:8080/"
        },
        "id": "s3bKGp257JUF",
        "outputId": "b1ea31ab-8982-4b44-8265-edbb3e00d16d"
      },
      "execution_count": 85,
      "outputs": [
        {
          "output_type": "execute_result",
          "data": {
            "text/plain": [
              "datetime.datetime(2025, 1, 5, 0, 0)"
            ]
          },
          "metadata": {},
          "execution_count": 85
        }
      ]
    },
    {
      "cell_type": "code",
      "source": [
        "# Ajustar si el vencimiento cae en fin de semana\n",
        "\n",
        "if fecha_vencimiento.weekday() >= 5:  # 5 = Sábado, 6 = Domingo\n",
        "    fecha_vencimiento += timedelta(days=(7 - fecha_vencimiento.weekday()))\n",
        "    print(\"Fecha de vencimiento ajustada al siguiente día hábil:\", fecha_vencimiento)\n",
        "\n"
      ],
      "metadata": {
        "colab": {
          "base_uri": "https://localhost:8080/"
        },
        "id": "jDBqbg6rQ9dN",
        "outputId": "95941632-a19b-4b41-f5f0-b4fd3ae68be0"
      },
      "execution_count": 25,
      "outputs": [
        {
          "output_type": "stream",
          "name": "stdout",
          "text": [
            "Fecha de vencimiento ajustada al siguiente día hábil: 2024-12-16 00:00:00\n"
          ]
        }
      ]
    },
    {
      "cell_type": "code",
      "source": [],
      "metadata": {
        "id": "G01Bndra6lYV"
      },
      "execution_count": null,
      "outputs": []
    },
    {
      "cell_type": "markdown",
      "source": [
        "<p align=\"justify\">\n",
        "Si la factura se emite el 15 de noviembre de 2024, la fecha inicial de vencimiento sería el 15 de diciembre de 2024. Si esta cae en un fin de semana, se ajustará automáticamente al lunes siguiente.\n",
        "<br><br>\n",
        "El código también indica cuántos días faltan hasta el vencimiento.\n",
        "\n",
        "\n",
        "\n",
        "\n",
        "\n",
        "\n"
      ],
      "metadata": {
        "id": "-lLR_nCERqdq"
      }
    },
    {
      "cell_type": "code",
      "source": [
        "# Calcular días restantes para el vencimiento\n",
        "\n",
        "hoy = datetime.now()\n",
        "dias_restantes = (fecha_vencimiento - hoy).days\n",
        "print(f\"Días restantes para el vencimiento: {dias_restantes} días\")\n"
      ],
      "metadata": {
        "colab": {
          "base_uri": "https://localhost:8080/"
        },
        "id": "n71lQwLHQ-5B",
        "outputId": "107ae419-5883-4c3a-d034-a5af38c7095b"
      },
      "execution_count": 26,
      "outputs": [
        {
          "output_type": "stream",
          "name": "stdout",
          "text": [
            "Días restantes para el vencimiento: 30 días\n"
          ]
        }
      ]
    },
    {
      "cell_type": "markdown",
      "source": [
        "<p align=\"justify\"> 🚀\n",
        "El objeto <b>timedelta</b> también es útil en cálculos de fechas complejos, como la gestión de contratos en negocios. A continuación, se presenta un ejemplo más elaborado:\n",
        "<br><br>\n",
        "Una empresa gestiona contratos de servicio con clientes. Cada contrato tiene:\n",
        "<br>\n",
        "<ul>\n",
        "    <li>Una fecha de inicio.</li>\n",
        "    <li>Una duración definida (en meses).</li>\n",
        "    <li>Un período de gracia de 7 días posterior a la fecha de vencimiento.</li>\n",
        "</ul>\n",
        "<br>\n",
        "<p aling=\"justify\">\n",
        "El objetivo es calcular:\n",
        "<ul>\n",
        "    <li>La fecha de vencimiento del contrato.</li>\n",
        "    <li>La fecha límite incluyendo el período de gracia.</li>\n",
        "    <li>Si la fecha límite ya ha pasado o cuánto tiempo queda para su vencimiento.</li>\n",
        "</ul>\n",
        "</p>\n"
      ],
      "metadata": {
        "id": "l8hamX8cR-Dk"
      }
    },
    {
      "cell_type": "code",
      "source": [
        "# Fecha de inicio del contrato\n",
        "\n",
        "fecha_inicio = datetime(2024, 1, 15)\n",
        "print(\"Fecha de inicio del contrato:\", fecha_inicio)\n"
      ],
      "metadata": {
        "colab": {
          "base_uri": "https://localhost:8080/"
        },
        "id": "ctph3iVtSbX_",
        "outputId": "a52fa376-4d8a-488e-95b7-9c45287ca1b3"
      },
      "execution_count": 27,
      "outputs": [
        {
          "output_type": "stream",
          "name": "stdout",
          "text": [
            "Fecha de inicio del contrato: 2024-01-15 00:00:00\n"
          ]
        }
      ]
    },
    {
      "cell_type": "code",
      "source": [
        "# Duración del contrato en meses\n",
        "\n",
        "duracion_meses = 12\n"
      ],
      "metadata": {
        "id": "yAICICwYSfwL"
      },
      "execution_count": 28,
      "outputs": []
    },
    {
      "cell_type": "code",
      "source": [
        "# Calcular la fecha de vencimiento (agregando meses)\n",
        "# Suponiendo que los meses tienen en promedio 30 días\n",
        "\n",
        "fecha_vencimiento = fecha_inicio + timedelta(days=365)\n",
        "print(\"Fecha de vencimiento del contrato:\", fecha_vencimiento)\n"
      ],
      "metadata": {
        "colab": {
          "base_uri": "https://localhost:8080/"
        },
        "id": "RGMDM0eU9KH6",
        "outputId": "5ff58e11-2666-4622-f5dd-fe5fe60de851"
      },
      "execution_count": 86,
      "outputs": [
        {
          "output_type": "stream",
          "name": "stdout",
          "text": [
            "Fecha de vencimiento del contrato: 2025-01-14 00:00:00\n"
          ]
        }
      ]
    },
    {
      "cell_type": "code",
      "source": [
        "# Calcular la fecha de vencimiento (agregando meses)\n",
        "# Suponiendo que los meses tienen en promedio 30 días\n",
        "\n",
        "fecha_vencimiento = fecha_inicio + timedelta(days=duracion_meses * 30)\n",
        "print(\"Fecha de vencimiento del contrato:\", fecha_vencimiento)\n"
      ],
      "metadata": {
        "colab": {
          "base_uri": "https://localhost:8080/"
        },
        "id": "cLsRZj8tSkJZ",
        "outputId": "0ca989ff-99f7-4972-f90e-6659ac295350"
      },
      "execution_count": 29,
      "outputs": [
        {
          "output_type": "stream",
          "name": "stdout",
          "text": [
            "Fecha de vencimiento del contrato: 2025-01-09 00:00:00\n"
          ]
        }
      ]
    },
    {
      "cell_type": "code",
      "source": [
        "# Período de gracia (7 días)\n",
        "\n",
        "periodo_gracia = timedelta(days=7)\n",
        "fecha_limite = fecha_vencimiento + periodo_gracia\n",
        "print(\"Fecha límite incluyendo período de gracia:\", fecha_limite)\n"
      ],
      "metadata": {
        "colab": {
          "base_uri": "https://localhost:8080/"
        },
        "id": "dz_ZgallSoRb",
        "outputId": "2472f44a-06e8-4313-d4ec-690ab7ac8e53"
      },
      "execution_count": 30,
      "outputs": [
        {
          "output_type": "stream",
          "name": "stdout",
          "text": [
            "Fecha límite incluyendo período de gracia: 2025-01-16 00:00:00\n"
          ]
        }
      ]
    },
    {
      "cell_type": "code",
      "source": [
        "from datetime import datetime, timedelta\n",
        "\n",
        "# ... (rest of your code)\n",
        "\n",
        "# Determinar estado actual del contrato\n",
        "\n",
        "hoy = datetime.now() # Use datetime.now() instead of datetime.now()\n",
        "if hoy > fecha_limite:\n",
        "    print(\"El contrato ha vencido. Fecha límite pasada.\")\n",
        "else:\n",
        "    dias_restantes = (fecha_limite - hoy).days\n",
        "    print(f\"El contrato está vigente. Días restantes para la fecha límite: {dias_restantes}\")"
      ],
      "metadata": {
        "colab": {
          "base_uri": "https://localhost:8080/"
        },
        "id": "TyVfOhJx-gg4",
        "outputId": "f25927cc-a701-426c-cc03-408854cbba34"
      },
      "execution_count": 88,
      "outputs": [
        {
          "output_type": "stream",
          "name": "stdout",
          "text": [
            "El contrato está vigente. Días restantes para la fecha límite: 61\n"
          ]
        }
      ]
    },
    {
      "cell_type": "code",
      "source": [
        "# Determinar estado actual del contrato\n",
        "from datetime import datetime, timedelta\n",
        "hoy = datetime.now()\n",
        "if hoy > fecha_limite:\n",
        "    print(\"El contrato ha vencido. Fecha límite pasada.\")\n",
        "else:\n",
        "    dias_restantes = (fecha_limite - hoy).days\n",
        "    print(f\"El contrato está vigente. Días restantes para la fecha límite: {dias_restantes}\")\n"
      ],
      "metadata": {
        "colab": {
          "base_uri": "https://localhost:8080/"
        },
        "id": "fVAlUbIPSsaV",
        "outputId": "d9cb6a70-103f-4145-e7a2-27c0f560d11a"
      },
      "execution_count": 89,
      "outputs": [
        {
          "output_type": "stream",
          "name": "stdout",
          "text": [
            "El contrato está vigente. Días restantes para la fecha límite: 61\n"
          ]
        }
      ]
    },
    {
      "cell_type": "code",
      "source": [
        "# Calcular penalización por vencimiento (si aplica)\n",
        "\n",
        "dias_vencidos = (hoy - fecha_limite).days if hoy > fecha_limite else 0\n",
        "if dias_vencidos > 0:\n",
        "    penalizacion_por_dia = 50  # Penalización en dólares por día de retraso\n",
        "    penalizacion_total = dias_vencidos * penalizacion_por_dia\n",
        "    print(f\"Penalización por {dias_vencidos} días de retraso: ${penalizacion_total:.2f}\")"
      ],
      "metadata": {
        "id": "7u3poDPVTCuQ"
      },
      "execution_count": 92,
      "outputs": []
    },
    {
      "cell_type": "code",
      "source": [
        "dias_vencidos"
      ],
      "metadata": {
        "colab": {
          "base_uri": "https://localhost:8080/"
        },
        "id": "Sx4ODulHTEYn",
        "outputId": "da3f293f-4369-44a9-f8e2-1da90c0d804f"
      },
      "execution_count": 91,
      "outputs": [
        {
          "output_type": "execute_result",
          "data": {
            "text/plain": [
              "0"
            ]
          },
          "metadata": {},
          "execution_count": 91
        }
      ]
    },
    {
      "cell_type": "markdown",
      "source": [
        "Si el contrato inició el 15 de enero de 2024, los resultados serían:\n",
        "\n",
        "- Fecha de vencimiento: 15 de enero de 2025.\n",
        "- Fecha límite con gracia: 22 de enero de 2025.\n",
        "- Si la fecha actual es 20 de noviembre de 2024, el contrato estará vigente con 58 días restantes para la fecha límite.\n",
        "- Si la fecha actual es 25 de enero de 2025, habrá una penalización calculada por los días de retraso."
      ],
      "metadata": {
        "id": "TOucens6TbN4"
      }
    },
    {
      "cell_type": "markdown",
      "source": [
        "<br>\n",
        "<br>\n",
        "<p align=\"center\"><b>\n",
        "💗\n",
        "<font color=\"DarkBlue\">\n",
        "Hemos llegado al final de nuestro colab de Pandas, a seguir codeando...\n",
        "</font>\n",
        "</p>"
      ],
      "metadata": {
        "id": "ZOtRj6qTWBB5"
      }
    }
  ]
}