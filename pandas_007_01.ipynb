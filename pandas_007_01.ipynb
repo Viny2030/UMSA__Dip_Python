{
  "nbformat": 4,
  "nbformat_minor": 0,
  "metadata": {
    "colab": {
      "provenance": []
    },
    "kernelspec": {
      "name": "python3",
      "display_name": "Python 3"
    },
    "language_info": {
      "name": "python"
    }
  },
  "cells": [
    {
      "cell_type": "markdown",
      "source": [
        " # **<font color=\"DarkBlue\">Series de tiempo 🐼 </font>**"
      ],
      "metadata": {
        "id": "8JRU2b37tJTH"
      }
    },
    {
      "cell_type": "markdown",
      "source": [
        "<p align=\"center\">\n",
        "<img src=\"https://pandas.pydata.org/static/img/pandas_mark.svg\" width=\"50\">\n",
        "</p>\n"
      ],
      "metadata": {
        "id": "XM-hn7ZLmgQc"
      }
    },
    {
      "cell_type": "markdown",
      "source": [
        "https://pandas.pydata.org/"
      ],
      "metadata": {
        "id": "ZZW38_ClRXEH"
      }
    },
    {
      "cell_type": "markdown",
      "source": [
        " # **<font color=\"DarkBlue\">Conversión de cadenas de texto</font>**"
      ],
      "metadata": {
        "id": "XaFVC86iZLYr"
      }
    },
    {
      "cell_type": "markdown",
      "source": [
        "<p align=\"justify\">\n",
        "La conversión entre cadenas de texto (<code>str</code>) y objetos de fecha y hora (<code>datetime</code>) es una operación fundamental en el manejo de datos temporales.\n",
        "<br><br>\n",
        "Este proceso permite interpretar cadenas como fechas o convertir objetos de fecha y hora en cadenas con formatos específicos.\n",
        "<br><br>\n",
        " Estas conversiones son esenciales en tareas como la lectura de datos de archivos, la generación de reportes y la normalización de datos para análisis.\n",
        "<br><br>\n",
        "\n",
        "<strong>1. Conversión de cadena a fecha y hora</strong><br>\n",
        "La conversión de una cadena a un objeto <code>datetime</code> se realiza con la función <code>datetime.strptime()</code> del módulo <b>datetime</b>. Requiere dos parámetros:\n",
        "<ul>\n",
        "    <li><b>Cadena de texto:</b> Contiene la fecha y hora en un formato específico.</li>\n",
        "    <li><b>Formato:</b> Especifica cómo interpretar la cadena, utilizando códigos de formato como <code>%Y</code> (año), <code>%m</code> (mes), y <code>%d</code> (día).</li>\n",
        "</ul>\n",
        "<br>\n",
        "\n",
        "<strong>2. Conversión de fecha y hora a cadena</strong><br>\n",
        "La conversión de un objeto <code>datetime</code> a una cadena se realiza con el método <code>datetime.strftime()</code>. Permite especificar el formato de salida utilizando los mismos códigos que <code>strptime()</code>.\n",
        "\n",
        "<br>\n",
        "\n",
        "<strong>3. Códigos de formato comunes:</strong>\n",
        "<ul>\n",
        "    <li><code>%Y</code>: Año en cuatro dígitos (ejemplo: 2024).</li>\n",
        "    <li><code>%m</code>: Mes en dos dígitos (ejemplo: 01 para enero).</li>\n",
        "    <li><code>%d</code>: Día del mes en dos dígitos (ejemplo: 15).</li>\n",
        "    <li><code>%H</code>: Hora en formato de 24 horas (ejemplo: 14).</li>\n",
        "    <li><code>%M</code>: Minutos (ejemplo: 30).</li>\n",
        "    <li><code>%S</code>: Segundos (ejemplo: 45).</li>\n",
        "</ul>\n",
        "\n",
        "<br>\n",
        "\n",
        "<strong>4. Manejo de errores</strong><br>\n",
        "Si la cadena no coincide con el formato esperado, Python genera un error <code>ValueError</code>. Es importante validar o manejar adecuadamente las excepciones al trabajar con datos ingresados por el usuario.\n",
        "\n",
        "<br>\n",
        "\n",
        "<strong>5. Usos prácticos:</strong>\n",
        "<ul>\n",
        "    <li><b>Lectura de datos:</b> Convertir fechas en formato texto de archivos CSV o bases de datos a objetos <code>datetime</code> para su manipulación.</li>\n",
        "    <li><b>Generación de reportes:</b> Formatear fechas y horas en cadenas personalizadas para su presentación en informes.</li>\n",
        "    <li><b>Análisis temporal:</b> Realizar cálculos como diferencias entre fechas o agrupaciones por periodos.</li>\n",
        "</ul>\n",
        "\n",
        "<br>\n",
        "\n",
        "La conversión entre cadenas y objetos de fecha y hora es una técnica esencial para trabajar con datos temporales, ofreciendo flexibilidad para transformar y utilizar la información de acuerdo a las necesidades del análisis o aplicación.\n",
        "</p>\n"
      ],
      "metadata": {
        "id": "QEp0wDuv7B4_"
      }
    },
    {
      "cell_type": "markdown",
      "source": [
        "👀 Ejemplo:"
      ],
      "metadata": {
        "id": "-ocmbpBQZmW9"
      }
    },
    {
      "cell_type": "code",
      "source": [
        "import pandas as pd\n",
        "import plotly.express as px\n",
        "from datetime import datetime"
      ],
      "metadata": {
        "id": "DmrMEV3R5lJZ"
      },
      "execution_count": 1,
      "outputs": []
    },
    {
      "cell_type": "markdown",
      "source": [
        " ## **<font color=\"DarkBlue\">Convirtiendo cadena a objeto datetime</font>**"
      ],
      "metadata": {
        "id": "JUEwL5N_Z5h8"
      }
    },
    {
      "cell_type": "code",
      "source": [
        "# Ejemplo 1: Convertir cadena a objeto datetime\n",
        "\n",
        "cadena_fecha = \"2024-11-15 10:30:45\"\n",
        "formato = \"%Y-%m-%d %H:%M:%S\"  # Año-Mes-Día Hora:Minutos:Segundos\n",
        "fecha_hora = datetime.strptime(cadena_fecha, formato)\n",
        "print(\"Cadena convertida a datetime:\", fecha_hora)\n"
      ],
      "metadata": {
        "id": "lBqRzG185p4_",
        "colab": {
          "base_uri": "https://localhost:8080/"
        },
        "outputId": "2989ac18-f89c-428a-e380-3d43486123f8"
      },
      "execution_count": 2,
      "outputs": [
        {
          "output_type": "stream",
          "name": "stdout",
          "text": [
            "Cadena convertida a datetime: 2024-11-15 10:30:45\n"
          ]
        }
      ]
    },
    {
      "cell_type": "code",
      "source": [
        "cadena_fecha"
      ],
      "metadata": {
        "colab": {
          "base_uri": "https://localhost:8080/",
          "height": 36
        },
        "id": "SJHe2WZ8D6J-",
        "outputId": "c8b49531-7392-4146-ec63-0ee02f5949e8"
      },
      "execution_count": 14,
      "outputs": [
        {
          "output_type": "execute_result",
          "data": {
            "text/plain": [
              "'2024-11-15 10:30:45'"
            ],
            "application/vnd.google.colaboratory.intrinsic+json": {
              "type": "string"
            }
          },
          "metadata": {},
          "execution_count": 14
        }
      ]
    },
    {
      "cell_type": "code",
      "source": [
        "formato"
      ],
      "metadata": {
        "colab": {
          "base_uri": "https://localhost:8080/",
          "height": 36
        },
        "id": "guVouznLD9KH",
        "outputId": "9eafe511-1e08-4d20-8eef-c8b99af774b4"
      },
      "execution_count": 15,
      "outputs": [
        {
          "output_type": "execute_result",
          "data": {
            "text/plain": [
              "'%Y-%m-%d %H:%M:%S'"
            ],
            "application/vnd.google.colaboratory.intrinsic+json": {
              "type": "string"
            }
          },
          "metadata": {},
          "execution_count": 15
        }
      ]
    },
    {
      "cell_type": "code",
      "source": [
        "fecha_hora"
      ],
      "metadata": {
        "colab": {
          "base_uri": "https://localhost:8080/"
        },
        "id": "a2Q4AdnED_sl",
        "outputId": "bed903f5-1980-4da2-ea40-88519067db13"
      },
      "execution_count": 16,
      "outputs": [
        {
          "output_type": "execute_result",
          "data": {
            "text/plain": [
              "datetime.datetime(2024, 11, 15, 10, 30, 45)"
            ]
          },
          "metadata": {},
          "execution_count": 16
        }
      ]
    },
    {
      "cell_type": "markdown",
      "source": [
        "<p align=\"justify\">\n",
        "Este código convierte una cadena de texto con una fecha y hora en un objeto <code>datetime</code> utilizando el método <code>strptime()</code> del módulo <b>datetime</b>.\n",
        "<br><br>\n",
        "La variable <code>cadena_fecha</code> contiene una fecha y hora en formato de texto (\"2024-11-15 10:30:45\"), mientras que la variable <code>formato</code> especifica cómo se debe interpretar esta cadena.\n",
        "<br><br>\n",
        "El formato <code>%Y-%m-%d %H:%M:%S</code> indica que la cadena tiene el año en cuatro dígitos (<code>%Y</code>), seguido por el mes y el día en dos dígitos (<code>%m</code>, <code>%d</code>), y luego la hora, los minutos y los segundos también en dos dígitos (<code>%H</code>, <code>%M</code>, <code>%S</code>).\n",
        "<br><br>\n",
        "Al usar <code>strptime()</code>, la cadena se convierte en un objeto de tipo <code>datetime</code>, que luego se imprime mostrando la fecha y hora como un objeto datetime: <code>2024-11-15 10:30:45</code>.\n",
        "</p>\n"
      ],
      "metadata": {
        "id": "_mAyanljarKR"
      }
    },
    {
      "cell_type": "code",
      "source": [
        "type(cadena_fecha)"
      ],
      "metadata": {
        "colab": {
          "base_uri": "https://localhost:8080/"
        },
        "id": "gbFBFpsmY9Xe",
        "outputId": "372dd2fa-36c4-49e9-f390-cb60b8f1df7c"
      },
      "execution_count": 3,
      "outputs": [
        {
          "output_type": "execute_result",
          "data": {
            "text/plain": [
              "str"
            ]
          },
          "metadata": {},
          "execution_count": 3
        }
      ]
    },
    {
      "cell_type": "code",
      "source": [
        "type(fecha_hora)"
      ],
      "metadata": {
        "colab": {
          "base_uri": "https://localhost:8080/"
        },
        "id": "2aYJ9v4CY_m1",
        "outputId": "6d3f401e-69f5-45af-f881-6b6690aba96b"
      },
      "execution_count": 4,
      "outputs": [
        {
          "output_type": "execute_result",
          "data": {
            "text/plain": [
              "datetime.datetime"
            ]
          },
          "metadata": {},
          "execution_count": 4
        }
      ]
    },
    {
      "cell_type": "code",
      "source": [
        "type(cadena_fecha_formateada)"
      ],
      "metadata": {
        "colab": {
          "base_uri": "https://localhost:8080/"
        },
        "id": "Kf_jmfXwF3mG",
        "outputId": "94ffffb2-5e02-419b-a307-7b8723056d03"
      },
      "execution_count": 20,
      "outputs": [
        {
          "output_type": "execute_result",
          "data": {
            "text/plain": [
              "str"
            ]
          },
          "metadata": {},
          "execution_count": 20
        }
      ]
    },
    {
      "cell_type": "markdown",
      "source": [
        " ## **<font color=\"DarkBlue\">Convirtiendo objeto datetime a cadena</font>**"
      ],
      "metadata": {
        "id": "VeoxMn4XaBHQ"
      }
    },
    {
      "cell_type": "code",
      "source": [
        "# Ejemplo 2: Convertir objeto datetime a cadena es diferente strftime\n",
        "\n",
        "fecha_actual = datetime.now()\n",
        "formato_salida = \"%d/%m/%Y %H:%M:%S\"  # Día/Mes/Año Hora:Minutos:Segundos\n",
        "cadena_fecha_formateada = fecha_actual.strftime(formato_salida)\n",
        "print(\"datetime convertido a cadena:\", cadena_fecha_formateada)\n"
      ],
      "metadata": {
        "colab": {
          "base_uri": "https://localhost:8080/"
        },
        "id": "eStM9QT452m8",
        "outputId": "6f49266d-84dc-40b7-cba8-11ac6f2b8108"
      },
      "execution_count": 18,
      "outputs": [
        {
          "output_type": "stream",
          "name": "stdout",
          "text": [
            "datetime convertido a cadena: 15/11/2024 23:09:44\n"
          ]
        }
      ]
    },
    {
      "cell_type": "markdown",
      "source": [
        "<p align=\"justify\">\n",
        "Este código convierte un objeto <code>datetime</code> en una cadena de texto utilizando el método <code>strftime()</code> del módulo <b>datetime</b>.\n",
        "<br><br>\n",
        " Primero, la variable <code>fecha_actual</code> obtiene la fecha y hora actuales mediante el método <code>now()</code>, que devuelve un objeto <code>datetime</code> con la fecha y hora exactas del momento en que se ejecuta el código.\n",
        " <br><br>\n",
        " Luego, la variable <code>formato_salida</code> define el formato en el que se desea representar esta fecha como cadena: <code>%d/%m/%Y %H:%M:%S</code>, que corresponde a día, mes, año, hora, minutos y segundos.\n",
        " <br><br>\n",
        " Al aplicar <code>strftime()</code> con este formato, el objeto <code>datetime</code> se convierte en una cadena, que se almacena en <code>cadena_fecha_formateada</code>.\n",
        " <br><br>\n",
        " Finalmente, la cadena resultante se imprime, mostrando la fecha y hora en el formato deseado, por ejemplo: <code>15/11/2024 10:45:30</code>.\n",
        "</p>\n"
      ],
      "metadata": {
        "id": "NoDXLMpAbCoP"
      }
    },
    {
      "cell_type": "code",
      "source": [
        "type(fecha_actual)"
      ],
      "metadata": {
        "colab": {
          "base_uri": "https://localhost:8080/"
        },
        "id": "8AfVw6UDZI85",
        "outputId": "c7bedf64-3dcc-4482-ca3e-d00692958831"
      },
      "execution_count": 6,
      "outputs": [
        {
          "output_type": "execute_result",
          "data": {
            "text/plain": [
              "datetime.datetime"
            ]
          },
          "metadata": {},
          "execution_count": 6
        }
      ]
    },
    {
      "cell_type": "code",
      "source": [
        "type(cadena_fecha_formateada)"
      ],
      "metadata": {
        "colab": {
          "base_uri": "https://localhost:8080/"
        },
        "id": "Z4JzOLU0ZM4d",
        "outputId": "c1140eee-ac49-4612-8fc0-79638cce97b8"
      },
      "execution_count": 7,
      "outputs": [
        {
          "output_type": "execute_result",
          "data": {
            "text/plain": [
              "str"
            ]
          },
          "metadata": {},
          "execution_count": 7
        }
      ]
    },
    {
      "cell_type": "code",
      "source": [
        "fecha_actual"
      ],
      "metadata": {
        "colab": {
          "base_uri": "https://localhost:8080/"
        },
        "id": "flZ0dBQUFfVe",
        "outputId": "fd97079b-a273-409e-e4f4-98f37252f9a7"
      },
      "execution_count": 17,
      "outputs": [
        {
          "output_type": "execute_result",
          "data": {
            "text/plain": [
              "datetime.datetime(2024, 11, 15, 20, 53, 13, 340832)"
            ]
          },
          "metadata": {},
          "execution_count": 17
        }
      ]
    },
    {
      "cell_type": "markdown",
      "source": [
        " ## **<font color=\"DarkBlue\">Manejo de errores al convertir</font>**"
      ],
      "metadata": {
        "id": "Az8AvMViaHNd"
      }
    },
    {
      "cell_type": "code",
      "source": [
        "# Ejemplo 3: Manejo de error al convertir\n",
        "\n",
        "cadena_incorrecta = \"15-11-2024\"  # Formato no coincide con \"%Y-%m-%d\"\n",
        "try:\n",
        "    fecha_erronea = datetime.strptime(cadena_incorrecta, \"%Y-%m-%d\")\n",
        "\n",
        "except ValueError as e:\n",
        "    print(\"Error al convertir la cadena:\", e)"
      ],
      "metadata": {
        "colab": {
          "base_uri": "https://localhost:8080/"
        },
        "id": "qqrnSlP_98ZM",
        "outputId": "2d25fc01-bb21-4c6c-b0f9-a97decb89423"
      },
      "execution_count": 8,
      "outputs": [
        {
          "output_type": "stream",
          "name": "stdout",
          "text": [
            "Error al convertir la cadena: time data '15-11-2024' does not match format '%Y-%m-%d'\n"
          ]
        }
      ]
    },
    {
      "cell_type": "markdown",
      "source": [
        "<p align=\"justify\">\n",
        "Este código muestra cómo manejar un error al intentar convertir una cadena de texto que no sigue el formato esperado.\n",
        "<br><br>\n",
        "La variable <code>cadena_incorrecta</code> contiene la fecha \"15-11-2024\", la cual tiene un formato diferente al que se espera, que es <code>%Y-%m-%d</code> (Año-Mes-Día).\n",
        "<br><br>\n",
        "El intento de conversión se realiza mediante <code>datetime.strptime()</code>, pero como el formato de la cadena no coincide con el especificado, se genera una excepción <code>ValueError</code>.\n",
        "<br><br>\n",
        "Esta excepción se captura utilizando un bloque <code>try-except</code>, lo que permite manejar el error sin interrumpir la ejecución del programa. En caso de error, se imprime un mensaje que explica el problema, como en este caso: <code>Error al convertir la cadena: time data '15-11-2024' does not match format '%Y-%m-%d'</code>.\n",
        "</p>\n"
      ],
      "metadata": {
        "id": "u7CC11e2bVE7"
      }
    },
    {
      "cell_type": "markdown",
      "source": [
        " ## **<font color=\"DarkBlue\">Conversión y cálculo</font>**"
      ],
      "metadata": {
        "id": "70ZBmj45aOON"
      }
    },
    {
      "cell_type": "code",
      "source": [
        "# Ejemplo 4: Conversión y cálculo\n",
        "\n",
        "cadena_evento = \"2024-11-15 08:00:00\"\n",
        "fecha_evento = datetime.strptime(cadena_evento, \"%Y-%m-%d %H:%M:%S\")\n",
        "fecha_actual = datetime.now()\n"
      ],
      "metadata": {
        "id": "xOoL_tV2-Ymg"
      },
      "execution_count": 9,
      "outputs": []
    },
    {
      "cell_type": "code",
      "source": [
        "cadena_evento"
      ],
      "metadata": {
        "colab": {
          "base_uri": "https://localhost:8080/",
          "height": 36
        },
        "id": "CE88J6rlGpZm",
        "outputId": "b241e1a8-5977-4010-ddfc-a9409c4d0834"
      },
      "execution_count": 21,
      "outputs": [
        {
          "output_type": "execute_result",
          "data": {
            "text/plain": [
              "'2024-11-15 08:00:00'"
            ],
            "application/vnd.google.colaboratory.intrinsic+json": {
              "type": "string"
            }
          },
          "metadata": {},
          "execution_count": 21
        }
      ]
    },
    {
      "cell_type": "code",
      "source": [
        "fecha_evento"
      ],
      "metadata": {
        "colab": {
          "base_uri": "https://localhost:8080/"
        },
        "id": "A5XcvQInGr-E",
        "outputId": "cda6ec45-930f-4558-e0c0-d3bf5c52eceb"
      },
      "execution_count": 22,
      "outputs": [
        {
          "output_type": "execute_result",
          "data": {
            "text/plain": [
              "datetime.datetime(2024, 11, 15, 8, 0)"
            ]
          },
          "metadata": {},
          "execution_count": 22
        }
      ]
    },
    {
      "cell_type": "code",
      "source": [
        "fecha_actual"
      ],
      "metadata": {
        "colab": {
          "base_uri": "https://localhost:8080/"
        },
        "id": "L2t6WyB9Gtvs",
        "outputId": "1d421396-af75-4f87-cd93-e6caf822847f"
      },
      "execution_count": 23,
      "outputs": [
        {
          "output_type": "execute_result",
          "data": {
            "text/plain": [
              "datetime.datetime(2024, 11, 15, 23, 9, 44, 563230)"
            ]
          },
          "metadata": {},
          "execution_count": 23
        }
      ]
    },
    {
      "cell_type": "code",
      "source": [
        "# Calcular la diferencia en días entre dos fechas\n",
        "\n",
        "diferencia = fecha_evento - fecha_actual\n",
        "print(f\"Diferencia hasta el evento: {diferencia.days} días, {diferencia.seconds // 3600} horas.\")"
      ],
      "metadata": {
        "colab": {
          "base_uri": "https://localhost:8080/"
        },
        "id": "9eR1DRvp-mth",
        "outputId": "67bb0607-6a7d-479b-81b5-307486c45329"
      },
      "execution_count": 10,
      "outputs": [
        {
          "output_type": "stream",
          "name": "stdout",
          "text": [
            "Diferencia hasta el evento: -1 días, 11 horas.\n"
          ]
        }
      ]
    },
    {
      "cell_type": "markdown",
      "source": [
        "<p align=\"justify\">\n",
        "Este código muestra cómo calcular la diferencia entre dos fechas utilizando objetos <code>datetime</code>.\n",
        "<br><br>\n",
        "La variable <code>cadena_evento</code> contiene la fecha y hora de un evento futuro (\"2024-11-15 08:00:00\") en formato de cadena. Esta cadena se convierte en un objeto <code>datetime</code> usando <code>datetime.strptime()</code>, con el formato especificado <code>%Y-%m-%d %H:%M:%S</code> (Año-Mes-Día Hora:Minutos:Segundos).\n",
        "<br><br>\n",
        "Luego, la variable <code>fecha_actual</code> obtiene la fecha y hora actuales mediante <code>datetime.now()</code>. La diferencia entre las fechas <code>fecha_evento</code> y <code>fecha_actual</code> se calcula restando un objeto <code>datetime</code> de otro, lo que da como resultado un objeto <code>timedelta</code>.\n",
        "<br><br>\n",
        "Este objeto contiene información sobre la diferencia en días (<code>diferencia.days</code>) y en segundos (<code>diferencia.seconds</code>). Finalmente, se imprime la diferencia en días y horas restantes, mostrando un mensaje como: <code>Diferencia hasta el evento: X días, Y horas.</code>.\n",
        "</p>\n"
      ],
      "metadata": {
        "id": "v4fxy9WhbwTu"
      }
    },
    {
      "cell_type": "markdown",
      "source": [
        " # **<font color=\"DarkBlue\">Códigos de Formato</font>**"
      ],
      "metadata": {
        "id": "k1drQVfUct9m"
      }
    },
    {
      "cell_type": "markdown",
      "source": [
        "<table border=\"1\" cellpadding=\"5\">\n",
        "  <tr>\n",
        "    <td><b>Tipo</td>\n",
        "    <td><b>Descripción</td>\n",
        "  </tr>\n",
        "  <tr>\n",
        "    <td>%Y</td>\n",
        "    <td>Año de cuatro dígitos</td>\n",
        "  </tr>\n",
        "  <tr>\n",
        "    <td>%y</td>\n",
        "    <td>Año de dos dígitos</td>\n",
        "  </tr>\n",
        "  <tr>\n",
        "    <td>%m</td>\n",
        "    <td>Mes de dos dígitos [01, 12]</td>\n",
        "  </tr>\n",
        "  <tr>\n",
        "    <td>%d</td>\n",
        "    <td>Día de dos dígitos [01, 31]</td>\n",
        "  </tr>\n",
        "  <tr>\n",
        "    <td>%H</td>\n",
        "    <td>Hora (reloj de 24 horas) [00, 23]</td>\n",
        "  </tr>\n",
        "  <tr>\n",
        "    <td>%I</td>\n",
        "    <td>Hora (reloj de 12 horas) [01, 12]</td>\n",
        "  </tr>\n",
        "  <tr>\n",
        "    <td>%M</td>\n",
        "    <td>Minuto de dos dígitos [00, 59]</td>\n",
        "  </tr>\n",
        "  <tr>\n",
        "    <td>%S</td>\n",
        "    <td>Segundo [00, 61] (los segundos 60, 61 representan los segundos intercalares)</td>\n",
        "  </tr>\n",
        "  <tr>\n",
        "    <td>%f</td>\n",
        "    <td>Microsegundo como un número entero, rellenado con ceros (de 000000 a 999999)</td>\n",
        "  </tr>\n",
        "  <tr>\n",
        "    <td>%j</td>\n",
        "    <td>Día del año como un entero rellenado con ceros (de 001 a 336)</td>\n",
        "  </tr>\n",
        "  <tr>\n",
        "    <td>%w</td>\n",
        "    <td>Día de la semana como un entero [0 (domingo), 6]</td>\n",
        "  </tr>\n",
        "  <tr>\n",
        "    <td>%u</td>\n",
        "    <td>Día de la semana como número entero comenzando desde 1, donde 1 es el lunes.</td>\n",
        "  </tr>\n",
        "  <tr>\n",
        "    <td>%U</td>\n",
        "    <td>Número de semana del año [00, 53]; el domingo se considera el primer día de la semana y los días anteriores al primer domingo del año son la “semana 0”</td>\n",
        "  </tr>\n",
        "  <tr>\n",
        "    <td>%W</td>\n",
        "    <td>Número de semana del año [00, 53]; el lunes se considera el primer día de la semana y los días anteriores al primer lunes del año son la “semana 0”</td>\n",
        "  </tr>\n",
        "  <tr>\n",
        "    <td>%z</td>\n",
        "    <td>Desplazamiento de zona horaria UTC como +HHMM o -HHMM; vacío si la zona horaria es ingenua</td>\n",
        "  </tr>\n",
        "  <tr>\n",
        "    <td>%Z</td>\n",
        "    <td>Nombre de la zona horaria como cadena o cadena vacía si no hay zona horaria</td>\n",
        "  </tr>\n",
        "  <tr>\n",
        "    <td>%F</td>\n",
        "    <td>Atajo para %Y-%m-%d (por ejemplo, 2012-4-18)</td>\n",
        "  </tr>\n",
        "  <tr>\n",
        "    <td>%D</td>\n",
        "    <td>Atajo para %m/%d/%y (por ejemplo, 04/18/12)</td>\n",
        "  </tr>\n",
        "</table>\n"
      ],
      "metadata": {
        "id": "TlUeRn2ScStI"
      }
    },
    {
      "cell_type": "markdown",
      "source": [
        " # **<font color=\"DarkBlue\">Pandas to_datetime( )</font>**"
      ],
      "metadata": {
        "id": "wghP1181dUCZ"
      }
    },
    {
      "cell_type": "markdown",
      "source": [
        "<p align=\"justify\">\n",
        "La función <code>to_datetime()</code> de la biblioteca <b>Pandas</b> se utiliza para convertir una cadena de texto, una lista de cadenas, o incluso un objeto <code>datetime</code> a un objeto <code>datetime</code> de Pandas (que es una representación más eficiente y optimizada de los datos de tiempo en comparación con el tipo <code>datetime</code> estándar de Python).\n",
        "<br><br>\n",
        "Esta función es útil para garantizar que los datos de fecha y hora se interpreten correctamente, especialmente cuando los datos provienen de fuentes externas como archivos CSV o bases de datos, donde las fechas a menudo se almacenan como cadenas.\n",
        "<br><br>\n",
        " Al convertir estas cadenas en objetos <code>datetime</code>, se pueden realizar operaciones de manipulación de fechas y horas, como el cálculo de diferencias entre fechas, filtrado por fechas, o la creación de nuevas columnas con valores derivados de fechas y horas.\n",
        " <br><br>\n",
        " La función <code>to_datetime()</code> también maneja una variedad de formatos de fecha y hora, y puede detectar automáticamente el formato en muchos casos. Si es necesario, también puede especificarse el formato de la fecha utilizando el parámetro <code>format</code>.\n",
        "</p>\n"
      ],
      "metadata": {
        "id": "PtKqgc8HdDzJ"
      }
    },
    {
      "cell_type": "code",
      "source": [
        "# Definimos una lista de cadenas de fecha\n",
        "fechas = [\"2024-11-15\", \"2024-12-01\", \"2025-01-10\"]\n"
      ],
      "metadata": {
        "id": "ahnFNZcSdYkP"
      },
      "execution_count": 11,
      "outputs": []
    },
    {
      "cell_type": "code",
      "source": [
        "type(fechas)"
      ],
      "metadata": {
        "colab": {
          "base_uri": "https://localhost:8080/"
        },
        "id": "J8cDly3pJPjo",
        "outputId": "1d56de06-b8b7-4567-d82a-2182032dea8f"
      },
      "execution_count": 24,
      "outputs": [
        {
          "output_type": "execute_result",
          "data": {
            "text/plain": [
              "list"
            ]
          },
          "metadata": {},
          "execution_count": 24
        }
      ]
    },
    {
      "cell_type": "code",
      "source": [
        "# Convertimos la lista de cadenas a datetime con pandas.to_datetime\n",
        "fechas_convertidas = pd.to_datetime(fechas)\n"
      ],
      "metadata": {
        "id": "zwxOVhgMde_Y"
      },
      "execution_count": 12,
      "outputs": []
    },
    {
      "cell_type": "code",
      "source": [
        "# Mostramos el resultado\n",
        "print(fechas_convertidas)"
      ],
      "metadata": {
        "colab": {
          "base_uri": "https://localhost:8080/"
        },
        "id": "emDGPtqqdhiV",
        "outputId": "697932d5-8adf-481f-ec44-60f3b171e327"
      },
      "execution_count": 13,
      "outputs": [
        {
          "output_type": "stream",
          "name": "stdout",
          "text": [
            "DatetimeIndex(['2024-11-15', '2024-12-01', '2025-01-10'], dtype='datetime64[ns]', freq=None)\n"
          ]
        }
      ]
    },
    {
      "cell_type": "markdown",
      "source": [
        "<br>\n",
        "<br>\n",
        "<p align=\"center\"><b>\n",
        "💗\n",
        "<font color=\"DarkBlue\">\n",
        "Hemos llegado al final de nuestro colab de Pandas, a seguir codeando...\n",
        "</font>\n",
        "</p>"
      ],
      "metadata": {
        "id": "ZOtRj6qTWBB5"
      }
    }
  ]
}