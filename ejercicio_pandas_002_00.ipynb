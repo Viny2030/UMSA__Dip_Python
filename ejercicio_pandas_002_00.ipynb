{
  "nbformat": 4,
  "nbformat_minor": 0,
  "metadata": {
    "colab": {
      "provenance": []
    },
    "kernelspec": {
      "name": "python3",
      "display_name": "Python 3"
    },
    "language_info": {
      "name": "python"
    }
  },
  "cells": [
    {
      "cell_type": "markdown",
      "source": [
        " # **<font color=\"DarkBlue\">Ejercicios con Pandas 🐼 </font>**"
      ],
      "metadata": {
        "id": "mveiG2V4wVwv"
      }
    },
    {
      "cell_type": "markdown",
      "source": [
        "<p align=\"center\">\n",
        "<img src=\"https://pandas.pydata.org/static/img/pandas_mark.svg\" width=\"50\">\n",
        "</p>\n"
      ],
      "metadata": {
        "id": "6AggPLYqwb5q"
      }
    },
    {
      "cell_type": "markdown",
      "source": [
        "https://pandas.pydata.org/"
      ],
      "metadata": {
        "id": "PsGDzVHGwfmn"
      }
    },
    {
      "cell_type": "markdown",
      "source": [
        " ## **<font color=\"DarkBlue\">Consigna</font>**"
      ],
      "metadata": {
        "id": "Gs60EoEJwkES"
      }
    },
    {
      "cell_type": "markdown",
      "source": [
        "<p align=\"justify\">\n",
        "💡 Generar el dataframe de Ventas, con las diferentes fuentes de archivos"
      ],
      "metadata": {
        "id": "Ac67YQPu1NaX"
      }
    },
    {
      "cell_type": "markdown",
      "source": [
        " ## **<font color=\"DarkBlue\">Ejercicio 1: Archivo CSV</font>**"
      ],
      "metadata": {
        "id": "qkNrAavT1gHP"
      }
    },
    {
      "cell_type": "markdown",
      "source": [
        "\n",
        "🏷 Leer el archivo Ventas.CSV"
      ],
      "metadata": {
        "id": "udJXQB9o1uGF"
      }
    },
    {
      "cell_type": "code",
      "execution_count": null,
      "metadata": {
        "id": "Y3Bfv66nul3o"
      },
      "outputs": [],
      "source": [
        "# Desarrollar el ejercicio 1"
      ]
    },
    {
      "cell_type": "markdown",
      "source": [
        " ## **<font color=\"DarkBlue\">Ejercicio 2: Archivo XLSX</font>**"
      ],
      "metadata": {
        "id": "WkWNDDcI2BVH"
      }
    },
    {
      "cell_type": "markdown",
      "source": [
        "🏷 Leer el archivo Ventas.XLSX"
      ],
      "metadata": {
        "id": "iV6W_26G2LL5"
      }
    },
    {
      "cell_type": "code",
      "source": [
        "# Desarrollar el ejercicio 2"
      ],
      "metadata": {
        "id": "bDHQaTMD2Qao"
      },
      "execution_count": null,
      "outputs": []
    },
    {
      "cell_type": "markdown",
      "source": [
        " ## **<font color=\"DarkBlue\">Ejercicio 3: Archivo JSON</font>**"
      ],
      "metadata": {
        "id": "e72KNcHJ2TjJ"
      }
    },
    {
      "cell_type": "markdown",
      "source": [
        "🏷 Leer el archivo Ventas.JSON"
      ],
      "metadata": {
        "id": "dlgjP7aU2TTr"
      }
    },
    {
      "cell_type": "code",
      "source": [
        "# Desarrollar el ejercicio 3"
      ],
      "metadata": {
        "id": "Dwra13942UbF"
      },
      "execution_count": null,
      "outputs": []
    },
    {
      "cell_type": "markdown",
      "source": [
        " ## **<font color=\"DarkBlue\">Ejercicio 4: Archivo XML</font>**"
      ],
      "metadata": {
        "id": "0aHluxUg2ozd"
      }
    },
    {
      "cell_type": "markdown",
      "source": [
        "🏷 Leer el archivo Ventas.XML"
      ],
      "metadata": {
        "id": "HPzLYPo82wLH"
      }
    },
    {
      "cell_type": "code",
      "source": [
        "# Desarrollar el ejercicio 4"
      ],
      "metadata": {
        "id": "JpnRFuj927Wb"
      },
      "execution_count": null,
      "outputs": []
    },
    {
      "cell_type": "markdown",
      "source": [
        "<p align=\"center\"><b>\n",
        "💗\n",
        "<font color=\"DarkBlue\">\n",
        "Hemos llegado al final de nuestra ejercitación en colab, a seguir ejercitando...\n",
        "</font>\n",
        "</p>\n"
      ],
      "metadata": {
        "id": "EBmMDex429xK"
      }
    }
  ]
}