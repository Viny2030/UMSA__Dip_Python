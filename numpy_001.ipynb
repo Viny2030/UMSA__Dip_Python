{
  "nbformat": 4,
  "nbformat_minor": 0,
  "metadata": {
    "colab": {
      "provenance": [],
      "collapsed_sections": [
        "BEX0dl_m1d_q",
        "r2d65alg13Zk",
        "1T0GEcmz2IJZ",
        "aYPm92oN2Sza"
      ]
    },
    "kernelspec": {
      "name": "python3",
      "display_name": "Python 3"
    },
    "language_info": {
      "name": "python"
    }
  },
  "cells": [
    {
      "cell_type": "markdown",
      "source": [
        " # **<font color=\"DarkBlue\">¿Por qué NumPy para arrays (matrices) y computación vectorizada?</font>**"
      ],
      "metadata": {
        "id": "_o8tuKydjnRZ"
      }
    },
    {
      "cell_type": "markdown",
      "source": [
        "<p align=\"center\">\n",
        "<img src=\"https://numpy.org/images/logo.svg\" width=\"80\" height=\"\">\n",
        "</p>\n"
      ],
      "metadata": {
        "id": "XM-hn7ZLmgQc"
      }
    },
    {
      "cell_type": "markdown",
      "source": [
        "https://numpy.org"
      ],
      "metadata": {
        "id": "iw1xUwq1fpWm"
      }
    },
    {
      "cell_type": "markdown",
      "source": [
        "<p align=\"justify\">\n",
        "La computación vectorizada en NumPy permite realizar operaciones matemáticas y de datos en arrays (matrices) de manera eficiente y rápida, evitando el uso de bucles explícitos y aprovechando las optimizaciones de bajo nivel. Esto es crucial para el análisis de datos y la ciencia de datos, ya que mejora la velocidad y eficiencia del procesamiento de grandes volúmenes de datos."
      ],
      "metadata": {
        "id": "_T2qJd6Ro9GL"
      }
    },
    {
      "cell_type": "markdown",
      "source": [
        "<p align=\"justify\">\n",
        "📘 NumPy, una abreviatura de \"Numerical Python\", tiene una historia que se remonta al comienzo del siglo XXI.\n",
        "<br><br>\n",
        "✅ <b>Inicios</b>\n",
        "<br><br>\n",
        "<b>Orígenes en el Lenguaje Python</b>: A principios de los años 2000, Travis Oliphant, un científico de datos y programador, estaba trabajando en proyectos que involucraban cálculos numéricos intensivos. Sin embargo, encontró que el rendimiento de Python en tales tareas era insuficiente debido a la falta de estructuras de datos eficientes para cálculos numéricos.\n",
        "<br><br>\n",
        "<b>Inspiración en MATLAB</b>: Travis se inspiró en la sintaxis y las capacidades de MATLAB, un lenguaje de programación ampliamente utilizado en matemáticas y ciencia de la computación. Buscaba crear un equivalente de código abierto y gratuito que pudiera ofrecer funcionalidades similares a las de MATLAB, pero integradas en Python.\n",
        "<br><br>\n",
        "✅ <b>Desarrollo de NumPy</b>\n",
        "<br><br>\n",
        "<b>Numerical Python (NumPy) 1.0</b>: En 2006, Travis Oliphant, junto con otros colaboradores, lanzó la versión 1.0 de NumPy. Esta biblioteca ofrecía estructuras de datos como arrays multidimensionales y funciones para operaciones matemáticas sobre los arrays.\n",
        "<br><br>\n",
        "<b>Código abierto y colaboración</b>: NumPy fue lanzado como un proyecto de código abierto bajo la licencia BSD, lo que permitió a la comunidad científica y de programación contribuir con mejoras y nuevas características.\n",
        "<br><br>\n",
        "✅ <b>Evolución y popularidad</b>\n",
        "<br><br>\n",
        "<b>Adopción en la comunidad científica</b>: NumPy rápidamente ganó popularidad entre los científicos de datos, ingenieros y académicos debido a su facilidad de uso y su eficiencia en el manejo de grandes volúmenes de datos numéricos.\n",
        "<br><br>\n",
        "<b>Ecosistema científico de Python</b>: La aparición de NumPy impulsó el crecimiento de un ecosistema completo de herramientas y bibliotecas científicas tales como SciPy, Matplotlib, Pandas y Scikit-learn, entre otras."
      ],
      "metadata": {
        "id": "hdZ28u0geqFP"
      }
    },
    {
      "cell_type": "markdown",
      "source": [
        "<p align=\"justify\"> 👀 Por convención, de esta manera se importa <code>Numpy</code>:  </p>"
      ],
      "metadata": {
        "id": "riE9ZSRbOdsF"
      }
    },
    {
      "cell_type": "code",
      "source": [
        "import numpy as np"
      ],
      "metadata": {
        "id": "dQtWrchXqRb3"
      },
      "execution_count": null,
      "outputs": []
    },
    {
      "cell_type": "markdown",
      "source": [
        " # **<font color=\"DarkBlue\">Introducción a NumPy</font>**"
      ],
      "metadata": {
        "id": "Y7LDCZ14PIKr"
      }
    },
    {
      "cell_type": "markdown",
      "source": [
        "<p align=\"justify\">\n",
        "📘 NumPy es una biblioteca fundamental en el ecosistema de Python para la computación numérica y científica. Proporciona una manera eficiente de trabajar con arrays multidimensionales (también conocidos como <b>matrices</b>) y funciones matemáticas para realizar operaciones rápidas en estos arrays.\n",
        "<br><br>\n",
        "👀 Algunas de las características principales de NumPy incluyen:\n",
        "<br><br>\n",
        "<ul align = \"justify\">\n",
        "<li>\n",
        "<b>Eficiencia</b>: NumPy está implementado en C, esto lo hace muy rápido y eficiente en comparación con las listas de Python estándar para operaciones numéricas.</li>\n",
        "<li>\n",
        "<b>Arrays Multidimensionales</b>: NumPy proporciona un objeto de array multidimensional llamado <code>ndarray</code>, que permite representar datos en forma de matrices de cualquier número de dimensiones.</li>\n",
        "<li>\n",
        "<b>Funciones Matemáticas</b>: NumPy incluye una amplia gama de funciones matemáticas para realizar operaciones numéricas en arrays, como sumas, productos, exponenciación, funciones trigonométricas, y otras funciones.</li>\n",
        "<li>\n",
        "<b>Indexación y Slicing Avanzados</b>: NumPy proporciona formas flexibles de acceder y manipular elementos individuales o subconjuntos de elementos en arrays utilizando técnicas de indexación y slicing.</li>\n",
        "<li>\n",
        "<b>Álgebra Lineal</b>: NumPy incluye un conjunto completo de funciones para realizar operaciones de álgebra lineal, como la multiplicación de matrices, la inversión de matrices y el cálculo de determinantes y autovalores.\n",
        "</li></ul>\n"
      ],
      "metadata": {
        "id": "bQOruBSIqdh1"
      }
    },
    {
      "cell_type": "markdown",
      "source": [
        " # <font color=\"DarkBlue\"><b>Creación de arrays NumPy</font>"
      ],
      "metadata": {
        "id": "yBB8whTUiKUq"
      }
    },
    {
      "cell_type": "markdown",
      "source": [
        "<p align=\"justify\">\n",
        "✅ Creación de Arrays NumPy\n",
        "<br><br>\n",
        "Una de las características más poderosas de NumPy es su capacidad para crear y manipular arrays de manera eficiente. Se puede crear arrays NumPy utilizando la función <code>numpy.array()</code> o utilizando otras funciones útiles, como <code>numpy.zeros()</code>, <code>numpy.ones()</code>, <code>numpy.arange()</code> y <code>numpy.linspace()</code>.\n"
      ],
      "metadata": {
        "id": "ur5XSLrpxpZe"
      }
    },
    {
      "cell_type": "markdown",
      "source": [
        "## <font color=\"DarkBlue\"><b>Array unidimensional\n"
      ],
      "metadata": {
        "id": "HPXqTXLz1Erz"
      }
    },
    {
      "cell_type": "markdown",
      "source": [
        "<p align=\"center\">\n",
        "<img src=\"https://github.com/cristiandarioortegayubro/BDS/blob/main/images/array1d.png?raw=true\" width=\"150\" height=\"\">\n",
        "</p>\n"
      ],
      "metadata": {
        "id": "1BJwakxra1cp"
      }
    },
    {
      "cell_type": "markdown",
      "source": [
        "### <font color=\"DarkBlue\"><b>Creando un array unidimensional\n"
      ],
      "metadata": {
        "id": "xuZmgf1nufR9"
      }
    },
    {
      "cell_type": "code",
      "source": [
        "arr1d = np.array([1, 2, 3, 4, 5])\n",
        "arr1d"
      ],
      "metadata": {
        "colab": {
          "base_uri": "https://localhost:8080/"
        },
        "id": "KgzT084jvXIr",
        "outputId": "8b665340-2ed4-4961-84b4-dd90e8bec31d"
      },
      "execution_count": null,
      "outputs": [
        {
          "output_type": "execute_result",
          "data": {
            "text/plain": [
              "array([1, 2, 3, 4, 5])"
            ]
          },
          "metadata": {},
          "execution_count": 4
        }
      ]
    },
    {
      "cell_type": "code",
      "source": [
        "arr1d.shape #el atributo muestra la dimensión del objeto"
      ],
      "metadata": {
        "colab": {
          "base_uri": "https://localhost:8080/"
        },
        "id": "dvgt0CkqN-ZY",
        "outputId": "c8a0b816-26f5-4d53-d772-f7803769c75c"
      },
      "execution_count": null,
      "outputs": [
        {
          "output_type": "execute_result",
          "data": {
            "text/plain": [
              "(5,)"
            ]
          },
          "metadata": {},
          "execution_count": 5
        }
      ]
    },
    {
      "cell_type": "markdown",
      "source": [
        "<p align=\"justify\">\n",
        "👀 Este script crea un array unidimensional. Básicamente, este código representa la creación y visualización de un array unidimensional utilizando NumPy."
      ],
      "metadata": {
        "id": "CtcBCoCyI4Az"
      }
    },
    {
      "cell_type": "markdown",
      "source": [
        "### <font color=\"DarkBlue\"><b>Creando un array de ceros\n"
      ],
      "metadata": {
        "id": "BEX0dl_m1d_q"
      }
    },
    {
      "cell_type": "code",
      "source": [
        "zeros_arr1d = np.zeros((9))\n",
        "zeros_arr1d"
      ],
      "metadata": {
        "colab": {
          "base_uri": "https://localhost:8080/"
        },
        "id": "RYKjCLpx1fQG",
        "outputId": "0490b3c7-9501-4d07-fd6f-ca91d58ece6b"
      },
      "execution_count": null,
      "outputs": [
        {
          "output_type": "execute_result",
          "data": {
            "text/plain": [
              "array([0., 0., 0., 0., 0., 0., 0., 0., 0.])"
            ]
          },
          "metadata": {},
          "execution_count": 6
        }
      ]
    },
    {
      "cell_type": "code",
      "source": [
        "zeros_arr1d.shape"
      ],
      "metadata": {
        "colab": {
          "base_uri": "https://localhost:8080/"
        },
        "id": "4YbDyg-h8KUd",
        "outputId": "b2926bd0-8d4a-413c-df85-f34e8d319e49"
      },
      "execution_count": null,
      "outputs": [
        {
          "output_type": "execute_result",
          "data": {
            "text/plain": [
              "(9,)"
            ]
          },
          "metadata": {},
          "execution_count": 7
        }
      ]
    },
    {
      "cell_type": "markdown",
      "source": [
        "<p align=\"justify\">\n",
        "👀 Este script utiliza la función <code>np.zeros()</code> para crear un array unidimensional de longitud 9, lleno de ceros de manera eficiente."
      ],
      "metadata": {
        "id": "7ZO7McseJPzu"
      }
    },
    {
      "cell_type": "markdown",
      "source": [
        "### <font color=\"DarkBlue\"><b>Creando un array de unos\n"
      ],
      "metadata": {
        "id": "r2d65alg13Zk"
      }
    },
    {
      "cell_type": "code",
      "source": [
        "ones_arr1d = np.ones((5))\n",
        "ones_arr1d"
      ],
      "metadata": {
        "colab": {
          "base_uri": "https://localhost:8080/"
        },
        "id": "oZtfZP_D17eJ",
        "outputId": "8e5783f4-5fd9-40f3-e6bd-7ad4ba99ad2c"
      },
      "execution_count": null,
      "outputs": [
        {
          "output_type": "execute_result",
          "data": {
            "text/plain": [
              "array([1., 1., 1., 1., 1.])"
            ]
          },
          "metadata": {},
          "execution_count": 8
        }
      ]
    },
    {
      "cell_type": "code",
      "source": [
        "ones_arr1d.shape"
      ],
      "metadata": {
        "colab": {
          "base_uri": "https://localhost:8080/"
        },
        "id": "Z9ecEeo28YeJ",
        "outputId": "8269f046-c00f-4104-c1d2-c4d5af246a3a"
      },
      "execution_count": null,
      "outputs": [
        {
          "output_type": "execute_result",
          "data": {
            "text/plain": [
              "(5,)"
            ]
          },
          "metadata": {},
          "execution_count": 9
        }
      ]
    },
    {
      "cell_type": "markdown",
      "source": [
        "<p align=\"justify\">\n",
        "👀 Este script utiliza la función <code>np.ones()</code> para crear un array unidimensional de longitud 5 de acuerdo al ejemplo, lleno de unos."
      ],
      "metadata": {
        "id": "RqfvPfHxJqDx"
      }
    },
    {
      "cell_type": "markdown",
      "source": [
        "### <font color=\"DarkBlue\"><b>Creando un array con valores espaciados uniformemente\n"
      ],
      "metadata": {
        "id": "1T0GEcmz2IJZ"
      }
    },
    {
      "cell_type": "code",
      "source": [
        "range_arr = np.arange(0, 10, 2)\n",
        "range_arr"
      ],
      "metadata": {
        "colab": {
          "base_uri": "https://localhost:8080/"
        },
        "id": "PxNWlY_q2NS4",
        "outputId": "4853eb25-51ff-4f8b-ebcd-310bf74e612a"
      },
      "execution_count": null,
      "outputs": [
        {
          "output_type": "execute_result",
          "data": {
            "text/plain": [
              "array([0, 2, 4, 6, 8])"
            ]
          },
          "metadata": {},
          "execution_count": 10
        }
      ]
    },
    {
      "cell_type": "code",
      "source": [
        "range_arr.shape"
      ],
      "metadata": {
        "colab": {
          "base_uri": "https://localhost:8080/"
        },
        "id": "Zh6oBjWy8xFb",
        "outputId": "9d4225e5-ac88-4006-9d1d-f3ce0393a5e3"
      },
      "execution_count": null,
      "outputs": [
        {
          "output_type": "execute_result",
          "data": {
            "text/plain": [
              "(5,)"
            ]
          },
          "metadata": {},
          "execution_count": 11
        }
      ]
    },
    {
      "cell_type": "markdown",
      "source": [
        "<p align = \"justify\">\n",
        "👀 Este script utiliza la función <code>np.arange()</code> para crear un array unidimensional que contiene una secuencia de números comenzando desde 0 (inclusive), hasta 10 (exclusivo), con un paso de 2 entre cada número.\n",
        "<br><br>\n",
        "A continuación, otros ejemplos:"
      ],
      "metadata": {
        "id": "fy8mDluqKd_c"
      }
    },
    {
      "cell_type": "code",
      "source": [
        "range_arr = np.arange(0, 21, 5)\n",
        "range_arr"
      ],
      "metadata": {
        "colab": {
          "base_uri": "https://localhost:8080/"
        },
        "id": "pbXn6HavK0-X",
        "outputId": "71892fe0-bb53-42b4-9eba-29e0a1bd369e"
      },
      "execution_count": null,
      "outputs": [
        {
          "output_type": "execute_result",
          "data": {
            "text/plain": [
              "array([ 0,  5, 10, 15, 20])"
            ]
          },
          "metadata": {},
          "execution_count": 12
        }
      ]
    },
    {
      "cell_type": "code",
      "source": [
        "range_arr = np.arange(0, 31, 3)\n",
        "range_arr"
      ],
      "metadata": {
        "colab": {
          "base_uri": "https://localhost:8080/"
        },
        "id": "jK6B1TZjLIQx",
        "outputId": "5ccac3b1-a1e0-4394-95b0-d8cf0fdafe08"
      },
      "execution_count": null,
      "outputs": [
        {
          "output_type": "execute_result",
          "data": {
            "text/plain": [
              "array([ 0,  3,  6,  9, 12, 15, 18, 21, 24, 27, 30])"
            ]
          },
          "metadata": {},
          "execution_count": 13
        }
      ]
    },
    {
      "cell_type": "markdown",
      "source": [
        "### <font color=\"DarkBlue\"><b>Creando un array con valores espaciados linealmente\n"
      ],
      "metadata": {
        "id": "aYPm92oN2Sza"
      }
    },
    {
      "cell_type": "code",
      "source": [
        "linspace_arr = np.linspace(0, 5, 10)\n",
        "linspace_arr"
      ],
      "metadata": {
        "colab": {
          "base_uri": "https://localhost:8080/"
        },
        "id": "NPy0zMiB2UsX",
        "outputId": "ae9ce17f-0626-4207-d8d6-acaa4d4574c1"
      },
      "execution_count": null,
      "outputs": [
        {
          "output_type": "execute_result",
          "data": {
            "text/plain": [
              "array([0.        , 0.55555556, 1.11111111, 1.66666667, 2.22222222,\n",
              "       2.77777778, 3.33333333, 3.88888889, 4.44444444, 5.        ])"
            ]
          },
          "metadata": {},
          "execution_count": 14
        }
      ]
    },
    {
      "cell_type": "markdown",
      "source": [
        "<p align=\"justify\">\n",
        "👀 Este script utiliza la función <code>np.linspace()</code> para crear un array unidimensional que contiene una secuencia de números uniformemente espaciados entre dos valores dados. En este caso, el array comienza en 0 y termina en 5, con un total de 10 elementos igualmente espaciados a lo largo de ese intervalo. Por lo tanto, contendrá valores distribuidos uniformemente entre 0 y 5, incluyendo ambos extremos."
      ],
      "metadata": {
        "id": "zofafKi4LWJh"
      }
    },
    {
      "cell_type": "markdown",
      "source": [
        "👀 ahora con 5 elementos..."
      ],
      "metadata": {
        "id": "EP_2opaBNDpG"
      }
    },
    {
      "cell_type": "code",
      "source": [
        "linspace_arr = np.linspace(0, 5, 5)\n",
        "linspace_arr"
      ],
      "metadata": {
        "colab": {
          "base_uri": "https://localhost:8080/"
        },
        "id": "u09c813hLs3G",
        "outputId": "57a1b391-98a1-4ad2-b94c-fd48d0450622"
      },
      "execution_count": null,
      "outputs": [
        {
          "output_type": "execute_result",
          "data": {
            "text/plain": [
              "array([0.  , 1.25, 2.5 , 3.75, 5.  ])"
            ]
          },
          "metadata": {},
          "execution_count": 15
        }
      ]
    },
    {
      "cell_type": "markdown",
      "source": [
        "👀 si queremos valores enteros, entonces usamos el parámetro <code>dtype</code>"
      ],
      "metadata": {
        "id": "VbpMlhO5L9fY"
      }
    },
    {
      "cell_type": "code",
      "source": [
        "linspace_arr = np.linspace(0, 5, 50, dtype=int)\n",
        "linspace_arr"
      ],
      "metadata": {
        "colab": {
          "base_uri": "https://localhost:8080/"
        },
        "id": "xYZwfXbRL4Gj",
        "outputId": "2091bc45-4be2-42d4-c88a-c4db260bef75"
      },
      "execution_count": null,
      "outputs": [
        {
          "output_type": "execute_result",
          "data": {
            "text/plain": [
              "array([0, 0, 0, 0, 0, 0, 0, 0, 0, 0, 1, 1, 1, 1, 1, 1, 1, 1, 1, 1, 2, 2,\n",
              "       2, 2, 2, 2, 2, 2, 2, 2, 3, 3, 3, 3, 3, 3, 3, 3, 3, 3, 4, 4, 4, 4,\n",
              "       4, 4, 4, 4, 4, 5])"
            ]
          },
          "metadata": {},
          "execution_count": 16
        }
      ]
    },
    {
      "cell_type": "markdown",
      "source": [
        "## <font color=\"DarkBlue\"><b>Array bidimensional\n"
      ],
      "metadata": {
        "id": "i1ilvjYS1SMg"
      }
    },
    {
      "cell_type": "markdown",
      "source": [
        "<p align=\"center\">\n",
        "<img src=\"https://github.com/cristiandarioortegayubro/BDS/blob/main/images/array2d.png?raw=true\" width=\"150\" height=\"\">\n",
        "</p>\n"
      ],
      "metadata": {
        "id": "PQjVgFl3a7Uf"
      }
    },
    {
      "cell_type": "markdown",
      "source": [
        "### <font color=\"DarkBlue\"><b>Creando un array bidimensional\n",
        "\n"
      ],
      "metadata": {
        "id": "w8p37NG5umZ1"
      }
    },
    {
      "cell_type": "code",
      "source": [
        "arr2d = np.array([[1, 2, 3], [4, 5, 6]])\n",
        "arr2d"
      ],
      "metadata": {
        "colab": {
          "base_uri": "https://localhost:8080/"
        },
        "id": "aToDU-SovhrQ",
        "outputId": "c5bb6cec-53c1-4f51-bce8-560be19bdf87"
      },
      "execution_count": null,
      "outputs": [
        {
          "output_type": "execute_result",
          "data": {
            "text/plain": [
              "array([[1, 2, 3],\n",
              "       [4, 5, 6]])"
            ]
          },
          "metadata": {},
          "execution_count": 17
        }
      ]
    },
    {
      "cell_type": "markdown",
      "source": [
        "<p align=\"justify\">\n",
        "👀 Este script crea un array bidimensional con una lista de listas que contiene dos filas y tres columnas.\n",
        "<br><br>\n",
        "La primera fila contiene los elementos <code>[1, 2, 3]</code> y la segunda fila contiene los elementos <code>[4, 5, 6]</code>. En términos de matriz, esto representa una matriz con dos filas y tres columnas."
      ],
      "metadata": {
        "id": "jvoKAihqNf1k"
      }
    },
    {
      "cell_type": "code",
      "source": [
        "arr2d.shape"
      ],
      "metadata": {
        "colab": {
          "base_uri": "https://localhost:8080/"
        },
        "id": "DqC27KhmN18g",
        "outputId": "d15d5764-5c80-4ef2-c1a7-306a37d46c37"
      },
      "execution_count": null,
      "outputs": [
        {
          "output_type": "execute_result",
          "data": {
            "text/plain": [
              "(2, 3)"
            ]
          },
          "metadata": {},
          "execution_count": 18
        }
      ]
    },
    {
      "cell_type": "code",
      "source": [
        "arr_bidimensional = np.random.random((3, 3))\n",
        "arr_bidimensional"
      ],
      "metadata": {
        "colab": {
          "base_uri": "https://localhost:8080/"
        },
        "id": "IdhNSyslQK89",
        "outputId": "3850f02c-9671-4c93-9e6e-cd90fd4a3e62"
      },
      "execution_count": null,
      "outputs": [
        {
          "output_type": "execute_result",
          "data": {
            "text/plain": [
              "array([[0.87388669, 0.90653191, 0.25869809],\n",
              "       [0.76768632, 0.35976323, 0.94084959],\n",
              "       [0.43847121, 0.34599422, 0.52682138]])"
            ]
          },
          "metadata": {},
          "execution_count": 19
        }
      ]
    },
    {
      "cell_type": "markdown",
      "source": [
        "<p align=\"justify\">\n",
        "👀 Con la función <code>np.random.random()</code> se crea un array. Cada elemento de este arreglo bidimensional es generado aleatoriamente y se encuentra en el rango de 0 a 1, siguiendo una distribución uniforme (distribución de probabilidad en la que todos los valores posibles tienen la misma probabilidad de ocurrir). Por lo tanto representa una matriz de 3 filas y 3 columnas, donde cada elemento es un número aleatorio entre 0 y 1."
      ],
      "metadata": {
        "id": "9h4H3Xa9QY5r"
      }
    },
    {
      "cell_type": "code",
      "source": [
        "arr_bidimensional = np.random.random((5, 4))\n",
        "arr_bidimensional"
      ],
      "metadata": {
        "colab": {
          "base_uri": "https://localhost:8080/"
        },
        "id": "BxHeMyP1-rXe",
        "outputId": "303101f9-b8d2-4563-f570-a946d8a948c3"
      },
      "execution_count": null,
      "outputs": [
        {
          "output_type": "execute_result",
          "data": {
            "text/plain": [
              "array([[0.29573288, 0.06542328, 0.57395365, 0.45644053],\n",
              "       [0.69931157, 0.43354992, 0.09058647, 0.73466675],\n",
              "       [0.02275034, 0.93513883, 0.93019091, 0.92853491],\n",
              "       [0.62400685, 0.16802162, 0.051021  , 0.131316  ],\n",
              "       [0.55622136, 0.06719959, 0.22019257, 0.31851289]])"
            ]
          },
          "metadata": {},
          "execution_count": 20
        }
      ]
    },
    {
      "cell_type": "markdown",
      "source": [
        "### <font color=\"DarkBlue\"><b>Creando un array de ceros\n",
        "\n"
      ],
      "metadata": {
        "id": "6iFpJ_eCusVO"
      }
    },
    {
      "cell_type": "code",
      "source": [
        "zeros_arr2d = np.zeros((3, 3))\n",
        "zeros_arr2d"
      ],
      "metadata": {
        "colab": {
          "base_uri": "https://localhost:8080/"
        },
        "id": "N8WfvWV6vmJs",
        "outputId": "436b0415-d18a-4137-d8c1-cd87ac2f72f9"
      },
      "execution_count": null,
      "outputs": [
        {
          "output_type": "execute_result",
          "data": {
            "text/plain": [
              "array([[0., 0., 0.],\n",
              "       [0., 0., 0.],\n",
              "       [0., 0., 0.]])"
            ]
          },
          "metadata": {},
          "execution_count": 21
        }
      ]
    },
    {
      "cell_type": "code",
      "source": [
        "zeros_arr2d.shape"
      ],
      "metadata": {
        "colab": {
          "base_uri": "https://localhost:8080/"
        },
        "id": "dAVhQqtNOjPu",
        "outputId": "7bb9ce8b-1aa1-45fc-df14-c7bf98e3151d"
      },
      "execution_count": null,
      "outputs": [
        {
          "output_type": "execute_result",
          "data": {
            "text/plain": [
              "(3, 3)"
            ]
          },
          "metadata": {},
          "execution_count": 22
        }
      ]
    },
    {
      "cell_type": "markdown",
      "source": [
        "### <font color=\"DarkBlue\"><b>Creando un array de unos\n",
        "\n"
      ],
      "metadata": {
        "id": "AGyyZzg3uwiD"
      }
    },
    {
      "cell_type": "code",
      "source": [
        "ones_arr2d = np.ones((2, 2))\n",
        "ones_arr2d"
      ],
      "metadata": {
        "colab": {
          "base_uri": "https://localhost:8080/"
        },
        "id": "5JyOMQrovq4F",
        "outputId": "730dcf37-b79e-429b-8138-3ff734a9a1f8"
      },
      "execution_count": null,
      "outputs": [
        {
          "output_type": "execute_result",
          "data": {
            "text/plain": [
              "array([[1., 1.],\n",
              "       [1., 1.]])"
            ]
          },
          "metadata": {},
          "execution_count": 23
        }
      ]
    },
    {
      "cell_type": "markdown",
      "source": [
        "## <font color=\"DarkBlue\"><b>Array n-dimensional\n"
      ],
      "metadata": {
        "id": "QStTJZk72xB_"
      }
    },
    {
      "cell_type": "markdown",
      "source": [
        "<p align=\"center\">\n",
        "<img src=\"https://github.com/cristiandarioortegayubro/BDS/blob/main/images/array3d.png?raw=true\" width=\"180\" height=\"\">\n",
        "</p>\n"
      ],
      "metadata": {
        "id": "3s3Y2GZ4bCvw"
      }
    },
    {
      "cell_type": "code",
      "source": [
        "arr_3d = np.random.random((2, 3, 4))\n",
        "arr_3d"
      ],
      "metadata": {
        "colab": {
          "base_uri": "https://localhost:8080/"
        },
        "id": "3AKNIXP32oWi",
        "outputId": "f9546abf-94d4-41c0-ccdb-d0d0d28eb56f"
      },
      "execution_count": null,
      "outputs": [
        {
          "output_type": "execute_result",
          "data": {
            "text/plain": [
              "array([[[0.56862181, 0.42902816, 0.77200094, 0.85169468],\n",
              "        [0.68403678, 0.15562886, 0.75175842, 0.89925523],\n",
              "        [0.42361793, 0.11800094, 0.68388676, 0.16409826]],\n",
              "\n",
              "       [[0.24133466, 0.378383  , 0.6910752 , 0.36681963],\n",
              "        [0.12377078, 0.47980805, 0.75281912, 0.06783543],\n",
              "        [0.08890764, 0.8280884 , 0.38865042, 0.68335089]]])"
            ]
          },
          "metadata": {},
          "execution_count": 24
        }
      ]
    },
    {
      "cell_type": "markdown",
      "source": [
        " # **<font color=\"DarkBlue\">Indexación y Slicing</font>**"
      ],
      "metadata": {
        "id": "wlAjWBjlifcE"
      }
    },
    {
      "cell_type": "markdown",
      "source": [
        "<p align=\"justify\">\n",
        "✅ NumPy permite acceder a elementos individuales, filas, columnas y secciones de arrays utilizando indexación y slicing. Esto proporciona una forma eficiente de manipular y trabajar con datos en arrays NumPy.\n",
        "\n"
      ],
      "metadata": {
        "id": "Wu3ooQOfx1yb"
      }
    },
    {
      "cell_type": "markdown",
      "source": [
        " ## **<font color=\"DarkBlue\">Indexación de arrays unidimensionales</font>**"
      ],
      "metadata": {
        "id": "yHDKD29a3pYC"
      }
    },
    {
      "cell_type": "markdown",
      "source": [
        "<p align=\"justify\">\n",
        "Un array unidimensional es esencialmente una lista de elementos. La indexación en este caso es simple y directa"
      ],
      "metadata": {
        "id": "UE9qVUzFDps0"
      }
    },
    {
      "cell_type": "code",
      "source": [
        "arr = np.array([10, 20, 30, 40, 50])"
      ],
      "metadata": {
        "id": "PXMNga_Nx2dj"
      },
      "execution_count": null,
      "outputs": []
    },
    {
      "cell_type": "code",
      "source": [
        "arr.shape"
      ],
      "metadata": {
        "colab": {
          "base_uri": "https://localhost:8080/"
        },
        "id": "BVIbsGxlY_K_",
        "outputId": "58469e47-ab5a-4512-80dd-c54453595a01"
      },
      "execution_count": null,
      "outputs": [
        {
          "output_type": "execute_result",
          "data": {
            "text/plain": [
              "(5,)"
            ]
          },
          "metadata": {},
          "execution_count": 26
        }
      ]
    },
    {
      "cell_type": "code",
      "source": [
        "len(arr)"
      ],
      "metadata": {
        "colab": {
          "base_uri": "https://localhost:8080/"
        },
        "id": "26bR-tPdPCoS",
        "outputId": "d0eb3207-c38d-4893-87f0-c81961b0af31"
      },
      "execution_count": null,
      "outputs": [
        {
          "output_type": "execute_result",
          "data": {
            "text/plain": [
              "5"
            ]
          },
          "metadata": {},
          "execution_count": 59
        }
      ]
    },
    {
      "cell_type": "markdown",
      "source": [
        " ### **<font color=\"DarkBlue\">Acceso por índice</font>**"
      ],
      "metadata": {
        "id": "HZtQNdc8EDJa"
      }
    },
    {
      "cell_type": "markdown",
      "source": [
        "<p align=\"justify\">\n",
        "👀 Los elementos se acceden mediante su índice, que empieza desde 0. Por ejemplo, para un array <code>a = np.array([10, 20, 30, 40, 50])</code>, <code>a[0]</code> devuelve 10, <code>a[1]</code> devuelve 20, y así sucesivamente."
      ],
      "metadata": {
        "id": "J6xa5FMPEKO0"
      }
    },
    {
      "cell_type": "code",
      "source": [
        "arr"
      ],
      "metadata": {
        "colab": {
          "base_uri": "https://localhost:8080/"
        },
        "id": "Y0S_OFijFGMK",
        "outputId": "46b0e431-4da5-40bd-8000-24a4fc00bf40"
      },
      "execution_count": null,
      "outputs": [
        {
          "output_type": "execute_result",
          "data": {
            "text/plain": [
              "array([10, 20, 30, 40, 50])"
            ]
          },
          "metadata": {},
          "execution_count": 27
        }
      ]
    },
    {
      "cell_type": "code",
      "source": [
        "primer_elemento = arr[0]\n",
        "primer_elemento"
      ],
      "metadata": {
        "colab": {
          "base_uri": "https://localhost:8080/"
        },
        "id": "_97ppFFd3-r5",
        "outputId": "a139e475-e368-4580-b49a-c794fcad8369"
      },
      "execution_count": null,
      "outputs": [
        {
          "output_type": "execute_result",
          "data": {
            "text/plain": [
              "10"
            ]
          },
          "metadata": {},
          "execution_count": 28
        }
      ]
    },
    {
      "cell_type": "markdown",
      "source": [
        " ### **<font color=\"DarkBlue\">Indexación Negativa</font>**"
      ],
      "metadata": {
        "id": "dNGTnhjmE1-5"
      }
    },
    {
      "cell_type": "markdown",
      "source": [
        "<p align=\"justify\">\n",
        "También puedes usar índices negativos para acceder a los elementos desde el final del array."
      ],
      "metadata": {
        "id": "glDztRbkFq-P"
      }
    },
    {
      "cell_type": "code",
      "source": [
        "arr"
      ],
      "metadata": {
        "colab": {
          "base_uri": "https://localhost:8080/"
        },
        "id": "24hKEzAWFJHa",
        "outputId": "32f38395-64d1-4843-90fb-f6cf3cca4762"
      },
      "execution_count": null,
      "outputs": [
        {
          "output_type": "execute_result",
          "data": {
            "text/plain": [
              "array([10, 20, 30, 40, 50])"
            ]
          },
          "metadata": {},
          "execution_count": 29
        }
      ]
    },
    {
      "cell_type": "code",
      "source": [
        "ultimo_elemento = arr[-1]\n",
        "ultimo_elemento"
      ],
      "metadata": {
        "colab": {
          "base_uri": "https://localhost:8080/"
        },
        "id": "qC3eKVgk4FMT",
        "outputId": "c3a5be98-3cdb-4806-f5e1-dd84db9e0c58"
      },
      "execution_count": null,
      "outputs": [
        {
          "output_type": "execute_result",
          "data": {
            "text/plain": [
              "50"
            ]
          },
          "metadata": {},
          "execution_count": 30
        }
      ]
    },
    {
      "cell_type": "markdown",
      "source": [
        " ### **<font color=\"DarkBlue\">Subarrays</font>**"
      ],
      "metadata": {
        "id": "v8LlVi-RFZeb"
      }
    },
    {
      "cell_type": "markdown",
      "source": [
        "<p align=\"justify\">\n",
        "También puedes acceder a subarrays usando la notación de corte (slicing)."
      ],
      "metadata": {
        "id": "pWtVoB-VF1gL"
      }
    },
    {
      "cell_type": "code",
      "source": [
        "arr"
      ],
      "metadata": {
        "id": "rWZ1cDAHaFJj",
        "outputId": "96853971-315e-4209-a102-a70e45e95aed",
        "colab": {
          "base_uri": "https://localhost:8080/"
        }
      },
      "execution_count": null,
      "outputs": [
        {
          "output_type": "execute_result",
          "data": {
            "text/plain": [
              "array([10, 20, 30, 40, 50])"
            ]
          },
          "metadata": {},
          "execution_count": 31
        }
      ]
    },
    {
      "cell_type": "code",
      "source": [
        "sub_array = arr[2:4]\n",
        "sub_array"
      ],
      "metadata": {
        "colab": {
          "base_uri": "https://localhost:8080/"
        },
        "id": "bq8s2QBG4P5h",
        "outputId": "e1be1117-b736-4cf2-d7ea-34dc88668385"
      },
      "execution_count": null,
      "outputs": [
        {
          "output_type": "execute_result",
          "data": {
            "text/plain": [
              "array([30, 40])"
            ]
          },
          "metadata": {},
          "execution_count": 33
        }
      ]
    },
    {
      "cell_type": "code",
      "source": [
        "sub_array = arr[2:5]\n",
        "sub_array"
      ],
      "metadata": {
        "id": "-qiL3A_GadlP",
        "outputId": "15e8199b-6640-469b-d632-734c4ebe7192",
        "colab": {
          "base_uri": "https://localhost:8080/"
        }
      },
      "execution_count": null,
      "outputs": [
        {
          "output_type": "execute_result",
          "data": {
            "text/plain": [
              "array([30, 40, 50])"
            ]
          },
          "metadata": {},
          "execution_count": 32
        }
      ]
    },
    {
      "cell_type": "markdown",
      "source": [
        " ## **<font color=\"DarkBlue\">Indexación de arrays bidimensionales</font>**"
      ],
      "metadata": {
        "id": "zW4YzFQs4a5J"
      }
    },
    {
      "cell_type": "code",
      "source": [
        "arr_2d = np.array([[0, 1, 2], [3, 4, 5], [6, 7, 8]])\n",
        "arr_2d"
      ],
      "metadata": {
        "colab": {
          "base_uri": "https://localhost:8080/"
        },
        "id": "RkmNl5Ba4uPu",
        "outputId": "4545465b-d3d9-4807-d234-b2d28b8110ce"
      },
      "execution_count": null,
      "outputs": [
        {
          "output_type": "execute_result",
          "data": {
            "text/plain": [
              "array([[0, 1, 2],\n",
              "       [3, 4, 5],\n",
              "       [6, 7, 8]])"
            ]
          },
          "metadata": {},
          "execution_count": 34
        }
      ]
    },
    {
      "cell_type": "markdown",
      "source": [
        " ### **<font color=\"DarkBlue\">Acceso por índice</font>**"
      ],
      "metadata": {
        "id": "TvyVdy4qGTy2"
      }
    },
    {
      "cell_type": "code",
      "source": [
        "elemento = arr_2d[1, 1] # elemento central de la matriz 3 x 3\n",
        "elemento"
      ],
      "metadata": {
        "colab": {
          "base_uri": "https://localhost:8080/"
        },
        "id": "wYWDIZ_E40fH",
        "outputId": "f3341bee-67d9-4c3a-d889-f25e19ab7690"
      },
      "execution_count": null,
      "outputs": [
        {
          "output_type": "execute_result",
          "data": {
            "text/plain": [
              "4"
            ]
          },
          "metadata": {},
          "execution_count": 35
        }
      ]
    },
    {
      "cell_type": "code",
      "source": [
        "fila = arr_2d[0] # primer fila de la matriz\n",
        "fila"
      ],
      "metadata": {
        "colab": {
          "base_uri": "https://localhost:8080/"
        },
        "id": "32zP0IRc49kv",
        "outputId": "50098709-e7ec-415b-a8e1-01498c42426c"
      },
      "execution_count": null,
      "outputs": [
        {
          "output_type": "execute_result",
          "data": {
            "text/plain": [
              "array([0, 1, 2])"
            ]
          },
          "metadata": {},
          "execution_count": 77
        }
      ]
    },
    {
      "cell_type": "code",
      "source": [
        "columna = arr_2d[:, 0] # primer columna de la matriz\n",
        "columna"
      ],
      "metadata": {
        "colab": {
          "base_uri": "https://localhost:8080/"
        },
        "id": "uQDnEzms5Ca3",
        "outputId": "4770ef44-ffe0-4435-cf6b-dc86a559339e"
      },
      "execution_count": null,
      "outputs": [
        {
          "output_type": "execute_result",
          "data": {
            "text/plain": [
              "array([0, 3, 6])"
            ]
          },
          "metadata": {},
          "execution_count": 80
        }
      ]
    },
    {
      "cell_type": "markdown",
      "source": [
        " ### **<font color=\"DarkBlue\">Subarrays</font>**"
      ],
      "metadata": {
        "id": "2H6t3-C8Gb0N"
      }
    },
    {
      "cell_type": "code",
      "source": [
        "arr_2d"
      ],
      "metadata": {
        "id": "9fMfigZgcce_",
        "outputId": "bb4de93c-16d5-48eb-b532-c0f432215955",
        "colab": {
          "base_uri": "https://localhost:8080/"
        }
      },
      "execution_count": null,
      "outputs": [
        {
          "output_type": "execute_result",
          "data": {
            "text/plain": [
              "array([[0, 1, 2],\n",
              "       [3, 4, 5],\n",
              "       [6, 7, 8]])"
            ]
          },
          "metadata": {},
          "execution_count": 82
        }
      ]
    },
    {
      "cell_type": "code",
      "source": [
        "arr_2d[:2] # las dos primeras filas"
      ],
      "metadata": {
        "id": "qp4Jyd1Xc6Gp",
        "outputId": "514ae635-f711-48af-c3cc-a327b2806d0e",
        "colab": {
          "base_uri": "https://localhost:8080/"
        }
      },
      "execution_count": null,
      "outputs": [
        {
          "output_type": "execute_result",
          "data": {
            "text/plain": [
              "array([[0, 1, 2],\n",
              "       [3, 4, 5]])"
            ]
          },
          "metadata": {},
          "execution_count": 84
        }
      ]
    },
    {
      "cell_type": "code",
      "source": [
        "arr_2d[:, 1:] # las últimas dos columnas"
      ],
      "metadata": {
        "id": "fwexJYN4dDTB",
        "outputId": "259a5418-d298-4bce-9780-24b2eb96910d",
        "colab": {
          "base_uri": "https://localhost:8080/"
        }
      },
      "execution_count": null,
      "outputs": [
        {
          "output_type": "execute_result",
          "data": {
            "text/plain": [
              "array([[1, 2],\n",
              "       [4, 5],\n",
              "       [7, 8]])"
            ]
          },
          "metadata": {},
          "execution_count": 85
        }
      ]
    },
    {
      "cell_type": "code",
      "source": [
        "seccion = arr_2d[:2, 1:] # las dos primeras filas y las últimas dos columnas\n",
        "seccion"
      ],
      "metadata": {
        "colab": {
          "base_uri": "https://localhost:8080/"
        },
        "id": "QjnOQxBX5PLB",
        "outputId": "dfe01614-7d17-4a1e-b066-afcdaf063ee4"
      },
      "execution_count": null,
      "outputs": [
        {
          "output_type": "execute_result",
          "data": {
            "text/plain": [
              "array([[1, 2],\n",
              "       [4, 5]])"
            ]
          },
          "metadata": {},
          "execution_count": 83
        }
      ]
    },
    {
      "cell_type": "markdown",
      "source": [
        " ## **<font color=\"DarkBlue\">Indexación con expresiones booleanas</font>**"
      ],
      "metadata": {
        "id": "aKJjDgFs3r5G"
      }
    },
    {
      "cell_type": "code",
      "source": [
        "rand_arr = np.random.random(5)\n",
        "rand_arr"
      ],
      "metadata": {
        "colab": {
          "base_uri": "https://localhost:8080/"
        },
        "id": "2F83y3aW3uch",
        "outputId": "7bb98619-8e31-49e4-f507-c1fc5eb7d04a"
      },
      "execution_count": null,
      "outputs": [
        {
          "output_type": "execute_result",
          "data": {
            "text/plain": [
              "array([0.18340451, 0.30424224, 0.52475643, 0.43194502, 0.29122914])"
            ]
          },
          "metadata": {},
          "execution_count": 42
        }
      ]
    },
    {
      "cell_type": "code",
      "source": [
        "mascara = rand_arr > 0.5\n",
        "mascara"
      ],
      "metadata": {
        "colab": {
          "base_uri": "https://localhost:8080/"
        },
        "id": "QN_Vb8sh_B_h",
        "outputId": "275572f0-b510-4b0a-958c-454a6a2765ef"
      },
      "execution_count": null,
      "outputs": [
        {
          "output_type": "execute_result",
          "data": {
            "text/plain": [
              "array([False, False,  True, False, False])"
            ]
          },
          "metadata": {},
          "execution_count": 43
        }
      ]
    },
    {
      "cell_type": "code",
      "source": [
        "valores_seleccionados = rand_arr[mascara]\n",
        "valores_seleccionados"
      ],
      "metadata": {
        "colab": {
          "base_uri": "https://localhost:8080/"
        },
        "id": "d5CsxBfu_HQN",
        "outputId": "cbde9a75-587c-47a8-9ace-8a8d10f6f964"
      },
      "execution_count": null,
      "outputs": [
        {
          "output_type": "execute_result",
          "data": {
            "text/plain": [
              "array([0.52475643])"
            ]
          },
          "metadata": {},
          "execution_count": 45
        }
      ]
    },
    {
      "cell_type": "markdown",
      "source": [
        " # **<font color=\"DarkBlue\">Computación Vectorizada</font>**"
      ],
      "metadata": {
        "id": "9mIxtOfNiqPv"
      }
    },
    {
      "cell_type": "markdown",
      "source": [
        "<p align=\"justify\">\n",
        "👀 La computación vectorizada en NumPy se refiere a la capacidad de realizar operaciones en arrays completos sin la necesidad de usar bucles explícitos. Esto se logra aprovechando operaciones a nivel de bajo nivel que son altamente optimizadas, haciendo las operaciones más rápidas y eficientes."
      ],
      "metadata": {
        "id": "KmYRkA8s_eAH"
      }
    },
    {
      "cell_type": "markdown",
      "source": [
        " ## **<font color=\"DarkBlue\">Operaciones Básicas de Algebra Lineal</font>**"
      ],
      "metadata": {
        "id": "b570tHVA_v1f"
      }
    },
    {
      "cell_type": "markdown",
      "source": [
        "<p align=\"justify\">\n",
        "✅ NumPy proporciona un conjunto completo de funciones para realizar operaciones básicas de álgebra lineal en arrays NumPy. Estas operaciones son fundamentales en el análisis de datos y el aprendizaje automático.\n",
        "<br><br>\n",
        "A continuación, se presentan algunos ejemplos de operaciones básicas de álgebra lineal:\n",
        "\n"
      ],
      "metadata": {
        "id": "Y9FNHvQHx3FK"
      }
    },
    {
      "cell_type": "markdown",
      "source": [
        " ### **<font color=\"DarkBlue\">Transposición de matrices</font>**"
      ],
      "metadata": {
        "id": "_QXUZ3rfAAwX"
      }
    },
    {
      "cell_type": "markdown",
      "source": [
        "<p align=\"justify\">\n",
        "La transposición de una matriz implica cambiar sus filas por columnas y viceversa. En otras palabras, el elemento en la posición $(i, j)$ de la matriz original se moverá a la posición $(j, i)$ en la matriz transpuesta.\n",
        "<br><br>\n",
        "En NumPy, la transposición de matrices se realiza fácilmente usando el método <code>.T</code> o el método <code>transpose()</code>"
      ],
      "metadata": {
        "id": "-_J7lBvlGjuc"
      }
    },
    {
      "cell_type": "code",
      "source": [
        "matriz = np.array([[1, 2], [3, 4]])\n",
        "matriz"
      ],
      "metadata": {
        "colab": {
          "base_uri": "https://localhost:8080/"
        },
        "id": "rQJEg6EQx3ke",
        "outputId": "f6b4fe11-b194-466b-dc80-394f7562de15"
      },
      "execution_count": null,
      "outputs": [
        {
          "output_type": "execute_result",
          "data": {
            "text/plain": [
              "array([[1, 2],\n",
              "       [3, 4]])"
            ]
          },
          "metadata": {},
          "execution_count": 46
        }
      ]
    },
    {
      "cell_type": "code",
      "source": [
        "transpuesta = np.transpose(matriz)\n",
        "transpuesta"
      ],
      "metadata": {
        "colab": {
          "base_uri": "https://localhost:8080/"
        },
        "id": "oDtZ8bvJAPYM",
        "outputId": "771a4c2c-1410-416f-9758-8f2bcd376353"
      },
      "execution_count": null,
      "outputs": [
        {
          "output_type": "execute_result",
          "data": {
            "text/plain": [
              "array([[1, 3],\n",
              "       [2, 4]])"
            ]
          },
          "metadata": {},
          "execution_count": 47
        }
      ]
    },
    {
      "cell_type": "code",
      "source": [
        "transpuesta = transpuesta.T\n",
        "transpuesta"
      ],
      "metadata": {
        "colab": {
          "base_uri": "https://localhost:8080/"
        },
        "id": "avSJmGSoHQnV",
        "outputId": "9e111360-efb7-462e-b8e4-1c26a05ca56b"
      },
      "execution_count": null,
      "outputs": [
        {
          "output_type": "execute_result",
          "data": {
            "text/plain": [
              "array([[1, 2],\n",
              "       [3, 4]])"
            ]
          },
          "metadata": {},
          "execution_count": 48
        }
      ]
    },
    {
      "cell_type": "markdown",
      "source": [
        "<p align=\"justify\">\n",
        "👀 Ejemplo:\n",
        "<br><br>\n",
        "Supongamos que estamos analizando las ventas mensuales de diferentes productos en una tienda. Inicialmente, tenemos una matriz donde cada fila representa un producto y cada columna representa un mes."
      ],
      "metadata": {
        "id": "7e5vt8cPHZal"
      }
    },
    {
      "cell_type": "code",
      "source": [
        "# Matriz original: filas son productos y columnas son meses\n",
        "ventas = np.array([\n",
        "    [250, 300, 400],   # Producto 1\n",
        "    [150, 200, 300],   # Producto 2\n",
        "    [350, 400, 500]])  # Producto 3\n",
        "\n",
        "print(\"Matriz original:\")\n",
        "print(ventas)"
      ],
      "metadata": {
        "colab": {
          "base_uri": "https://localhost:8080/"
        },
        "id": "WK4uYY1NHnUI",
        "outputId": "8c083532-57f9-4e3c-b103-200fb0081365"
      },
      "execution_count": null,
      "outputs": [
        {
          "output_type": "stream",
          "name": "stdout",
          "text": [
            "Matriz original:\n",
            "[[250 300 400]\n",
            " [150 200 300]\n",
            " [350 400 500]]\n"
          ]
        }
      ]
    },
    {
      "cell_type": "code",
      "source": [
        "ventas.shape"
      ],
      "metadata": {
        "colab": {
          "base_uri": "https://localhost:8080/"
        },
        "id": "fZsTij005qQv",
        "outputId": "f4a76487-dcb4-4b5e-e8c7-ab9400c483fe"
      },
      "execution_count": null,
      "outputs": [
        {
          "output_type": "execute_result",
          "data": {
            "text/plain": [
              "(3, 3)"
            ]
          },
          "metadata": {},
          "execution_count": 50
        }
      ]
    },
    {
      "cell_type": "markdown",
      "source": [
        "<p align=\"justify\">\n",
        "La matriz ventas tiene las ventas de tres productos durante tres meses. Ahora, si queremos analizar los datos por meses en lugar de por productos, podemos transponer la matriz..."
      ],
      "metadata": {
        "id": "THtQr7HJH8m1"
      }
    },
    {
      "cell_type": "code",
      "source": [
        "# Transposición de la matriz\n",
        "ventas_transpuesta = ventas.T\n",
        "ventas_transpuesta\n"
      ],
      "metadata": {
        "colab": {
          "base_uri": "https://localhost:8080/"
        },
        "id": "SD4u2Qe8IKhI",
        "outputId": "3810049c-f713-410f-c7bf-add71814ad1e"
      },
      "execution_count": null,
      "outputs": [
        {
          "output_type": "execute_result",
          "data": {
            "text/plain": [
              "array([[250, 150, 350],\n",
              "       [300, 200, 400],\n",
              "       [400, 300, 500]])"
            ]
          },
          "metadata": {},
          "execution_count": 56
        }
      ]
    },
    {
      "cell_type": "code",
      "source": [
        "print(\"\\nMatriz transpuesta:\")\n",
        "print(ventas_transpuesta)"
      ],
      "metadata": {
        "colab": {
          "base_uri": "https://localhost:8080/"
        },
        "id": "x94BfDes5_cX",
        "outputId": "7eb09d37-fbae-40aa-fffc-db4fdc41629c"
      },
      "execution_count": null,
      "outputs": [
        {
          "output_type": "stream",
          "name": "stdout",
          "text": [
            "\n",
            "Matriz transpuesta:\n",
            "[[250 150 350]\n",
            " [300 200 400]\n",
            " [400 300 500]]\n"
          ]
        }
      ]
    },
    {
      "cell_type": "markdown",
      "source": [
        "<p align=\"justify\">\n",
        "Después de la transposición, cada fila representará un mes y cada columna representará un producto. De esta forma se facilita el análisis de las ventas mensuales.\n",
        "\n"
      ],
      "metadata": {
        "id": "_qhtpZC6IWIK"
      }
    },
    {
      "cell_type": "markdown",
      "source": [
        "<p align=\"justify\">\n",
        "La transposición de matrices en NumPy es una operación útil para reorganizar datos y facilitar el análisis desde diferentes perspectivas. En un contexto de negocios, esto puede ser esencial para generar informes y detectar patrones en los datos"
      ],
      "metadata": {
        "id": "VGL3LJpDI8Gp"
      }
    },
    {
      "cell_type": "markdown",
      "source": [
        " ### **<font color=\"DarkBlue\">Multiplicación de matrices</font>**"
      ],
      "metadata": {
        "id": "xpWKBRjUAjIG"
      }
    },
    {
      "cell_type": "markdown",
      "source": [
        "<p align=\"justify\">\n",
        "La multiplicación de matrices, también conocida como producto matricial, es una operación donde se multiplica cada fila de la primera matriz por cada columna de la segunda matriz y se suman los productos.\n",
        "<br><br>\n",
        "En NumPy, esta operación se puede realizar usando el operador <code>@</code> o la función <code>np.dot()</code>."
      ],
      "metadata": {
        "id": "qW4rGeRSJA-T"
      }
    },
    {
      "cell_type": "code",
      "source": [
        "matriz1 = np.array([[1, 2], [3, 4]])\n",
        "matriz1"
      ],
      "metadata": {
        "colab": {
          "base_uri": "https://localhost:8080/"
        },
        "id": "nnBkP5brApyx",
        "outputId": "2253120c-4d4c-45d6-ee84-16f5d9add0a0"
      },
      "execution_count": null,
      "outputs": [
        {
          "output_type": "execute_result",
          "data": {
            "text/plain": [
              "array([[1, 2],\n",
              "       [3, 4]])"
            ]
          },
          "metadata": {},
          "execution_count": 58
        }
      ]
    },
    {
      "cell_type": "code",
      "source": [
        "matriz2 = np.array([[5, 6], [7, 8]])\n",
        "matriz2"
      ],
      "metadata": {
        "colab": {
          "base_uri": "https://localhost:8080/"
        },
        "id": "xcYru9vNAwrn",
        "outputId": "67d6cd55-8bff-435f-dae9-30bf6b0f6529"
      },
      "execution_count": null,
      "outputs": [
        {
          "output_type": "execute_result",
          "data": {
            "text/plain": [
              "array([[5, 6],\n",
              "       [7, 8]])"
            ]
          },
          "metadata": {},
          "execution_count": 59
        }
      ]
    },
    {
      "cell_type": "code",
      "source": [
        "producto = np.dot(matriz1, matriz2)\n",
        "producto"
      ],
      "metadata": {
        "colab": {
          "base_uri": "https://localhost:8080/"
        },
        "id": "dZUyztW5A3VX",
        "outputId": "ffb379f0-527a-4acd-d598-eaf2084ef7d0"
      },
      "execution_count": null,
      "outputs": [
        {
          "output_type": "execute_result",
          "data": {
            "text/plain": [
              "array([[19, 22],\n",
              "       [43, 50]])"
            ]
          },
          "metadata": {},
          "execution_count": 60
        }
      ]
    },
    {
      "cell_type": "markdown",
      "source": [
        "<p align=\"justify\">\n",
        "👀 Ejemplo:\n",
        "<br><br>\n",
        "Supongamos que estamos analizando el impacto de varias campañas de marketing en las ventas de diferentes productos. Tenemos dos matrices:\n",
        "<br><br>\n",
        "<b>Matriz de gastos de marketing</b>: Donde cada fila representa un producto y cada columna representa una campaña.\n",
        "<br><br>\n",
        "<b>Matriz de efectividad de campañas</b>: Donde cada fila representa una campaña y cada columna representa un impacto esperado en las ventas.\n",
        "<br><br><br>\n",
        "El objetivo es calcular la matriz de ventas esperadas, multiplicando la matriz de gastos de marketing por la matriz de efectividad de campañas."
      ],
      "metadata": {
        "id": "D64eAtGoJfx4"
      }
    },
    {
      "cell_type": "code",
      "source": [
        "# Matriz de gastos de marketing: filas son productos, columnas son campañas\n",
        "\n",
        "gastos_marketing = np.array([\n",
        "    [100, 200, 150],  # Producto 1\n",
        "    [80,  160, 120],  # Producto 2\n",
        "    [50,  100, 75]    # Producto 3\n",
        "])"
      ],
      "metadata": {
        "id": "GZm4Zw2uOEHu"
      },
      "execution_count": null,
      "outputs": []
    },
    {
      "cell_type": "code",
      "source": [
        "# Matriz de efectividad de campañas: filas son campañas, columnas son impacto en ventas\n",
        "\n",
        "efectividad_campaña = np.array([\n",
        "    [1.2, 0.8],  # Campaña 1\n",
        "    [1.5, 1.0],  # Campaña 2\n",
        "    [1.3, 0.9]   # Campaña 3\n",
        "])"
      ],
      "metadata": {
        "id": "-9nldfv7OJ1x"
      },
      "execution_count": null,
      "outputs": []
    },
    {
      "cell_type": "code",
      "source": [
        "print(\"Matriz de gastos de marketing:\")\n",
        "print(gastos_marketing)"
      ],
      "metadata": {
        "colab": {
          "base_uri": "https://localhost:8080/"
        },
        "id": "8lK-liFXONiQ",
        "outputId": "45df7aab-3885-4a81-d6e9-a77ceb4ead31"
      },
      "execution_count": null,
      "outputs": [
        {
          "output_type": "stream",
          "name": "stdout",
          "text": [
            "Matriz de gastos de marketing:\n",
            "[[100 200 150]\n",
            " [ 80 160 120]\n",
            " [ 50 100  75]]\n"
          ]
        }
      ]
    },
    {
      "cell_type": "code",
      "source": [
        "print(\"\\nMatriz de efectividad de campañas:\")\n",
        "print(efectividad_campaña)"
      ],
      "metadata": {
        "colab": {
          "base_uri": "https://localhost:8080/"
        },
        "id": "UPvMEIVHOP0C",
        "outputId": "385e6ade-860b-4ac0-8a82-f5dfbd4d1045"
      },
      "execution_count": null,
      "outputs": [
        {
          "output_type": "stream",
          "name": "stdout",
          "text": [
            "\n",
            "Matriz de efectividad de campañas:\n",
            "[[1.2 0.8]\n",
            " [1.5 1. ]\n",
            " [1.3 0.9]]\n"
          ]
        }
      ]
    },
    {
      "cell_type": "markdown",
      "source": [
        "Luego, multiplicamos las dos matrices para obtener la matriz de ventas esperadas:\n",
        "\n"
      ],
      "metadata": {
        "id": "WN59uyRKPEBu"
      }
    },
    {
      "cell_type": "code",
      "source": [
        "# Multiplicación de matrices\n",
        "ventas_esperadas = gastos_marketing @ efectividad_campaña\n",
        "\n",
        "print(\"\\nMatriz de ventas esperadas:\")\n",
        "print(ventas_esperadas)"
      ],
      "metadata": {
        "colab": {
          "base_uri": "https://localhost:8080/"
        },
        "id": "KyVC27wPPGSR",
        "outputId": "495a0a21-310c-4afe-8353-5811f6bc0a71"
      },
      "execution_count": null,
      "outputs": [
        {
          "output_type": "stream",
          "name": "stdout",
          "text": [
            "\n",
            "Matriz de ventas esperadas:\n",
            "[[615.  415. ]\n",
            " [492.  332. ]\n",
            " [307.5 207.5]]\n"
          ]
        }
      ]
    },
    {
      "cell_type": "markdown",
      "source": [
        "<p align=\"justify\">\n",
        "La matriz de ventas esperadas muestra el impacto total de las campañas de marketing en las ventas de cada producto. Por ejemplo, el valor 615 en la primera fila y primera columna indica que el Producto 1 espera tener un incremento total de ventas de 615 unidades (o el valor monetario correspondiente) debido a las campañas de marketing."
      ],
      "metadata": {
        "id": "a9afsB8jPRsz"
      }
    },
    {
      "cell_type": "markdown",
      "source": [
        "<p align=\"justify\">\n",
        "🏷 En el contexto de negocios, el producto matricial es útil para:\n",
        "<br><br>\n",
        "\n",
        "1. **Análisis de ROI**: Calcular el retorno de inversión (ROI) esperado de diferentes campañas de marketing.\n",
        "2. **Planificación de Estrategias**: Ayudar en la planificación y asignación de recursos a las campañas de marketing más efectivas."
      ],
      "metadata": {
        "id": "5fM_6DGrQmYT"
      }
    },
    {
      "cell_type": "markdown",
      "source": [
        " ### **<font color=\"DarkBlue\">Cálculo de determinantes</font>**"
      ],
      "metadata": {
        "id": "TSTipLjdBOtC"
      }
    },
    {
      "cell_type": "markdown",
      "source": [
        "<p align=\"justify\">\n",
        "El determinante es una propiedad de las matrices cuadradas que proporciona información importante sobre la matriz, como si es invertible o no. Una matriz cuadrada es una matriz en la que el número de filas es igual al número de columnas. Formalmente, una matriz cuadrada de orden \\( n \\) es una matriz \\( A \\) de tamaño \\( n \\times n \\) que se puede expresar como:\n",
        "<br><br><br>\n",
        "$$ A = \\begin{bmatrix}\n",
        "a_{11} & a_{12} & \\cdots & a_{1n} \\\\\n",
        "a_{21} & a_{22} & \\cdots & a_{2n} \\\\\n",
        "\\vdots & \\vdots & \\ddots & \\vdots \\\\\n",
        "a_{n1} & a_{n2} & \\cdots & a_{nn}\n",
        "\\end{bmatrix} $$\n",
        "<br><br>\n",
        "donde \\( a_{ij} \\) representa el elemento en la fila \\( i \\) y la columna \\( j \\).\n",
        "<br><br>\n",
        "Una matriz invertible, también conocida como matriz no singular o matriz de rango completo, es una matriz cuadrada que tiene una matriz inversa. Formalmente, una matriz cuadrada \\( A \\) de tamaño \\( n \\times n \\) es invertible si existe otra matriz \\( A^{-1} \\) tal que:\n",
        "<br><br>\n",
        "\\[ A \\cdot A^{-1} = A^{-1} \\cdot A = I \\]\n",
        "<br><br>\n",
        "donde \\( I \\) es la matriz identidad de tamaño \\( n \\times n \\). La matriz \\( A^{-1} \\) se denomina la inversa de \\( A \\) y satisface la ecuación:\n",
        "<br><br>\n",
        "\\[ A \\cdot A^{-1} = I \\]\n",
        "<br><br>\n",
        "En NumPy, el determinante de una matriz se calcula utilizando la función <code>np.linalg.det()</code>."
      ],
      "metadata": {
        "id": "b3j9y6wkTOd_"
      }
    },
    {
      "cell_type": "code",
      "source": [
        "matriz"
      ],
      "metadata": {
        "colab": {
          "base_uri": "https://localhost:8080/"
        },
        "id": "x1VEorUqBcCT",
        "outputId": "8d47e74e-723c-4f6e-a56a-a624de75de5b"
      },
      "execution_count": null,
      "outputs": [
        {
          "output_type": "execute_result",
          "data": {
            "text/plain": [
              "array([[1, 2],\n",
              "       [3, 4]])"
            ]
          },
          "metadata": {},
          "execution_count": 67
        }
      ]
    },
    {
      "cell_type": "code",
      "source": [
        "determinante = np.linalg.det(matriz)\n",
        "determinante"
      ],
      "metadata": {
        "colab": {
          "base_uri": "https://localhost:8080/"
        },
        "id": "_hYboVp6BW8w",
        "outputId": "c2319775-764d-419d-dd1c-e29f0e218a61"
      },
      "execution_count": null,
      "outputs": [
        {
          "output_type": "execute_result",
          "data": {
            "text/plain": [
              "-2.0000000000000004"
            ]
          },
          "metadata": {},
          "execution_count": 68
        }
      ]
    },
    {
      "cell_type": "code",
      "source": [
        "determinante.round(2)"
      ],
      "metadata": {
        "colab": {
          "base_uri": "https://localhost:8080/"
        },
        "id": "yYx_R551T7-h",
        "outputId": "ee3afeaa-79f9-486d-f3e0-07852694b928"
      },
      "execution_count": null,
      "outputs": [
        {
          "output_type": "execute_result",
          "data": {
            "text/plain": [
              "-2.0"
            ]
          },
          "metadata": {},
          "execution_count": 69
        }
      ]
    },
    {
      "cell_type": "markdown",
      "source": [
        "<p align=\"justify\">\n",
        "👀 Ejemplo:\n",
        "<br><br>\n",
        "Supongamos que estamos analizando la matriz de coeficientes de un sistema de ecuaciones lineales que representa la relación entre diferentes factores económicos (como inversión, producción y ventas) y queremos determinar si este sistema tiene una solución única. El determinante de la matriz de coeficientes puede ayudarnos a entender esto:\n",
        "\n",
        "- si el determinante es diferente de cero, el sistema tiene una solución única;\n",
        "- si es cero, el sistema puede tener infinitas soluciones o ninguna."
      ],
      "metadata": {
        "id": "XFySTLHoTmTo"
      }
    },
    {
      "cell_type": "code",
      "source": [
        "# Matriz de coeficientes: filas y columnas representan factores económicos\n",
        "coeficientes = np.array([\n",
        "    [2, 3, 1],\n",
        "    [4, 1, -3],\n",
        "    [-1, 2, 5]\n",
        "])\n",
        "\n",
        "print(\"Matriz de coeficientes:\")\n",
        "print(coeficientes)"
      ],
      "metadata": {
        "colab": {
          "base_uri": "https://localhost:8080/"
        },
        "id": "guC6RR3yUKUc",
        "outputId": "26a4e74c-cc75-4c8e-f648-157fb5c40742"
      },
      "execution_count": null,
      "outputs": [
        {
          "output_type": "stream",
          "name": "stdout",
          "text": [
            "Matriz de coeficientes:\n",
            "[[ 2  3  1]\n",
            " [ 4  1 -3]\n",
            " [-1  2  5]]\n"
          ]
        }
      ]
    },
    {
      "cell_type": "markdown",
      "source": [
        "Ahora, calculamos el determinante de la matriz:"
      ],
      "metadata": {
        "id": "1dfpyqTEUSkq"
      }
    },
    {
      "cell_type": "code",
      "source": [
        "# Cálculo del determinante\n",
        "determinante = np.linalg.det(coeficientes)\n",
        "\n",
        "print(\"Determinante de la matriz de coeficientes:\")\n",
        "print(determinante.round(2))"
      ],
      "metadata": {
        "colab": {
          "base_uri": "https://localhost:8080/"
        },
        "id": "AlrOviSsUZgk",
        "outputId": "8967085b-4a1c-44f6-9d8a-00e760b1fdc0"
      },
      "execution_count": null,
      "outputs": [
        {
          "output_type": "stream",
          "name": "stdout",
          "text": [
            "Determinante de la matriz de coeficientes:\n",
            "-20.0\n"
          ]
        }
      ]
    },
    {
      "cell_type": "markdown",
      "source": [
        "<p align=\"justify\">\n",
        "El determinante de la matriz de coeficientes es aproximadamente -20. Un determinante diferente de cero indica que el sistema de ecuaciones tiene una solución única, lo que implica que las relaciones entre los factores económicos están bien definidas y el sistema es estable."
      ],
      "metadata": {
        "id": "hAPfIjnbUlNj"
      }
    },
    {
      "cell_type": "markdown",
      "source": [
        " ### **<font color=\"DarkBlue\">Cálculo de inversas</font>**"
      ],
      "metadata": {
        "id": "08GLlRzIBfI2"
      }
    },
    {
      "cell_type": "markdown",
      "source": [
        "<p align=\"justify\">\n",
        "La inversa de una matriz es otra matriz que, cuando se multiplica por la matriz original, da como resultado la matriz identidad.\n",
        "<br><br>\n",
        "Una matriz identidad es una matriz cuadrada en la que todos los elementos de la diagonal principal son 1 y todos los elementos fuera de la diagonal principal son 0. Formalmente, una matriz identidad de tamaño \\( n \\times n \\) se denota por \\( I_n \\) y se define como:\n",
        "<br><br>\n",
        "$$ I_n = \\begin{bmatrix}\n",
        "1 & 0 & 0 & \\cdots & 0 \\\\\n",
        "0 & 1 & 0 & \\cdots & 0 \\\\\n",
        "0 & 0 & 1 & \\cdots & 0 \\\\\n",
        "\\vdots & \\vdots & \\vdots & \\ddots & \\vdots \\\\\n",
        "0 & 0 & 0 & \\cdots & 1\n",
        "\\end{bmatrix}$$\n",
        "<br><br>\n",
        "donde los elementos en la diagonal principal \\( i_{ii} \\) son 1 y los elementos fuera de la diagonal principal son 0.\n",
        "<br><br>\n",
        "En NumPy, la inversa de una matriz se calcula utilizando la función <code>np.linalg.inv()</code>.\n",
        "\n"
      ],
      "metadata": {
        "id": "IIoST6MMWRGG"
      }
    },
    {
      "cell_type": "code",
      "source": [
        "matriz"
      ],
      "metadata": {
        "colab": {
          "base_uri": "https://localhost:8080/"
        },
        "id": "al5ssp3uBodi",
        "outputId": "c27602b7-0693-4fa9-b4ea-0f378ea3eace"
      },
      "execution_count": null,
      "outputs": [
        {
          "output_type": "execute_result",
          "data": {
            "text/plain": [
              "array([[1, 2],\n",
              "       [3, 4]])"
            ]
          },
          "metadata": {},
          "execution_count": 53
        }
      ]
    },
    {
      "cell_type": "code",
      "source": [
        "inversa = np.linalg.inv(matriz)\n",
        "inversa"
      ],
      "metadata": {
        "colab": {
          "base_uri": "https://localhost:8080/"
        },
        "id": "ubNivxYXBuVv",
        "outputId": "b38c7de9-caa4-4cfd-d780-f0f36b94e51e"
      },
      "execution_count": null,
      "outputs": [
        {
          "output_type": "execute_result",
          "data": {
            "text/plain": [
              "array([[-2. ,  1. ],\n",
              "       [ 1.5, -0.5]])"
            ]
          },
          "metadata": {},
          "execution_count": 54
        }
      ]
    },
    {
      "cell_type": "markdown",
      "source": [
        "<p align=\"justify\">\n",
        "👀 Ejemplo:\n",
        "<br><br>\n",
        "Supongamos que estamos analizando un sistema de ecuaciones lineales que representa la relación entre diferentes productos y su demanda en varios mercados.\n",
        "<br><br>\n",
        "Queremos resolver este sistema para encontrar los valores de las variables que representan la cantidad de productos que deben producirse para satisfacer la demanda en cada mercado.\n",
        "\n"
      ],
      "metadata": {
        "id": "05qzvgnnW_ZP"
      }
    },
    {
      "cell_type": "code",
      "source": [
        "# Matriz de coeficientes: filas y columnas representan productos y mercados\n",
        "coeficientes = np.array([\n",
        "    [4, 2, 1],\n",
        "    [3, 5, 2],\n",
        "    [1, 2, 3]\n",
        "])\n",
        "\n",
        "print(\"Matriz de coeficientes:\")\n",
        "print(coeficientes)"
      ],
      "metadata": {
        "colab": {
          "base_uri": "https://localhost:8080/"
        },
        "id": "CcI4hjlPXzEm",
        "outputId": "685282a1-d747-4cb2-bffe-c0b307b83b88"
      },
      "execution_count": null,
      "outputs": [
        {
          "output_type": "stream",
          "name": "stdout",
          "text": [
            "Matriz de coeficientes:\n",
            "[[4 2 1]\n",
            " [3 5 2]\n",
            " [1 2 3]]\n"
          ]
        }
      ]
    },
    {
      "cell_type": "markdown",
      "source": [
        "Luego, calculamos la inversa de la matriz:"
      ],
      "metadata": {
        "id": "u-xPsPfWX74L"
      }
    },
    {
      "cell_type": "code",
      "source": [
        "# Cálculo de la inversa\n",
        "inversa = np.linalg.inv(coeficientes)\n",
        "\n",
        "print(\"Inversa de la matriz de coeficientes:\")\n",
        "print(inversa)"
      ],
      "metadata": {
        "colab": {
          "base_uri": "https://localhost:8080/"
        },
        "id": "LtKI-KnGYAbX",
        "outputId": "ead43eca-ded4-463f-d06d-c580aec5ec94"
      },
      "execution_count": null,
      "outputs": [
        {
          "output_type": "stream",
          "name": "stdout",
          "text": [
            "Inversa de la matriz de coeficientes:\n",
            "[[ 0.35483871 -0.12903226 -0.03225806]\n",
            " [-0.22580645  0.35483871 -0.16129032]\n",
            " [ 0.03225806 -0.19354839  0.4516129 ]]\n"
          ]
        }
      ]
    },
    {
      "cell_type": "markdown",
      "source": [
        "<p align=\"justify\">\n",
        "Para poner esto en un contexto de negocios, supongamos que tenemos un vector de demanda para cada mercado y queremos encontrar la cantidad de cada producto que debemos producir para satisfacer esta demanda"
      ],
      "metadata": {
        "id": "imjfCDpfYg9E"
      }
    },
    {
      "cell_type": "code",
      "source": [
        "# Vector de demanda en cada mercado\n",
        "demanda = np.array([30, 50, 40])\n",
        "\n",
        "print(\"Vector de demanda:\")\n",
        "print(demanda)"
      ],
      "metadata": {
        "colab": {
          "base_uri": "https://localhost:8080/"
        },
        "id": "wcN2W6GdYzSq",
        "outputId": "4e40eea3-0cd6-4c30-e994-34c39e43a860"
      },
      "execution_count": null,
      "outputs": [
        {
          "output_type": "stream",
          "name": "stdout",
          "text": [
            "Vector de demanda:\n",
            "[30 50 40]\n"
          ]
        }
      ]
    },
    {
      "cell_type": "code",
      "source": [
        "# Cantidad de productos a producir para satisfacer la demanda\n",
        "produccion = inversa @ demanda #multiplicación de matrices\n",
        "\n",
        "# Redondear los valores a los enteros más cercanos\n",
        "produccion_enteros = np.round(produccion).astype(int)\n",
        "\n",
        "print(\"Cantidad de productos a producir (redondeada a enteros):\")\n",
        "print(produccion_enteros)"
      ],
      "metadata": {
        "colab": {
          "base_uri": "https://localhost:8080/"
        },
        "id": "zly5dPqRY6Qm",
        "outputId": "e9077c7e-777a-4d74-c81f-5eb13d4781b9"
      },
      "execution_count": null,
      "outputs": [
        {
          "output_type": "stream",
          "name": "stdout",
          "text": [
            "Cantidad de productos a producir (redondeada a enteros):\n",
            "[3 5 9]\n"
          ]
        }
      ]
    },
    {
      "cell_type": "markdown",
      "source": [
        "<p align=\"justify\">\n",
        "Con la matriz de coeficientes y el vector de demanda proporcionado, redondeando los resultados obtenidos:\n",
        "<br><br>\n",
        "\n",
        "- Se deben producir 3 unidades del primer producto.\n",
        "- Se deben producir 5 unidades del segundo producto.\n",
        "- Se deben producir 9 unidades del tercer producto."
      ],
      "metadata": {
        "id": "Q8mfkIfoZ09E"
      }
    },
    {
      "cell_type": "markdown",
      "source": [
        " ### **<font color=\"DarkBlue\">Resolución de sistemas de ecuaciones lineales</font>**"
      ],
      "metadata": {
        "id": "oXuXhbzUB3M7"
      }
    },
    {
      "cell_type": "markdown",
      "source": [
        "<p align=\"Justify\">\n",
        "Para resolver un sistema de ecuaciones lineales en NumPy, podemos usar la matriz de coeficientes y el vector de constantes para encontrar la solución. El sistema de ecuaciones se puede representar en la forma matricial $Ax = b$, donde:\n",
        "<br><br>\n",
        "\n",
        "- $A$ es la matriz de coeficientes.\n",
        "- $x$ es el vector de variables que queremos encontrar.\n",
        "- $b$ es el vector de constantes.\n",
        "\n",
        "<br>\n",
        "<p align=\"justify\">\n",
        "La solución se puede encontrar resolviendo $x = A^{-1} b$, pero una manera más eficiente y directa en NumPy es usar la función <code>np.linalg.solve()</code>.\n",
        "<br><br>\n",
        "En un sistema de ecuaciones lineales, la <b>matriz de coeficientes</b> es una matriz cuadrada o rectangular que contiene los coeficientes de las variables en las ecuaciones.  Formalmente, para un sistema de \\( m \\) ecuaciones con \\( n \\) variables, la matriz de coeficientes \\( A \\) es una matriz de tamaño \\( m \\times n \\) dada por:\n",
        "<br><br>\n",
        "$$ A = \\begin{bmatrix}\n",
        "a_{11} & a_{12} & \\cdots & a_{1n} \\\\\n",
        "a_{21} & a_{22} & \\cdots & a_{2n} \\\\\n",
        "\\vdots & \\vdots & \\ddots & \\vdots \\\\\n",
        "a_{m1} & a_{m2} & \\cdots & a_{mn}\n",
        "\\end{bmatrix} $$\n",
        "<br><br>\n",
        "donde \\( a_{ij} \\) representa el coeficiente de la \\( i \\)-ésima ecuación para la \\( j \\)-ésima variable.\n",
        "<br><br>\n",
        "El <b>vector de constantes</b> es un vector columna que contiene los términos constantes del sistema de ecuaciones. Formalmente, para un sistema de \\( m \\) ecuaciones, el vector de constantes \\( b \\) es un vector columna de tamaño \\( m \\) dado por:\n",
        "<br><br>\n",
        "$$ b = \\begin{bmatrix}\n",
        "b_1 \\\\\n",
        "b_2 \\\\\n",
        "\\vdots \\\\\n",
        "b_m\n",
        "\\end{bmatrix} $$\n",
        "<br>\n",
        "donde \\( b_i \\) es el término constante en la \\( i \\)-ésima ecuación."
      ],
      "metadata": {
        "id": "pldQNfUobOFi"
      }
    },
    {
      "cell_type": "code",
      "source": [
        "A = np.array([[2, 3], [4, 5]])\n",
        "A"
      ],
      "metadata": {
        "colab": {
          "base_uri": "https://localhost:8080/"
        },
        "id": "p6PhJpHzCAOc",
        "outputId": "4cc99339-e675-46a9-f2d6-83ebffedb2f4"
      },
      "execution_count": null,
      "outputs": [
        {
          "output_type": "execute_result",
          "data": {
            "text/plain": [
              "array([[2, 3],\n",
              "       [4, 5]])"
            ]
          },
          "metadata": {},
          "execution_count": 59
        }
      ]
    },
    {
      "cell_type": "code",
      "source": [
        "b = np.array([1, 2])\n",
        "b"
      ],
      "metadata": {
        "colab": {
          "base_uri": "https://localhost:8080/"
        },
        "id": "CFhQuxPuCEjP",
        "outputId": "27b91c5c-c085-42a2-9b7f-d4a2e111234b"
      },
      "execution_count": null,
      "outputs": [
        {
          "output_type": "execute_result",
          "data": {
            "text/plain": [
              "array([1, 2])"
            ]
          },
          "metadata": {},
          "execution_count": 60
        }
      ]
    },
    {
      "cell_type": "code",
      "source": [
        "x = np.linalg.solve(A, b)\n",
        "x"
      ],
      "metadata": {
        "colab": {
          "base_uri": "https://localhost:8080/"
        },
        "id": "sAWwH_m5CF2q",
        "outputId": "c8d233fb-8774-43aa-dc52-55b0b871cce7"
      },
      "execution_count": null,
      "outputs": [
        {
          "output_type": "execute_result",
          "data": {
            "text/plain": [
              "array([0.5, 0. ])"
            ]
          },
          "metadata": {},
          "execution_count": 61
        }
      ]
    },
    {
      "cell_type": "markdown",
      "source": [
        "<p align=\"justify\">\n",
        "👀 Este script utiliza la función <code>np.linalg.solve()</code> para resolver un sistema de ecuaciones lineales representado por la matriz $A$ y el vector $b$. La función <code>np.linalg.solve()</code> encuentra la solución para el vector <code>x</code> que satisface la ecuación $Ax = b$, donde $A$ es una matriz y $b$ es un vector, y se asigna el resultado a la variable $x$."
      ],
      "metadata": {
        "id": "Po1Op5HjT0Pp"
      }
    },
    {
      "cell_type": "markdown",
      "source": [
        "<p align=\"justify\">\n",
        "👀 Ejemplo:\n",
        "<br><br>\n",
        "Supongamos que tenemos el siguiente sistema de ecuaciones lineales:\n",
        "<br><br>\n",
        "\n",
        "- $( 2x + 3y + z = 10 )$\n",
        "- $( 4x + y - 2z = 5 )$\n",
        "- $( -x + 2y + 3z = 7 )$\n",
        "\n",
        "<br><p>\n",
        "Queremos encontrar los valores de $ x$, $ y $, $ z $."
      ],
      "metadata": {
        "id": "iH43EtngczuK"
      }
    },
    {
      "cell_type": "code",
      "source": [
        "# Matriz de coeficientes (A)\n",
        "coeficientes = np.array([\n",
        "    [2, 3, 1],\n",
        "    [4, 1, -2],\n",
        "    [-1, 2, 3]\n",
        "])\n",
        "\n",
        "print(\"Matriz de coeficientes (A):\")\n",
        "print(coeficientes)"
      ],
      "metadata": {
        "colab": {
          "base_uri": "https://localhost:8080/"
        },
        "id": "JZVxNR0od-Vy",
        "outputId": "43221caf-1683-4090-e7fb-a4769aacd231"
      },
      "execution_count": null,
      "outputs": [
        {
          "output_type": "stream",
          "name": "stdout",
          "text": [
            "Matriz de coeficientes (A):\n",
            "[[ 2  3  1]\n",
            " [ 4  1 -2]\n",
            " [-1  2  3]]\n"
          ]
        }
      ]
    },
    {
      "cell_type": "code",
      "source": [
        "# Vector de constantes (b)\n",
        "constantes = np.array([10, 5, 7])\n",
        "\n",
        "print(\"Vector de constantes (b):\")\n",
        "print(constantes)"
      ],
      "metadata": {
        "colab": {
          "base_uri": "https://localhost:8080/"
        },
        "id": "UTN6pO7seH1e",
        "outputId": "87012168-2e72-4f7e-d83a-ddfe144efdc0"
      },
      "execution_count": null,
      "outputs": [
        {
          "output_type": "stream",
          "name": "stdout",
          "text": [
            "Vector de constantes (b):\n",
            "[10  5  7]\n"
          ]
        }
      ]
    },
    {
      "cell_type": "code",
      "source": [
        "# Resolución del sistema de ecuaciones lineales\n",
        "solucion = np.linalg.solve(coeficientes, constantes)\n",
        "\n",
        "# Redondear los valores a enteros más cercanos\n",
        "solucion_enteros = np.round(solucion).astype(int)\n",
        "\n",
        "print(\"Solución del sistema de ecuaciones (redondeada a enteros):\")\n",
        "print(solucion_enteros)"
      ],
      "metadata": {
        "colab": {
          "base_uri": "https://localhost:8080/"
        },
        "id": "PpgCmK4ieK4B",
        "outputId": "a25ef0e0-5cc1-44c3-bc2e-8183717de001"
      },
      "execution_count": null,
      "outputs": [
        {
          "output_type": "stream",
          "name": "stdout",
          "text": [
            "Solución del sistema de ecuaciones (redondeada a enteros):\n",
            "[2 1 2]\n"
          ]
        }
      ]
    },
    {
      "cell_type": "markdown",
      "source": [
        "<p align=\"justify\">\n",
        "Después de redondear los resultados:\n",
        "<br><br>\n",
        "\n",
        "- $x = 2$\n",
        "- $y = 1$\n",
        "- $z = 2$\n",
        "\n",
        "<br>\n",
        "<p align=\"justify\">\n",
        "Estos valores son las aproximaciones enteras de la solución del sistema de ecuaciones. Ten en cuenta que el redondeo puede llevar a una solución que no satisface exactamente las ecuaciones originales, pero puede ser útil para simplificar la interpretación en algunos casos."
      ],
      "metadata": {
        "id": "W3kWFFK_fC_7"
      }
    },
    {
      "cell_type": "markdown",
      "source": [
        " ## **<font color=\"DarkBlue\">Otras operaciones de Computación Vectorizada</font>**"
      ],
      "metadata": {
        "id": "hYl7gOb4flmu"
      }
    },
    {
      "cell_type": "markdown",
      "source": [
        "<p align=\"justify\">\n",
        "Entonces, en NumPy la computación vectorizada se refiere a la realización de operaciones matemáticas en arrays de manera eficiente, sin la necesidad de usar bucles explícitos.\n",
        "<br><br>\n",
        "A continuación las principales operaciones de computación vectorizada en NumPy y una breve explicación de cada una:"
      ],
      "metadata": {
        "id": "rSiAX9aAf1nc"
      }
    },
    {
      "cell_type": "markdown",
      "source": [
        " ### **<font color=\"DarkBlue\">Operaciones Aritméticas Elementales</font>**"
      ],
      "metadata": {
        "id": "aIm_LvM2gxy5"
      }
    },
    {
      "cell_type": "markdown",
      "source": [
        "Estas operaciones se aplican a cada elemento de un arreglo individualmente:\n",
        "- **Suma** (`+`): Suma los elementos de dos arreglos o de un arreglo con un escalar.\n",
        "- **Resta** (`-`): Resta los elementos de un arreglo de los elementos de otro arreglo o de un escalar.\n",
        "- **Multiplicación** (`*`): Multiplica los elementos de dos arreglos o de un arreglo por un escalar.\n",
        "- **División** (`/`): Divide los elementos de un arreglo entre los elementos de otro arreglo o entre un arreglo y un escalar.\n"
      ],
      "metadata": {
        "id": "4CzFQdAkgtQj"
      }
    },
    {
      "cell_type": "markdown",
      "source": [
        " ### **<font color=\"DarkBlue\">Funciones Matemáticas</font>**"
      ],
      "metadata": {
        "id": "eVMcgtsnhqlK"
      }
    },
    {
      "cell_type": "markdown",
      "source": [
        "NumPy proporciona una serie de funciones matemáticas que se aplican elemento por elemento:\n",
        "- **Raíz cuadrada** (`np.sqrt`): Calcula la raíz cuadrada de cada elemento.\n",
        "- **Exponencial** (`np.exp`): Calcula el exponencial (e elevado a la potencia) de cada elemento.\n",
        "- **Logaritmo** (`np.log`): Calcula el logaritmo natural de cada elemento.\n",
        "- **Trigonometría** (`np.sin`, `np.cos`, `np.tan`): Calcula las funciones trigonométricas de cada elemento.\n",
        "\n"
      ],
      "metadata": {
        "id": "XLxlnDJWhUjN"
      }
    },
    {
      "cell_type": "markdown",
      "source": [
        " ### **<font color=\"DarkBlue\">Operaciones de Agregación</font>**"
      ],
      "metadata": {
        "id": "MDRf-pJJh2_S"
      }
    },
    {
      "cell_type": "markdown",
      "source": [
        "\n",
        "Estas operaciones resumen los datos de un arreglo:\n",
        "- **Suma total** (`np.sum`): Suma todos los elementos del arreglo.\n",
        "- **Promedio** (`np.mean`): Calcula el promedio de todos los elementos.\n",
        "- **Mínimo y Máximo** (`np.min`, `np.max`): Encuentra el valor mínimo y máximo, respectivamente.\n",
        "\n"
      ],
      "metadata": {
        "id": "ofExGcgMhg7p"
      }
    },
    {
      "cell_type": "markdown",
      "source": [
        " ### **<font color=\"DarkBlue\">Operaciones de Comparación</font>**"
      ],
      "metadata": {
        "id": "7b5NTf9UiAeu"
      }
    },
    {
      "cell_type": "markdown",
      "source": [
        "\n",
        "Estas operaciones devuelven un arreglo de valores booleanos:\n",
        "- **Igualdad** (`==`): Compara si los elementos de dos arreglos son iguales.\n",
        "- **Desigualdad** (`!=`): Compara si los elementos de dos arreglos son diferentes.\n",
        "- **Mayor que / Menor que** (`>`, `<`): Compara si los elementos de un arreglo son mayores o menores que los elementos de otro arreglo o un escalar.\n",
        "\n"
      ],
      "metadata": {
        "id": "ZneqQUgViBEy"
      }
    },
    {
      "cell_type": "markdown",
      "source": [
        " ### **<font color=\"DarkBlue\">Operaciones de Transformación de Datos</font>**"
      ],
      "metadata": {
        "id": "evwRxwywiSrx"
      }
    },
    {
      "cell_type": "markdown",
      "source": [
        "\n",
        "Estas operaciones cambian la forma o el formato de los arreglos:\n",
        "- **Redimensionamiento** (`np.reshape`): Cambia la forma de un arreglo sin cambiar sus datos.\n",
        "- **Transposición** (`np.transpose`): Cambia la orientación de las dimensiones de un arreglo.\n",
        "\n"
      ],
      "metadata": {
        "id": "OE5PMVdhiTeW"
      }
    },
    {
      "cell_type": "markdown",
      "source": [
        "<br>\n",
        "<br>\n",
        "<p align=\"center\"><b>\n",
        "💗\n",
        "<font color=\"DarkBlue\">\n",
        "Hemos llegado al final de nuestro colab, a seguir codeando en NumPy...\n",
        "</font>\n",
        "</p>\n"
      ],
      "metadata": {
        "id": "rrDMEhW6Vq2a"
      }
    }
  ]
}