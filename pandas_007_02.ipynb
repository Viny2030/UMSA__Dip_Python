{
  "nbformat": 4,
  "nbformat_minor": 0,
  "metadata": {
    "colab": {
      "provenance": [],
      "toc_visible": true
    },
    "kernelspec": {
      "name": "python3",
      "display_name": "Python 3"
    },
    "language_info": {
      "name": "python"
    }
  },
  "cells": [
    {
      "cell_type": "markdown",
      "source": [
        " # **<font color=\"DarkBlue\">Series de tiempo 🐼 </font>**"
      ],
      "metadata": {
        "id": "8JRU2b37tJTH"
      }
    },
    {
      "cell_type": "markdown",
      "source": [
        "<p align=\"center\">\n",
        "<img src=\"https://pandas.pydata.org/static/img/pandas_mark.svg\" width=\"50\">\n",
        "</p>\n"
      ],
      "metadata": {
        "id": "XM-hn7ZLmgQc"
      }
    },
    {
      "cell_type": "markdown",
      "source": [
        "https://pandas.pydata.org/"
      ],
      "metadata": {
        "id": "ZZW38_ClRXEH"
      }
    },
    {
      "cell_type": "markdown",
      "source": [
        " # **<font color=\"DarkBlue\">Fundamentos de series temporales</font>**"
      ],
      "metadata": {
        "id": "XaFVC86iZLYr"
      }
    },
    {
      "cell_type": "markdown",
      "source": [
        "<p align=\"justify\">\n",
        "En Pandas, un tipo fundamental de objeto de serie temporal es una <b>Serie temporal</b>, que se caracteriza por estar indexada mediante <b>marcas de tiempo</b>. Este tipo de objeto es utilizado frecuentemente para trabajar con datos que varían con el tiempo, como series de ventas, precios de acciones, temperaturas, entre otros.\n",
        "<br><br>\n",
        "Las marcas de tiempo pueden ser representadas en otros formatos fuera de Pandas, como cadenas de texto o objetos <code>datetime</code> de Python.\n",
        "<br><br>\n",
        "Sin embargo, al ser convertidas a una Serie temporal en Pandas, las marcas de tiempo se indexan de manera eficiente, lo que permite realizar operaciones de análisis temporal de forma rápida y precisa.\n",
        "<br><br>\n",
        "Las Series temporales en Pandas son muy útiles para tareas como el análisis de tendencias, descomposición de series temporales, resampling (cambio de frecuencia de las muestras), y la predicción a futuro.\n",
        "<br><br>\n",
        " Además, el uso de marcas de tiempo como índice mejora la eficiencia en el acceso y la manipulación de los datos a lo largo del tiempo.\n",
        "</p>\n"
      ],
      "metadata": {
        "id": "QEp0wDuv7B4_"
      }
    },
    {
      "cell_type": "code",
      "source": [
        "import pandas as pd\n",
        "import plotly.express as px\n",
        "from datetime import datetime"
      ],
      "metadata": {
        "id": "DmrMEV3R5lJZ"
      },
      "execution_count": null,
      "outputs": []
    },
    {
      "cell_type": "markdown",
      "source": [
        "Ejemplo:\n",
        "\n",
        "<p align=\"justify\">\n",
        "<b>DatetimeIndex</b> es un tipo especial de índice que se utiliza para representar datos de tiempo en una serie o DataFrame. Este índice permite realizar un análisis eficiente y operaciones de manipulación temporal, como la reindexación de datos, el agrupamiento por frecuencia y la conversión de datos a diferentes intervalos de tiempo.\n",
        "<br><br>\n",
        " Al crear un objeto <code>DatetimeIndex</code>, Pandas utiliza marcas de tiempo (fechas y horas) para indexar las filas, lo que facilita las operaciones basadas en tiempo.\n",
        " <br><br>\n",
        " Es comúnmente utilizado para trabajar con datos de series temporales, como las fechas de eventos o registros en un conjunto de datos.\n",
        "</p>\n"
      ],
      "metadata": {
        "id": "9yeNQ-bFf9t_"
      }
    },
    {
      "cell_type": "code",
      "source": [
        "# Crear un rango de fechas\n",
        "\n",
        "fechas = pd.date_range(\"2024-11-01\", periods=5, freq=\"D\")\n",
        "fechas"
      ],
      "metadata": {
        "id": "lBqRzG185p4_",
        "colab": {
          "base_uri": "https://localhost:8080/"
        },
        "outputId": "c9d61240-79eb-411f-cd2a-d971e26408c0"
      },
      "execution_count": null,
      "outputs": [
        {
          "output_type": "execute_result",
          "data": {
            "text/plain": [
              "DatetimeIndex(['2024-11-01', '2024-11-02', '2024-11-03', '2024-11-04',\n",
              "               '2024-11-05'],\n",
              "              dtype='datetime64[ns]', freq='D')"
            ]
          },
          "metadata": {},
          "execution_count": 2
        }
      ]
    },
    {
      "cell_type": "code",
      "source": [
        "# Crear una Serie con un DatetimeIndex\n",
        "\n",
        "datos = [10, 20, 30, 40, 50]\n",
        "serie_temporal = pd.Series(datos, index=fechas)\n",
        "serie_temporal.name = \"Datos\"\n"
      ],
      "metadata": {
        "id": "VhpkY0PagWTP"
      },
      "execution_count": null,
      "outputs": []
    },
    {
      "cell_type": "code",
      "source": [
        "serie_temporal"
      ],
      "metadata": {
        "colab": {
          "base_uri": "https://localhost:8080/",
          "height": 241
        },
        "id": "LoAI0Vl1gbEk",
        "outputId": "499946ef-ea89-48d7-8323-20cfdeb38bc3"
      },
      "execution_count": null,
      "outputs": [
        {
          "output_type": "execute_result",
          "data": {
            "text/plain": [
              "2024-11-01    10\n",
              "2024-11-02    20\n",
              "2024-11-03    30\n",
              "2024-11-04    40\n",
              "2024-11-05    50\n",
              "Freq: D, Name: Datos, dtype: int64"
            ],
            "text/html": [
              "<div>\n",
              "<style scoped>\n",
              "    .dataframe tbody tr th:only-of-type {\n",
              "        vertical-align: middle;\n",
              "    }\n",
              "\n",
              "    .dataframe tbody tr th {\n",
              "        vertical-align: top;\n",
              "    }\n",
              "\n",
              "    .dataframe thead th {\n",
              "        text-align: right;\n",
              "    }\n",
              "</style>\n",
              "<table border=\"1\" class=\"dataframe\">\n",
              "  <thead>\n",
              "    <tr style=\"text-align: right;\">\n",
              "      <th></th>\n",
              "      <th>Datos</th>\n",
              "    </tr>\n",
              "  </thead>\n",
              "  <tbody>\n",
              "    <tr>\n",
              "      <th>2024-11-01</th>\n",
              "      <td>10</td>\n",
              "    </tr>\n",
              "    <tr>\n",
              "      <th>2024-11-02</th>\n",
              "      <td>20</td>\n",
              "    </tr>\n",
              "    <tr>\n",
              "      <th>2024-11-03</th>\n",
              "      <td>30</td>\n",
              "    </tr>\n",
              "    <tr>\n",
              "      <th>2024-11-04</th>\n",
              "      <td>40</td>\n",
              "    </tr>\n",
              "    <tr>\n",
              "      <th>2024-11-05</th>\n",
              "      <td>50</td>\n",
              "    </tr>\n",
              "  </tbody>\n",
              "</table>\n",
              "</div><br><label><b>dtype:</b> int64</label>"
            ]
          },
          "metadata": {},
          "execution_count": 4
        }
      ]
    },
    {
      "cell_type": "markdown",
      "source": [
        "<p align=\"justify\">\n",
        "Este ejemplo crea un objeto <code>DatetimeIndex</code> utilizando <code>pd.date_range()</code>, que genera un rango de fechas con una frecuencia diaria.\n",
        "<br><br>\n",
        " Luego, se crea una <code>Serie</code> con estos índices de fecha, y cada valor de la serie está asociado a una fecha específica. El índice de la serie es un <code>DatetimeIndex</code>, lo que permite realizar fácilmente manipulaciones y análisis basados en fechas.\n",
        "\n",
        "\n",
        "\n",
        "\n",
        "\n",
        "\n"
      ],
      "metadata": {
        "id": "mtdRyskXgorf"
      }
    },
    {
      "cell_type": "markdown",
      "source": [
        " # **<font color=\"DarkBlue\">Indexación, selección y subconjuntos</font>**"
      ],
      "metadata": {
        "id": "LpGuKY4_g8Fp"
      }
    },
    {
      "cell_type": "markdown",
      "source": [
        "<p align=\"justify\">\n",
        "En Pandas, la indexación, selección y creación de subconjuntos de series de tiempo son operaciones fundamentales para trabajar con datos temporales. Al utilizar un objeto de tipo <code>DatetimeIndex</code> como índice de una serie o un DataFrame, Pandas permite realizar diversas operaciones de selección y filtrado de manera eficiente.\n",
        "<br><br>\n",
        "Estas operaciones incluyen el acceso a datos en fechas específicas, la selección de un rango de fechas, el filtrado por una frecuencia específica y la segmentación por una condición temporal.\n",
        "<br><br>\n",
        "Existen varias maneras de realizar la indexación y selección de datos en series de tiempo. Por ejemplo, se puede acceder a los datos de una fecha específica utilizando una notación similar a la de los índices tradicionales en Pandas. También es posible seleccionar subconjuntos de datos basados en intervalos de tiempo, como días, meses o años, y realizar operaciones basadas en estas divisiones.\n",
        "<br><br>\n",
        "Además, la indexación por fecha permite realizar tareas como la reindexación (ajustar el índice para coincidir con una nueva frecuencia), el resampling (cambio de frecuencia de las muestras), y la selección de un subconjunto de datos en un periodo de tiempo determinado.\n"
      ],
      "metadata": {
        "id": "R-VUG1qqhetD"
      }
    },
    {
      "cell_type": "markdown",
      "source": [
        " ## **<font color=\"DarkBlue\">Selección por fecha</font>**"
      ],
      "metadata": {
        "id": "IUfJ5qQ2hqvn"
      }
    },
    {
      "cell_type": "code",
      "source": [
        "# Crear un rango de fechas y datos\n",
        "\n",
        "fechas = pd.date_range(\"2024-11-01\", periods=5, freq=\"D\")\n",
        "ventas = [100, 200, 150, 175, 210]\n"
      ],
      "metadata": {
        "id": "aAg72VyWhzLc"
      },
      "execution_count": null,
      "outputs": []
    },
    {
      "cell_type": "code",
      "source": [
        "# Crear una serie temporal\n",
        "\n",
        "serie_ventas = pd.Series(ventas, index=fechas)\n",
        "serie_ventas.name = \"Ventas\"\n",
        "serie_ventas\n"
      ],
      "metadata": {
        "colab": {
          "base_uri": "https://localhost:8080/",
          "height": 241
        },
        "id": "VHUOTSv9h42e",
        "outputId": "2e9bf3d4-9a40-4c64-b654-24ec8c526fcf"
      },
      "execution_count": null,
      "outputs": [
        {
          "output_type": "execute_result",
          "data": {
            "text/plain": [
              "2024-11-01    100\n",
              "2024-11-02    200\n",
              "2024-11-03    150\n",
              "2024-11-04    175\n",
              "2024-11-05    210\n",
              "Freq: D, Name: Ventas, dtype: int64"
            ],
            "text/html": [
              "<div>\n",
              "<style scoped>\n",
              "    .dataframe tbody tr th:only-of-type {\n",
              "        vertical-align: middle;\n",
              "    }\n",
              "\n",
              "    .dataframe tbody tr th {\n",
              "        vertical-align: top;\n",
              "    }\n",
              "\n",
              "    .dataframe thead th {\n",
              "        text-align: right;\n",
              "    }\n",
              "</style>\n",
              "<table border=\"1\" class=\"dataframe\">\n",
              "  <thead>\n",
              "    <tr style=\"text-align: right;\">\n",
              "      <th></th>\n",
              "      <th>Ventas</th>\n",
              "    </tr>\n",
              "  </thead>\n",
              "  <tbody>\n",
              "    <tr>\n",
              "      <th>2024-11-01</th>\n",
              "      <td>100</td>\n",
              "    </tr>\n",
              "    <tr>\n",
              "      <th>2024-11-02</th>\n",
              "      <td>200</td>\n",
              "    </tr>\n",
              "    <tr>\n",
              "      <th>2024-11-03</th>\n",
              "      <td>150</td>\n",
              "    </tr>\n",
              "    <tr>\n",
              "      <th>2024-11-04</th>\n",
              "      <td>175</td>\n",
              "    </tr>\n",
              "    <tr>\n",
              "      <th>2024-11-05</th>\n",
              "      <td>210</td>\n",
              "    </tr>\n",
              "  </tbody>\n",
              "</table>\n",
              "</div><br><label><b>dtype:</b> int64</label>"
            ]
          },
          "metadata": {},
          "execution_count": 6
        }
      ]
    },
    {
      "cell_type": "code",
      "source": [
        "# Seleccionar ventas de una fecha específica\n",
        "\n",
        "ventas_especificas = serie_ventas[\"2024-11-03\"]\n",
        "ventas_especificas"
      ],
      "metadata": {
        "colab": {
          "base_uri": "https://localhost:8080/"
        },
        "id": "CWJvgWooiE8E",
        "outputId": "2c602506-2b3f-4609-c216-c3697c2c08b0"
      },
      "execution_count": null,
      "outputs": [
        {
          "output_type": "execute_result",
          "data": {
            "text/plain": [
              "150"
            ]
          },
          "metadata": {},
          "execution_count": 7
        }
      ]
    },
    {
      "cell_type": "markdown",
      "source": [
        " ## **<font color=\"DarkBlue\">Selección por rango de fechas</font>**"
      ],
      "metadata": {
        "id": "Uw48L77FiMew"
      }
    },
    {
      "cell_type": "code",
      "source": [
        "# Seleccionar un rango de fechas\n",
        "\n",
        "rango_ventas = serie_ventas[\"2024-11-02\":\"2024-11-04\"]\n",
        "rango_ventas"
      ],
      "metadata": {
        "colab": {
          "base_uri": "https://localhost:8080/",
          "height": 178
        },
        "id": "RKTYxUg1iQ4x",
        "outputId": "b2658396-c1d7-4f77-a225-49572bdde1fb"
      },
      "execution_count": null,
      "outputs": [
        {
          "output_type": "execute_result",
          "data": {
            "text/plain": [
              "2024-11-02    200\n",
              "2024-11-03    150\n",
              "2024-11-04    175\n",
              "Freq: D, Name: Ventas, dtype: int64"
            ],
            "text/html": [
              "<div>\n",
              "<style scoped>\n",
              "    .dataframe tbody tr th:only-of-type {\n",
              "        vertical-align: middle;\n",
              "    }\n",
              "\n",
              "    .dataframe tbody tr th {\n",
              "        vertical-align: top;\n",
              "    }\n",
              "\n",
              "    .dataframe thead th {\n",
              "        text-align: right;\n",
              "    }\n",
              "</style>\n",
              "<table border=\"1\" class=\"dataframe\">\n",
              "  <thead>\n",
              "    <tr style=\"text-align: right;\">\n",
              "      <th></th>\n",
              "      <th>Ventas</th>\n",
              "    </tr>\n",
              "  </thead>\n",
              "  <tbody>\n",
              "    <tr>\n",
              "      <th>2024-11-02</th>\n",
              "      <td>200</td>\n",
              "    </tr>\n",
              "    <tr>\n",
              "      <th>2024-11-03</th>\n",
              "      <td>150</td>\n",
              "    </tr>\n",
              "    <tr>\n",
              "      <th>2024-11-04</th>\n",
              "      <td>175</td>\n",
              "    </tr>\n",
              "  </tbody>\n",
              "</table>\n",
              "</div><br><label><b>dtype:</b> int64</label>"
            ]
          },
          "metadata": {},
          "execution_count": 8
        }
      ]
    },
    {
      "cell_type": "markdown",
      "source": [
        " ## **<font color=\"DarkBlue\">Resampling y agregación por mes</font>**"
      ],
      "metadata": {
        "id": "u0vPP6AgicII"
      }
    },
    {
      "cell_type": "code",
      "source": [
        "# Resampling para obtener ventas mensuales (aunque el conjunto de datos es diario)\n",
        "\n",
        "ventas_mensuales = serie_ventas.resample('ME').sum()\n",
        "ventas_mensuales"
      ],
      "metadata": {
        "colab": {
          "base_uri": "https://localhost:8080/",
          "height": 115
        },
        "id": "xqpS54bXihVb",
        "outputId": "23a68ed4-5fcc-44b0-bbb7-952643cd71f8"
      },
      "execution_count": null,
      "outputs": [
        {
          "output_type": "execute_result",
          "data": {
            "text/plain": [
              "2024-11-30    835\n",
              "Freq: ME, Name: Ventas, dtype: int64"
            ],
            "text/html": [
              "<div>\n",
              "<style scoped>\n",
              "    .dataframe tbody tr th:only-of-type {\n",
              "        vertical-align: middle;\n",
              "    }\n",
              "\n",
              "    .dataframe tbody tr th {\n",
              "        vertical-align: top;\n",
              "    }\n",
              "\n",
              "    .dataframe thead th {\n",
              "        text-align: right;\n",
              "    }\n",
              "</style>\n",
              "<table border=\"1\" class=\"dataframe\">\n",
              "  <thead>\n",
              "    <tr style=\"text-align: right;\">\n",
              "      <th></th>\n",
              "      <th>Ventas</th>\n",
              "    </tr>\n",
              "  </thead>\n",
              "  <tbody>\n",
              "    <tr>\n",
              "      <th>2024-11-30</th>\n",
              "      <td>835</td>\n",
              "    </tr>\n",
              "  </tbody>\n",
              "</table>\n",
              "</div><br><label><b>dtype:</b> int64</label>"
            ]
          },
          "metadata": {},
          "execution_count": 9
        }
      ]
    },
    {
      "cell_type": "markdown",
      "source": [
        " # **<font color=\"DarkBlue\">Generando un rango de fechas</font>**"
      ],
      "metadata": {
        "id": "rZUuEMyZjDNU"
      }
    },
    {
      "cell_type": "markdown",
      "source": [
        "<p align=\"justify\">\n",
        "La función <code>pd.date_range()</code> de Pandas se utiliza para generar un rango de fechas con una frecuencia específica.\n",
        "<br><br>\n",
        "En el ejemplo <code>index = pd.date_range(\"2012-04-01\", \"2012-06-01\")</code>, se crea un rango de fechas desde el 1 de abril de 2012 hasta el 1 de junio de 2012.\n",
        "<br><br>\n",
        "Esta función devuelve un objeto <code>DatetimeIndex</code> que incluye todas las fechas dentro de ese rango, con una frecuencia predeterminada de un día.  Al utilizar <code>date_range()</code>, es posible especificar el intervalo entre las fechas, lo que permite ajustar el análisis de acuerdo con las necesidades específicas del problema.\n",
        "</p>\n"
      ],
      "metadata": {
        "id": "4ryoaGWhjdmg"
      }
    },
    {
      "cell_type": "code",
      "source": [
        "# Generar un rango de fechas entre el 1 de abril y el 2 de mayo de 2012\n",
        "\n",
        "index = pd.date_range(\"2012-04-01\", \"2012-05-02\")\n",
        "index"
      ],
      "metadata": {
        "colab": {
          "base_uri": "https://localhost:8080/"
        },
        "id": "L_iERh0NjNTX",
        "outputId": "87fd2765-f8ab-4f87-ce76-0cd15955de7c"
      },
      "execution_count": null,
      "outputs": [
        {
          "output_type": "execute_result",
          "data": {
            "text/plain": [
              "DatetimeIndex(['2012-04-01', '2012-04-02', '2012-04-03', '2012-04-04',\n",
              "               '2012-04-05', '2012-04-06', '2012-04-07', '2012-04-08',\n",
              "               '2012-04-09', '2012-04-10', '2012-04-11', '2012-04-12',\n",
              "               '2012-04-13', '2012-04-14', '2012-04-15', '2012-04-16',\n",
              "               '2012-04-17', '2012-04-18', '2012-04-19', '2012-04-20',\n",
              "               '2012-04-21', '2012-04-22', '2012-04-23', '2012-04-24',\n",
              "               '2012-04-25', '2012-04-26', '2012-04-27', '2012-04-28',\n",
              "               '2012-04-29', '2012-04-30', '2012-05-01', '2012-05-02'],\n",
              "              dtype='datetime64[ns]', freq='D')"
            ]
          },
          "metadata": {},
          "execution_count": 10
        }
      ]
    },
    {
      "cell_type": "code",
      "source": [
        "# Crear una serie de ventas con el rango de fechas generado\n",
        "\n",
        "ventas = [120, 150, 200, 175, 190, 210, 250, 230, 180, 160, 170, 195, 210, 220, 240, 230, 250, 265, 280, 300, 310, 325, 350, 375, 400, 420, 440, 460, 480, 500, 520, 540]\n"
      ],
      "metadata": {
        "id": "bhxCU4n_jvYj"
      },
      "execution_count": null,
      "outputs": []
    },
    {
      "cell_type": "code",
      "source": [
        "len(ventas)"
      ],
      "metadata": {
        "colab": {
          "base_uri": "https://localhost:8080/"
        },
        "id": "8vq_ZGkQkLvM",
        "outputId": "67809e10-5177-47b9-b8d3-72e24aa037bb"
      },
      "execution_count": null,
      "outputs": [
        {
          "output_type": "execute_result",
          "data": {
            "text/plain": [
              "32"
            ]
          },
          "metadata": {},
          "execution_count": 12
        }
      ]
    },
    {
      "cell_type": "code",
      "source": [
        "# Crear la serie temporal de ventas\n",
        "\n",
        "serie_ventas = pd.Series(ventas, index=index)\n",
        "serie_ventas.name = \"Ventas\"\n",
        "serie_ventas"
      ],
      "metadata": {
        "colab": {
          "base_uri": "https://localhost:8080/",
          "height": 1000
        },
        "id": "w8dlk-1gjyrr",
        "outputId": "bb2e1c11-4e23-4878-f0b1-60f3ce9614dd"
      },
      "execution_count": null,
      "outputs": [
        {
          "output_type": "execute_result",
          "data": {
            "text/plain": [
              "2012-04-01    120\n",
              "2012-04-02    150\n",
              "2012-04-03    200\n",
              "2012-04-04    175\n",
              "2012-04-05    190\n",
              "2012-04-06    210\n",
              "2012-04-07    250\n",
              "2012-04-08    230\n",
              "2012-04-09    180\n",
              "2012-04-10    160\n",
              "2012-04-11    170\n",
              "2012-04-12    195\n",
              "2012-04-13    210\n",
              "2012-04-14    220\n",
              "2012-04-15    240\n",
              "2012-04-16    230\n",
              "2012-04-17    250\n",
              "2012-04-18    265\n",
              "2012-04-19    280\n",
              "2012-04-20    300\n",
              "2012-04-21    310\n",
              "2012-04-22    325\n",
              "2012-04-23    350\n",
              "2012-04-24    375\n",
              "2012-04-25    400\n",
              "2012-04-26    420\n",
              "2012-04-27    440\n",
              "2012-04-28    460\n",
              "2012-04-29    480\n",
              "2012-04-30    500\n",
              "2012-05-01    520\n",
              "2012-05-02    540\n",
              "Freq: D, Name: Ventas, dtype: int64"
            ],
            "text/html": [
              "<div>\n",
              "<style scoped>\n",
              "    .dataframe tbody tr th:only-of-type {\n",
              "        vertical-align: middle;\n",
              "    }\n",
              "\n",
              "    .dataframe tbody tr th {\n",
              "        vertical-align: top;\n",
              "    }\n",
              "\n",
              "    .dataframe thead th {\n",
              "        text-align: right;\n",
              "    }\n",
              "</style>\n",
              "<table border=\"1\" class=\"dataframe\">\n",
              "  <thead>\n",
              "    <tr style=\"text-align: right;\">\n",
              "      <th></th>\n",
              "      <th>Ventas</th>\n",
              "    </tr>\n",
              "  </thead>\n",
              "  <tbody>\n",
              "    <tr>\n",
              "      <th>2012-04-01</th>\n",
              "      <td>120</td>\n",
              "    </tr>\n",
              "    <tr>\n",
              "      <th>2012-04-02</th>\n",
              "      <td>150</td>\n",
              "    </tr>\n",
              "    <tr>\n",
              "      <th>2012-04-03</th>\n",
              "      <td>200</td>\n",
              "    </tr>\n",
              "    <tr>\n",
              "      <th>2012-04-04</th>\n",
              "      <td>175</td>\n",
              "    </tr>\n",
              "    <tr>\n",
              "      <th>2012-04-05</th>\n",
              "      <td>190</td>\n",
              "    </tr>\n",
              "    <tr>\n",
              "      <th>2012-04-06</th>\n",
              "      <td>210</td>\n",
              "    </tr>\n",
              "    <tr>\n",
              "      <th>2012-04-07</th>\n",
              "      <td>250</td>\n",
              "    </tr>\n",
              "    <tr>\n",
              "      <th>2012-04-08</th>\n",
              "      <td>230</td>\n",
              "    </tr>\n",
              "    <tr>\n",
              "      <th>2012-04-09</th>\n",
              "      <td>180</td>\n",
              "    </tr>\n",
              "    <tr>\n",
              "      <th>2012-04-10</th>\n",
              "      <td>160</td>\n",
              "    </tr>\n",
              "    <tr>\n",
              "      <th>2012-04-11</th>\n",
              "      <td>170</td>\n",
              "    </tr>\n",
              "    <tr>\n",
              "      <th>2012-04-12</th>\n",
              "      <td>195</td>\n",
              "    </tr>\n",
              "    <tr>\n",
              "      <th>2012-04-13</th>\n",
              "      <td>210</td>\n",
              "    </tr>\n",
              "    <tr>\n",
              "      <th>2012-04-14</th>\n",
              "      <td>220</td>\n",
              "    </tr>\n",
              "    <tr>\n",
              "      <th>2012-04-15</th>\n",
              "      <td>240</td>\n",
              "    </tr>\n",
              "    <tr>\n",
              "      <th>2012-04-16</th>\n",
              "      <td>230</td>\n",
              "    </tr>\n",
              "    <tr>\n",
              "      <th>2012-04-17</th>\n",
              "      <td>250</td>\n",
              "    </tr>\n",
              "    <tr>\n",
              "      <th>2012-04-18</th>\n",
              "      <td>265</td>\n",
              "    </tr>\n",
              "    <tr>\n",
              "      <th>2012-04-19</th>\n",
              "      <td>280</td>\n",
              "    </tr>\n",
              "    <tr>\n",
              "      <th>2012-04-20</th>\n",
              "      <td>300</td>\n",
              "    </tr>\n",
              "    <tr>\n",
              "      <th>2012-04-21</th>\n",
              "      <td>310</td>\n",
              "    </tr>\n",
              "    <tr>\n",
              "      <th>2012-04-22</th>\n",
              "      <td>325</td>\n",
              "    </tr>\n",
              "    <tr>\n",
              "      <th>2012-04-23</th>\n",
              "      <td>350</td>\n",
              "    </tr>\n",
              "    <tr>\n",
              "      <th>2012-04-24</th>\n",
              "      <td>375</td>\n",
              "    </tr>\n",
              "    <tr>\n",
              "      <th>2012-04-25</th>\n",
              "      <td>400</td>\n",
              "    </tr>\n",
              "    <tr>\n",
              "      <th>2012-04-26</th>\n",
              "      <td>420</td>\n",
              "    </tr>\n",
              "    <tr>\n",
              "      <th>2012-04-27</th>\n",
              "      <td>440</td>\n",
              "    </tr>\n",
              "    <tr>\n",
              "      <th>2012-04-28</th>\n",
              "      <td>460</td>\n",
              "    </tr>\n",
              "    <tr>\n",
              "      <th>2012-04-29</th>\n",
              "      <td>480</td>\n",
              "    </tr>\n",
              "    <tr>\n",
              "      <th>2012-04-30</th>\n",
              "      <td>500</td>\n",
              "    </tr>\n",
              "    <tr>\n",
              "      <th>2012-05-01</th>\n",
              "      <td>520</td>\n",
              "    </tr>\n",
              "    <tr>\n",
              "      <th>2012-05-02</th>\n",
              "      <td>540</td>\n",
              "    </tr>\n",
              "  </tbody>\n",
              "</table>\n",
              "</div><br><label><b>dtype:</b> int64</label>"
            ]
          },
          "metadata": {},
          "execution_count": 13
        }
      ]
    },
    {
      "cell_type": "code",
      "source": [
        "pd.date_range(start=\"2024-01-01\", periods=20)"
      ],
      "metadata": {
        "colab": {
          "base_uri": "https://localhost:8080/"
        },
        "id": "8IaVpGkqkzaD",
        "outputId": "dafbdd8c-ce3f-4563-fc72-e2cbd85cafc9"
      },
      "execution_count": null,
      "outputs": [
        {
          "output_type": "execute_result",
          "data": {
            "text/plain": [
              "DatetimeIndex(['2024-01-01', '2024-01-02', '2024-01-03', '2024-01-04',\n",
              "               '2024-01-05', '2024-01-06', '2024-01-07', '2024-01-08',\n",
              "               '2024-01-09', '2024-01-10', '2024-01-11', '2024-01-12',\n",
              "               '2024-01-13', '2024-01-14', '2024-01-15', '2024-01-16',\n",
              "               '2024-01-17', '2024-01-18', '2024-01-19', '2024-01-20'],\n",
              "              dtype='datetime64[ns]', freq='D')"
            ]
          },
          "metadata": {},
          "execution_count": 14
        }
      ]
    },
    {
      "cell_type": "code",
      "source": [
        "pd.date_range(end=\"2024-11-04\", periods=20)"
      ],
      "metadata": {
        "colab": {
          "base_uri": "https://localhost:8080/"
        },
        "id": "8-erPNCtk3BJ",
        "outputId": "7e36e60a-41d6-40f0-b4b4-20768fc40fd5"
      },
      "execution_count": null,
      "outputs": [
        {
          "output_type": "execute_result",
          "data": {
            "text/plain": [
              "DatetimeIndex(['2024-10-16', '2024-10-17', '2024-10-18', '2024-10-19',\n",
              "               '2024-10-20', '2024-10-21', '2024-10-22', '2024-10-23',\n",
              "               '2024-10-24', '2024-10-25', '2024-10-26', '2024-10-27',\n",
              "               '2024-10-28', '2024-10-29', '2024-10-30', '2024-10-31',\n",
              "               '2024-11-01', '2024-11-02', '2024-11-03', '2024-11-04'],\n",
              "              dtype='datetime64[ns]', freq='D')"
            ]
          },
          "metadata": {},
          "execution_count": 15
        }
      ]
    },
    {
      "cell_type": "markdown",
      "source": [
        "<p align=\"justify\">\n",
        "Las fechas de inicio y de finalización definen límites estrictos para el índice de fechas generado.\n",
        "<br><br>\n",
        "A continuación, las opciones que se pueden utilizar...\n"
      ],
      "metadata": {
        "id": "8q_Z2QuMlQ3-"
      }
    },
    {
      "cell_type": "markdown",
      "source": [
        "<table border=\"1\">\n",
        "  <thead>\n",
        "    <tr>\n",
        "      <td><b>Alias</td>\n",
        "      <td><b>Tipo de desplazamiento</td>\n",
        "      <td><b>Descripción</td>\n",
        "    </tr>\n",
        "  </thead>\n",
        "  <tbody>\n",
        "    <tr>\n",
        "      <td>D</td>\n",
        "      <td>Day</td>\n",
        "      <td>Calendario diario</td>\n",
        "    </tr>\n",
        "    <tr>\n",
        "      <td>B</td>\n",
        "      <td>BusinessDay</td>\n",
        "      <td>Diario de negocios</td>\n",
        "    </tr>\n",
        "    <tr>\n",
        "      <td>H</td>\n",
        "      <td>Hour</td>\n",
        "      <td>Cada hora</td>\n",
        "    </tr>\n",
        "    <tr>\n",
        "      <td>Tomin</td>\n",
        "      <td>Minute</td>\n",
        "      <td>Una vez por minuto</td>\n",
        "    </tr>\n",
        "    <tr>\n",
        "      <td>S</td>\n",
        "      <td>Second</td>\n",
        "      <td>Una vez por segundo</td>\n",
        "    </tr>\n",
        "    <tr>\n",
        "      <td>Loms</td>\n",
        "      <td>Milli</td>\n",
        "      <td>Milisegundo (1/1.000 de 1 segundo)</td>\n",
        "    </tr>\n",
        "    <tr>\n",
        "      <td>U</td>\n",
        "      <td>Micro</td>\n",
        "      <td>Microsegundo (1/1.000.000 de 1 segundo)</td>\n",
        "    </tr>\n",
        "    <tr>\n",
        "      <td>M</td>\n",
        "      <td>MonthEnd</td>\n",
        "      <td>Último día del calendario del mes</td>\n",
        "    </tr>\n",
        "    <tr>\n",
        "      <td>BM</td>\n",
        "      <td>BusinessMonthEnd</td>\n",
        "      <td>Último día hábil (día laborable) del mes</td>\n",
        "    </tr>\n",
        "    <tr>\n",
        "      <td>MS</td>\n",
        "      <td>MonthBegin</td>\n",
        "      <td>Primer día del calendario del mes</td>\n",
        "    </tr>\n",
        "    <tr>\n",
        "      <td>BMS</td>\n",
        "      <td>BusinessMonthBegin</td>\n",
        "      <td>Primer día laborable del mes</td>\n",
        "    </tr>\n",
        "    <tr>\n",
        "      <td>W-MON, W-TUE, ...</td>\n",
        "      <td>Week</td>\n",
        "      <td>Semanalmente en un día determinado de la semana (LUN, MAR, MIÉRCOLES, JUEVES, VIERNES, SÁBADOS o DOMINGOS)</td>\n",
        "    </tr>\n",
        "    <tr>\n",
        "      <td>WOM-1MON, WOM-2MON, ...</td>\n",
        "      <td>WeekOfMonth</td>\n",
        "      <td>Generar fechas semanales en la primera, segunda, tercera o cuarta semana del mes (por ejemplo, WOM-3FRI para el tercer viernes de cada mes)</td>\n",
        "    </tr>\n",
        "    <tr>\n",
        "      <td>Q-JAN, Q-FEB, ...</td>\n",
        "      <td>QuarterEnd</td>\n",
        "      <td>Fechas trimestrales ancladas en el último día calendario de cada mes, para el año que termina en el mes indicado (ENE, FEB, MAR, ABR, MAY, JUN, JUL, AGO, SEP, OCT, NOV o DIC)</td>\n",
        "    </tr>\n",
        "    <tr>\n",
        "      <td>BQ-JAN, BQ-FEB, ...</td>\n",
        "      <td>BusinessQuarterEnd</td>\n",
        "      <td>Fechas trimestrales ancladas en el último día laborable de cada mes, para el año que termina en el mes indicado</td>\n",
        "    </tr>\n",
        "    <tr>\n",
        "      <td>QS-JAN, QS-FEB, ...</td>\n",
        "      <td>QuarterBegin</td>\n",
        "      <td>Fechas trimestrales ancladas en el primer día calendario de cada mes, para el año que termina en el mes indicado</td>\n",
        "    </tr>\n",
        "    <tr>\n",
        "      <td>BQS-JAN, BQS-FEB, ...</td>\n",
        "      <td>BusinessQuarterBegin</td>\n",
        "      <td>Fechas trimestrales ancladas en el primer día laborable de cada mes, para el año que termina en el mes indicado</td>\n",
        "    </tr>\n",
        "    <tr>\n",
        "      <td>A-JAN, A-FEB, ...</td>\n",
        "      <td>YearEnd</td>\n",
        "      <td>Fechas anuales ancladas en el último día del calendario del mes determinado (ENE, FEB, MAR, ABR, MAY, JUN, JUL, AGO, SEP, OCT, NOV o DIC)</td>\n",
        "    </tr>\n",
        "    <tr>\n",
        "      <td>BA-JAN, BA-FEB, ...</td>\n",
        "      <td>BusinessYearEnd</td>\n",
        "      <td>Fechas anuales ancladas en el último día laborable del mes determinado</td>\n",
        "    </tr>\n",
        "    <tr>\n",
        "      <td>AS-JAN, AS-FEB, ...</td>\n",
        "      <td>YearBegin</td>\n",
        "      <td>Fechas anuales ancladas en el primer día del mes determinado</td>\n",
        "    </tr>\n",
        "    <tr>\n",
        "      <td>BAS-JAN, BAS-FEB, ...</td>\n",
        "      <td>BusinessYearBegin</td>\n",
        "      <td>Fechas anuales ancladas en el primer día laborable del mes determinado</td>\n",
        "    </tr>\n",
        "  </tbody>\n",
        "</table>\n"
      ],
      "metadata": {
        "id": "Ms5EzxgilyJs"
      }
    },
    {
      "cell_type": "markdown",
      "source": [
        " # **<font color=\"DarkBlue\">Frecuencias y desplazamientos de fecha</font>**"
      ],
      "metadata": {
        "id": "yGMTMaRCmXHg"
      }
    },
    {
      "cell_type": "markdown",
      "source": [
        "<p align=\"justify\">\n",
        "  En pandas, las frecuencias de tiempo son representadas por una frecuencia base y un multiplicador. La frecuencia base indica el intervalo de tiempo en el cual se realiza el desplazamiento, mientras que el multiplicador determina cuántas veces se aplica esa frecuencia base. Por ejemplo, un alias como \"ME\" representa una frecuencia mensual, mientras que \"h\" denota una frecuencia horaria.\n",
        "  <br><br>\n",
        "  Las frecuencias base suelen ser abreviaciones de cadenas que indican unidades de tiempo comunes, como \"D\" para días, \"B\" para días hábiles, \"h\" para horas, \"T\" para minutos, \"S\" para segundos, entre otros. Los multiplicadores permiten trabajar con múltiplos de esas frecuencias, como \"2D\" para cada dos días o \"3H\" para cada tres horas.\n",
        "</p>\n"
      ],
      "metadata": {
        "id": "QV8ICHhmmdoI"
      }
    },
    {
      "cell_type": "markdown",
      "source": [
        " ## **<font color=\"DarkBlue\">Frecuencia Mensual</font>**"
      ],
      "metadata": {
        "id": "4b2T554roJVW"
      }
    },
    {
      "cell_type": "code",
      "source": [
        "# Crear un rango de fechas con frecuencia mensual\n",
        "\n",
        "rango_mensual = pd.date_range(\"2024-01-01\", \"2024-12-31\", freq=\"ME\")\n",
        "rango_mensual"
      ],
      "metadata": {
        "colab": {
          "base_uri": "https://localhost:8080/"
        },
        "id": "kJYj6sxRmd-N",
        "outputId": "0d11c0e0-9bf2-4a78-8e94-1a75ba203704"
      },
      "execution_count": null,
      "outputs": [
        {
          "output_type": "execute_result",
          "data": {
            "text/plain": [
              "DatetimeIndex(['2024-01-31', '2024-02-29', '2024-03-31', '2024-04-30',\n",
              "               '2024-05-31', '2024-06-30', '2024-07-31', '2024-08-31',\n",
              "               '2024-09-30', '2024-10-31', '2024-11-30', '2024-12-31'],\n",
              "              dtype='datetime64[ns]', freq='ME')"
            ]
          },
          "metadata": {},
          "execution_count": 16
        }
      ]
    },
    {
      "cell_type": "markdown",
      "source": [
        " ## **<font color=\"DarkBlue\">Frecuencia Horaria</font>**"
      ],
      "metadata": {
        "id": "c-tX2ycgorBv"
      }
    },
    {
      "cell_type": "code",
      "source": [
        "# Crear un rango de fechas con frecuencia horaria\n",
        "\n",
        "rango_horario = pd.date_range(\"2024-01-01\", \"2024-01-02\", freq=\"h\")\n",
        "rango_horario\n"
      ],
      "metadata": {
        "colab": {
          "base_uri": "https://localhost:8080/"
        },
        "id": "Tc6ukrtuowr4",
        "outputId": "92a8fff8-d80c-4309-fc9b-63393ef3f14d"
      },
      "execution_count": null,
      "outputs": [
        {
          "output_type": "execute_result",
          "data": {
            "text/plain": [
              "DatetimeIndex(['2024-01-01 00:00:00', '2024-01-01 01:00:00',\n",
              "               '2024-01-01 02:00:00', '2024-01-01 03:00:00',\n",
              "               '2024-01-01 04:00:00', '2024-01-01 05:00:00',\n",
              "               '2024-01-01 06:00:00', '2024-01-01 07:00:00',\n",
              "               '2024-01-01 08:00:00', '2024-01-01 09:00:00',\n",
              "               '2024-01-01 10:00:00', '2024-01-01 11:00:00',\n",
              "               '2024-01-01 12:00:00', '2024-01-01 13:00:00',\n",
              "               '2024-01-01 14:00:00', '2024-01-01 15:00:00',\n",
              "               '2024-01-01 16:00:00', '2024-01-01 17:00:00',\n",
              "               '2024-01-01 18:00:00', '2024-01-01 19:00:00',\n",
              "               '2024-01-01 20:00:00', '2024-01-01 21:00:00',\n",
              "               '2024-01-01 22:00:00', '2024-01-01 23:00:00',\n",
              "               '2024-01-02 00:00:00'],\n",
              "              dtype='datetime64[ns]', freq='h')"
            ]
          },
          "metadata": {},
          "execution_count": 17
        }
      ]
    },
    {
      "cell_type": "markdown",
      "source": [
        " ## **<font color=\"DarkBlue\">Frecuencia de 2 días</font>**"
      ],
      "metadata": {
        "id": "icCoxr90pleI"
      }
    },
    {
      "cell_type": "code",
      "source": [
        "# Crear un rango de fechas con frecuencia cada dos días\n",
        "\n",
        "rango_dos_dias = pd.date_range(\"2024-01-01\", \"2024-01-10\", freq=\"2D\")\n",
        "rango_dos_dias\n"
      ],
      "metadata": {
        "colab": {
          "base_uri": "https://localhost:8080/"
        },
        "id": "7KtzSLAhppBE",
        "outputId": "eb83c5ce-24b9-4c0f-830d-8c8ac9371f95"
      },
      "execution_count": null,
      "outputs": [
        {
          "output_type": "execute_result",
          "data": {
            "text/plain": [
              "DatetimeIndex(['2024-01-01', '2024-01-03', '2024-01-05', '2024-01-07',\n",
              "               '2024-01-09'],\n",
              "              dtype='datetime64[ns]', freq='2D')"
            ]
          },
          "metadata": {},
          "execution_count": 18
        }
      ]
    },
    {
      "cell_type": "markdown",
      "source": [
        " # **<font color=\"DarkBlue\">Timpestamp</font>**"
      ],
      "metadata": {
        "id": "Ss2P51SKQFWx"
      }
    },
    {
      "cell_type": "markdown",
      "source": [
        "<p align=\"justify\">\n",
        "  En pandas, <code>Timestamp</code> es un objeto que representa un único punto en el tiempo, similar al <code>datetime</code> de Python pero con mayor funcionalidad para trabajar con datos en series temporales.\n",
        "  <br><br>\n",
        "  Es el equivalente a una fila en una columna temporal de un DataFrame o Series, y se utiliza como la unidad básica para manejar marcas de tiempo en pandas.\n",
        "  <br><br>\n",
        "  Los objetos <code>Timestamp</code> permiten realizar operaciones como comparación, aritmética de tiempo, conversión a diferentes formatos de cadenas, y más. Además, pueden ser creados directamente a partir de cadenas, objetos <code>datetime</code> de Python o enteros que representan segundos desde la época Unix.\n",
        "  <br><br>\n",
        "  Por ejemplo, se puede convertir una cadena en un objeto <code>Timestamp</code> utilizando la función <code>pd.Timestamp</code>. Este tipo de dato es fundamental para indexar, analizar y procesar series temporales, ya que permite gestionar eficientemente marcas de tiempo con granularidades que van desde microsegundos hasta años.\n",
        "</p>\n"
      ],
      "metadata": {
        "id": "DBITRgfIQJMr"
      }
    },
    {
      "cell_type": "code",
      "source": [
        "# Crear un objeto Timestamp desde una cadena\n",
        "\n",
        "stamp = pd.Timestamp(\"2024-11-04 10:00\")\n",
        "stamp"
      ],
      "metadata": {
        "colab": {
          "base_uri": "https://localhost:8080/"
        },
        "id": "R0Sua3QoQJkA",
        "outputId": "3ebaae57-7101-4737-fbc2-7b704b412fdc"
      },
      "execution_count": null,
      "outputs": [
        {
          "output_type": "execute_result",
          "data": {
            "text/plain": [
              "Timestamp('2024-11-04 10:00:00')"
            ]
          },
          "metadata": {},
          "execution_count": 20
        }
      ]
    },
    {
      "cell_type": "code",
      "source": [
        "# Realizar operaciones\n",
        "\n",
        "stamp_1d = stamp + pd.Timedelta(\"1 day\")\n",
        "stamp_1d"
      ],
      "metadata": {
        "colab": {
          "base_uri": "https://localhost:8080/"
        },
        "id": "Ws_CCi5oSIX_",
        "outputId": "f3b73adb-6dc5-42d8-cbba-dd3cb4f456fa"
      },
      "execution_count": null,
      "outputs": [
        {
          "output_type": "execute_result",
          "data": {
            "text/plain": [
              "Timestamp('2024-11-05 10:00:00')"
            ]
          },
          "metadata": {},
          "execution_count": 21
        }
      ]
    },
    {
      "cell_type": "markdown",
      "source": [
        " # **<font color=\"DarkBlue\">Period</font>**"
      ],
      "metadata": {
        "id": "kzLZC4piTsld"
      }
    },
    {
      "cell_type": "markdown",
      "source": [
        "<p align=\"justify\">\n",
        "  En pandas, el objeto <code>Period</code> representa un intervalo de tiempo fijo, como un mes, un día o un trimestre, en lugar de un punto específico en el tiempo como lo hace <code>Timestamp</code>.\n",
        "  <br><br>\n",
        "  Es especialmente útil para trabajar con datos agrupados o agregados en intervalos temporales regulares.\n",
        "  <br><br>\n",
        "  Un objeto <code>Period</code> se define mediante un punto de referencia en el tiempo (como una fecha) y una frecuencia (como \"M\" para mensual o \"Q\" para trimestral). Los periodos pueden ser utilizados como índices en series temporales y son compatibles con operaciones aritméticas, como sumar o restar intervalos de tiempo.\n",
        "  <br><br>\n",
        "  Los <code>Period</code> permiten una representación precisa y eficiente de intervalos de tiempo y son comunes en aplicaciones como análisis financiero, donde es importante trabajar con datos agregados por trimestres o años.\n",
        "</p>\n"
      ],
      "metadata": {
        "id": "gUsKPsm5UEq-"
      }
    },
    {
      "cell_type": "code",
      "source": [
        "# Crear un objeto Period para representar un año\n",
        "\n",
        "periodo_anual = pd.Period(\"2024\", freq=\"Y-DEC\")\n",
        "periodo_anual"
      ],
      "metadata": {
        "colab": {
          "base_uri": "https://localhost:8080/"
        },
        "id": "oF6LNQRcS-T5",
        "outputId": "66755392-3ccc-4dc6-e8ea-a851395c739f"
      },
      "execution_count": null,
      "outputs": [
        {
          "output_type": "execute_result",
          "data": {
            "text/plain": [
              "Period('2024', 'Y-DEC')"
            ]
          },
          "metadata": {},
          "execution_count": 25
        }
      ]
    },
    {
      "cell_type": "code",
      "source": [
        "periodo_anual - 4"
      ],
      "metadata": {
        "colab": {
          "base_uri": "https://localhost:8080/"
        },
        "id": "cAn0xTt4UAHC",
        "outputId": "9d5da5b4-597f-4761-a9ee-0c6107c0c9cf"
      },
      "execution_count": null,
      "outputs": [
        {
          "output_type": "execute_result",
          "data": {
            "text/plain": [
              "Period('2020', 'Y-DEC')"
            ]
          },
          "metadata": {},
          "execution_count": 26
        }
      ]
    },
    {
      "cell_type": "code",
      "source": [
        "# Crear un objeto Period para representar un mes\n",
        "\n",
        "periodo_mensual = pd.Period(\"2024-11\", freq=\"M\")\n",
        "periodo_mensual"
      ],
      "metadata": {
        "colab": {
          "base_uri": "https://localhost:8080/"
        },
        "id": "oC03XIdlUYlx",
        "outputId": "84994dde-9bd0-469f-bf8e-f97f10d647e6"
      },
      "execution_count": null,
      "outputs": [
        {
          "output_type": "execute_result",
          "data": {
            "text/plain": [
              "Period('2024-11', 'M')"
            ]
          },
          "metadata": {},
          "execution_count": 28
        }
      ]
    },
    {
      "cell_type": "code",
      "source": [
        "periodo_mensual + 4"
      ],
      "metadata": {
        "colab": {
          "base_uri": "https://localhost:8080/"
        },
        "id": "NrcH8-ggUn1L",
        "outputId": "871ea76f-0836-416c-87bc-be4525fdd6eb"
      },
      "execution_count": null,
      "outputs": [
        {
          "output_type": "execute_result",
          "data": {
            "text/plain": [
              "Period('2025-03', 'M')"
            ]
          },
          "metadata": {},
          "execution_count": 29
        }
      ]
    },
    {
      "cell_type": "code",
      "source": [
        "# Crear un objeto Period para representar un trimestre\n",
        "\n",
        "periodo_trimestral = pd.Period(\"2024Q4\", freq=\"Q\")\n",
        "periodo_trimestral"
      ],
      "metadata": {
        "colab": {
          "base_uri": "https://localhost:8080/"
        },
        "id": "8jJfMtrkUrwL",
        "outputId": "51ce7477-4bc0-49c0-ba86-c0f5cbf283c6"
      },
      "execution_count": null,
      "outputs": [
        {
          "output_type": "execute_result",
          "data": {
            "text/plain": [
              "Period('2024Q4', 'Q-DEC')"
            ]
          },
          "metadata": {},
          "execution_count": 30
        }
      ]
    },
    {
      "cell_type": "code",
      "source": [
        "periodo_trimestral - 2"
      ],
      "metadata": {
        "colab": {
          "base_uri": "https://localhost:8080/"
        },
        "id": "ogLyH8X9Uyzy",
        "outputId": "631284fa-734d-456f-925b-4a4f977109d4"
      },
      "execution_count": null,
      "outputs": [
        {
          "output_type": "execute_result",
          "data": {
            "text/plain": [
              "Period('2024Q2', 'Q-DEC')"
            ]
          },
          "metadata": {},
          "execution_count": 31
        }
      ]
    },
    {
      "cell_type": "code",
      "source": [
        "# Crear un rango de Periods\n",
        "\n",
        "rango_periodos = pd.period_range(\"2024-01\", \"2024-12\", freq=\"M\")\n",
        "rango_periodos"
      ],
      "metadata": {
        "colab": {
          "base_uri": "https://localhost:8080/"
        },
        "id": "La7bSZUjU9R3",
        "outputId": "03876952-acf9-4786-a6c6-bbb1f3981772"
      },
      "execution_count": null,
      "outputs": [
        {
          "output_type": "execute_result",
          "data": {
            "text/plain": [
              "PeriodIndex(['2024-01', '2024-02', '2024-03', '2024-04', '2024-05', '2024-06',\n",
              "             '2024-07', '2024-08', '2024-09', '2024-10', '2024-11', '2024-12'],\n",
              "            dtype='period[M]')"
            ]
          },
          "metadata": {},
          "execution_count": 32
        }
      ]
    },
    {
      "cell_type": "markdown",
      "source": [
        "<br>\n",
        "<br>\n",
        "<p align=\"center\"><b>\n",
        "💗\n",
        "<font color=\"DarkBlue\">\n",
        "Hemos llegado al final de nuestro colab de Pandas, a seguir codeando...\n",
        "</font>\n",
        "</p>"
      ],
      "metadata": {
        "id": "ZOtRj6qTWBB5"
      }
    }
  ]
}