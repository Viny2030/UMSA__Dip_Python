{
  "nbformat": 4,
  "nbformat_minor": 0,
  "metadata": {
    "colab": {
      "provenance": []
    },
    "kernelspec": {
      "name": "python3",
      "display_name": "Python 3"
    },
    "language_info": {
      "name": "python"
    }
  },
  "cells": [
    {
      "cell_type": "markdown",
      "source": [
        " # **<font color=\"DarkBlue\">Conociendo Plotly</font>**"
      ],
      "metadata": {
        "id": "_fRBXj8mbrnO"
      }
    },
    {
      "cell_type": "markdown",
      "source": [
        "<p align=\"center\">\n",
        "<img src=\"https://plotly.com/all_static/images/graphing_library_dark.svg\" width=\"350\" height=\"\">\n",
        "</p>\n"
      ],
      "metadata": {
        "id": "XM-hn7ZLmgQc"
      }
    },
    {
      "cell_type": "markdown",
      "source": [
        "https://plotly.com/python/"
      ],
      "metadata": {
        "id": "R0L6T6BQCWR_"
      }
    },
    {
      "cell_type": "markdown",
      "source": [
        "<p align=\"justify\">\n",
        "📊 Plotly es una biblioteca de visualización de datos creada por la empresa Plotly Technologies Inc., fundada en 2012 por Alex Johnson, Chris Parmer, Jack Parmer y Matthew Conlen. Inicialmente, Plotly se desarrolló como una plataforma en línea para crear gráficos interactivos y compartirlos, pero rápidamente se expandió a una biblioteca de código abierto que permite a los usuarios crear gráficos interactivos directamente en sus aplicaciones de Python, R, MATLAB y JavaScript.\n",
        "<br><br>\n",
        "Plotly es ampliamente utilizada en diversos campos debido a su capacidad para generar gráficos de alta calidad y altamente interactivos. Entre sus características principales se incluyen la facilidad de integración con otras herramientas de análisis de datos, su compatibilidad con diversas plataformas de programación, y su soporte para una amplia variedad de tipos de gráficos, desde gráficos básicos como líneas y barras, hasta gráficos complejos como gráficos 3D y mapas geográficos.\n",
        "<br><br>\n",
        "En el ámbito de la economía y los negocios, Plotly se aplica en numerosas áreas:\n",
        "<br><br>\n",
        "\n",
        "1. **Análisis de Datos Financieros:** Plotly es utilizada para visualizar datos financieros, como el comportamiento de acciones, índices bursátiles, y otros indicadores económicos. La capacidad de crear gráficos interactivos permite a los analistas explorar diferentes escenarios y realizar análisis detallados de las tendencias del mercado.\n",
        "\n",
        "2. **Visualización de Datos Económicos:** Economistas y analistas de datos pueden usar Plotly para representar datos económicos complejos, como la distribución del PIB, tasas de desempleo, inflación, y otros indicadores macroeconómicos. Los gráficos interactivos facilitan la interpretación de los datos y la identificación de patrones.\n",
        "\n",
        "3. **Análisis de Marketing:** Plotly ayuda a visualizar datos de marketing, como la segmentación de clientes, análisis de campañas publicitarias, y comportamiento del consumidor. Esto permite a los profesionales de marketing tomar decisiones basadas en datos y optimizar sus estrategias.\n",
        "\n",
        "4. **Modelos Predictivos y Machine Learning:** Los profesionales de datos pueden utilizar Plotly para visualizar los resultados de modelos predictivos y de machine learning, facilitando la interpretación de las predicciones y la identificación de posibles mejoras en los modelos.\n",
        "\n",
        "5. **Dashboarding y Reportes:** Plotly es una herramienta poderosa para crear dashboards interactivos y reportes visuales que presentan los datos de manera clara y comprensible. Esto es especialmente útil para la toma de decisiones en tiempo real en entornos empresariales dinámicos.\n",
        "\n",
        "6. **Investigación Académica:** En el ámbito académico, Plotly es utilizada para la visualización de datos en investigaciones económicas y de negocios, facilitando la presentación de resultados de manera atractiva y accesible."
      ],
      "metadata": {
        "id": "txDCtF6o0aGN"
      }
    },
    {
      "cell_type": "markdown",
      "source": [
        " # **<font color=\"DarkBlue\">Usando la Librería Gráfica Plotly</font>**"
      ],
      "metadata": {
        "id": "_o8tuKydjnRZ"
      }
    },
    {
      "cell_type": "markdown",
      "source": [
        "<p align=\"justify\">\n",
        "📊 Plotly ofrece varias ventajas sobre otras bibliotecas gráficas, especialmente en el contexto de la visualización de datos interactiva y detallada.\n",
        "<br><br>\n",
        "A continuación, se destacan algunas de estas ventajas:\n",
        "<br><br>\n",
        "\n",
        "1. **Interactividad:**\n",
        "   - Plotly permite crear gráficos interactivos de manera sencilla, lo cual es una de sus características más destacadas. Los usuarios pueden hacer zoom, desplazar gráficos, y obtener información detallada al pasar el cursor sobre los elementos del gráfico.\n",
        "   - Esta interactividad mejora significativamente la exploración y el análisis de datos, permitiendo a los usuarios descubrir patrones y detalles que podrían pasar desapercibidos en gráficos estáticos.\n",
        "\n",
        "2. **Variedad de Gráficos:**\n",
        "   - Plotly soporta una amplia variedad de tipos de gráficos, desde gráficos básicos como líneas, barras y dispersión, hasta gráficos más avanzados como gráficos 3D, mapas geográficos (choropleth maps), gráficos de jerarquías (sunburst y treemap), y gráficos de flujo (sankey).\n",
        "   - Esta versatilidad permite a los usuarios elegir el mejor tipo de visualización para sus datos específicos.\n",
        "\n",
        "3. **Alta Calidad Visual:**\n",
        "   - Los gráficos de Plotly son conocidos por su alta calidad visual y su diseño estético. Esto es especialmente importante en presentaciones profesionales y reportes donde la claridad y el atractivo visual son cruciales.\n",
        "   - Además, los gráficos pueden ser fácilmente personalizados para adaptarse a las necesidades estéticas y de branding de la organización.\n",
        "\n",
        "5. **Compatibilidad y Exportación:**\n",
        "   - Los gráficos creados con Plotly pueden ser fácilmente exportados a varios formatos, como PNG, SVG, PDF, y HTML. Esto es útil para compartir gráficos en reportes, presentaciones y publicaciones en línea.\n",
        "   - Además, Plotly permite la incorporación de gráficos interactivos en sitios web y aplicaciones mediante la generación de código HTML embebible.\n",
        "\n",
        "6. **Soporte para Datos en Tiempo Real:**\n",
        "   - Plotly es capaz de manejar datos en tiempo real, lo cual es una ventaja significativa para aplicaciones que requieren monitoreo y visualización de datos dinámicos, como dashboards financieros, de ventas o de operaciones.\n",
        "\n",
        "7. **Comunidad y Soporte:**\n",
        "   - Plotly cuenta con una comunidad activa y una amplia documentación, lo que facilita el aprendizaje y la resolución de problemas. Además, Plotly ofrece servicios de soporte empresarial para organizaciones que requieren asistencia profesional.\n",
        "\n"
      ],
      "metadata": {
        "id": "nW9lN0L_nFT7"
      }
    },
    {
      "cell_type": "markdown",
      "source": [
        "<p align=\"justify\"> 👀 Por convención, así se importa <code>Plotly</code>:  </p>"
      ],
      "metadata": {
        "id": "riE9ZSRbOdsF"
      }
    },
    {
      "cell_type": "code",
      "source": [
        "import plotly.express as px"
      ],
      "metadata": {
        "id": "dQtWrchXqRb3"
      },
      "execution_count": null,
      "outputs": []
    },
    {
      "cell_type": "markdown",
      "source": [
        "<p align=\"justify\">\n",
        "<br>\n",
        "💗 En los siguientes colabs, empezaremos a ver como gráficar diferentes estructuras de datos..."
      ],
      "metadata": {
        "id": "iyr9N3SHQTP8"
      }
    },
    {
      "cell_type": "markdown",
      "source": [
        "<br>\n",
        "<br>\n",
        "<p align=\"center\"><b>\n",
        "💗\n",
        "<font color=\"DarkBlue\">\n",
        "Hemos llegado al final de nuestro colab, a seguir codeando...\n",
        "</font>\n",
        "</p>\n"
      ],
      "metadata": {
        "id": "oHeNh3M2QRvw"
      }
    }
  ]
}